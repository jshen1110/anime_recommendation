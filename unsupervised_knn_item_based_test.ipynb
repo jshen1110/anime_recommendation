{
 "cells": [
  {
   "cell_type": "code",
   "execution_count": 29,
   "metadata": {
    "collapsed": true
   },
   "outputs": [],
   "source": [
    "import pandas as pd\n",
    "import warnings\n",
    "warnings.filterwarnings('ignore')"
   ]
  },
  {
   "cell_type": "code",
   "execution_count": 17,
   "outputs": [
    {
     "data": {
      "text/plain": "   MAL_ID                             Name  \\\n0       1                     Cowboy Bebop   \n1       5  Cowboy Bebop: Tengoku no Tobira   \n2       6                           Trigun   \n3       7               Witch Hunter Robin   \n4       8                   Bouken Ou Beet   \n\n                                              Genres  Completed  \n0    Action, Adventure, Comedy, Drama, Sci-Fi, Space     718161  \n1              Action, Drama, Mystery, Sci-Fi, Space     208333  \n2  Action, Sci-Fi, Adventure, Comedy, Drama, Shounen     343492  \n3  Action, Mystery, Police, Supernatural, Drama, ...      46165  \n4          Adventure, Fantasy, Shounen, Supernatural       7314  ",
      "text/html": "<div>\n<style scoped>\n    .dataframe tbody tr th:only-of-type {\n        vertical-align: middle;\n    }\n\n    .dataframe tbody tr th {\n        vertical-align: top;\n    }\n\n    .dataframe thead th {\n        text-align: right;\n    }\n</style>\n<table border=\"1\" class=\"dataframe\">\n  <thead>\n    <tr style=\"text-align: right;\">\n      <th></th>\n      <th>MAL_ID</th>\n      <th>Name</th>\n      <th>Genres</th>\n      <th>Completed</th>\n    </tr>\n  </thead>\n  <tbody>\n    <tr>\n      <th>0</th>\n      <td>1</td>\n      <td>Cowboy Bebop</td>\n      <td>Action, Adventure, Comedy, Drama, Sci-Fi, Space</td>\n      <td>718161</td>\n    </tr>\n    <tr>\n      <th>1</th>\n      <td>5</td>\n      <td>Cowboy Bebop: Tengoku no Tobira</td>\n      <td>Action, Drama, Mystery, Sci-Fi, Space</td>\n      <td>208333</td>\n    </tr>\n    <tr>\n      <th>2</th>\n      <td>6</td>\n      <td>Trigun</td>\n      <td>Action, Sci-Fi, Adventure, Comedy, Drama, Shounen</td>\n      <td>343492</td>\n    </tr>\n    <tr>\n      <th>3</th>\n      <td>7</td>\n      <td>Witch Hunter Robin</td>\n      <td>Action, Mystery, Police, Supernatural, Drama, ...</td>\n      <td>46165</td>\n    </tr>\n    <tr>\n      <th>4</th>\n      <td>8</td>\n      <td>Bouken Ou Beet</td>\n      <td>Adventure, Fantasy, Shounen, Supernatural</td>\n      <td>7314</td>\n    </tr>\n  </tbody>\n</table>\n</div>"
     },
     "execution_count": 17,
     "metadata": {},
     "output_type": "execute_result"
    }
   ],
   "source": [
    "anime_data = pd.read_csv('dataset/anime.csv')\n",
    "anime_df = anime_data[['MAL_ID', 'Name','Genres','Completed']]\n",
    "anime_df.head()"
   ],
   "metadata": {
    "collapsed": false,
    "pycharm": {
     "name": "#%%\n"
    }
   }
  },
  {
   "cell_type": "code",
   "execution_count": 5,
   "outputs": [],
   "source": [
    "rating_popular_anime = pd.read_csv('dataset/top_anime_unsupervised_use.csv')"
   ],
   "metadata": {
    "collapsed": false,
    "pycharm": {
     "name": "#%%\n"
    }
   }
  },
  {
   "cell_type": "code",
   "execution_count": 12,
   "outputs": [
    {
     "data": {
      "text/plain": "MAL_ID   1      5      6      7      8      15     16     17     18     19     \\\nuser_id                                                                         \n478        NaN    NaN    NaN    5.0    NaN    8.0    7.0    NaN    NaN    NaN   \n781        7.0    NaN   10.0   10.0    NaN    NaN    7.0    NaN    8.0   10.0   \n853        9.0   10.0    8.0    7.0    NaN    9.0    NaN    8.0    9.0    8.0   \n890        9.0    9.0    9.0    NaN    NaN    NaN    NaN    NaN    8.0   10.0   \n912        NaN    NaN    NaN    NaN    NaN    NaN    NaN    NaN    NaN    NaN   \n\nMAL_ID   ...  47307  47398  47402  47403  47410  47614  47616  47618  48177  \\\nuser_id  ...                                                                  \n478      ...    NaN    NaN    NaN    NaN    NaN    NaN    NaN    NaN    NaN   \n781      ...    6.0    6.0    NaN    NaN    NaN    NaN    NaN    NaN    NaN   \n853      ...    NaN    NaN    NaN    NaN    NaN    NaN    NaN    NaN    NaN   \n890      ...    NaN    NaN    NaN    NaN    NaN    NaN    NaN    NaN    NaN   \n912      ...    NaN    NaN    NaN    NaN    NaN    NaN    5.0    NaN    NaN   \n\nMAL_ID   48456  \nuser_id         \n478        NaN  \n781        NaN  \n853        NaN  \n890        NaN  \n912        NaN  \n\n[5 rows x 16825 columns]",
      "text/html": "<div>\n<style scoped>\n    .dataframe tbody tr th:only-of-type {\n        vertical-align: middle;\n    }\n\n    .dataframe tbody tr th {\n        vertical-align: top;\n    }\n\n    .dataframe thead th {\n        text-align: right;\n    }\n</style>\n<table border=\"1\" class=\"dataframe\">\n  <thead>\n    <tr style=\"text-align: right;\">\n      <th>MAL_ID</th>\n      <th>1</th>\n      <th>5</th>\n      <th>6</th>\n      <th>7</th>\n      <th>8</th>\n      <th>15</th>\n      <th>16</th>\n      <th>17</th>\n      <th>18</th>\n      <th>19</th>\n      <th>...</th>\n      <th>47307</th>\n      <th>47398</th>\n      <th>47402</th>\n      <th>47403</th>\n      <th>47410</th>\n      <th>47614</th>\n      <th>47616</th>\n      <th>47618</th>\n      <th>48177</th>\n      <th>48456</th>\n    </tr>\n    <tr>\n      <th>user_id</th>\n      <th></th>\n      <th></th>\n      <th></th>\n      <th></th>\n      <th></th>\n      <th></th>\n      <th></th>\n      <th></th>\n      <th></th>\n      <th></th>\n      <th></th>\n      <th></th>\n      <th></th>\n      <th></th>\n      <th></th>\n      <th></th>\n      <th></th>\n      <th></th>\n      <th></th>\n      <th></th>\n      <th></th>\n    </tr>\n  </thead>\n  <tbody>\n    <tr>\n      <th>478</th>\n      <td>NaN</td>\n      <td>NaN</td>\n      <td>NaN</td>\n      <td>5.0</td>\n      <td>NaN</td>\n      <td>8.0</td>\n      <td>7.0</td>\n      <td>NaN</td>\n      <td>NaN</td>\n      <td>NaN</td>\n      <td>...</td>\n      <td>NaN</td>\n      <td>NaN</td>\n      <td>NaN</td>\n      <td>NaN</td>\n      <td>NaN</td>\n      <td>NaN</td>\n      <td>NaN</td>\n      <td>NaN</td>\n      <td>NaN</td>\n      <td>NaN</td>\n    </tr>\n    <tr>\n      <th>781</th>\n      <td>7.0</td>\n      <td>NaN</td>\n      <td>10.0</td>\n      <td>10.0</td>\n      <td>NaN</td>\n      <td>NaN</td>\n      <td>7.0</td>\n      <td>NaN</td>\n      <td>8.0</td>\n      <td>10.0</td>\n      <td>...</td>\n      <td>6.0</td>\n      <td>6.0</td>\n      <td>NaN</td>\n      <td>NaN</td>\n      <td>NaN</td>\n      <td>NaN</td>\n      <td>NaN</td>\n      <td>NaN</td>\n      <td>NaN</td>\n      <td>NaN</td>\n    </tr>\n    <tr>\n      <th>853</th>\n      <td>9.0</td>\n      <td>10.0</td>\n      <td>8.0</td>\n      <td>7.0</td>\n      <td>NaN</td>\n      <td>9.0</td>\n      <td>NaN</td>\n      <td>8.0</td>\n      <td>9.0</td>\n      <td>8.0</td>\n      <td>...</td>\n      <td>NaN</td>\n      <td>NaN</td>\n      <td>NaN</td>\n      <td>NaN</td>\n      <td>NaN</td>\n      <td>NaN</td>\n      <td>NaN</td>\n      <td>NaN</td>\n      <td>NaN</td>\n      <td>NaN</td>\n    </tr>\n    <tr>\n      <th>890</th>\n      <td>9.0</td>\n      <td>9.0</td>\n      <td>9.0</td>\n      <td>NaN</td>\n      <td>NaN</td>\n      <td>NaN</td>\n      <td>NaN</td>\n      <td>NaN</td>\n      <td>8.0</td>\n      <td>10.0</td>\n      <td>...</td>\n      <td>NaN</td>\n      <td>NaN</td>\n      <td>NaN</td>\n      <td>NaN</td>\n      <td>NaN</td>\n      <td>NaN</td>\n      <td>NaN</td>\n      <td>NaN</td>\n      <td>NaN</td>\n      <td>NaN</td>\n    </tr>\n    <tr>\n      <th>912</th>\n      <td>NaN</td>\n      <td>NaN</td>\n      <td>NaN</td>\n      <td>NaN</td>\n      <td>NaN</td>\n      <td>NaN</td>\n      <td>NaN</td>\n      <td>NaN</td>\n      <td>NaN</td>\n      <td>NaN</td>\n      <td>...</td>\n      <td>NaN</td>\n      <td>NaN</td>\n      <td>NaN</td>\n      <td>NaN</td>\n      <td>NaN</td>\n      <td>NaN</td>\n      <td>5.0</td>\n      <td>NaN</td>\n      <td>NaN</td>\n      <td>NaN</td>\n    </tr>\n  </tbody>\n</table>\n<p>5 rows × 16825 columns</p>\n</div>"
     },
     "execution_count": 12,
     "metadata": {},
     "output_type": "execute_result"
    }
   ],
   "source": [
    "anime_matrix_UII=rating_popular_anime.pivot_table(index='user_id',columns='MAL_ID',values='rating')\n",
    "anime_matrix_UII.head()"
   ],
   "metadata": {
    "collapsed": false,
    "pycharm": {
     "name": "#%%\n"
    }
   }
  },
  {
   "cell_type": "code",
   "execution_count": 13,
   "outputs": [
    {
     "data": {
      "text/plain": "user_id\n478    NaN\n781    7.0\n853    9.0\n890    9.0\n912    NaN\nName: 1, dtype: float64"
     },
     "execution_count": 13,
     "metadata": {},
     "output_type": "execute_result"
    }
   ],
   "source": [
    "test_user_rating = anime_matrix_UII[1]\n",
    "test_user_rating.head()"
   ],
   "metadata": {
    "collapsed": false,
    "pycharm": {
     "name": "#%%\n"
    }
   }
  },
  {
   "cell_type": "code",
   "execution_count": 14,
   "outputs": [
    {
     "name": "stderr",
     "output_type": "stream",
     "text": [
      "/Users/siyuchen/opt/anaconda3/lib/python3.9/site-packages/numpy/lib/function_base.py:2634: RuntimeWarning: Degrees of freedom <= 0 for slice\n",
      "  c = cov(x, y, rowvar, dtype=dtype)\n",
      "/Users/siyuchen/opt/anaconda3/lib/python3.9/site-packages/numpy/lib/function_base.py:2493: RuntimeWarning: divide by zero encountered in true_divide\n",
      "  c *= np.true_divide(1, fact)\n"
     ]
    },
    {
     "data": {
      "text/plain": "MAL_ID\n1    1.000000\n5    0.671262\n6    0.441822\n7    0.275592\n8    0.248126\ndtype: float64"
     },
     "execution_count": 14,
     "metadata": {},
     "output_type": "execute_result"
    }
   ],
   "source": [
    "similar_to_test_amime = anime_matrix_UII.corrwith(test_user_rating)\n",
    "similar_to_test_amime.head()"
   ],
   "metadata": {
    "collapsed": false,
    "pycharm": {
     "name": "#%%\n"
    }
   }
  },
  {
   "cell_type": "code",
   "execution_count": 34,
   "outputs": [
    {
     "data": {
      "text/plain": "   MAL_ID  correlation\n0       1     1.000000\n1       5     0.671262\n2       6     0.441822\n3       7     0.275592\n4       8     0.248126",
      "text/html": "<div>\n<style scoped>\n    .dataframe tbody tr th:only-of-type {\n        vertical-align: middle;\n    }\n\n    .dataframe tbody tr th {\n        vertical-align: top;\n    }\n\n    .dataframe thead th {\n        text-align: right;\n    }\n</style>\n<table border=\"1\" class=\"dataframe\">\n  <thead>\n    <tr style=\"text-align: right;\">\n      <th></th>\n      <th>MAL_ID</th>\n      <th>correlation</th>\n    </tr>\n  </thead>\n  <tbody>\n    <tr>\n      <th>0</th>\n      <td>1</td>\n      <td>1.000000</td>\n    </tr>\n    <tr>\n      <th>1</th>\n      <td>5</td>\n      <td>0.671262</td>\n    </tr>\n    <tr>\n      <th>2</th>\n      <td>6</td>\n      <td>0.441822</td>\n    </tr>\n    <tr>\n      <th>3</th>\n      <td>7</td>\n      <td>0.275592</td>\n    </tr>\n    <tr>\n      <th>4</th>\n      <td>8</td>\n      <td>0.248126</td>\n    </tr>\n  </tbody>\n</table>\n</div>"
     },
     "execution_count": 34,
     "metadata": {},
     "output_type": "execute_result"
    }
   ],
   "source": [
    "corr_test = pd.DataFrame(similar_to_test_amime, columns=['correlation'])\n",
    "corr_test.dropna(inplace=True)\n",
    "corr_test.reset_index(inplace=True)\n",
    "corr_test.head()"
   ],
   "metadata": {
    "collapsed": false,
    "pycharm": {
     "name": "#%%\n"
    }
   }
  },
  {
   "cell_type": "code",
   "execution_count": 35,
   "outputs": [
    {
     "data": {
      "text/plain": "   MAL_ID  correlation                             Name  \\\n0       1     1.000000                     Cowboy Bebop   \n1       5     0.671262  Cowboy Bebop: Tengoku no Tobira   \n2       6     0.441822                           Trigun   \n3       7     0.275592               Witch Hunter Robin   \n4       8     0.248126                   Bouken Ou Beet   \n\n                                              Genres  Completed  \n0    Action, Adventure, Comedy, Drama, Sci-Fi, Space     718161  \n1              Action, Drama, Mystery, Sci-Fi, Space     208333  \n2  Action, Sci-Fi, Adventure, Comedy, Drama, Shounen     343492  \n3  Action, Mystery, Police, Supernatural, Drama, ...      46165  \n4          Adventure, Fantasy, Shounen, Supernatural       7314  ",
      "text/html": "<div>\n<style scoped>\n    .dataframe tbody tr th:only-of-type {\n        vertical-align: middle;\n    }\n\n    .dataframe tbody tr th {\n        vertical-align: top;\n    }\n\n    .dataframe thead th {\n        text-align: right;\n    }\n</style>\n<table border=\"1\" class=\"dataframe\">\n  <thead>\n    <tr style=\"text-align: right;\">\n      <th></th>\n      <th>MAL_ID</th>\n      <th>correlation</th>\n      <th>Name</th>\n      <th>Genres</th>\n      <th>Completed</th>\n    </tr>\n  </thead>\n  <tbody>\n    <tr>\n      <th>0</th>\n      <td>1</td>\n      <td>1.000000</td>\n      <td>Cowboy Bebop</td>\n      <td>Action, Adventure, Comedy, Drama, Sci-Fi, Space</td>\n      <td>718161</td>\n    </tr>\n    <tr>\n      <th>1</th>\n      <td>5</td>\n      <td>0.671262</td>\n      <td>Cowboy Bebop: Tengoku no Tobira</td>\n      <td>Action, Drama, Mystery, Sci-Fi, Space</td>\n      <td>208333</td>\n    </tr>\n    <tr>\n      <th>2</th>\n      <td>6</td>\n      <td>0.441822</td>\n      <td>Trigun</td>\n      <td>Action, Sci-Fi, Adventure, Comedy, Drama, Shounen</td>\n      <td>343492</td>\n    </tr>\n    <tr>\n      <th>3</th>\n      <td>7</td>\n      <td>0.275592</td>\n      <td>Witch Hunter Robin</td>\n      <td>Action, Mystery, Police, Supernatural, Drama, ...</td>\n      <td>46165</td>\n    </tr>\n    <tr>\n      <th>4</th>\n      <td>8</td>\n      <td>0.248126</td>\n      <td>Bouken Ou Beet</td>\n      <td>Adventure, Fantasy, Shounen, Supernatural</td>\n      <td>7314</td>\n    </tr>\n  </tbody>\n</table>\n</div>"
     },
     "execution_count": 35,
     "metadata": {},
     "output_type": "execute_result"
    }
   ],
   "source": [
    "corr_test = pd.merge(corr_test, anime_df, on=\"MAL_ID\")\n",
    "corr_test.head()"
   ],
   "metadata": {
    "collapsed": false,
    "pycharm": {
     "name": "#%%\n"
    }
   }
  },
  {
   "cell_type": "code",
   "execution_count": 36,
   "outputs": [
    {
     "data": {
      "text/plain": "      MAL_ID  correlation                             Name  \\\n0          1     1.000000                     Cowboy Bebop   \n1          5     0.671262  Cowboy Bebop: Tengoku no Tobira   \n3448    4037     0.528822  Cowboy Bebop: Yose Atsume Blues   \n23        43     0.446266                 Koukaku Kidoutai   \n181      205     0.445135                 Samurai Champloo   \n2          6     0.441822                           Trigun   \n1329    1471     0.439428                    City Hunter 2   \n8201   20057     0.432818                      Space☆Dandy   \n8884   23327     0.432198           Space☆Dandy 2nd Season   \n426      457     0.428542                         Mushishi   \n\n                                                 Genres  Completed  \n0       Action, Adventure, Comedy, Drama, Sci-Fi, Space     718161  \n1                 Action, Drama, Mystery, Sci-Fi, Space     208333  \n3448    Action, Adventure, Comedy, Drama, Sci-Fi, Space      20913  \n23    Action, Mecha, Police, Psychological, Sci-Fi, ...     325682  \n181   Action, Adventure, Comedy, Historical, Samurai...     551621  \n2     Action, Sci-Fi, Adventure, Comedy, Drama, Shounen     343492  \n1329                   Action, Comedy, Mystery, Shounen      10909  \n8201                              Sci-Fi, Space, Comedy     135822  \n8884                              Space, Comedy, Sci-Fi      85493  \n426   Adventure, Slice of Life, Mystery, Historical,...     235371  ",
      "text/html": "<div>\n<style scoped>\n    .dataframe tbody tr th:only-of-type {\n        vertical-align: middle;\n    }\n\n    .dataframe tbody tr th {\n        vertical-align: top;\n    }\n\n    .dataframe thead th {\n        text-align: right;\n    }\n</style>\n<table border=\"1\" class=\"dataframe\">\n  <thead>\n    <tr style=\"text-align: right;\">\n      <th></th>\n      <th>MAL_ID</th>\n      <th>correlation</th>\n      <th>Name</th>\n      <th>Genres</th>\n      <th>Completed</th>\n    </tr>\n  </thead>\n  <tbody>\n    <tr>\n      <th>0</th>\n      <td>1</td>\n      <td>1.000000</td>\n      <td>Cowboy Bebop</td>\n      <td>Action, Adventure, Comedy, Drama, Sci-Fi, Space</td>\n      <td>718161</td>\n    </tr>\n    <tr>\n      <th>1</th>\n      <td>5</td>\n      <td>0.671262</td>\n      <td>Cowboy Bebop: Tengoku no Tobira</td>\n      <td>Action, Drama, Mystery, Sci-Fi, Space</td>\n      <td>208333</td>\n    </tr>\n    <tr>\n      <th>3448</th>\n      <td>4037</td>\n      <td>0.528822</td>\n      <td>Cowboy Bebop: Yose Atsume Blues</td>\n      <td>Action, Adventure, Comedy, Drama, Sci-Fi, Space</td>\n      <td>20913</td>\n    </tr>\n    <tr>\n      <th>23</th>\n      <td>43</td>\n      <td>0.446266</td>\n      <td>Koukaku Kidoutai</td>\n      <td>Action, Mecha, Police, Psychological, Sci-Fi, ...</td>\n      <td>325682</td>\n    </tr>\n    <tr>\n      <th>181</th>\n      <td>205</td>\n      <td>0.445135</td>\n      <td>Samurai Champloo</td>\n      <td>Action, Adventure, Comedy, Historical, Samurai...</td>\n      <td>551621</td>\n    </tr>\n    <tr>\n      <th>2</th>\n      <td>6</td>\n      <td>0.441822</td>\n      <td>Trigun</td>\n      <td>Action, Sci-Fi, Adventure, Comedy, Drama, Shounen</td>\n      <td>343492</td>\n    </tr>\n    <tr>\n      <th>1329</th>\n      <td>1471</td>\n      <td>0.439428</td>\n      <td>City Hunter 2</td>\n      <td>Action, Comedy, Mystery, Shounen</td>\n      <td>10909</td>\n    </tr>\n    <tr>\n      <th>8201</th>\n      <td>20057</td>\n      <td>0.432818</td>\n      <td>Space☆Dandy</td>\n      <td>Sci-Fi, Space, Comedy</td>\n      <td>135822</td>\n    </tr>\n    <tr>\n      <th>8884</th>\n      <td>23327</td>\n      <td>0.432198</td>\n      <td>Space☆Dandy 2nd Season</td>\n      <td>Space, Comedy, Sci-Fi</td>\n      <td>85493</td>\n    </tr>\n    <tr>\n      <th>426</th>\n      <td>457</td>\n      <td>0.428542</td>\n      <td>Mushishi</td>\n      <td>Adventure, Slice of Life, Mystery, Historical,...</td>\n      <td>235371</td>\n    </tr>\n  </tbody>\n</table>\n</div>"
     },
     "execution_count": 36,
     "metadata": {},
     "output_type": "execute_result"
    }
   ],
   "source": [
    "corr_test[corr_test['Completed'] > 10000].sort_values(by='correlation', ascending=False).head(10)"
   ],
   "metadata": {
    "collapsed": false,
    "pycharm": {
     "name": "#%%\n"
    }
   }
  },
  {
   "cell_type": "code",
   "execution_count": 39,
   "outputs": [
    {
     "name": "stdout",
     "output_type": "stream",
     "text": [
      "\n"
     ]
    },
    {
     "data": {
      "text/plain": "      MAL_ID  correlation                             Name  \\\n0          1     1.000000                     Cowboy Bebop   \n1          5     0.671262  Cowboy Bebop: Tengoku no Tobira   \n3448    4037     0.528822  Cowboy Bebop: Yose Atsume Blues   \n23        43     0.446266                 Koukaku Kidoutai   \n181      205     0.445135                 Samurai Champloo   \n2          6     0.441822                           Trigun   \n1329    1471     0.439428                    City Hunter 2   \n8201   20057     0.432818                      Space☆Dandy   \n8884   23327     0.432198           Space☆Dandy 2nd Season   \n426      457     0.428542                         Mushishi   \n27        47     0.422505                            Akira   \n\n                                                 Genres  Completed  \n0       Action, Adventure, Comedy, Drama, Sci-Fi, Space     718161  \n1                 Action, Drama, Mystery, Sci-Fi, Space     208333  \n3448    Action, Adventure, Comedy, Drama, Sci-Fi, Space      20913  \n23    Action, Mecha, Police, Psychological, Sci-Fi, ...     325682  \n181   Action, Adventure, Comedy, Historical, Samurai...     551621  \n2     Action, Sci-Fi, Adventure, Comedy, Drama, Shounen     343492  \n1329                   Action, Comedy, Mystery, Shounen      10909  \n8201                              Sci-Fi, Space, Comedy     135822  \n8884                              Space, Comedy, Sci-Fi      85493  \n426   Adventure, Slice of Life, Mystery, Historical,...     235371  \n27    Action, Military, Sci-Fi, Adventure, Horror, S...     434086  ",
      "text/html": "<div>\n<style scoped>\n    .dataframe tbody tr th:only-of-type {\n        vertical-align: middle;\n    }\n\n    .dataframe tbody tr th {\n        vertical-align: top;\n    }\n\n    .dataframe thead th {\n        text-align: right;\n    }\n</style>\n<table border=\"1\" class=\"dataframe\">\n  <thead>\n    <tr style=\"text-align: right;\">\n      <th></th>\n      <th>MAL_ID</th>\n      <th>correlation</th>\n      <th>Name</th>\n      <th>Genres</th>\n      <th>Completed</th>\n    </tr>\n  </thead>\n  <tbody>\n    <tr>\n      <th>0</th>\n      <td>1</td>\n      <td>1.000000</td>\n      <td>Cowboy Bebop</td>\n      <td>Action, Adventure, Comedy, Drama, Sci-Fi, Space</td>\n      <td>718161</td>\n    </tr>\n    <tr>\n      <th>1</th>\n      <td>5</td>\n      <td>0.671262</td>\n      <td>Cowboy Bebop: Tengoku no Tobira</td>\n      <td>Action, Drama, Mystery, Sci-Fi, Space</td>\n      <td>208333</td>\n    </tr>\n    <tr>\n      <th>3448</th>\n      <td>4037</td>\n      <td>0.528822</td>\n      <td>Cowboy Bebop: Yose Atsume Blues</td>\n      <td>Action, Adventure, Comedy, Drama, Sci-Fi, Space</td>\n      <td>20913</td>\n    </tr>\n    <tr>\n      <th>23</th>\n      <td>43</td>\n      <td>0.446266</td>\n      <td>Koukaku Kidoutai</td>\n      <td>Action, Mecha, Police, Psychological, Sci-Fi, ...</td>\n      <td>325682</td>\n    </tr>\n    <tr>\n      <th>181</th>\n      <td>205</td>\n      <td>0.445135</td>\n      <td>Samurai Champloo</td>\n      <td>Action, Adventure, Comedy, Historical, Samurai...</td>\n      <td>551621</td>\n    </tr>\n    <tr>\n      <th>2</th>\n      <td>6</td>\n      <td>0.441822</td>\n      <td>Trigun</td>\n      <td>Action, Sci-Fi, Adventure, Comedy, Drama, Shounen</td>\n      <td>343492</td>\n    </tr>\n    <tr>\n      <th>1329</th>\n      <td>1471</td>\n      <td>0.439428</td>\n      <td>City Hunter 2</td>\n      <td>Action, Comedy, Mystery, Shounen</td>\n      <td>10909</td>\n    </tr>\n    <tr>\n      <th>8201</th>\n      <td>20057</td>\n      <td>0.432818</td>\n      <td>Space☆Dandy</td>\n      <td>Sci-Fi, Space, Comedy</td>\n      <td>135822</td>\n    </tr>\n    <tr>\n      <th>8884</th>\n      <td>23327</td>\n      <td>0.432198</td>\n      <td>Space☆Dandy 2nd Season</td>\n      <td>Space, Comedy, Sci-Fi</td>\n      <td>85493</td>\n    </tr>\n    <tr>\n      <th>426</th>\n      <td>457</td>\n      <td>0.428542</td>\n      <td>Mushishi</td>\n      <td>Adventure, Slice of Life, Mystery, Historical,...</td>\n      <td>235371</td>\n    </tr>\n    <tr>\n      <th>27</th>\n      <td>47</td>\n      <td>0.422505</td>\n      <td>Akira</td>\n      <td>Action, Military, Sci-Fi, Adventure, Horror, S...</td>\n      <td>434086</td>\n    </tr>\n  </tbody>\n</table>\n</div>"
     },
     "execution_count": 39,
     "metadata": {},
     "output_type": "execute_result"
    }
   ],
   "source": [
    "def fit_knn_item_based(input_MAL_ID):\n",
    "    user_rating_input = anime_matrix_UII[input_MAL_ID]\n",
    "    print()\n",
    "    similar_to_test_amime = anime_matrix_UII.corrwith(test_user_rating)\n",
    "    corr_test = pd.DataFrame(similar_to_test_amime, columns=['correlation'])\n",
    "    corr_test.dropna(inplace=True)\n",
    "    corr_test.reset_index(inplace=True)\n",
    "    corr_test = pd.merge(corr_test, anime_df, on=\"MAL_ID\")\n",
    "    recommendation = corr_test[corr_test['Completed'] > 10000].sort_values(by='correlation', ascending=False).head(11)\n",
    "    recommendation.drop(recommendation.index[recommendation['MAL_ID'] == input_MAL_ID], inplace=True)\n",
    "    return recommendation\n",
    "\n",
    "recommendation_test = fit_knn_item_based(3786)\n",
    "recommendation_test"
   ],
   "metadata": {
    "collapsed": false,
    "pycharm": {
     "name": "#%%\n"
    }
   }
  },
  {
   "cell_type": "code",
   "execution_count": null,
   "outputs": [],
   "source": [],
   "metadata": {
    "collapsed": false,
    "pycharm": {
     "name": "#%%\n"
    }
   }
  }
 ],
 "metadata": {
  "kernelspec": {
   "display_name": "Python 3",
   "language": "python",
   "name": "python3"
  },
  "language_info": {
   "codemirror_mode": {
    "name": "ipython",
    "version": 2
   },
   "file_extension": ".py",
   "mimetype": "text/x-python",
   "name": "python",
   "nbconvert_exporter": "python",
   "pygments_lexer": "ipython2",
   "version": "2.7.6"
  }
 },
 "nbformat": 4,
 "nbformat_minor": 0
}