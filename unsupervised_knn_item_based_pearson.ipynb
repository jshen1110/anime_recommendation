{
 "cells": [
  {
   "cell_type": "code",
   "execution_count": 190,
   "metadata": {
    "collapsed": true
   },
   "outputs": [],
   "source": [
    "import pandas as pd\n",
    "import warnings\n",
    "warnings.filterwarnings('ignore')\n",
    "pd.set_option(\"max_colwidth\", None)"
   ]
  },
  {
   "cell_type": "code",
   "execution_count": 191,
   "outputs": [
    {
     "data": {
      "text/plain": "   MAL_ID                             Name Score  \\\n0       1                     Cowboy Bebop  8.78   \n1       5  Cowboy Bebop: Tengoku no Tobira  8.39   \n2       6                           Trigun  8.24   \n3       7               Witch Hunter Robin  7.27   \n4       8                   Bouken Ou Beet  6.98   \n\n                                                Genres   Type Episodes  \\\n0      Action, Adventure, Comedy, Drama, Sci-Fi, Space     TV       26   \n1                Action, Drama, Mystery, Sci-Fi, Space  Movie        1   \n2    Action, Sci-Fi, Adventure, Comedy, Drama, Shounen     TV       26   \n3  Action, Mystery, Police, Supernatural, Drama, Magic     TV       26   \n4            Adventure, Fantasy, Shounen, Supernatural     TV       52   \n\n     Premiered         Studios    Source                          Rating  \\\n0  Spring 1998         Sunrise  Original  R - 17+ (violence & profanity)   \n1      Unknown           Bones  Original  R - 17+ (violence & profanity)   \n2  Spring 1998        Madhouse     Manga       PG-13 - Teens 13 or older   \n3  Summer 2002         Sunrise  Original       PG-13 - Teens 13 or older   \n4    Fall 2004  Toei Animation     Manga                   PG - Children   \n\n   Completed  \n0     718161  \n1     208333  \n2     343492  \n3      46165  \n4       7314  ",
      "text/html": "<div>\n<style scoped>\n    .dataframe tbody tr th:only-of-type {\n        vertical-align: middle;\n    }\n\n    .dataframe tbody tr th {\n        vertical-align: top;\n    }\n\n    .dataframe thead th {\n        text-align: right;\n    }\n</style>\n<table border=\"1\" class=\"dataframe\">\n  <thead>\n    <tr style=\"text-align: right;\">\n      <th></th>\n      <th>MAL_ID</th>\n      <th>Name</th>\n      <th>Score</th>\n      <th>Genres</th>\n      <th>Type</th>\n      <th>Episodes</th>\n      <th>Premiered</th>\n      <th>Studios</th>\n      <th>Source</th>\n      <th>Rating</th>\n      <th>Completed</th>\n    </tr>\n  </thead>\n  <tbody>\n    <tr>\n      <th>0</th>\n      <td>1</td>\n      <td>Cowboy Bebop</td>\n      <td>8.78</td>\n      <td>Action, Adventure, Comedy, Drama, Sci-Fi, Space</td>\n      <td>TV</td>\n      <td>26</td>\n      <td>Spring 1998</td>\n      <td>Sunrise</td>\n      <td>Original</td>\n      <td>R - 17+ (violence &amp; profanity)</td>\n      <td>718161</td>\n    </tr>\n    <tr>\n      <th>1</th>\n      <td>5</td>\n      <td>Cowboy Bebop: Tengoku no Tobira</td>\n      <td>8.39</td>\n      <td>Action, Drama, Mystery, Sci-Fi, Space</td>\n      <td>Movie</td>\n      <td>1</td>\n      <td>Unknown</td>\n      <td>Bones</td>\n      <td>Original</td>\n      <td>R - 17+ (violence &amp; profanity)</td>\n      <td>208333</td>\n    </tr>\n    <tr>\n      <th>2</th>\n      <td>6</td>\n      <td>Trigun</td>\n      <td>8.24</td>\n      <td>Action, Sci-Fi, Adventure, Comedy, Drama, Shounen</td>\n      <td>TV</td>\n      <td>26</td>\n      <td>Spring 1998</td>\n      <td>Madhouse</td>\n      <td>Manga</td>\n      <td>PG-13 - Teens 13 or older</td>\n      <td>343492</td>\n    </tr>\n    <tr>\n      <th>3</th>\n      <td>7</td>\n      <td>Witch Hunter Robin</td>\n      <td>7.27</td>\n      <td>Action, Mystery, Police, Supernatural, Drama, Magic</td>\n      <td>TV</td>\n      <td>26</td>\n      <td>Summer 2002</td>\n      <td>Sunrise</td>\n      <td>Original</td>\n      <td>PG-13 - Teens 13 or older</td>\n      <td>46165</td>\n    </tr>\n    <tr>\n      <th>4</th>\n      <td>8</td>\n      <td>Bouken Ou Beet</td>\n      <td>6.98</td>\n      <td>Adventure, Fantasy, Shounen, Supernatural</td>\n      <td>TV</td>\n      <td>52</td>\n      <td>Fall 2004</td>\n      <td>Toei Animation</td>\n      <td>Manga</td>\n      <td>PG - Children</td>\n      <td>7314</td>\n    </tr>\n  </tbody>\n</table>\n</div>"
     },
     "execution_count": 191,
     "metadata": {},
     "output_type": "execute_result"
    }
   ],
   "source": [
    "# load anime dataset\n",
    "anime_df = pd.read_csv('dataset/anime.csv')\n",
    "usecols = [\"MAL_ID\", \"Name\", \"Score\", \"Genres\", \"Type\", \"Episodes\", \"Premiered\",\n",
    "           \"Studios\", \"Source\", \"Rating\", \"Completed\"]\n",
    "\n",
    "anime_df=pd.read_csv('dataset/anime.csv',usecols=usecols)\n",
    "anime_df.head()"
   ],
   "metadata": {
    "collapsed": false,
    "pycharm": {
     "name": "#%%\n"
    }
   }
  },
  {
   "cell_type": "code",
   "execution_count": 192,
   "outputs": [
    {
     "data": {
      "text/plain": "   user_id  MAL_ID  rating\n3      478      20       7\n5      478      24       8\n7      478      43       6\n8      478      47       8\n9      478      48       6",
      "text/html": "<div>\n<style scoped>\n    .dataframe tbody tr th:only-of-type {\n        vertical-align: middle;\n    }\n\n    .dataframe tbody tr th {\n        vertical-align: top;\n    }\n\n    .dataframe thead th {\n        text-align: right;\n    }\n</style>\n<table border=\"1\" class=\"dataframe\">\n  <thead>\n    <tr style=\"text-align: right;\">\n      <th></th>\n      <th>user_id</th>\n      <th>MAL_ID</th>\n      <th>rating</th>\n    </tr>\n  </thead>\n  <tbody>\n    <tr>\n      <th>3</th>\n      <td>478</td>\n      <td>20</td>\n      <td>7</td>\n    </tr>\n    <tr>\n      <th>5</th>\n      <td>478</td>\n      <td>24</td>\n      <td>8</td>\n    </tr>\n    <tr>\n      <th>7</th>\n      <td>478</td>\n      <td>43</td>\n      <td>6</td>\n    </tr>\n    <tr>\n      <th>8</th>\n      <td>478</td>\n      <td>47</td>\n      <td>8</td>\n    </tr>\n    <tr>\n      <th>9</th>\n      <td>478</td>\n      <td>48</td>\n      <td>6</td>\n    </tr>\n  </tbody>\n</table>\n</div>"
     },
     "execution_count": 192,
     "metadata": {},
     "output_type": "execute_result"
    }
   ],
   "source": [
    "# load top users with anime rating dataset\n",
    "top_animes_count = 1000\n",
    "rating_popular_anime = pd.read_csv('dataset/top_anime_unsupervised_use.csv')\n",
    "animes_popular = anime_df.sort_values('Completed', ascending=False)[0:top_animes_count]\n",
    "top_animes = animes_popular['MAL_ID'].unique()\n",
    "rating_popular_anime = rating_popular_anime[rating_popular_anime.MAL_ID.isin(top_animes)]\n",
    "rating_popular_anime.head()"
   ],
   "metadata": {
    "collapsed": false,
    "pycharm": {
     "name": "#%%\n"
    }
   }
  },
  {
   "cell_type": "code",
   "execution_count": 193,
   "outputs": [
    {
     "data": {
      "text/plain": "MAL_ID   1      5      6      18     19     20     24     30     31     32     \\\nuser_id                                                                         \n478        0.0    0.0    0.0    0.0    0.0    7.0    8.0    0.0    0.0    0.0   \n781        7.0    0.0   10.0    8.0   10.0    7.0    7.0    0.0    0.0    0.0   \n853        9.0   10.0    8.0    9.0    8.0    9.0    0.0    8.0    0.0    8.0   \n890        9.0    9.0    9.0    8.0   10.0    7.0    2.0    8.0    7.0    9.0   \n912        0.0    0.0    0.0    0.0    0.0    6.0    0.0    0.0    0.0    0.0   \n\nMAL_ID   ...  40716  40776  40839  40902  40956  41120  41168  41226  41353  \\\nuser_id  ...                                                                  \n478      ...    0.0    7.0    0.0    0.0    0.0    0.0    7.0    0.0    0.0   \n781      ...    8.0    9.0    7.0    4.0    7.0    0.0    6.0    7.0    7.0   \n853      ...    0.0    7.0    0.0    0.0    0.0    0.0    0.0    0.0    5.0   \n890      ...    0.0    0.0    0.0    0.0    0.0    0.0    0.0    0.0    0.0   \n912      ...    8.0    0.0    7.0    0.0    0.0    0.0    0.0    0.0    7.0   \n\nMAL_ID   41389  \nuser_id         \n478        0.0  \n781        3.0  \n853        0.0  \n890        0.0  \n912        0.0  \n\n[5 rows x 1000 columns]",
      "text/html": "<div>\n<style scoped>\n    .dataframe tbody tr th:only-of-type {\n        vertical-align: middle;\n    }\n\n    .dataframe tbody tr th {\n        vertical-align: top;\n    }\n\n    .dataframe thead th {\n        text-align: right;\n    }\n</style>\n<table border=\"1\" class=\"dataframe\">\n  <thead>\n    <tr style=\"text-align: right;\">\n      <th>MAL_ID</th>\n      <th>1</th>\n      <th>5</th>\n      <th>6</th>\n      <th>18</th>\n      <th>19</th>\n      <th>20</th>\n      <th>24</th>\n      <th>30</th>\n      <th>31</th>\n      <th>32</th>\n      <th>...</th>\n      <th>40716</th>\n      <th>40776</th>\n      <th>40839</th>\n      <th>40902</th>\n      <th>40956</th>\n      <th>41120</th>\n      <th>41168</th>\n      <th>41226</th>\n      <th>41353</th>\n      <th>41389</th>\n    </tr>\n    <tr>\n      <th>user_id</th>\n      <th></th>\n      <th></th>\n      <th></th>\n      <th></th>\n      <th></th>\n      <th></th>\n      <th></th>\n      <th></th>\n      <th></th>\n      <th></th>\n      <th></th>\n      <th></th>\n      <th></th>\n      <th></th>\n      <th></th>\n      <th></th>\n      <th></th>\n      <th></th>\n      <th></th>\n      <th></th>\n      <th></th>\n    </tr>\n  </thead>\n  <tbody>\n    <tr>\n      <th>478</th>\n      <td>0.0</td>\n      <td>0.0</td>\n      <td>0.0</td>\n      <td>0.0</td>\n      <td>0.0</td>\n      <td>7.0</td>\n      <td>8.0</td>\n      <td>0.0</td>\n      <td>0.0</td>\n      <td>0.0</td>\n      <td>...</td>\n      <td>0.0</td>\n      <td>7.0</td>\n      <td>0.0</td>\n      <td>0.0</td>\n      <td>0.0</td>\n      <td>0.0</td>\n      <td>7.0</td>\n      <td>0.0</td>\n      <td>0.0</td>\n      <td>0.0</td>\n    </tr>\n    <tr>\n      <th>781</th>\n      <td>7.0</td>\n      <td>0.0</td>\n      <td>10.0</td>\n      <td>8.0</td>\n      <td>10.0</td>\n      <td>7.0</td>\n      <td>7.0</td>\n      <td>0.0</td>\n      <td>0.0</td>\n      <td>0.0</td>\n      <td>...</td>\n      <td>8.0</td>\n      <td>9.0</td>\n      <td>7.0</td>\n      <td>4.0</td>\n      <td>7.0</td>\n      <td>0.0</td>\n      <td>6.0</td>\n      <td>7.0</td>\n      <td>7.0</td>\n      <td>3.0</td>\n    </tr>\n    <tr>\n      <th>853</th>\n      <td>9.0</td>\n      <td>10.0</td>\n      <td>8.0</td>\n      <td>9.0</td>\n      <td>8.0</td>\n      <td>9.0</td>\n      <td>0.0</td>\n      <td>8.0</td>\n      <td>0.0</td>\n      <td>8.0</td>\n      <td>...</td>\n      <td>0.0</td>\n      <td>7.0</td>\n      <td>0.0</td>\n      <td>0.0</td>\n      <td>0.0</td>\n      <td>0.0</td>\n      <td>0.0</td>\n      <td>0.0</td>\n      <td>5.0</td>\n      <td>0.0</td>\n    </tr>\n    <tr>\n      <th>890</th>\n      <td>9.0</td>\n      <td>9.0</td>\n      <td>9.0</td>\n      <td>8.0</td>\n      <td>10.0</td>\n      <td>7.0</td>\n      <td>2.0</td>\n      <td>8.0</td>\n      <td>7.0</td>\n      <td>9.0</td>\n      <td>...</td>\n      <td>0.0</td>\n      <td>0.0</td>\n      <td>0.0</td>\n      <td>0.0</td>\n      <td>0.0</td>\n      <td>0.0</td>\n      <td>0.0</td>\n      <td>0.0</td>\n      <td>0.0</td>\n      <td>0.0</td>\n    </tr>\n    <tr>\n      <th>912</th>\n      <td>0.0</td>\n      <td>0.0</td>\n      <td>0.0</td>\n      <td>0.0</td>\n      <td>0.0</td>\n      <td>6.0</td>\n      <td>0.0</td>\n      <td>0.0</td>\n      <td>0.0</td>\n      <td>0.0</td>\n      <td>...</td>\n      <td>8.0</td>\n      <td>0.0</td>\n      <td>7.0</td>\n      <td>0.0</td>\n      <td>0.0</td>\n      <td>0.0</td>\n      <td>0.0</td>\n      <td>0.0</td>\n      <td>7.0</td>\n      <td>0.0</td>\n    </tr>\n  </tbody>\n</table>\n<p>5 rows × 1000 columns</p>\n</div>"
     },
     "execution_count": 193,
     "metadata": {},
     "output_type": "execute_result"
    }
   ],
   "source": [
    "# user item interaction matrix\n",
    "anime_matrix_UII=rating_popular_anime.pivot_table(index='user_id',columns='MAL_ID',values='rating').fillna(0)\n",
    "anime_matrix_UII.head()"
   ],
   "metadata": {
    "collapsed": false,
    "pycharm": {
     "name": "#%%\n"
    }
   }
  },
  {
   "cell_type": "code",
   "execution_count": 201,
   "outputs": [
    {
     "data": {
      "text/plain": "user_id\n478        0.0\n781        7.0\n853        9.0\n890        9.0\n912        0.0\n          ... \n352832     0.0\n352835     0.0\n352922     0.0\n352924    10.0\n352930    10.0\nName: 1, Length: 2998, dtype: float64"
     },
     "execution_count": 201,
     "metadata": {},
     "output_type": "execute_result"
    }
   ],
   "source": [
    "test_user_rating = anime_matrix_UII[1]\n",
    "test_user_rating"
   ],
   "metadata": {
    "collapsed": false,
    "pycharm": {
     "name": "#%%\n"
    }
   }
  },
  {
   "cell_type": "code",
   "execution_count": 195,
   "outputs": [],
   "source": [
    "# generalize above exploration to a fit function\n",
    "def predict(input_MAL_ID, recommend_count):\n",
    "    '''\n",
    "    :return: dataframe of recommended anime\n",
    "    '''\n",
    "    user_rating_input = anime_matrix_UII[input_MAL_ID]\n",
    "    similar_to_input_anime = anime_matrix_UII.corrwith(user_rating_input)\n",
    "    corr_input = pd.DataFrame(similar_to_input_anime, columns=['correlation'])\n",
    "    corr_input.dropna(inplace=True)\n",
    "    corr_input.reset_index(inplace=True)\n",
    "    corr_input = pd.merge(corr_input, anime_df, on=\"MAL_ID\")\n",
    "    recommendation = corr_input[corr_input['Completed'] > 10000].sort_values(by='correlation', ascending=False).head(recommend_count+1)\n",
    "    recommendation.drop(recommendation.index[recommendation['MAL_ID'] == input_MAL_ID], inplace=True)\n",
    "    return recommendation"
   ],
   "metadata": {
    "collapsed": false,
    "pycharm": {
     "name": "#%%\n"
    }
   }
  },
  {
   "cell_type": "code",
   "execution_count": 196,
   "outputs": [
    {
     "data": {
      "text/plain": "    MAL_ID  correlation                                   Name Score  \\\n1        5     0.653634        Cowboy Bebop: Tengoku no Tobira  8.39   \n2        6     0.468294                                 Trigun  8.24   \n49     205     0.440870                       Samurai Champloo   8.5   \n84     467     0.420354  Koukaku Kidoutai: Stand Alone Complex  8.45   \n11      43     0.397354                       Koukaku Kidoutai  8.29   \n\n                                                     Genres   Type Episodes  \\\n1                     Action, Drama, Mystery, Sci-Fi, Space  Movie        1   \n2         Action, Sci-Fi, Adventure, Comedy, Drama, Shounen     TV       26   \n49  Action, Adventure, Comedy, Historical, Samurai, Shounen     TV       26   \n84          Action, Military, Sci-Fi, Police, Mecha, Seinen     TV       26   \n11     Action, Mecha, Police, Psychological, Sci-Fi, Seinen  Movie        1   \n\n      Premiered         Studios    Source                          Rating  \\\n1       Unknown           Bones  Original  R - 17+ (violence & profanity)   \n2   Spring 1998        Madhouse     Manga       PG-13 - Teens 13 or older   \n49  Spring 2004        Manglobe  Original  R - 17+ (violence & profanity)   \n84    Fall 2002  Production I.G     Manga  R - 17+ (violence & profanity)   \n11      Unknown  Production I.G     Manga                R+ - Mild Nudity   \n\n    Completed  \n1      208333  \n2      343492  \n49     551621  \n84     170891  \n11     325682  ",
      "text/html": "<div>\n<style scoped>\n    .dataframe tbody tr th:only-of-type {\n        vertical-align: middle;\n    }\n\n    .dataframe tbody tr th {\n        vertical-align: top;\n    }\n\n    .dataframe thead th {\n        text-align: right;\n    }\n</style>\n<table border=\"1\" class=\"dataframe\">\n  <thead>\n    <tr style=\"text-align: right;\">\n      <th></th>\n      <th>MAL_ID</th>\n      <th>correlation</th>\n      <th>Name</th>\n      <th>Score</th>\n      <th>Genres</th>\n      <th>Type</th>\n      <th>Episodes</th>\n      <th>Premiered</th>\n      <th>Studios</th>\n      <th>Source</th>\n      <th>Rating</th>\n      <th>Completed</th>\n    </tr>\n  </thead>\n  <tbody>\n    <tr>\n      <th>1</th>\n      <td>5</td>\n      <td>0.653634</td>\n      <td>Cowboy Bebop: Tengoku no Tobira</td>\n      <td>8.39</td>\n      <td>Action, Drama, Mystery, Sci-Fi, Space</td>\n      <td>Movie</td>\n      <td>1</td>\n      <td>Unknown</td>\n      <td>Bones</td>\n      <td>Original</td>\n      <td>R - 17+ (violence &amp; profanity)</td>\n      <td>208333</td>\n    </tr>\n    <tr>\n      <th>2</th>\n      <td>6</td>\n      <td>0.468294</td>\n      <td>Trigun</td>\n      <td>8.24</td>\n      <td>Action, Sci-Fi, Adventure, Comedy, Drama, Shounen</td>\n      <td>TV</td>\n      <td>26</td>\n      <td>Spring 1998</td>\n      <td>Madhouse</td>\n      <td>Manga</td>\n      <td>PG-13 - Teens 13 or older</td>\n      <td>343492</td>\n    </tr>\n    <tr>\n      <th>49</th>\n      <td>205</td>\n      <td>0.440870</td>\n      <td>Samurai Champloo</td>\n      <td>8.5</td>\n      <td>Action, Adventure, Comedy, Historical, Samurai, Shounen</td>\n      <td>TV</td>\n      <td>26</td>\n      <td>Spring 2004</td>\n      <td>Manglobe</td>\n      <td>Original</td>\n      <td>R - 17+ (violence &amp; profanity)</td>\n      <td>551621</td>\n    </tr>\n    <tr>\n      <th>84</th>\n      <td>467</td>\n      <td>0.420354</td>\n      <td>Koukaku Kidoutai: Stand Alone Complex</td>\n      <td>8.45</td>\n      <td>Action, Military, Sci-Fi, Police, Mecha, Seinen</td>\n      <td>TV</td>\n      <td>26</td>\n      <td>Fall 2002</td>\n      <td>Production I.G</td>\n      <td>Manga</td>\n      <td>R - 17+ (violence &amp; profanity)</td>\n      <td>170891</td>\n    </tr>\n    <tr>\n      <th>11</th>\n      <td>43</td>\n      <td>0.397354</td>\n      <td>Koukaku Kidoutai</td>\n      <td>8.29</td>\n      <td>Action, Mecha, Police, Psychological, Sci-Fi, Seinen</td>\n      <td>Movie</td>\n      <td>1</td>\n      <td>Unknown</td>\n      <td>Production I.G</td>\n      <td>Manga</td>\n      <td>R+ - Mild Nudity</td>\n      <td>325682</td>\n    </tr>\n  </tbody>\n</table>\n</div>"
     },
     "execution_count": 196,
     "metadata": {},
     "output_type": "execute_result"
    }
   ],
   "source": [
    "# test functionality on another anime\n",
    "recommendation_test = predict(1, 5)\n",
    "recommendation_test"
   ],
   "metadata": {
    "collapsed": false,
    "pycharm": {
     "name": "#%%\n"
    }
   }
  },
  {
   "cell_type": "code",
   "execution_count": 197,
   "outputs": [],
   "source": [
    "recommendation_for_all = animes_popular[:100].sort_values(by='Score', ascending=False)[:10]\n",
    "top_users = rating_popular_anime.user_id.unique()"
   ],
   "metadata": {
    "collapsed": false,
    "pycharm": {
     "name": "#%%\n"
    }
   }
  },
  {
   "cell_type": "code",
   "execution_count": 204,
   "outputs": [],
   "source": [
    "def recommend_for_user(user_id_input):\n",
    "    '''\n",
    "    Take user_id to get top-rated anime by the user, then for each anime make prediction\n",
    "    return the highest 10 correlation anime\n",
    "    :param user_id_input: user id\n",
    "    :return: dataframe of recommended anime\n",
    "    '''\n",
    "    recommendation_df = pd.DataFrame(columns=['MAL_ID', 'correlation'])\n",
    "    users_groups = rating_popular_anime.groupby('user_id')\n",
    "    if user_id_input in top_users:\n",
    "        user_fav_anime = users_groups.get_group(user_id_input).sort_values(by='rating', ascending=False)[:5]['MAL_ID'].tolist()\n",
    "        for user_fav_MAL_ID in user_fav_anime:\n",
    "            r = predict(user_fav_MAL_ID, 10)\n",
    "            recommendation_df = recommendation_df.append(r, ignore_index=True)\n",
    "\n",
    "        recommendation_df.sort_values('correlation', ascending=False).drop_duplicates('MAL_ID')\n",
    "        return recommendation_df[:10]\n",
    "    else:\n",
    "        return recommendation_for_all"
   ],
   "metadata": {
    "collapsed": false,
    "pycharm": {
     "name": "#%%\n"
    }
   }
  },
  {
   "cell_type": "code",
   "execution_count": 207,
   "outputs": [
    {
     "data": {
      "text/plain": "  MAL_ID  correlation                                   Name Score  \\\n0    467     0.851933  Koukaku Kidoutai: Stand Alone Complex  8.45   \n1    468     0.622324                              Innocence  7.82   \n2     43     0.569361                       Koukaku Kidoutai  8.29   \n3    790     0.395838                             Ergo Proxy  7.92   \n4      5     0.392451        Cowboy Bebop: Tengoku no Tobira  8.39   \n5      1     0.374166                           Cowboy Bebop  8.78   \n6   1519     0.346066       Black Lagoon: The Second Barrage  8.19   \n7    889     0.331493                           Black Lagoon  8.05   \n8    323     0.326610                        Mousou Dairinin  7.68   \n9      6     0.316695                                 Trigun  8.24   \n\n                                                                    Genres  \\\n0                          Action, Military, Sci-Fi, Police, Mecha, Seinen   \n1                           Military, Sci-Fi, Police, Psychological, Mecha   \n2                     Action, Mecha, Police, Psychological, Sci-Fi, Seinen   \n3                                           Psychological, Mystery, Sci-Fi   \n4                                    Action, Drama, Mystery, Sci-Fi, Space   \n5                          Action, Adventure, Comedy, Drama, Sci-Fi, Space   \n6                                                           Action, Seinen   \n7                                                           Action, Seinen   \n8  Mystery, Dementia, Police, Psychological, Supernatural, Drama, Thriller   \n9                        Action, Sci-Fi, Adventure, Comedy, Drama, Shounen   \n\n    Type Episodes    Premiered         Studios    Source  \\\n0     TV       26    Fall 2002  Production I.G     Manga   \n1  Movie        1      Unknown  Production I.G     Manga   \n2  Movie        1      Unknown  Production I.G     Manga   \n3     TV       23  Winter 2006        Manglobe  Original   \n4  Movie        1      Unknown           Bones  Original   \n5     TV       26  Spring 1998         Sunrise  Original   \n6     TV       12    Fall 2006        Madhouse     Manga   \n7     TV       12  Spring 2006        Madhouse     Manga   \n8     TV       13  Winter 2004        Madhouse  Original   \n9     TV       26  Spring 1998        Madhouse     Manga   \n\n                           Rating  Completed  \n0  R - 17+ (violence & profanity)   170891.0  \n1  R - 17+ (violence & profanity)    98216.0  \n2                R+ - Mild Nudity   325682.0  \n3  R - 17+ (violence & profanity)   213453.0  \n4  R - 17+ (violence & profanity)   208333.0  \n5  R - 17+ (violence & profanity)   718161.0  \n6  R - 17+ (violence & profanity)   303731.0  \n7  R - 17+ (violence & profanity)   435287.0  \n8                R+ - Mild Nudity   136786.0  \n9       PG-13 - Teens 13 or older   343492.0  ",
      "text/html": "<div>\n<style scoped>\n    .dataframe tbody tr th:only-of-type {\n        vertical-align: middle;\n    }\n\n    .dataframe tbody tr th {\n        vertical-align: top;\n    }\n\n    .dataframe thead th {\n        text-align: right;\n    }\n</style>\n<table border=\"1\" class=\"dataframe\">\n  <thead>\n    <tr style=\"text-align: right;\">\n      <th></th>\n      <th>MAL_ID</th>\n      <th>correlation</th>\n      <th>Name</th>\n      <th>Score</th>\n      <th>Genres</th>\n      <th>Type</th>\n      <th>Episodes</th>\n      <th>Premiered</th>\n      <th>Studios</th>\n      <th>Source</th>\n      <th>Rating</th>\n      <th>Completed</th>\n    </tr>\n  </thead>\n  <tbody>\n    <tr>\n      <th>0</th>\n      <td>467</td>\n      <td>0.851933</td>\n      <td>Koukaku Kidoutai: Stand Alone Complex</td>\n      <td>8.45</td>\n      <td>Action, Military, Sci-Fi, Police, Mecha, Seinen</td>\n      <td>TV</td>\n      <td>26</td>\n      <td>Fall 2002</td>\n      <td>Production I.G</td>\n      <td>Manga</td>\n      <td>R - 17+ (violence &amp; profanity)</td>\n      <td>170891.0</td>\n    </tr>\n    <tr>\n      <th>1</th>\n      <td>468</td>\n      <td>0.622324</td>\n      <td>Innocence</td>\n      <td>7.82</td>\n      <td>Military, Sci-Fi, Police, Psychological, Mecha</td>\n      <td>Movie</td>\n      <td>1</td>\n      <td>Unknown</td>\n      <td>Production I.G</td>\n      <td>Manga</td>\n      <td>R - 17+ (violence &amp; profanity)</td>\n      <td>98216.0</td>\n    </tr>\n    <tr>\n      <th>2</th>\n      <td>43</td>\n      <td>0.569361</td>\n      <td>Koukaku Kidoutai</td>\n      <td>8.29</td>\n      <td>Action, Mecha, Police, Psychological, Sci-Fi, Seinen</td>\n      <td>Movie</td>\n      <td>1</td>\n      <td>Unknown</td>\n      <td>Production I.G</td>\n      <td>Manga</td>\n      <td>R+ - Mild Nudity</td>\n      <td>325682.0</td>\n    </tr>\n    <tr>\n      <th>3</th>\n      <td>790</td>\n      <td>0.395838</td>\n      <td>Ergo Proxy</td>\n      <td>7.92</td>\n      <td>Psychological, Mystery, Sci-Fi</td>\n      <td>TV</td>\n      <td>23</td>\n      <td>Winter 2006</td>\n      <td>Manglobe</td>\n      <td>Original</td>\n      <td>R - 17+ (violence &amp; profanity)</td>\n      <td>213453.0</td>\n    </tr>\n    <tr>\n      <th>4</th>\n      <td>5</td>\n      <td>0.392451</td>\n      <td>Cowboy Bebop: Tengoku no Tobira</td>\n      <td>8.39</td>\n      <td>Action, Drama, Mystery, Sci-Fi, Space</td>\n      <td>Movie</td>\n      <td>1</td>\n      <td>Unknown</td>\n      <td>Bones</td>\n      <td>Original</td>\n      <td>R - 17+ (violence &amp; profanity)</td>\n      <td>208333.0</td>\n    </tr>\n    <tr>\n      <th>5</th>\n      <td>1</td>\n      <td>0.374166</td>\n      <td>Cowboy Bebop</td>\n      <td>8.78</td>\n      <td>Action, Adventure, Comedy, Drama, Sci-Fi, Space</td>\n      <td>TV</td>\n      <td>26</td>\n      <td>Spring 1998</td>\n      <td>Sunrise</td>\n      <td>Original</td>\n      <td>R - 17+ (violence &amp; profanity)</td>\n      <td>718161.0</td>\n    </tr>\n    <tr>\n      <th>6</th>\n      <td>1519</td>\n      <td>0.346066</td>\n      <td>Black Lagoon: The Second Barrage</td>\n      <td>8.19</td>\n      <td>Action, Seinen</td>\n      <td>TV</td>\n      <td>12</td>\n      <td>Fall 2006</td>\n      <td>Madhouse</td>\n      <td>Manga</td>\n      <td>R - 17+ (violence &amp; profanity)</td>\n      <td>303731.0</td>\n    </tr>\n    <tr>\n      <th>7</th>\n      <td>889</td>\n      <td>0.331493</td>\n      <td>Black Lagoon</td>\n      <td>8.05</td>\n      <td>Action, Seinen</td>\n      <td>TV</td>\n      <td>12</td>\n      <td>Spring 2006</td>\n      <td>Madhouse</td>\n      <td>Manga</td>\n      <td>R - 17+ (violence &amp; profanity)</td>\n      <td>435287.0</td>\n    </tr>\n    <tr>\n      <th>8</th>\n      <td>323</td>\n      <td>0.326610</td>\n      <td>Mousou Dairinin</td>\n      <td>7.68</td>\n      <td>Mystery, Dementia, Police, Psychological, Supernatural, Drama, Thriller</td>\n      <td>TV</td>\n      <td>13</td>\n      <td>Winter 2004</td>\n      <td>Madhouse</td>\n      <td>Original</td>\n      <td>R+ - Mild Nudity</td>\n      <td>136786.0</td>\n    </tr>\n    <tr>\n      <th>9</th>\n      <td>6</td>\n      <td>0.316695</td>\n      <td>Trigun</td>\n      <td>8.24</td>\n      <td>Action, Sci-Fi, Adventure, Comedy, Drama, Shounen</td>\n      <td>TV</td>\n      <td>26</td>\n      <td>Spring 1998</td>\n      <td>Madhouse</td>\n      <td>Manga</td>\n      <td>PG-13 - Teens 13 or older</td>\n      <td>343492.0</td>\n    </tr>\n  </tbody>\n</table>\n</div>"
     },
     "execution_count": 207,
     "metadata": {},
     "output_type": "execute_result"
    }
   ],
   "source": [
    "recommend_for_user(2162)"
   ],
   "metadata": {
    "collapsed": false,
    "pycharm": {
     "name": "#%%\n"
    }
   }
  },
  {
   "cell_type": "code",
   "execution_count": 199,
   "outputs": [],
   "source": [],
   "metadata": {
    "collapsed": false,
    "pycharm": {
     "name": "#%%\n"
    }
   }
  }
 ],
 "metadata": {
  "kernelspec": {
   "display_name": "Python 3",
   "language": "python",
   "name": "python3"
  },
  "language_info": {
   "codemirror_mode": {
    "name": "ipython",
    "version": 2
   },
   "file_extension": ".py",
   "mimetype": "text/x-python",
   "name": "python",
   "nbconvert_exporter": "python",
   "pygments_lexer": "ipython2",
   "version": "2.7.6"
  }
 },
 "nbformat": 4,
 "nbformat_minor": 0
}