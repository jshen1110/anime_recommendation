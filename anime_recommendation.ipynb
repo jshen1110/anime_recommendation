{
 "cells": [
  {
   "cell_type": "markdown",
   "metadata": {},
   "source": [
    "### CS6220 Data Mining Techniques - Final Project\n",
    "\n",
    "\n",
    "### Group Centaurus\n",
    "- Lu Liu, Ke Yang, Mengshi Li, Jing Shen, Siyu Chen\n",
    "\n",
    "### Timeline\n",
    "\n",
    "- [ ] **3.13 Environment setup - Github Jing**\n",
    "    - jshen1110 / syche55 / lulu814 / Li-Mengshi-1996 / yangke928\n",
    "- [ ] **3.21 - 4.3 Data Processing Ke / Lu / (Siyu)**\n",
    "    - Features selection Cleaning PCA \n",
    "    \n",
    "> **Feature**: 2.Name 4.Genres 7.Type  8.Episodes 9.Aired 11.Producers 14.Source 15.Duration 16. Rating 18.Popularity \n",
    "\n",
    "> **Target**: 3.Score\n",
    "- [ ] **4.3 - 4.10 Model Implement**\n",
    "    - Unsupervised Siyu / Jing\n",
    "    - Supervised Mengshi\n",
    "- [ ] **4.10 - 4.17 Result Analysis & Visualization All**\n",
    "- [ ] **4.17 - 4.23 Report All**"
   ]
  },
  {
   "cell_type": "code",
   "execution_count": 1,
   "metadata": {},
   "outputs": [],
   "source": [
    "import pandas as pd\n",
    "import numpy as np\n",
    "import warnings\n",
    "\n",
    "warnings.filterwarnings(\"ignore\") "
   ]
  },
  {
   "cell_type": "code",
   "execution_count": 2,
   "metadata": {},
   "outputs": [],
   "source": [
    "anime_data=pd.read_csv('dataset/anime.csv')"
   ]
  },
  {
   "cell_type": "code",
   "execution_count": null,
   "metadata": {},
   "outputs": [],
   "source": []
  }
 ],
 "metadata": {
  "kernelspec": {
   "display_name": "Python 3 (ipykernel)",
   "language": "python",
   "name": "python3"
  },
  "language_info": {
   "codemirror_mode": {
    "name": "ipython",
    "version": 3
   },
   "file_extension": ".py",
   "mimetype": "text/x-python",
   "name": "python",
   "nbconvert_exporter": "python",
   "pygments_lexer": "ipython3",
   "version": "3.7.4"
  }
 },
 "nbformat": 4,
 "nbformat_minor": 2
}
