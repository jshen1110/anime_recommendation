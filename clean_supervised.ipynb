{
 "cells": [
  {
   "cell_type": "code",
   "execution_count": 1,
   "id": "95464047",
   "metadata": {},
   "outputs": [],
   "source": [
    "import pandas as pd\n",
    "import numpy as np\n",
    "import csv"
   ]
  },
  {
   "cell_type": "code",
   "execution_count": 2,
   "id": "8eeb7041",
   "metadata": {},
   "outputs": [],
   "source": [
    "anime_data = pd.read_csv('dataset/anime.csv')\n",
    "anime_data = anime_data[['MAL_ID', 'Name','Genres','Completed']]"
   ]
  },
  {
   "cell_type": "code",
   "execution_count": 3,
   "id": "345dfff7",
   "metadata": {},
   "outputs": [],
   "source": [
    "# Key: MAL_ID, Value: [genre1, genre2,...]\n",
    "anime_dict = dict()\n",
    "\n",
    "anime_genre = dict()\n",
    "\n",
    "for index, row in anime_data.iterrows():\n",
    "    mal_id = row[0]\n",
    "    genres_list = row[2].split(\", \")\n",
    "    \n",
    "    for genre in genres_list:\n",
    "        anime_genre[genre] = 1\n",
    "    anime_dict[mal_id] = genres_list\n",
    "\n",
    "total_genres = []\n",
    "for key in anime_genre.keys():\n",
    "    total_genres.append(key)\n",
    "\n",
    "total_genres.sort()"
   ]
  },
  {
   "cell_type": "code",
   "execution_count": 4,
   "id": "7a66c2e9",
   "metadata": {},
   "outputs": [],
   "source": [
    "top_users = 3000\n",
    "top_animes = 1000"
   ]
  },
  {
   "cell_type": "code",
   "execution_count": 5,
   "id": "19d5d316",
   "metadata": {},
   "outputs": [],
   "source": [
    "user_rating = pd.read_csv('rating_complete.csv')\n",
    "user_ranking = user_rating.groupby(['user_id']).count().sort_values('anime_id',ascending=False)\n",
    "ranking = user_ranking[0:top_users]\n",
    "ranking_for_testing = user_ranking[top_users:top_users + 500]\n",
    "# key: user_id, value:{mal_id:score}\n",
    "user_anime_dict = dict()"
   ]
  },
  {
   "cell_type": "code",
   "execution_count": 6,
   "id": "00f98a1c",
   "metadata": {},
   "outputs": [],
   "source": [
    "def caluculate_genre_avg_score_for_user(user_id, test_flag=False):\n",
    "    # Key: genre, Value: count of this genre\n",
    "    genre_count = dict()\n",
    "    # Key: genre, Value: score of this genre\n",
    "    genre_score = dict()\n",
    "    \n",
    "    if not test_flag:\n",
    "        current_user = dict()\n",
    "\n",
    "    \n",
    "    for genre in total_genres:\n",
    "        genre_count[genre] = 0\n",
    "        genre_score[genre] = 0\n",
    "    \n",
    "    piece = user_rating.loc[user_rating['user_id'] == user_id]\n",
    "    \n",
    "    for index, row in piece.iterrows():\n",
    "        mal_id = row[\"anime_id\"]\n",
    "        score = row[\"rating\"]\n",
    "        \n",
    "        if not test_flag:\n",
    "            current_user[mal_id] = score\n",
    "        \n",
    "        mal_genre = anime_dict[mal_id]\n",
    "        \n",
    "        for g in mal_genre:\n",
    "            genre_count[g] = genre_count[g] + 1\n",
    "            genre_score[g] = genre_score[g] + score\n",
    "    \n",
    "    result_avg_score = []\n",
    "    result_count = []\n",
    "    for genre in total_genres:\n",
    "        result_count.append(genre_count[genre])\n",
    "        if genre_count[genre] == 0:\n",
    "            result_avg_score.append(0)\n",
    "            continue\n",
    "        result_avg_score.append(genre_score[genre] / genre_count[genre])\n",
    "    \n",
    "    if not test_flag:\n",
    "        user_anime_dict[user_id] = current_user\n",
    "    \n",
    "    \n",
    "    return result_avg_score, result_count"
   ]
  },
  {
   "cell_type": "code",
   "execution_count": 7,
   "id": "ede2a177",
   "metadata": {},
   "outputs": [],
   "source": [
    "# Key: user id, value: avg scores, order the same as total_genres\n",
    "user_genre_score_dict = dict()\n",
    "user_genre_score_dict_test = dict()\n",
    "\n",
    "# Key: user id, value: genre count, order the same as total_genres\n",
    "user_genre_count_dict = dict()\n",
    "user_genre_count_dict_test = dict()\n",
    "\n",
    "for index, row in ranking.iterrows():\n",
    "    user_id  = index\n",
    "    \n",
    "    result_avg_score, result_count = caluculate_genre_avg_score_for_user(user_id)\n",
    "    user_genre_score_dict[user_id] = result_avg_score\n",
    "    user_genre_count_dict[user_id] = result_count\n",
    "\n",
    "for index, row in ranking_for_testing.iterrows():\n",
    "    user_id  = index\n",
    "    \n",
    "    result_avg_score, result_count = caluculate_genre_avg_score_for_user(user_id,True)\n",
    "    user_genre_score_dict_test[user_id] = result_avg_score\n",
    "    user_genre_count_dict_test[user_id] = result_count"
   ]
  },
  {
   "cell_type": "code",
   "execution_count": 8,
   "id": "a88d3586",
   "metadata": {},
   "outputs": [],
   "source": [
    "path = \"dataset/users_genres_rating.csv\"\n",
    "with open(path, \"w\") as f:\n",
    "    cw = csv.writer(f)\n",
    "    header = [\"user_id\"] + total_genres\n",
    "    cw.writerow(header)\n",
    "    \n",
    "    for user_id in user_genre_score_dict.keys():\n",
    "        cw.writerow([user_id] + user_genre_score_dict[user_id])\n",
    "    \n",
    "    f.close()"
   ]
  },
  {
   "cell_type": "code",
   "execution_count": 9,
   "id": "79401806",
   "metadata": {},
   "outputs": [],
   "source": [
    "path = \"dataset/users_genres_rating_test.csv\"\n",
    "with open(path, \"w\") as f:\n",
    "    cw = csv.writer(f)\n",
    "    header = [\"user_id\"] + total_genres\n",
    "    cw.writerow(header)\n",
    "    \n",
    "    for user_id in user_genre_score_dict_test.keys():\n",
    "        cw.writerow([user_id] + user_genre_score_dict_test[user_id])\n",
    "    \n",
    "    f.close()"
   ]
  },
  {
   "cell_type": "code",
   "execution_count": 10,
   "id": "3dc3e6fe",
   "metadata": {},
   "outputs": [],
   "source": [
    "path = \"dataset/users_genres_count.csv\"\n",
    "with open(path, \"w\") as f:\n",
    "    cw = csv.writer(f)\n",
    "    header = [\"user_id\"] + total_genres\n",
    "    cw.writerow(header)\n",
    "    \n",
    "    for user_id in user_genre_count_dict.keys():\n",
    "        cw.writerow([user_id] + user_genre_count_dict[user_id])\n",
    "    \n",
    "    f.close()"
   ]
  },
  {
   "cell_type": "code",
   "execution_count": 11,
   "id": "7d655384",
   "metadata": {},
   "outputs": [],
   "source": [
    "path = \"dataset/users_genres_count_test.csv\"\n",
    "with open(path, \"w\") as f:\n",
    "    cw = csv.writer(f)\n",
    "    header = [\"user_id\"] + total_genres\n",
    "    cw.writerow(header)\n",
    "    \n",
    "    for user_id in user_genre_count_dict_test.keys():\n",
    "        cw.writerow([user_id] + user_genre_count_dict_test[user_id])\n",
    "    \n",
    "    f.close()"
   ]
  },
  {
   "cell_type": "code",
   "execution_count": 12,
   "id": "99c0fdc9",
   "metadata": {},
   "outputs": [],
   "source": [
    "def get_user_completed_anime(mal_id):\n",
    "    result = []\n",
    "    \n",
    "    for i, r in ranking.iterrows():\n",
    "        uid = i\n",
    "        \n",
    "        if mal_id in user_anime_dict[uid]:\n",
    "            result.append(str(uid) + \"|\" + str(user_anime_dict[uid][mal_id]))\n",
    "            \n",
    "    return result"
   ]
  },
  {
   "cell_type": "code",
   "execution_count": 13,
   "id": "d2e3d05d",
   "metadata": {},
   "outputs": [],
   "source": [
    "# Key: mal_id, Value: list of (user id|score)\n",
    "anime_user = dict()\n",
    "\n",
    "\n",
    "animes = anime_data.sort_values('Completed', ascending=False)[0:top_animes]\n",
    "for index, row in animes.iterrows():\n",
    "    \n",
    "    mal_id = row[\"MAL_ID\"]\n",
    "    \n",
    "    result = get_user_completed_anime(mal_id)\n",
    "    \n",
    "    anime_user[mal_id] = result"
   ]
  },
  {
   "cell_type": "code",
   "execution_count": 14,
   "id": "4580f66b",
   "metadata": {},
   "outputs": [],
   "source": [
    "path = \"dataset/top_animes_complete.csv\"\n",
    "with open(path, \"w\") as f:\n",
    "    cw = csv.writer(f)\n",
    "    header = [\"MAL_ID\", \"completed_user_ids\", \"genres\"]\n",
    "    cw.writerow(header)\n",
    "    \n",
    "    for mal_id in anime_user.keys():\n",
    "        cw.writerow([mal_id, \", \".join(anime_user[mal_id]), \", \".join(anime_dict[mal_id])])\n",
    "    \n",
    "    f.close()"
   ]
  },
  {
   "cell_type": "code",
   "execution_count": null,
   "id": "ffe1402a",
   "metadata": {},
   "outputs": [],
   "source": []
  }
 ],
 "metadata": {
  "kernelspec": {
   "display_name": "Python 3 (ipykernel)",
   "language": "python",
   "name": "python3"
  },
  "language_info": {
   "codemirror_mode": {
    "name": "ipython",
    "version": 3
   },
   "file_extension": ".py",
   "mimetype": "text/x-python",
   "name": "python",
   "nbconvert_exporter": "python",
   "pygments_lexer": "ipython3",
   "version": "3.7.3"
  }
 },
 "nbformat": 4,
 "nbformat_minor": 5
}
