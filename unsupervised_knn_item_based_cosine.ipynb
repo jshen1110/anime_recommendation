{
 "cells": [
  {
   "cell_type": "code",
   "execution_count": 161,
   "outputs": [],
   "source": [
    "import numpy as np\n",
    "import pandas as pd"
   ],
   "metadata": {
    "collapsed": false,
    "pycharm": {
     "name": "#%%\n"
    }
   }
  },
  {
   "cell_type": "code",
   "execution_count": 162,
   "outputs": [
    {
     "data": {
      "text/plain": "   MAL_ID                             Name Score  \\\n0       1                     Cowboy Bebop  8.78   \n1       5  Cowboy Bebop: Tengoku no Tobira  8.39   \n2       6                           Trigun  8.24   \n3       7               Witch Hunter Robin  7.27   \n4       8                   Bouken Ou Beet  6.98   \n\n                                                Genres   Type Episodes  \\\n0      Action, Adventure, Comedy, Drama, Sci-Fi, Space     TV       26   \n1                Action, Drama, Mystery, Sci-Fi, Space  Movie        1   \n2    Action, Sci-Fi, Adventure, Comedy, Drama, Shounen     TV       26   \n3  Action, Mystery, Police, Supernatural, Drama, Magic     TV       26   \n4            Adventure, Fantasy, Shounen, Supernatural     TV       52   \n\n     Premiered         Studios    Source                          Rating  \\\n0  Spring 1998         Sunrise  Original  R - 17+ (violence & profanity)   \n1      Unknown           Bones  Original  R - 17+ (violence & profanity)   \n2  Spring 1998        Madhouse     Manga       PG-13 - Teens 13 or older   \n3  Summer 2002         Sunrise  Original       PG-13 - Teens 13 or older   \n4    Fall 2004  Toei Animation     Manga                   PG - Children   \n\n   Members  Completed  \n0  1251960     718161  \n1   273145     208333  \n2   558913     343492  \n3    94683      46165  \n4    13224       7314  ",
      "text/html": "<div>\n<style scoped>\n    .dataframe tbody tr th:only-of-type {\n        vertical-align: middle;\n    }\n\n    .dataframe tbody tr th {\n        vertical-align: top;\n    }\n\n    .dataframe thead th {\n        text-align: right;\n    }\n</style>\n<table border=\"1\" class=\"dataframe\">\n  <thead>\n    <tr style=\"text-align: right;\">\n      <th></th>\n      <th>MAL_ID</th>\n      <th>Name</th>\n      <th>Score</th>\n      <th>Genres</th>\n      <th>Type</th>\n      <th>Episodes</th>\n      <th>Premiered</th>\n      <th>Studios</th>\n      <th>Source</th>\n      <th>Rating</th>\n      <th>Members</th>\n      <th>Completed</th>\n    </tr>\n  </thead>\n  <tbody>\n    <tr>\n      <th>0</th>\n      <td>1</td>\n      <td>Cowboy Bebop</td>\n      <td>8.78</td>\n      <td>Action, Adventure, Comedy, Drama, Sci-Fi, Space</td>\n      <td>TV</td>\n      <td>26</td>\n      <td>Spring 1998</td>\n      <td>Sunrise</td>\n      <td>Original</td>\n      <td>R - 17+ (violence &amp; profanity)</td>\n      <td>1251960</td>\n      <td>718161</td>\n    </tr>\n    <tr>\n      <th>1</th>\n      <td>5</td>\n      <td>Cowboy Bebop: Tengoku no Tobira</td>\n      <td>8.39</td>\n      <td>Action, Drama, Mystery, Sci-Fi, Space</td>\n      <td>Movie</td>\n      <td>1</td>\n      <td>Unknown</td>\n      <td>Bones</td>\n      <td>Original</td>\n      <td>R - 17+ (violence &amp; profanity)</td>\n      <td>273145</td>\n      <td>208333</td>\n    </tr>\n    <tr>\n      <th>2</th>\n      <td>6</td>\n      <td>Trigun</td>\n      <td>8.24</td>\n      <td>Action, Sci-Fi, Adventure, Comedy, Drama, Shounen</td>\n      <td>TV</td>\n      <td>26</td>\n      <td>Spring 1998</td>\n      <td>Madhouse</td>\n      <td>Manga</td>\n      <td>PG-13 - Teens 13 or older</td>\n      <td>558913</td>\n      <td>343492</td>\n    </tr>\n    <tr>\n      <th>3</th>\n      <td>7</td>\n      <td>Witch Hunter Robin</td>\n      <td>7.27</td>\n      <td>Action, Mystery, Police, Supernatural, Drama, Magic</td>\n      <td>TV</td>\n      <td>26</td>\n      <td>Summer 2002</td>\n      <td>Sunrise</td>\n      <td>Original</td>\n      <td>PG-13 - Teens 13 or older</td>\n      <td>94683</td>\n      <td>46165</td>\n    </tr>\n    <tr>\n      <th>4</th>\n      <td>8</td>\n      <td>Bouken Ou Beet</td>\n      <td>6.98</td>\n      <td>Adventure, Fantasy, Shounen, Supernatural</td>\n      <td>TV</td>\n      <td>52</td>\n      <td>Fall 2004</td>\n      <td>Toei Animation</td>\n      <td>Manga</td>\n      <td>PG - Children</td>\n      <td>13224</td>\n      <td>7314</td>\n    </tr>\n  </tbody>\n</table>\n</div>"
     },
     "execution_count": 162,
     "metadata": {},
     "output_type": "execute_result"
    }
   ],
   "source": [
    "# load anime dataset\n",
    "anime_df = pd.read_csv('dataset/anime.csv')\n",
    "usecols = [\"MAL_ID\", \"Name\", \"Score\", \"Genres\", \"Type\", \"Episodes\", \"Premiered\",\n",
    "           \"Studios\", \"Source\", \"Rating\", \"Members\", \"Completed\"]\n",
    "\n",
    "anime_df=pd.read_csv('dataset/anime.csv',usecols=usecols)\n",
    "anime_df.head()"
   ],
   "metadata": {
    "collapsed": false,
    "pycharm": {
     "name": "#%%\n"
    }
   }
  },
  {
   "cell_type": "code",
   "execution_count": 163,
   "outputs": [
    {
     "data": {
      "text/plain": "   user_id                  Name  MAL_ID  rating\n0      478    Witch Hunter Robin       7     853\n1      478          Eyeshield 21      15     864\n2      478  Hachimitsu to Clover      16    1374\n3      478                Naruto      20    2211\n4      478   Tennis no Ouji-sama      22     821",
      "text/html": "<div>\n<style scoped>\n    .dataframe tbody tr th:only-of-type {\n        vertical-align: middle;\n    }\n\n    .dataframe tbody tr th {\n        vertical-align: top;\n    }\n\n    .dataframe thead th {\n        text-align: right;\n    }\n</style>\n<table border=\"1\" class=\"dataframe\">\n  <thead>\n    <tr style=\"text-align: right;\">\n      <th></th>\n      <th>user_id</th>\n      <th>Name</th>\n      <th>MAL_ID</th>\n      <th>rating</th>\n    </tr>\n  </thead>\n  <tbody>\n    <tr>\n      <th>0</th>\n      <td>478</td>\n      <td>Witch Hunter Robin</td>\n      <td>7</td>\n      <td>853</td>\n    </tr>\n    <tr>\n      <th>1</th>\n      <td>478</td>\n      <td>Eyeshield 21</td>\n      <td>15</td>\n      <td>864</td>\n    </tr>\n    <tr>\n      <th>2</th>\n      <td>478</td>\n      <td>Hachimitsu to Clover</td>\n      <td>16</td>\n      <td>1374</td>\n    </tr>\n    <tr>\n      <th>3</th>\n      <td>478</td>\n      <td>Naruto</td>\n      <td>20</td>\n      <td>2211</td>\n    </tr>\n    <tr>\n      <th>4</th>\n      <td>478</td>\n      <td>Tennis no Ouji-sama</td>\n      <td>22</td>\n      <td>821</td>\n    </tr>\n  </tbody>\n</table>\n</div>"
     },
     "execution_count": 163,
     "metadata": {},
     "output_type": "execute_result"
    }
   ],
   "source": [
    "# load top users with anime rating dataset\n",
    "rating_popular_anime = pd.read_csv('dataset/top_anime_unsupervised_use.csv')\n",
    "rating_data = rating_popular_anime.merge(anime_df, left_on = 'MAL_ID', right_on = 'MAL_ID', how = 'left')\n",
    "rating_data = rating_data[[\"user_id\", \"Name\", \"MAL_ID\",\"rating\"]]\n",
    "combine_anime_rating = rating_data.dropna(axis = 0, subset = ['Name'])\n",
    "anime_ratingCount = (combine_anime_rating.groupby(by = ['Name'])['rating'].count().reset_index()[['Name', 'rating']])\n",
    "rating_data = combine_anime_rating.merge(anime_ratingCount, left_on = 'Name', right_on = 'Name', how = 'left')\n",
    "rating_data = rating_data.drop(columns = \"rating_x\")\n",
    "rating_data = rating_data.rename(columns={\"rating_y\": \"rating\"})\n",
    "rating_data.head()"
   ],
   "metadata": {
    "collapsed": false,
    "pycharm": {
     "name": "#%%\n"
    }
   }
  },
  {
   "cell_type": "code",
   "execution_count": 198,
   "outputs": [
    {
     "data": {
      "text/plain": "user_id                                                 478     781     \\\nName                                                                     \n\"0\"                                                        0.0     0.0   \n\"Aesop\" no Ohanashi yori: Ushi to Kaeru, Yokubatta Inu     0.0     0.0   \n\"Bungaku Shoujo\" Kyou no Oyatsu: Hatsukoi                  0.0     0.0   \n\"Bungaku Shoujo\" Memoire                                   0.0     0.0   \n\"Bungaku Shoujo\" Movie                                     0.0     0.0   \n\nuser_id                                                 853     890     \\\nName                                                                     \n\"0\"                                                        0.0   307.0   \n\"Aesop\" no Ohanashi yori: Ushi to Kaeru, Yokubatta Inu     0.0    12.0   \n\"Bungaku Shoujo\" Kyou no Oyatsu: Hatsukoi                  0.0     0.0   \n\"Bungaku Shoujo\" Memoire                                   0.0     0.0   \n\"Bungaku Shoujo\" Movie                                     0.0     0.0   \n\nuser_id                                                 912     943     \\\nName                                                                     \n\"0\"                                                        0.0     0.0   \n\"Aesop\" no Ohanashi yori: Ushi to Kaeru, Yokubatta Inu     0.0     0.0   \n\"Bungaku Shoujo\" Kyou no Oyatsu: Hatsukoi                  0.0     0.0   \n\"Bungaku Shoujo\" Memoire                                   0.0     0.0   \n\"Bungaku Shoujo\" Movie                                     0.0     0.0   \n\nuser_id                                                 1177    1231    \\\nName                                                                     \n\"0\"                                                        0.0     0.0   \n\"Aesop\" no Ohanashi yori: Ushi to Kaeru, Yokubatta Inu     0.0     0.0   \n\"Bungaku Shoujo\" Kyou no Oyatsu: Hatsukoi                  0.0   922.0   \n\"Bungaku Shoujo\" Memoire                                   0.0   982.0   \n\"Bungaku Shoujo\" Movie                                     0.0  1196.0   \n\nuser_id                                                 1393    1397    ...  \\\nName                                                                    ...   \n\"0\"                                                        0.0     0.0  ...   \n\"Aesop\" no Ohanashi yori: Ushi to Kaeru, Yokubatta Inu     0.0     0.0  ...   \n\"Bungaku Shoujo\" Kyou no Oyatsu: Hatsukoi                  0.0   922.0  ...   \n\"Bungaku Shoujo\" Memoire                                   0.0   982.0  ...   \n\"Bungaku Shoujo\" Movie                                     0.0  1196.0  ...   \n\nuser_id                                                 352366  352478  \\\nName                                                                     \n\"0\"                                                        0.0     0.0   \n\"Aesop\" no Ohanashi yori: Ushi to Kaeru, Yokubatta Inu     0.0     0.0   \n\"Bungaku Shoujo\" Kyou no Oyatsu: Hatsukoi                  0.0   922.0   \n\"Bungaku Shoujo\" Memoire                                   0.0     0.0   \n\"Bungaku Shoujo\" Movie                                     0.0  1196.0   \n\nuser_id                                                 352660  352669  \\\nName                                                                     \n\"0\"                                                        0.0     0.0   \n\"Aesop\" no Ohanashi yori: Ushi to Kaeru, Yokubatta Inu     0.0     0.0   \n\"Bungaku Shoujo\" Kyou no Oyatsu: Hatsukoi                  0.0     0.0   \n\"Bungaku Shoujo\" Memoire                                 982.0   982.0   \n\"Bungaku Shoujo\" Movie                                  1196.0  1196.0   \n\nuser_id                                                 352761  352832  \\\nName                                                                     \n\"0\"                                                        0.0     0.0   \n\"Aesop\" no Ohanashi yori: Ushi to Kaeru, Yokubatta Inu     0.0     0.0   \n\"Bungaku Shoujo\" Kyou no Oyatsu: Hatsukoi                922.0     0.0   \n\"Bungaku Shoujo\" Memoire                                 982.0     0.0   \n\"Bungaku Shoujo\" Movie                                  1196.0     0.0   \n\nuser_id                                                 352835  352922  \\\nName                                                                     \n\"0\"                                                        0.0   307.0   \n\"Aesop\" no Ohanashi yori: Ushi to Kaeru, Yokubatta Inu     0.0     0.0   \n\"Bungaku Shoujo\" Kyou no Oyatsu: Hatsukoi                  0.0     0.0   \n\"Bungaku Shoujo\" Memoire                                   0.0   982.0   \n\"Bungaku Shoujo\" Movie                                     0.0     0.0   \n\nuser_id                                                 352924  352930  \nName                                                                    \n\"0\"                                                        0.0     0.0  \n\"Aesop\" no Ohanashi yori: Ushi to Kaeru, Yokubatta Inu     0.0     0.0  \n\"Bungaku Shoujo\" Kyou no Oyatsu: Hatsukoi                  0.0   922.0  \n\"Bungaku Shoujo\" Memoire                                   0.0   982.0  \n\"Bungaku Shoujo\" Movie                                  1196.0  1196.0  \n\n[5 rows x 3000 columns]",
      "text/html": "<div>\n<style scoped>\n    .dataframe tbody tr th:only-of-type {\n        vertical-align: middle;\n    }\n\n    .dataframe tbody tr th {\n        vertical-align: top;\n    }\n\n    .dataframe thead th {\n        text-align: right;\n    }\n</style>\n<table border=\"1\" class=\"dataframe\">\n  <thead>\n    <tr style=\"text-align: right;\">\n      <th>user_id</th>\n      <th>478</th>\n      <th>781</th>\n      <th>853</th>\n      <th>890</th>\n      <th>912</th>\n      <th>943</th>\n      <th>1177</th>\n      <th>1231</th>\n      <th>1393</th>\n      <th>1397</th>\n      <th>...</th>\n      <th>352366</th>\n      <th>352478</th>\n      <th>352660</th>\n      <th>352669</th>\n      <th>352761</th>\n      <th>352832</th>\n      <th>352835</th>\n      <th>352922</th>\n      <th>352924</th>\n      <th>352930</th>\n    </tr>\n    <tr>\n      <th>Name</th>\n      <th></th>\n      <th></th>\n      <th></th>\n      <th></th>\n      <th></th>\n      <th></th>\n      <th></th>\n      <th></th>\n      <th></th>\n      <th></th>\n      <th></th>\n      <th></th>\n      <th></th>\n      <th></th>\n      <th></th>\n      <th></th>\n      <th></th>\n      <th></th>\n      <th></th>\n      <th></th>\n      <th></th>\n    </tr>\n  </thead>\n  <tbody>\n    <tr>\n      <th>\"0\"</th>\n      <td>0.0</td>\n      <td>0.0</td>\n      <td>0.0</td>\n      <td>307.0</td>\n      <td>0.0</td>\n      <td>0.0</td>\n      <td>0.0</td>\n      <td>0.0</td>\n      <td>0.0</td>\n      <td>0.0</td>\n      <td>...</td>\n      <td>0.0</td>\n      <td>0.0</td>\n      <td>0.0</td>\n      <td>0.0</td>\n      <td>0.0</td>\n      <td>0.0</td>\n      <td>0.0</td>\n      <td>307.0</td>\n      <td>0.0</td>\n      <td>0.0</td>\n    </tr>\n    <tr>\n      <th>\"Aesop\" no Ohanashi yori: Ushi to Kaeru, Yokubatta Inu</th>\n      <td>0.0</td>\n      <td>0.0</td>\n      <td>0.0</td>\n      <td>12.0</td>\n      <td>0.0</td>\n      <td>0.0</td>\n      <td>0.0</td>\n      <td>0.0</td>\n      <td>0.0</td>\n      <td>0.0</td>\n      <td>...</td>\n      <td>0.0</td>\n      <td>0.0</td>\n      <td>0.0</td>\n      <td>0.0</td>\n      <td>0.0</td>\n      <td>0.0</td>\n      <td>0.0</td>\n      <td>0.0</td>\n      <td>0.0</td>\n      <td>0.0</td>\n    </tr>\n    <tr>\n      <th>\"Bungaku Shoujo\" Kyou no Oyatsu: Hatsukoi</th>\n      <td>0.0</td>\n      <td>0.0</td>\n      <td>0.0</td>\n      <td>0.0</td>\n      <td>0.0</td>\n      <td>0.0</td>\n      <td>0.0</td>\n      <td>922.0</td>\n      <td>0.0</td>\n      <td>922.0</td>\n      <td>...</td>\n      <td>0.0</td>\n      <td>922.0</td>\n      <td>0.0</td>\n      <td>0.0</td>\n      <td>922.0</td>\n      <td>0.0</td>\n      <td>0.0</td>\n      <td>0.0</td>\n      <td>0.0</td>\n      <td>922.0</td>\n    </tr>\n    <tr>\n      <th>\"Bungaku Shoujo\" Memoire</th>\n      <td>0.0</td>\n      <td>0.0</td>\n      <td>0.0</td>\n      <td>0.0</td>\n      <td>0.0</td>\n      <td>0.0</td>\n      <td>0.0</td>\n      <td>982.0</td>\n      <td>0.0</td>\n      <td>982.0</td>\n      <td>...</td>\n      <td>0.0</td>\n      <td>0.0</td>\n      <td>982.0</td>\n      <td>982.0</td>\n      <td>982.0</td>\n      <td>0.0</td>\n      <td>0.0</td>\n      <td>982.0</td>\n      <td>0.0</td>\n      <td>982.0</td>\n    </tr>\n    <tr>\n      <th>\"Bungaku Shoujo\" Movie</th>\n      <td>0.0</td>\n      <td>0.0</td>\n      <td>0.0</td>\n      <td>0.0</td>\n      <td>0.0</td>\n      <td>0.0</td>\n      <td>0.0</td>\n      <td>1196.0</td>\n      <td>0.0</td>\n      <td>1196.0</td>\n      <td>...</td>\n      <td>0.0</td>\n      <td>1196.0</td>\n      <td>1196.0</td>\n      <td>1196.0</td>\n      <td>1196.0</td>\n      <td>0.0</td>\n      <td>0.0</td>\n      <td>0.0</td>\n      <td>1196.0</td>\n      <td>1196.0</td>\n    </tr>\n  </tbody>\n</table>\n<p>5 rows × 3000 columns</p>\n</div>"
     },
     "execution_count": 198,
     "metadata": {},
     "output_type": "execute_result"
    }
   ],
   "source": [
    "top_animes_count = 1000\n",
    "top_users_count = 3000\n",
    "count_group = rating_data.groupby('user_id')['rating'].count()\n",
    "top_users_process = count_group.dropna().sort_values(ascending=False)[:top_users_count]\n",
    "top_r = rating_data.join(top_users_process, rsuffix='_r', how='inner', on='user_id')\n",
    "\n",
    "count_group = rating_data.groupby('MAL_ID')['rating'].count()\n",
    "top_animes = count_group.dropna().sort_values(ascending=False)[:top_animes_count]\n",
    "top_r = top_r.join(top_animes, rsuffix='_r', how='inner', on='MAL_ID')\n",
    "\n",
    "pivot = pd.crosstab(top_r.user_id, top_r.MAL_ID, top_r.rating, aggfunc=np.sum)\n",
    "pivot.fillna(0, inplace=True)\n",
    "piviot_table = rating_data.pivot_table(index=\"Name\",columns=\"user_id\", values=\"rating\").fillna(0)\n",
    "piviot_table.head()"
   ],
   "metadata": {
    "collapsed": false,
    "pycharm": {
     "name": "#%%\n"
    }
   }
  },
  {
   "cell_type": "code",
   "execution_count": 191,
   "outputs": [],
   "source": [
    "from scipy.sparse import csr_matrix\n",
    "piviot_table_matrix = csr_matrix(piviot_table.values)"
   ],
   "metadata": {
    "collapsed": false,
    "pycharm": {
     "name": "#%%\n"
    }
   }
  },
  {
   "cell_type": "code",
   "execution_count": 192,
   "outputs": [
    {
     "data": {
      "text/plain": "NearestNeighbors(algorithm='brute', metric='cosine')"
     },
     "execution_count": 192,
     "metadata": {},
     "output_type": "execute_result"
    }
   ],
   "source": [
    "# create knn model and fit matrix\n",
    "from sklearn.neighbors import NearestNeighbors\n",
    "model = NearestNeighbors(metric=\"cosine\", algorithm=\"brute\")\n",
    "model.fit(piviot_table_matrix)"
   ],
   "metadata": {
    "collapsed": false,
    "pycharm": {
     "name": "#%%\n"
    }
   }
  },
  {
   "cell_type": "code",
   "execution_count": 201,
   "outputs": [],
   "source": [
    "def predict(anime_name_input, n_neighbors):\n",
    "    query = piviot_table.loc[anime_name_input, :].values.reshape(1, -1)\n",
    "\n",
    "    distance, suggestions = model.kneighbors(query, n_neighbors)\n",
    "    recommendation = {}\n",
    "    for i in range(0, len(distance.flatten())):\n",
    "        if i != 0:\n",
    "            recommendation[piviot_table.index[suggestions.flatten()[i]]] = distance.flatten()[i]\n",
    "\n",
    "    return recommendation"
   ],
   "metadata": {
    "collapsed": false,
    "pycharm": {
     "name": "#%%\n"
    }
   }
  },
  {
   "cell_type": "code",
   "execution_count": 202,
   "outputs": [
    {
     "data": {
      "text/plain": "{'To Heart': 0.2732727223710337,\n 'To Heart: Remember My Memories Specials': 0.29498835462217965,\n 'To Heart 2': 0.30237780857340457,\n 'To Heart 2 OVA': 0.35235157990445853,\n 'To Heart 2 AD': 0.3677287767366777,\n 'To Heart 2 AD Plus': 0.38812794166617737,\n 'To Heart 2 Special': 0.40202581826607475,\n 'To Heart Omake': 0.4271426754758034,\n 'To Heart 2 Adnext': 0.4333862988611539}"
     },
     "execution_count": 202,
     "metadata": {},
     "output_type": "execute_result"
    }
   ],
   "source": [
    "predict('To Heart: Remember My Memories', 10)"
   ],
   "metadata": {
    "collapsed": false,
    "pycharm": {
     "name": "#%%\n"
    }
   }
  },
  {
   "cell_type": "code",
   "execution_count": 203,
   "outputs": [],
   "source": [
    "# recommendation_for all is used if not enough data\n",
    "animes_popular = anime_df.sort_values('Completed', ascending=False)[0:top_animes_count]\n",
    "top_users = rating_popular_anime.user_id.unique()\n",
    "recommendation_for_all = animes_popular[:100].sort_values(by='Score', ascending=False)[:10]"
   ],
   "metadata": {
    "collapsed": false,
    "pycharm": {
     "name": "#%%\n"
    }
   }
  },
  {
   "cell_type": "code",
   "execution_count": 204,
   "outputs": [],
   "source": [
    "def recommend_for_user(user_id_input):\n",
    "    '''\n",
    "    Take user_id to get top-rated anime by the user, then for each anime make prediction\n",
    "    return the highest 10 correlation anime\n",
    "    :param user_id_input: user id\n",
    "    :return: dataframe of recommended anime\n",
    "    '''\n",
    "    recommendation_df = pd.DataFrame(columns=['MAL_ID'])\n",
    "    users_groups = rating_popular_anime.groupby('user_id')\n",
    "    if user_id_input in top_users:\n",
    "        user_fav_anime = users_groups.get_group(user_id_input).sort_values(by='rating', ascending=False)[:5]['MAL_ID'].tolist()\n",
    "        for user_fav_MAL_ID in user_fav_anime:\n",
    "            anime_name=anime_df[anime_df['MAL_ID']==user_fav_MAL_ID]['Name'].values[0]\n",
    "            r = predict(anime_name, 10)\n",
    "            r_df = anime_df[(anime_df['Name'].isin(r.keys()))]\n",
    "            distances = []\n",
    "            for index, row in r_df.iterrows():\n",
    "                distances.append(r[row['Name']])\n",
    "            r_df.insert(2, \"Distance\", distances, True)\n",
    "            recommendation_df = recommendation_df.append(r_df, ignore_index=True)\n",
    "\n",
    "        recommendation_df = recommendation_df.sort_values(by='Distance', ascending=True).drop_duplicates('MAL_ID')\n",
    "        return recommendation_df[:10]\n",
    "    else:\n",
    "        return recommendation_for_all"
   ],
   "metadata": {
    "collapsed": false,
    "pycharm": {
     "name": "#%%\n"
    }
   }
  },
  {
   "cell_type": "code",
   "execution_count": 205,
   "outputs": [
    {
     "data": {
      "text/plain": "   MAL_ID                                              Name  Distance Score  \\\n23   2119           Captain Tsubasa: Ayaushi! Zen Nihon Jr.  0.069431  6.75   \n32   2118                 Captain Tsubasa: Europe Daikessen  0.069431   6.9   \n34   2121  Captain Tsubasa: Sekai Daikessen!! Jr. World Cup  0.088282  6.82   \n33   2120          Captain Tsubasa: Asu ni Mukatte Hashire!  0.098257   6.7   \n26   2122   Captain Tsubasa: Saikyou no Teki! Holland Youth  0.171598  6.86   \n11   1674                                 Captain Tsubasa J  0.281527  7.27   \n10   1614                     Captain Tsubasa: Road to 2002  0.336235   7.4   \n12   2116                                   Captain Tsubasa  0.348625   7.3   \n31   2117                              Shin Captain Tsubasa  0.373661  7.14   \n2     154                                       Shaman King  0.590203  7.78   \n\n                                                           Genres   Type  \\\n23                                        Action, Sports, Shounen  Movie   \n32                                        Action, Sports, Shounen  Movie   \n34                                        Action, Shounen, Sports  Movie   \n33                                        Action, Sports, Shounen  Movie   \n26                                        Action, Shounen, Sports    OVA   \n11                                        Action, Sports, Shounen     TV   \n10                                        Action, Sports, Shounen     TV   \n12                                        Action, Shounen, Sports     TV   \n31                                        Action, Sports, Shounen    OVA   \n2   Action, Adventure, Comedy, Super Power, Supernatural, Shounen     TV   \n\n   Episodes    Premiered               Studios   Source  \\\n23        1      Unknown               Unknown  Unknown   \n32        1      Unknown               Unknown  Unknown   \n34        1      Unknown               Unknown  Unknown   \n33        1      Unknown               Unknown  Unknown   \n26        1      Unknown               Unknown  Unknown   \n11       47    Fall 1994          Studio Comet    Manga   \n10       52    Fall 2001   Madhouse, Group TAC    Manga   \n12      128    Fall 1983  Tsuchida Productions    Manga   \n31       13      Unknown      Nippon Animation    Manga   \n2        64  Summer 2001                 Xebec    Manga   \n\n                       Rating   Members  Completed  \n23               G - All Ages    4067.0     3055.0  \n32               G - All Ages    4868.0     3801.0  \n34               G - All Ages    4053.0     3040.0  \n33               G - All Ages    3960.0     2970.0  \n26               G - All Ages    3850.0     2861.0  \n11               G - All Ages   23423.0    20062.0  \n10  PG-13 - Teens 13 or older   41313.0    35329.0  \n12               G - All Ages   65879.0    52195.0  \n31               G - All Ages    9537.0     7754.0  \n2   PG-13 - Teens 13 or older  294021.0   208822.0  ",
      "text/html": "<div>\n<style scoped>\n    .dataframe tbody tr th:only-of-type {\n        vertical-align: middle;\n    }\n\n    .dataframe tbody tr th {\n        vertical-align: top;\n    }\n\n    .dataframe thead th {\n        text-align: right;\n    }\n</style>\n<table border=\"1\" class=\"dataframe\">\n  <thead>\n    <tr style=\"text-align: right;\">\n      <th></th>\n      <th>MAL_ID</th>\n      <th>Name</th>\n      <th>Distance</th>\n      <th>Score</th>\n      <th>Genres</th>\n      <th>Type</th>\n      <th>Episodes</th>\n      <th>Premiered</th>\n      <th>Studios</th>\n      <th>Source</th>\n      <th>Rating</th>\n      <th>Members</th>\n      <th>Completed</th>\n    </tr>\n  </thead>\n  <tbody>\n    <tr>\n      <th>23</th>\n      <td>2119</td>\n      <td>Captain Tsubasa: Ayaushi! Zen Nihon Jr.</td>\n      <td>0.069431</td>\n      <td>6.75</td>\n      <td>Action, Sports, Shounen</td>\n      <td>Movie</td>\n      <td>1</td>\n      <td>Unknown</td>\n      <td>Unknown</td>\n      <td>Unknown</td>\n      <td>G - All Ages</td>\n      <td>4067.0</td>\n      <td>3055.0</td>\n    </tr>\n    <tr>\n      <th>32</th>\n      <td>2118</td>\n      <td>Captain Tsubasa: Europe Daikessen</td>\n      <td>0.069431</td>\n      <td>6.9</td>\n      <td>Action, Sports, Shounen</td>\n      <td>Movie</td>\n      <td>1</td>\n      <td>Unknown</td>\n      <td>Unknown</td>\n      <td>Unknown</td>\n      <td>G - All Ages</td>\n      <td>4868.0</td>\n      <td>3801.0</td>\n    </tr>\n    <tr>\n      <th>34</th>\n      <td>2121</td>\n      <td>Captain Tsubasa: Sekai Daikessen!! Jr. World Cup</td>\n      <td>0.088282</td>\n      <td>6.82</td>\n      <td>Action, Shounen, Sports</td>\n      <td>Movie</td>\n      <td>1</td>\n      <td>Unknown</td>\n      <td>Unknown</td>\n      <td>Unknown</td>\n      <td>G - All Ages</td>\n      <td>4053.0</td>\n      <td>3040.0</td>\n    </tr>\n    <tr>\n      <th>33</th>\n      <td>2120</td>\n      <td>Captain Tsubasa: Asu ni Mukatte Hashire!</td>\n      <td>0.098257</td>\n      <td>6.7</td>\n      <td>Action, Sports, Shounen</td>\n      <td>Movie</td>\n      <td>1</td>\n      <td>Unknown</td>\n      <td>Unknown</td>\n      <td>Unknown</td>\n      <td>G - All Ages</td>\n      <td>3960.0</td>\n      <td>2970.0</td>\n    </tr>\n    <tr>\n      <th>26</th>\n      <td>2122</td>\n      <td>Captain Tsubasa: Saikyou no Teki! Holland Youth</td>\n      <td>0.171598</td>\n      <td>6.86</td>\n      <td>Action, Shounen, Sports</td>\n      <td>OVA</td>\n      <td>1</td>\n      <td>Unknown</td>\n      <td>Unknown</td>\n      <td>Unknown</td>\n      <td>G - All Ages</td>\n      <td>3850.0</td>\n      <td>2861.0</td>\n    </tr>\n    <tr>\n      <th>11</th>\n      <td>1674</td>\n      <td>Captain Tsubasa J</td>\n      <td>0.281527</td>\n      <td>7.27</td>\n      <td>Action, Sports, Shounen</td>\n      <td>TV</td>\n      <td>47</td>\n      <td>Fall 1994</td>\n      <td>Studio Comet</td>\n      <td>Manga</td>\n      <td>G - All Ages</td>\n      <td>23423.0</td>\n      <td>20062.0</td>\n    </tr>\n    <tr>\n      <th>10</th>\n      <td>1614</td>\n      <td>Captain Tsubasa: Road to 2002</td>\n      <td>0.336235</td>\n      <td>7.4</td>\n      <td>Action, Sports, Shounen</td>\n      <td>TV</td>\n      <td>52</td>\n      <td>Fall 2001</td>\n      <td>Madhouse, Group TAC</td>\n      <td>Manga</td>\n      <td>PG-13 - Teens 13 or older</td>\n      <td>41313.0</td>\n      <td>35329.0</td>\n    </tr>\n    <tr>\n      <th>12</th>\n      <td>2116</td>\n      <td>Captain Tsubasa</td>\n      <td>0.348625</td>\n      <td>7.3</td>\n      <td>Action, Shounen, Sports</td>\n      <td>TV</td>\n      <td>128</td>\n      <td>Fall 1983</td>\n      <td>Tsuchida Productions</td>\n      <td>Manga</td>\n      <td>G - All Ages</td>\n      <td>65879.0</td>\n      <td>52195.0</td>\n    </tr>\n    <tr>\n      <th>31</th>\n      <td>2117</td>\n      <td>Shin Captain Tsubasa</td>\n      <td>0.373661</td>\n      <td>7.14</td>\n      <td>Action, Sports, Shounen</td>\n      <td>OVA</td>\n      <td>13</td>\n      <td>Unknown</td>\n      <td>Nippon Animation</td>\n      <td>Manga</td>\n      <td>G - All Ages</td>\n      <td>9537.0</td>\n      <td>7754.0</td>\n    </tr>\n    <tr>\n      <th>2</th>\n      <td>154</td>\n      <td>Shaman King</td>\n      <td>0.590203</td>\n      <td>7.78</td>\n      <td>Action, Adventure, Comedy, Super Power, Supernatural, Shounen</td>\n      <td>TV</td>\n      <td>64</td>\n      <td>Summer 2001</td>\n      <td>Xebec</td>\n      <td>Manga</td>\n      <td>PG-13 - Teens 13 or older</td>\n      <td>294021.0</td>\n      <td>208822.0</td>\n    </tr>\n  </tbody>\n</table>\n</div>"
     },
     "execution_count": 205,
     "metadata": {},
     "output_type": "execute_result"
    }
   ],
   "source": [
    "recommend_for_user(2162)"
   ],
   "metadata": {
    "collapsed": false,
    "pycharm": {
     "name": "#%%\n"
    }
   }
  }
 ],
 "metadata": {
  "kernelspec": {
   "display_name": "Python 3",
   "language": "python",
   "name": "python3"
  },
  "language_info": {
   "codemirror_mode": {
    "name": "ipython",
    "version": 2
   },
   "file_extension": ".py",
   "mimetype": "text/x-python",
   "name": "python",
   "nbconvert_exporter": "python",
   "pygments_lexer": "ipython2",
   "version": "2.7.6"
  }
 },
 "nbformat": 4,
 "nbformat_minor": 0
}