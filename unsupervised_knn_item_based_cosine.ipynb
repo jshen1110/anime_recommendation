{
 "cells": [
  {
   "cell_type": "code",
   "execution_count": 72,
   "outputs": [],
   "source": [
    "import numpy as np\n",
    "import pandas as pd"
   ],
   "metadata": {
    "collapsed": false,
    "pycharm": {
     "name": "#%%\n"
    }
   }
  },
  {
   "cell_type": "code",
   "execution_count": 73,
   "outputs": [
    {
     "data": {
      "text/plain": "   MAL_ID                             Name Score  \\\n0       1                     Cowboy Bebop  8.78   \n1       5  Cowboy Bebop: Tengoku no Tobira  8.39   \n2       6                           Trigun  8.24   \n3       7               Witch Hunter Robin  7.27   \n4       8                   Bouken Ou Beet  6.98   \n\n                                                Genres   Type Episodes  \\\n0      Action, Adventure, Comedy, Drama, Sci-Fi, Space     TV       26   \n1                Action, Drama, Mystery, Sci-Fi, Space  Movie        1   \n2    Action, Sci-Fi, Adventure, Comedy, Drama, Shounen     TV       26   \n3  Action, Mystery, Police, Supernatural, Drama, Magic     TV       26   \n4            Adventure, Fantasy, Shounen, Supernatural     TV       52   \n\n     Premiered         Studios    Source                          Rating  \\\n0  Spring 1998         Sunrise  Original  R - 17+ (violence & profanity)   \n1      Unknown           Bones  Original  R - 17+ (violence & profanity)   \n2  Spring 1998        Madhouse     Manga       PG-13 - Teens 13 or older   \n3  Summer 2002         Sunrise  Original       PG-13 - Teens 13 or older   \n4    Fall 2004  Toei Animation     Manga                   PG - Children   \n\n   Members  Completed  \n0  1251960     718161  \n1   273145     208333  \n2   558913     343492  \n3    94683      46165  \n4    13224       7314  ",
      "text/html": "<div>\n<style scoped>\n    .dataframe tbody tr th:only-of-type {\n        vertical-align: middle;\n    }\n\n    .dataframe tbody tr th {\n        vertical-align: top;\n    }\n\n    .dataframe thead th {\n        text-align: right;\n    }\n</style>\n<table border=\"1\" class=\"dataframe\">\n  <thead>\n    <tr style=\"text-align: right;\">\n      <th></th>\n      <th>MAL_ID</th>\n      <th>Name</th>\n      <th>Score</th>\n      <th>Genres</th>\n      <th>Type</th>\n      <th>Episodes</th>\n      <th>Premiered</th>\n      <th>Studios</th>\n      <th>Source</th>\n      <th>Rating</th>\n      <th>Members</th>\n      <th>Completed</th>\n    </tr>\n  </thead>\n  <tbody>\n    <tr>\n      <th>0</th>\n      <td>1</td>\n      <td>Cowboy Bebop</td>\n      <td>8.78</td>\n      <td>Action, Adventure, Comedy, Drama, Sci-Fi, Space</td>\n      <td>TV</td>\n      <td>26</td>\n      <td>Spring 1998</td>\n      <td>Sunrise</td>\n      <td>Original</td>\n      <td>R - 17+ (violence &amp; profanity)</td>\n      <td>1251960</td>\n      <td>718161</td>\n    </tr>\n    <tr>\n      <th>1</th>\n      <td>5</td>\n      <td>Cowboy Bebop: Tengoku no Tobira</td>\n      <td>8.39</td>\n      <td>Action, Drama, Mystery, Sci-Fi, Space</td>\n      <td>Movie</td>\n      <td>1</td>\n      <td>Unknown</td>\n      <td>Bones</td>\n      <td>Original</td>\n      <td>R - 17+ (violence &amp; profanity)</td>\n      <td>273145</td>\n      <td>208333</td>\n    </tr>\n    <tr>\n      <th>2</th>\n      <td>6</td>\n      <td>Trigun</td>\n      <td>8.24</td>\n      <td>Action, Sci-Fi, Adventure, Comedy, Drama, Shounen</td>\n      <td>TV</td>\n      <td>26</td>\n      <td>Spring 1998</td>\n      <td>Madhouse</td>\n      <td>Manga</td>\n      <td>PG-13 - Teens 13 or older</td>\n      <td>558913</td>\n      <td>343492</td>\n    </tr>\n    <tr>\n      <th>3</th>\n      <td>7</td>\n      <td>Witch Hunter Robin</td>\n      <td>7.27</td>\n      <td>Action, Mystery, Police, Supernatural, Drama, Magic</td>\n      <td>TV</td>\n      <td>26</td>\n      <td>Summer 2002</td>\n      <td>Sunrise</td>\n      <td>Original</td>\n      <td>PG-13 - Teens 13 or older</td>\n      <td>94683</td>\n      <td>46165</td>\n    </tr>\n    <tr>\n      <th>4</th>\n      <td>8</td>\n      <td>Bouken Ou Beet</td>\n      <td>6.98</td>\n      <td>Adventure, Fantasy, Shounen, Supernatural</td>\n      <td>TV</td>\n      <td>52</td>\n      <td>Fall 2004</td>\n      <td>Toei Animation</td>\n      <td>Manga</td>\n      <td>PG - Children</td>\n      <td>13224</td>\n      <td>7314</td>\n    </tr>\n  </tbody>\n</table>\n</div>"
     },
     "execution_count": 73,
     "metadata": {},
     "output_type": "execute_result"
    }
   ],
   "source": [
    "# load anime dataset\n",
    "anime_df = pd.read_csv('dataset/anime.csv')\n",
    "usecols = [\"MAL_ID\", \"Name\", \"Score\", \"Genres\", \"Type\", \"Episodes\", \"Premiered\",\n",
    "           \"Studios\", \"Source\", \"Rating\", \"Members\", \"Completed\"]\n",
    "\n",
    "anime_df=pd.read_csv('dataset/anime.csv',usecols=usecols)\n",
    "anime_df.head()"
   ],
   "metadata": {
    "collapsed": false,
    "pycharm": {
     "name": "#%%\n"
    }
   }
  },
  {
   "cell_type": "code",
   "execution_count": 147,
   "outputs": [
    {
     "data": {
      "text/plain": "   user_id                  Name  MAL_ID  rating\n0      478    Witch Hunter Robin       7     853\n1      478          Eyeshield 21      15     864\n2      478  Hachimitsu to Clover      16    1374\n3      478                Naruto      20    2211\n4      478   Tennis no Ouji-sama      22     821",
      "text/html": "<div>\n<style scoped>\n    .dataframe tbody tr th:only-of-type {\n        vertical-align: middle;\n    }\n\n    .dataframe tbody tr th {\n        vertical-align: top;\n    }\n\n    .dataframe thead th {\n        text-align: right;\n    }\n</style>\n<table border=\"1\" class=\"dataframe\">\n  <thead>\n    <tr style=\"text-align: right;\">\n      <th></th>\n      <th>user_id</th>\n      <th>Name</th>\n      <th>MAL_ID</th>\n      <th>rating</th>\n    </tr>\n  </thead>\n  <tbody>\n    <tr>\n      <th>0</th>\n      <td>478</td>\n      <td>Witch Hunter Robin</td>\n      <td>7</td>\n      <td>853</td>\n    </tr>\n    <tr>\n      <th>1</th>\n      <td>478</td>\n      <td>Eyeshield 21</td>\n      <td>15</td>\n      <td>864</td>\n    </tr>\n    <tr>\n      <th>2</th>\n      <td>478</td>\n      <td>Hachimitsu to Clover</td>\n      <td>16</td>\n      <td>1374</td>\n    </tr>\n    <tr>\n      <th>3</th>\n      <td>478</td>\n      <td>Naruto</td>\n      <td>20</td>\n      <td>2211</td>\n    </tr>\n    <tr>\n      <th>4</th>\n      <td>478</td>\n      <td>Tennis no Ouji-sama</td>\n      <td>22</td>\n      <td>821</td>\n    </tr>\n  </tbody>\n</table>\n</div>"
     },
     "execution_count": 147,
     "metadata": {},
     "output_type": "execute_result"
    }
   ],
   "source": [
    "# load top users with anime rating dataset\n",
    "rating_popular_anime = pd.read_csv('dataset/top_anime_unsupervised_use.csv')\n",
    "rating_data = rating_popular_anime.merge(anime_df, left_on = 'MAL_ID', right_on = 'MAL_ID', how = 'left')\n",
    "rating_data = rating_data[[\"user_id\", \"Name\", \"MAL_ID\",\"rating\"]]\n",
    "combine_anime_rating = rating_data.dropna(axis = 0, subset = ['Name'])\n",
    "anime_ratingCount = (combine_anime_rating.groupby(by = ['Name'])['rating'].count().reset_index()[['Name', 'rating']])\n",
    "rating_data = combine_anime_rating.merge(anime_ratingCount, left_on = 'Name', right_on = 'Name', how = 'left')\n",
    "rating_data = rating_data.drop(columns = \"rating_x\")\n",
    "rating_data = rating_data.rename(columns={\"rating_y\": \"rating\"})\n",
    "rating_data.head()"
   ],
   "metadata": {
    "collapsed": false,
    "pycharm": {
     "name": "#%%\n"
    }
   }
  },
  {
   "cell_type": "code",
   "execution_count": 148,
   "outputs": [],
   "source": [
    "# # Encoding categorical data\n",
    "# user_ids = rating_data[\"user_id\"].unique().tolist()\n",
    "# user2user_encoded = {x: i for i, x in enumerate(user_ids)}\n",
    "# user_encoded2user = {i: x for i, x in enumerate(user_ids)}\n",
    "# rating_data[\"user\"] = rating_data[\"user_id\"].map(user2user_encoded)\n",
    "# n_users = len(user2user_encoded)\n",
    "#\n",
    "# anime_ids = rating_data[\"MAL_ID\"].unique().tolist()\n",
    "# anime2anime_encoded = {x: i for i, x in enumerate(anime_ids)}\n",
    "# anime_encoded2anime = {i: x for i, x in enumerate(anime_ids)}\n",
    "# rating_data[\"anime\"] = rating_data[\"MAL_ID\"].map(anime2anime_encoded)\n",
    "# n_animes = len(anime2anime_encoded)\n",
    "#\n",
    "# print(\"Num of users: {}, Num of animes: {}\".format(n_users, n_animes))\n",
    "# print(\"Min total rating: {}, Max total rating: {}\".format(min(rating_data['rating']), max(rating_data['rating'])))"
   ],
   "metadata": {
    "collapsed": false,
    "pycharm": {
     "name": "#%%\n"
    }
   }
  },
  {
   "cell_type": "code",
   "execution_count": 151,
   "outputs": [
    {
     "data": {
      "text/plain": "MAL_ID    226     1535    1575    2904    4224    5081    5114    6547   \\\nuser_id                                                                   \n10255    2573.0  2672.0  2671.0  2576.0  2659.0  2629.0  2553.0  2776.0   \n64807    2573.0  2672.0  2671.0  2576.0  2659.0  2629.0  2553.0  2776.0   \n68042    2573.0  2672.0  2671.0  2576.0  2659.0  2629.0  2553.0  2776.0   \n85106    2573.0  2672.0  2671.0  2576.0  2659.0  2629.0  2553.0  2776.0   \n122341   2573.0  2672.0  2671.0  2576.0  2659.0  2629.0  2553.0  2776.0   \n\nMAL_ID    8074    9253    9989    10620   11111   11757   14741   15809  \\\nuser_id                                                                   \n10255    2625.0  2638.0  2544.0  2536.0  2594.0     0.0  2542.0  2599.0   \n64807    2625.0  2638.0  2544.0  2536.0  2594.0  2730.0  2542.0  2599.0   \n68042    2625.0  2638.0  2544.0  2536.0  2594.0  2730.0  2542.0  2599.0   \n85106    2625.0  2638.0  2544.0  2536.0  2594.0  2730.0  2542.0  2599.0   \n122341   2625.0  2638.0  2544.0  2536.0  2594.0  2730.0  2542.0  2599.0   \n\nMAL_ID    16498   19815   20507   30276  \nuser_id                                  \n10255    2727.0  2673.0  2547.0  2670.0  \n64807    2727.0  2673.0  2547.0  2670.0  \n68042    2727.0  2673.0  2547.0  2670.0  \n85106    2727.0  2673.0  2547.0  2670.0  \n122341   2727.0  2673.0  2547.0  2670.0  ",
      "text/html": "<div>\n<style scoped>\n    .dataframe tbody tr th:only-of-type {\n        vertical-align: middle;\n    }\n\n    .dataframe tbody tr th {\n        vertical-align: top;\n    }\n\n    .dataframe thead th {\n        text-align: right;\n    }\n</style>\n<table border=\"1\" class=\"dataframe\">\n  <thead>\n    <tr style=\"text-align: right;\">\n      <th>MAL_ID</th>\n      <th>226</th>\n      <th>1535</th>\n      <th>1575</th>\n      <th>2904</th>\n      <th>4224</th>\n      <th>5081</th>\n      <th>5114</th>\n      <th>6547</th>\n      <th>8074</th>\n      <th>9253</th>\n      <th>9989</th>\n      <th>10620</th>\n      <th>11111</th>\n      <th>11757</th>\n      <th>14741</th>\n      <th>15809</th>\n      <th>16498</th>\n      <th>19815</th>\n      <th>20507</th>\n      <th>30276</th>\n    </tr>\n    <tr>\n      <th>user_id</th>\n      <th></th>\n      <th></th>\n      <th></th>\n      <th></th>\n      <th></th>\n      <th></th>\n      <th></th>\n      <th></th>\n      <th></th>\n      <th></th>\n      <th></th>\n      <th></th>\n      <th></th>\n      <th></th>\n      <th></th>\n      <th></th>\n      <th></th>\n      <th></th>\n      <th></th>\n      <th></th>\n    </tr>\n  </thead>\n  <tbody>\n    <tr>\n      <th>10255</th>\n      <td>2573.0</td>\n      <td>2672.0</td>\n      <td>2671.0</td>\n      <td>2576.0</td>\n      <td>2659.0</td>\n      <td>2629.0</td>\n      <td>2553.0</td>\n      <td>2776.0</td>\n      <td>2625.0</td>\n      <td>2638.0</td>\n      <td>2544.0</td>\n      <td>2536.0</td>\n      <td>2594.0</td>\n      <td>0.0</td>\n      <td>2542.0</td>\n      <td>2599.0</td>\n      <td>2727.0</td>\n      <td>2673.0</td>\n      <td>2547.0</td>\n      <td>2670.0</td>\n    </tr>\n    <tr>\n      <th>64807</th>\n      <td>2573.0</td>\n      <td>2672.0</td>\n      <td>2671.0</td>\n      <td>2576.0</td>\n      <td>2659.0</td>\n      <td>2629.0</td>\n      <td>2553.0</td>\n      <td>2776.0</td>\n      <td>2625.0</td>\n      <td>2638.0</td>\n      <td>2544.0</td>\n      <td>2536.0</td>\n      <td>2594.0</td>\n      <td>2730.0</td>\n      <td>2542.0</td>\n      <td>2599.0</td>\n      <td>2727.0</td>\n      <td>2673.0</td>\n      <td>2547.0</td>\n      <td>2670.0</td>\n    </tr>\n    <tr>\n      <th>68042</th>\n      <td>2573.0</td>\n      <td>2672.0</td>\n      <td>2671.0</td>\n      <td>2576.0</td>\n      <td>2659.0</td>\n      <td>2629.0</td>\n      <td>2553.0</td>\n      <td>2776.0</td>\n      <td>2625.0</td>\n      <td>2638.0</td>\n      <td>2544.0</td>\n      <td>2536.0</td>\n      <td>2594.0</td>\n      <td>2730.0</td>\n      <td>2542.0</td>\n      <td>2599.0</td>\n      <td>2727.0</td>\n      <td>2673.0</td>\n      <td>2547.0</td>\n      <td>2670.0</td>\n    </tr>\n    <tr>\n      <th>85106</th>\n      <td>2573.0</td>\n      <td>2672.0</td>\n      <td>2671.0</td>\n      <td>2576.0</td>\n      <td>2659.0</td>\n      <td>2629.0</td>\n      <td>2553.0</td>\n      <td>2776.0</td>\n      <td>2625.0</td>\n      <td>2638.0</td>\n      <td>2544.0</td>\n      <td>2536.0</td>\n      <td>2594.0</td>\n      <td>2730.0</td>\n      <td>2542.0</td>\n      <td>2599.0</td>\n      <td>2727.0</td>\n      <td>2673.0</td>\n      <td>2547.0</td>\n      <td>2670.0</td>\n    </tr>\n    <tr>\n      <th>122341</th>\n      <td>2573.0</td>\n      <td>2672.0</td>\n      <td>2671.0</td>\n      <td>2576.0</td>\n      <td>2659.0</td>\n      <td>2629.0</td>\n      <td>2553.0</td>\n      <td>2776.0</td>\n      <td>2625.0</td>\n      <td>2638.0</td>\n      <td>2544.0</td>\n      <td>2536.0</td>\n      <td>2594.0</td>\n      <td>2730.0</td>\n      <td>2542.0</td>\n      <td>2599.0</td>\n      <td>2727.0</td>\n      <td>2673.0</td>\n      <td>2547.0</td>\n      <td>2670.0</td>\n    </tr>\n  </tbody>\n</table>\n</div>"
     },
     "execution_count": 151,
     "metadata": {},
     "output_type": "execute_result"
    }
   ],
   "source": [
    "g = rating_data.groupby('user_id')['rating'].count()\n",
    "top_users = g.dropna().sort_values(ascending=False)[:20]\n",
    "top_r = rating_data.join(top_users, rsuffix='_r', how='inner', on='user_id')\n",
    "\n",
    "g = rating_data.groupby('MAL_ID')['rating'].count()\n",
    "top_animes = g.dropna().sort_values(ascending=False)[:20]\n",
    "top_r = top_r.join(top_animes, rsuffix='_r', how='inner', on='MAL_ID')\n",
    "\n",
    "pivot = pd.crosstab(top_r.user_id, top_r.MAL_ID, top_r.rating, aggfunc=np.sum)\n",
    "pivot.fillna(0, inplace=True)\n",
    "pivot.head()"
   ],
   "metadata": {
    "collapsed": false,
    "pycharm": {
     "name": "#%%\n"
    }
   }
  },
  {
   "cell_type": "code",
   "execution_count": 152,
   "outputs": [
    {
     "data": {
      "text/plain": "user_id                                                 478     781     \\\nName                                                                     \n\"0\"                                                        0.0     0.0   \n\"Aesop\" no Ohanashi yori: Ushi to Kaeru, Yokubatta Inu     0.0     0.0   \n\"Bungaku Shoujo\" Kyou no Oyatsu: Hatsukoi                  0.0     0.0   \n\"Bungaku Shoujo\" Memoire                                   0.0     0.0   \n\"Bungaku Shoujo\" Movie                                     0.0     0.0   \n\nuser_id                                                 853     890     \\\nName                                                                     \n\"0\"                                                        0.0   307.0   \n\"Aesop\" no Ohanashi yori: Ushi to Kaeru, Yokubatta Inu     0.0    12.0   \n\"Bungaku Shoujo\" Kyou no Oyatsu: Hatsukoi                  0.0     0.0   \n\"Bungaku Shoujo\" Memoire                                   0.0     0.0   \n\"Bungaku Shoujo\" Movie                                     0.0     0.0   \n\nuser_id                                                 912     943     \\\nName                                                                     \n\"0\"                                                        0.0     0.0   \n\"Aesop\" no Ohanashi yori: Ushi to Kaeru, Yokubatta Inu     0.0     0.0   \n\"Bungaku Shoujo\" Kyou no Oyatsu: Hatsukoi                  0.0     0.0   \n\"Bungaku Shoujo\" Memoire                                   0.0     0.0   \n\"Bungaku Shoujo\" Movie                                     0.0     0.0   \n\nuser_id                                                 1177    1231    \\\nName                                                                     \n\"0\"                                                        0.0     0.0   \n\"Aesop\" no Ohanashi yori: Ushi to Kaeru, Yokubatta Inu     0.0     0.0   \n\"Bungaku Shoujo\" Kyou no Oyatsu: Hatsukoi                  0.0   922.0   \n\"Bungaku Shoujo\" Memoire                                   0.0   982.0   \n\"Bungaku Shoujo\" Movie                                     0.0  1196.0   \n\nuser_id                                                 1393    1397    ...  \\\nName                                                                    ...   \n\"0\"                                                        0.0     0.0  ...   \n\"Aesop\" no Ohanashi yori: Ushi to Kaeru, Yokubatta Inu     0.0     0.0  ...   \n\"Bungaku Shoujo\" Kyou no Oyatsu: Hatsukoi                  0.0   922.0  ...   \n\"Bungaku Shoujo\" Memoire                                   0.0   982.0  ...   \n\"Bungaku Shoujo\" Movie                                     0.0  1196.0  ...   \n\nuser_id                                                 352366  352478  \\\nName                                                                     \n\"0\"                                                        0.0     0.0   \n\"Aesop\" no Ohanashi yori: Ushi to Kaeru, Yokubatta Inu     0.0     0.0   \n\"Bungaku Shoujo\" Kyou no Oyatsu: Hatsukoi                  0.0   922.0   \n\"Bungaku Shoujo\" Memoire                                   0.0     0.0   \n\"Bungaku Shoujo\" Movie                                     0.0  1196.0   \n\nuser_id                                                 352660  352669  \\\nName                                                                     \n\"0\"                                                        0.0     0.0   \n\"Aesop\" no Ohanashi yori: Ushi to Kaeru, Yokubatta Inu     0.0     0.0   \n\"Bungaku Shoujo\" Kyou no Oyatsu: Hatsukoi                  0.0     0.0   \n\"Bungaku Shoujo\" Memoire                                 982.0   982.0   \n\"Bungaku Shoujo\" Movie                                  1196.0  1196.0   \n\nuser_id                                                 352761  352832  \\\nName                                                                     \n\"0\"                                                        0.0     0.0   \n\"Aesop\" no Ohanashi yori: Ushi to Kaeru, Yokubatta Inu     0.0     0.0   \n\"Bungaku Shoujo\" Kyou no Oyatsu: Hatsukoi                922.0     0.0   \n\"Bungaku Shoujo\" Memoire                                 982.0     0.0   \n\"Bungaku Shoujo\" Movie                                  1196.0     0.0   \n\nuser_id                                                 352835  352922  \\\nName                                                                     \n\"0\"                                                        0.0   307.0   \n\"Aesop\" no Ohanashi yori: Ushi to Kaeru, Yokubatta Inu     0.0     0.0   \n\"Bungaku Shoujo\" Kyou no Oyatsu: Hatsukoi                  0.0     0.0   \n\"Bungaku Shoujo\" Memoire                                   0.0   982.0   \n\"Bungaku Shoujo\" Movie                                     0.0     0.0   \n\nuser_id                                                 352924  352930  \nName                                                                    \n\"0\"                                                        0.0     0.0  \n\"Aesop\" no Ohanashi yori: Ushi to Kaeru, Yokubatta Inu     0.0     0.0  \n\"Bungaku Shoujo\" Kyou no Oyatsu: Hatsukoi                  0.0   922.0  \n\"Bungaku Shoujo\" Memoire                                   0.0   982.0  \n\"Bungaku Shoujo\" Movie                                  1196.0  1196.0  \n\n[5 rows x 3000 columns]",
      "text/html": "<div>\n<style scoped>\n    .dataframe tbody tr th:only-of-type {\n        vertical-align: middle;\n    }\n\n    .dataframe tbody tr th {\n        vertical-align: top;\n    }\n\n    .dataframe thead th {\n        text-align: right;\n    }\n</style>\n<table border=\"1\" class=\"dataframe\">\n  <thead>\n    <tr style=\"text-align: right;\">\n      <th>user_id</th>\n      <th>478</th>\n      <th>781</th>\n      <th>853</th>\n      <th>890</th>\n      <th>912</th>\n      <th>943</th>\n      <th>1177</th>\n      <th>1231</th>\n      <th>1393</th>\n      <th>1397</th>\n      <th>...</th>\n      <th>352366</th>\n      <th>352478</th>\n      <th>352660</th>\n      <th>352669</th>\n      <th>352761</th>\n      <th>352832</th>\n      <th>352835</th>\n      <th>352922</th>\n      <th>352924</th>\n      <th>352930</th>\n    </tr>\n    <tr>\n      <th>Name</th>\n      <th></th>\n      <th></th>\n      <th></th>\n      <th></th>\n      <th></th>\n      <th></th>\n      <th></th>\n      <th></th>\n      <th></th>\n      <th></th>\n      <th></th>\n      <th></th>\n      <th></th>\n      <th></th>\n      <th></th>\n      <th></th>\n      <th></th>\n      <th></th>\n      <th></th>\n      <th></th>\n      <th></th>\n    </tr>\n  </thead>\n  <tbody>\n    <tr>\n      <th>\"0\"</th>\n      <td>0.0</td>\n      <td>0.0</td>\n      <td>0.0</td>\n      <td>307.0</td>\n      <td>0.0</td>\n      <td>0.0</td>\n      <td>0.0</td>\n      <td>0.0</td>\n      <td>0.0</td>\n      <td>0.0</td>\n      <td>...</td>\n      <td>0.0</td>\n      <td>0.0</td>\n      <td>0.0</td>\n      <td>0.0</td>\n      <td>0.0</td>\n      <td>0.0</td>\n      <td>0.0</td>\n      <td>307.0</td>\n      <td>0.0</td>\n      <td>0.0</td>\n    </tr>\n    <tr>\n      <th>\"Aesop\" no Ohanashi yori: Ushi to Kaeru, Yokubatta Inu</th>\n      <td>0.0</td>\n      <td>0.0</td>\n      <td>0.0</td>\n      <td>12.0</td>\n      <td>0.0</td>\n      <td>0.0</td>\n      <td>0.0</td>\n      <td>0.0</td>\n      <td>0.0</td>\n      <td>0.0</td>\n      <td>...</td>\n      <td>0.0</td>\n      <td>0.0</td>\n      <td>0.0</td>\n      <td>0.0</td>\n      <td>0.0</td>\n      <td>0.0</td>\n      <td>0.0</td>\n      <td>0.0</td>\n      <td>0.0</td>\n      <td>0.0</td>\n    </tr>\n    <tr>\n      <th>\"Bungaku Shoujo\" Kyou no Oyatsu: Hatsukoi</th>\n      <td>0.0</td>\n      <td>0.0</td>\n      <td>0.0</td>\n      <td>0.0</td>\n      <td>0.0</td>\n      <td>0.0</td>\n      <td>0.0</td>\n      <td>922.0</td>\n      <td>0.0</td>\n      <td>922.0</td>\n      <td>...</td>\n      <td>0.0</td>\n      <td>922.0</td>\n      <td>0.0</td>\n      <td>0.0</td>\n      <td>922.0</td>\n      <td>0.0</td>\n      <td>0.0</td>\n      <td>0.0</td>\n      <td>0.0</td>\n      <td>922.0</td>\n    </tr>\n    <tr>\n      <th>\"Bungaku Shoujo\" Memoire</th>\n      <td>0.0</td>\n      <td>0.0</td>\n      <td>0.0</td>\n      <td>0.0</td>\n      <td>0.0</td>\n      <td>0.0</td>\n      <td>0.0</td>\n      <td>982.0</td>\n      <td>0.0</td>\n      <td>982.0</td>\n      <td>...</td>\n      <td>0.0</td>\n      <td>0.0</td>\n      <td>982.0</td>\n      <td>982.0</td>\n      <td>982.0</td>\n      <td>0.0</td>\n      <td>0.0</td>\n      <td>982.0</td>\n      <td>0.0</td>\n      <td>982.0</td>\n    </tr>\n    <tr>\n      <th>\"Bungaku Shoujo\" Movie</th>\n      <td>0.0</td>\n      <td>0.0</td>\n      <td>0.0</td>\n      <td>0.0</td>\n      <td>0.0</td>\n      <td>0.0</td>\n      <td>0.0</td>\n      <td>1196.0</td>\n      <td>0.0</td>\n      <td>1196.0</td>\n      <td>...</td>\n      <td>0.0</td>\n      <td>1196.0</td>\n      <td>1196.0</td>\n      <td>1196.0</td>\n      <td>1196.0</td>\n      <td>0.0</td>\n      <td>0.0</td>\n      <td>0.0</td>\n      <td>1196.0</td>\n      <td>1196.0</td>\n    </tr>\n  </tbody>\n</table>\n<p>5 rows × 3000 columns</p>\n</div>"
     },
     "execution_count": 152,
     "metadata": {},
     "output_type": "execute_result"
    }
   ],
   "source": [
    "piviot_table = rating_data.pivot_table(index=\"Name\",columns=\"user_id\", values=\"rating\").fillna(0)\n",
    "piviot_table.head()"
   ],
   "metadata": {
    "collapsed": false,
    "pycharm": {
     "name": "#%%\n"
    }
   }
  },
  {
   "cell_type": "code",
   "execution_count": 153,
   "outputs": [],
   "source": [
    "from scipy.sparse import csr_matrix\n",
    "piviot_table_matrix = csr_matrix(piviot_table.values)"
   ],
   "metadata": {
    "collapsed": false,
    "pycharm": {
     "name": "#%%\n"
    }
   }
  },
  {
   "cell_type": "code",
   "execution_count": 154,
   "outputs": [
    {
     "data": {
      "text/plain": "NearestNeighbors(algorithm='brute', metric='cosine')"
     },
     "execution_count": 154,
     "metadata": {},
     "output_type": "execute_result"
    }
   ],
   "source": [
    "from sklearn.neighbors import NearestNeighbors\n",
    "model = NearestNeighbors(metric=\"cosine\", algorithm=\"brute\")\n",
    "model.fit(piviot_table_matrix)"
   ],
   "metadata": {
    "collapsed": false,
    "pycharm": {
     "name": "#%%\n"
    }
   }
  },
  {
   "cell_type": "code",
   "execution_count": 155,
   "outputs": [],
   "source": [
    "def predict(anime_name_input, n_neighbors):\n",
    "    query = piviot_table.loc[anime_name_input, :].values.reshape(1, -1)\n",
    "\n",
    "    distance, suggestions = model.kneighbors(query, n_neighbors)\n",
    "    recommendation = {}\n",
    "    for i in range(0, len(distance.flatten())):\n",
    "        if i == 0:\n",
    "            print('Recommendations for', anime_name_input)\n",
    "        else:\n",
    "            print('{0}: {1}, with distance of {2}:'.format(i, piviot_table.index[suggestions.flatten()[i]], distance.flatten()[i]))\n",
    "            recommendation[piviot_table.index[suggestions.flatten()[i]]] = distance.flatten()[i]\n",
    "\n",
    "    return recommendation"
   ],
   "metadata": {
    "collapsed": false,
    "pycharm": {
     "name": "#%%\n"
    }
   }
  },
  {
   "cell_type": "code",
   "execution_count": 156,
   "outputs": [],
   "source": [
    "top_animes_count = 1000\n",
    "animes_popular = anime_df.sort_values('Completed', ascending=False)[0:top_animes_count]\n",
    "recommendation_for_all = animes_popular[:100].sort_values(by='Score', ascending=False)[:10]"
   ],
   "metadata": {
    "collapsed": false,
    "pycharm": {
     "name": "#%%\n"
    }
   }
  },
  {
   "cell_type": "code",
   "execution_count": 157,
   "outputs": [],
   "source": [
    "def recommend_for_user(user_id_input):\n",
    "    '''\n",
    "    Take user_id to get top-rated anime by the user, then for each anime make prediction\n",
    "    return the highest 10 correlation anime\n",
    "    :param user_id_input: user id\n",
    "    :return: dataframe of recommended anime\n",
    "    '''\n",
    "    top_users = rating_popular_anime.user_id.unique()\n",
    "    recommendation_df = pd.DataFrame(columns=['MAL_ID'])\n",
    "    users_groups = rating_popular_anime.groupby('user_id')\n",
    "    if user_id_input in top_users:\n",
    "        user_fav_anime = users_groups.get_group(user_id_input).sort_values(by='rating', ascending=False)[:5]['MAL_ID'].tolist()\n",
    "        for user_fav_MAL_ID in user_fav_anime:\n",
    "            anime_name=anime_df[anime_df['MAL_ID']==user_fav_MAL_ID]['Name'].values[0]\n",
    "            r = predict(anime_name, 5)\n",
    "            r_df = anime_df[(anime_df['Name'].isin(r.keys()))]\n",
    "            distances = []\n",
    "            for index, row in r_df.iterrows():\n",
    "                distances.append(r[row['Name']])\n",
    "            r_df.insert(2, \"Distance\", distances, True)\n",
    "            recommendation_df = recommendation_df.append(r_df, ignore_index=True)\n",
    "\n",
    "        recommendation_df = recommendation_df.sort_values(by='Distance', ascending=True).drop_duplicates('MAL_ID')\n",
    "        return recommendation_df[:10]\n",
    "    else:\n",
    "        return recommendation_for_all"
   ],
   "metadata": {
    "collapsed": false,
    "pycharm": {
     "name": "#%%\n"
    }
   }
  },
  {
   "cell_type": "code",
   "execution_count": 158,
   "outputs": [
    {
     "name": "stdout",
     "output_type": "stream",
     "text": [
      "Recommendations for Psycho-Pass\n",
      "1: Psycho-Pass 2, with distance of 0.07694537566275172:\n",
      "2: Shingeki no Kyojin, with distance of 0.09494705789882452:\n",
      "3: Sword Art Online, with distance of 0.1031526615439039:\n",
      "4: Steins;Gate, with distance of 0.10411498451345291:\n",
      "Recommendations for Boku dake ga Inai Machi\n",
      "1: One Punch Man, with distance of 0.0904172253335338:\n",
      "2: Shingeki no Kyojin, with distance of 0.09346268637738897:\n",
      "3: No Game No Life, with distance of 0.09634354597216832:\n",
      "4: Angel Beats!, with distance of 0.09770313900570327:\n",
      "Recommendations for Durarara!!x2 Ketsu\n",
      "1: Durarara!!x2 Ten, with distance of 0.04184940109145896:\n",
      "2: Durarara!!x2 Shou, with distance of 0.07319641970309909:\n",
      "3: Durarara!!, with distance of 0.16729613872113147:\n",
      "4: Boku dake ga Inai Machi, with distance of 0.22182183687714074:\n",
      "Recommendations for Hikaru no Go\n",
      "1: Hikaru no Go: Hokuto Hai e no Michi, with distance of 0.2435306674003449:\n",
      "2: Hikaru no Go: New Year Special, with distance of 0.40588897917019173:\n",
      "3: Tennis no Ouji-sama, with distance of 0.42646347250839334:\n",
      "4: Rurouni Kenshin: Meiji Kenkaku Romantan, with distance of 0.4313642630607766:\n",
      "Recommendations for Fullmetal Alchemist: Brotherhood\n",
      "1: Shingeki no Kyojin, with distance of 0.09117303863114645:\n",
      "2: Angel Beats!, with distance of 0.09209269149018129:\n",
      "3: Code Geass: Hangyaku no Lelouch, with distance of 0.09471542450484205:\n",
      "4: Death Note, with distance of 0.09488484241134265:\n"
     ]
    },
    {
     "data": {
      "text/plain": "   MAL_ID                             Name  Distance Score  \\\n10  27831                 Durarara!!x2 Ten  0.041849  8.01   \n9   23199                Durarara!!x2 Shou  0.073196  8.03   \n3   23281                    Psycho-Pass 2  0.076945  7.42   \n7   30276                    One Punch Man  0.090417  8.57   \n19  16498               Shingeki no Kyojin  0.091173  8.48   \n18   6547                     Angel Beats!  0.092093  8.15   \n17   1575  Code Geass: Hangyaku no Lelouch  0.094715  8.72   \n16   1535                       Death Note  0.094885  8.63   \n6   19815                  No Game No Life  0.096344   8.2   \n1   11757                 Sword Art Online  0.103153  7.25   \n\n                                                             Genres Type  \\\n10                                    Action, Mystery, Supernatural   TV   \n9                                     Action, Mystery, Supernatural   TV   \n3                             Action, Sci-Fi, Police, Psychological   TV   \n7         Action, Sci-Fi, Comedy, Parody, Super Power, Supernatural   TV   \n19  Action, Military, Mystery, Super Power, Drama, Fantasy, Shounen   TV   \n18                      Action, Comedy, Drama, School, Supernatural   TV   \n17      Action, Military, Sci-Fi, Super Power, Drama, Mecha, School   TV   \n16  Mystery, Police, Psychological, Supernatural, Thriller, Shounen   TV   \n6             Game, Adventure, Comedy, Supernatural, Ecchi, Fantasy   TV   \n1                         Action, Game, Adventure, Romance, Fantasy   TV   \n\n   Episodes    Premiered               Studios       Source  \\\n10       12  Summer 2015                 Shuka  Light novel   \n9        12  Winter 2015                 Shuka  Light novel   \n3        11    Fall 2014  Tatsunoko Production     Original   \n7        12    Fall 2015              Madhouse    Web manga   \n19       25  Spring 2013            Wit Studio        Manga   \n18       13  Spring 2010            P.A. Works     Original   \n17       25    Fall 2006               Sunrise     Original   \n16       37    Fall 2006              Madhouse        Manga   \n6        12  Spring 2014              Madhouse  Light novel   \n1        25  Summer 2012          A-1 Pictures  Light novel   \n\n                            Rating    Members  Completed  \n10  R - 17+ (violence & profanity)   312429.0   216764.0  \n9   R - 17+ (violence & profanity)   388580.0   267808.0  \n3   R - 17+ (violence & profanity)   508172.0   352491.0  \n7   R - 17+ (violence & profanity)  2123866.0  1841220.0  \n19  R - 17+ (violence & profanity)  2531397.0  2182587.0  \n18       PG-13 - Teens 13 or older  1591773.0  1229098.0  \n17  R - 17+ (violence & profanity)  1583882.0  1209288.0  \n16  R - 17+ (violence & profanity)  2589552.0  2146116.0  \n6        PG-13 - Teens 13 or older  1751054.0  1426896.0  \n1        PG-13 - Teens 13 or older  2214395.0  1907261.0  ",
      "text/html": "<div>\n<style scoped>\n    .dataframe tbody tr th:only-of-type {\n        vertical-align: middle;\n    }\n\n    .dataframe tbody tr th {\n        vertical-align: top;\n    }\n\n    .dataframe thead th {\n        text-align: right;\n    }\n</style>\n<table border=\"1\" class=\"dataframe\">\n  <thead>\n    <tr style=\"text-align: right;\">\n      <th></th>\n      <th>MAL_ID</th>\n      <th>Name</th>\n      <th>Distance</th>\n      <th>Score</th>\n      <th>Genres</th>\n      <th>Type</th>\n      <th>Episodes</th>\n      <th>Premiered</th>\n      <th>Studios</th>\n      <th>Source</th>\n      <th>Rating</th>\n      <th>Members</th>\n      <th>Completed</th>\n    </tr>\n  </thead>\n  <tbody>\n    <tr>\n      <th>10</th>\n      <td>27831</td>\n      <td>Durarara!!x2 Ten</td>\n      <td>0.041849</td>\n      <td>8.01</td>\n      <td>Action, Mystery, Supernatural</td>\n      <td>TV</td>\n      <td>12</td>\n      <td>Summer 2015</td>\n      <td>Shuka</td>\n      <td>Light novel</td>\n      <td>R - 17+ (violence &amp; profanity)</td>\n      <td>312429.0</td>\n      <td>216764.0</td>\n    </tr>\n    <tr>\n      <th>9</th>\n      <td>23199</td>\n      <td>Durarara!!x2 Shou</td>\n      <td>0.073196</td>\n      <td>8.03</td>\n      <td>Action, Mystery, Supernatural</td>\n      <td>TV</td>\n      <td>12</td>\n      <td>Winter 2015</td>\n      <td>Shuka</td>\n      <td>Light novel</td>\n      <td>R - 17+ (violence &amp; profanity)</td>\n      <td>388580.0</td>\n      <td>267808.0</td>\n    </tr>\n    <tr>\n      <th>3</th>\n      <td>23281</td>\n      <td>Psycho-Pass 2</td>\n      <td>0.076945</td>\n      <td>7.42</td>\n      <td>Action, Sci-Fi, Police, Psychological</td>\n      <td>TV</td>\n      <td>11</td>\n      <td>Fall 2014</td>\n      <td>Tatsunoko Production</td>\n      <td>Original</td>\n      <td>R - 17+ (violence &amp; profanity)</td>\n      <td>508172.0</td>\n      <td>352491.0</td>\n    </tr>\n    <tr>\n      <th>7</th>\n      <td>30276</td>\n      <td>One Punch Man</td>\n      <td>0.090417</td>\n      <td>8.57</td>\n      <td>Action, Sci-Fi, Comedy, Parody, Super Power, Supernatural</td>\n      <td>TV</td>\n      <td>12</td>\n      <td>Fall 2015</td>\n      <td>Madhouse</td>\n      <td>Web manga</td>\n      <td>R - 17+ (violence &amp; profanity)</td>\n      <td>2123866.0</td>\n      <td>1841220.0</td>\n    </tr>\n    <tr>\n      <th>19</th>\n      <td>16498</td>\n      <td>Shingeki no Kyojin</td>\n      <td>0.091173</td>\n      <td>8.48</td>\n      <td>Action, Military, Mystery, Super Power, Drama, Fantasy, Shounen</td>\n      <td>TV</td>\n      <td>25</td>\n      <td>Spring 2013</td>\n      <td>Wit Studio</td>\n      <td>Manga</td>\n      <td>R - 17+ (violence &amp; profanity)</td>\n      <td>2531397.0</td>\n      <td>2182587.0</td>\n    </tr>\n    <tr>\n      <th>18</th>\n      <td>6547</td>\n      <td>Angel Beats!</td>\n      <td>0.092093</td>\n      <td>8.15</td>\n      <td>Action, Comedy, Drama, School, Supernatural</td>\n      <td>TV</td>\n      <td>13</td>\n      <td>Spring 2010</td>\n      <td>P.A. Works</td>\n      <td>Original</td>\n      <td>PG-13 - Teens 13 or older</td>\n      <td>1591773.0</td>\n      <td>1229098.0</td>\n    </tr>\n    <tr>\n      <th>17</th>\n      <td>1575</td>\n      <td>Code Geass: Hangyaku no Lelouch</td>\n      <td>0.094715</td>\n      <td>8.72</td>\n      <td>Action, Military, Sci-Fi, Super Power, Drama, Mecha, School</td>\n      <td>TV</td>\n      <td>25</td>\n      <td>Fall 2006</td>\n      <td>Sunrise</td>\n      <td>Original</td>\n      <td>R - 17+ (violence &amp; profanity)</td>\n      <td>1583882.0</td>\n      <td>1209288.0</td>\n    </tr>\n    <tr>\n      <th>16</th>\n      <td>1535</td>\n      <td>Death Note</td>\n      <td>0.094885</td>\n      <td>8.63</td>\n      <td>Mystery, Police, Psychological, Supernatural, Thriller, Shounen</td>\n      <td>TV</td>\n      <td>37</td>\n      <td>Fall 2006</td>\n      <td>Madhouse</td>\n      <td>Manga</td>\n      <td>R - 17+ (violence &amp; profanity)</td>\n      <td>2589552.0</td>\n      <td>2146116.0</td>\n    </tr>\n    <tr>\n      <th>6</th>\n      <td>19815</td>\n      <td>No Game No Life</td>\n      <td>0.096344</td>\n      <td>8.2</td>\n      <td>Game, Adventure, Comedy, Supernatural, Ecchi, Fantasy</td>\n      <td>TV</td>\n      <td>12</td>\n      <td>Spring 2014</td>\n      <td>Madhouse</td>\n      <td>Light novel</td>\n      <td>PG-13 - Teens 13 or older</td>\n      <td>1751054.0</td>\n      <td>1426896.0</td>\n    </tr>\n    <tr>\n      <th>1</th>\n      <td>11757</td>\n      <td>Sword Art Online</td>\n      <td>0.103153</td>\n      <td>7.25</td>\n      <td>Action, Game, Adventure, Romance, Fantasy</td>\n      <td>TV</td>\n      <td>25</td>\n      <td>Summer 2012</td>\n      <td>A-1 Pictures</td>\n      <td>Light novel</td>\n      <td>PG-13 - Teens 13 or older</td>\n      <td>2214395.0</td>\n      <td>1907261.0</td>\n    </tr>\n  </tbody>\n</table>\n</div>"
     },
     "execution_count": 158,
     "metadata": {},
     "output_type": "execute_result"
    }
   ],
   "source": [
    "recommend_for_user(478)"
   ],
   "metadata": {
    "collapsed": false,
    "pycharm": {
     "name": "#%%\n"
    }
   }
  }
 ],
 "metadata": {
  "kernelspec": {
   "display_name": "Python 3",
   "language": "python",
   "name": "python3"
  },
  "language_info": {
   "codemirror_mode": {
    "name": "ipython",
    "version": 2
   },
   "file_extension": ".py",
   "mimetype": "text/x-python",
   "name": "python",
   "nbconvert_exporter": "python",
   "pygments_lexer": "ipython2",
   "version": "2.7.6"
  }
 },
 "nbformat": 4,
 "nbformat_minor": 0
}