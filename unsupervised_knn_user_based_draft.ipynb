{
 "cells": [
  {
   "cell_type": "code",
   "execution_count": 1,
   "outputs": [],
   "source": [
    "import pandas as pd\n",
    "import numpy as np"
   ],
   "metadata": {
    "collapsed": false,
    "pycharm": {
     "name": "#%%\n"
    }
   }
  },
  {
   "cell_type": "code",
   "execution_count": 2,
   "outputs": [
    {
     "data": {
      "text/plain": "   MAL_ID                             Name  \\\n0       1                     Cowboy Bebop   \n1       5  Cowboy Bebop: Tengoku no Tobira   \n2       6                           Trigun   \n3       7               Witch Hunter Robin   \n4       8                   Bouken Ou Beet   \n\n                                              Genres  Completed  \n0    Action, Adventure, Comedy, Drama, Sci-Fi, Space     718161  \n1              Action, Drama, Mystery, Sci-Fi, Space     208333  \n2  Action, Sci-Fi, Adventure, Comedy, Drama, Shounen     343492  \n3  Action, Mystery, Police, Supernatural, Drama, ...      46165  \n4          Adventure, Fantasy, Shounen, Supernatural       7314  ",
      "text/html": "<div>\n<style scoped>\n    .dataframe tbody tr th:only-of-type {\n        vertical-align: middle;\n    }\n\n    .dataframe tbody tr th {\n        vertical-align: top;\n    }\n\n    .dataframe thead th {\n        text-align: right;\n    }\n</style>\n<table border=\"1\" class=\"dataframe\">\n  <thead>\n    <tr style=\"text-align: right;\">\n      <th></th>\n      <th>MAL_ID</th>\n      <th>Name</th>\n      <th>Genres</th>\n      <th>Completed</th>\n    </tr>\n  </thead>\n  <tbody>\n    <tr>\n      <th>0</th>\n      <td>1</td>\n      <td>Cowboy Bebop</td>\n      <td>Action, Adventure, Comedy, Drama, Sci-Fi, Space</td>\n      <td>718161</td>\n    </tr>\n    <tr>\n      <th>1</th>\n      <td>5</td>\n      <td>Cowboy Bebop: Tengoku no Tobira</td>\n      <td>Action, Drama, Mystery, Sci-Fi, Space</td>\n      <td>208333</td>\n    </tr>\n    <tr>\n      <th>2</th>\n      <td>6</td>\n      <td>Trigun</td>\n      <td>Action, Sci-Fi, Adventure, Comedy, Drama, Shounen</td>\n      <td>343492</td>\n    </tr>\n    <tr>\n      <th>3</th>\n      <td>7</td>\n      <td>Witch Hunter Robin</td>\n      <td>Action, Mystery, Police, Supernatural, Drama, ...</td>\n      <td>46165</td>\n    </tr>\n    <tr>\n      <th>4</th>\n      <td>8</td>\n      <td>Bouken Ou Beet</td>\n      <td>Adventure, Fantasy, Shounen, Supernatural</td>\n      <td>7314</td>\n    </tr>\n  </tbody>\n</table>\n</div>"
     },
     "execution_count": 2,
     "metadata": {},
     "output_type": "execute_result"
    }
   ],
   "source": [
    "# import complete anime dataset\n",
    "anime_data = pd.read_csv('dataset/anime.csv')\n",
    "anime_data = anime_data[['MAL_ID', 'Name','Genres','Completed']]\n",
    "anime_data.head()"
   ],
   "metadata": {
    "collapsed": false,
    "pycharm": {
     "name": "#%%\n"
    }
   }
  },
  {
   "cell_type": "code",
   "execution_count": 3,
   "outputs": [
    {
     "data": {
      "text/plain": "   user_id  MAL_ID  rating\n0      478       7       5\n1      478      15       8\n2      478      16       7\n3      478      20       7\n4      478      22       9",
      "text/html": "<div>\n<style scoped>\n    .dataframe tbody tr th:only-of-type {\n        vertical-align: middle;\n    }\n\n    .dataframe tbody tr th {\n        vertical-align: top;\n    }\n\n    .dataframe thead th {\n        text-align: right;\n    }\n</style>\n<table border=\"1\" class=\"dataframe\">\n  <thead>\n    <tr style=\"text-align: right;\">\n      <th></th>\n      <th>user_id</th>\n      <th>MAL_ID</th>\n      <th>rating</th>\n    </tr>\n  </thead>\n  <tbody>\n    <tr>\n      <th>0</th>\n      <td>478</td>\n      <td>7</td>\n      <td>5</td>\n    </tr>\n    <tr>\n      <th>1</th>\n      <td>478</td>\n      <td>15</td>\n      <td>8</td>\n    </tr>\n    <tr>\n      <th>2</th>\n      <td>478</td>\n      <td>16</td>\n      <td>7</td>\n    </tr>\n    <tr>\n      <th>3</th>\n      <td>478</td>\n      <td>20</td>\n      <td>7</td>\n    </tr>\n    <tr>\n      <th>4</th>\n      <td>478</td>\n      <td>22</td>\n      <td>9</td>\n    </tr>\n  </tbody>\n</table>\n</div>"
     },
     "execution_count": 3,
     "metadata": {},
     "output_type": "execute_result"
    }
   ],
   "source": [
    "df_top = pd.read_csv('dataset/top_anime_unsupervised_use.csv')\n",
    "df_top.head()"
   ],
   "metadata": {
    "collapsed": false,
    "pycharm": {
     "name": "#%%\n"
    }
   }
  },
  {
   "cell_type": "code",
   "execution_count": 4,
   "outputs": [],
   "source": [
    "user_subset_group_for_test = df_top.groupby(['user_id'])"
   ],
   "metadata": {
    "collapsed": false,
    "pycharm": {
     "name": "#%%\n"
    }
   }
  },
  {
   "cell_type": "markdown",
   "source": [
    "Check out one user and make it our test input, e.g. 478"
   ],
   "metadata": {
    "collapsed": false,
    "pycharm": {
     "name": "#%% md\n"
    }
   }
  },
  {
   "cell_type": "code",
   "execution_count": 5,
   "outputs": [
    {
     "name": "stdout",
     "output_type": "stream",
     "text": [
      "1404\n"
     ]
    },
    {
     "data": {
      "text/plain": "      user_id  MAL_ID  rating\n789       478   13601      10\n1138      478   31043      10\n1079      478   27833      10\n31        478     135      10\n492       478    5114      10",
      "text/html": "<div>\n<style scoped>\n    .dataframe tbody tr th:only-of-type {\n        vertical-align: middle;\n    }\n\n    .dataframe tbody tr th {\n        vertical-align: top;\n    }\n\n    .dataframe thead th {\n        text-align: right;\n    }\n</style>\n<table border=\"1\" class=\"dataframe\">\n  <thead>\n    <tr style=\"text-align: right;\">\n      <th></th>\n      <th>user_id</th>\n      <th>MAL_ID</th>\n      <th>rating</th>\n    </tr>\n  </thead>\n  <tbody>\n    <tr>\n      <th>789</th>\n      <td>478</td>\n      <td>13601</td>\n      <td>10</td>\n    </tr>\n    <tr>\n      <th>1138</th>\n      <td>478</td>\n      <td>31043</td>\n      <td>10</td>\n    </tr>\n    <tr>\n      <th>1079</th>\n      <td>478</td>\n      <td>27833</td>\n      <td>10</td>\n    </tr>\n    <tr>\n      <th>31</th>\n      <td>478</td>\n      <td>135</td>\n      <td>10</td>\n    </tr>\n    <tr>\n      <th>492</th>\n      <td>478</td>\n      <td>5114</td>\n      <td>10</td>\n    </tr>\n  </tbody>\n</table>\n</div>"
     },
     "execution_count": 5,
     "metadata": {},
     "output_type": "execute_result"
    }
   ],
   "source": [
    "test_user_input = user_subset_group_for_test.get_group(478)\n",
    "test_user_input=test_user_input.sort_values(by='rating', ascending=False)\n",
    "print(len(test_user_input))\n",
    "test_user_input.head()"
   ],
   "metadata": {
    "collapsed": false,
    "pycharm": {
     "name": "#%%\n"
    }
   }
  },
  {
   "cell_type": "code",
   "execution_count": 6,
   "outputs": [
    {
     "data": {
      "text/plain": "   user_id  MAL_ID  rating\n0      478       7       5\n1      478      15       8\n2      478      16       7\n3      478      20       7\n4      478      22       9",
      "text/html": "<div>\n<style scoped>\n    .dataframe tbody tr th:only-of-type {\n        vertical-align: middle;\n    }\n\n    .dataframe tbody tr th {\n        vertical-align: top;\n    }\n\n    .dataframe thead th {\n        text-align: right;\n    }\n</style>\n<table border=\"1\" class=\"dataframe\">\n  <thead>\n    <tr style=\"text-align: right;\">\n      <th></th>\n      <th>user_id</th>\n      <th>MAL_ID</th>\n      <th>rating</th>\n    </tr>\n  </thead>\n  <tbody>\n    <tr>\n      <th>0</th>\n      <td>478</td>\n      <td>7</td>\n      <td>5</td>\n    </tr>\n    <tr>\n      <th>1</th>\n      <td>478</td>\n      <td>15</td>\n      <td>8</td>\n    </tr>\n    <tr>\n      <th>2</th>\n      <td>478</td>\n      <td>16</td>\n      <td>7</td>\n    </tr>\n    <tr>\n      <th>3</th>\n      <td>478</td>\n      <td>20</td>\n      <td>7</td>\n    </tr>\n    <tr>\n      <th>4</th>\n      <td>478</td>\n      <td>22</td>\n      <td>9</td>\n    </tr>\n  </tbody>\n</table>\n</div>"
     },
     "execution_count": 6,
     "metadata": {},
     "output_type": "execute_result"
    }
   ],
   "source": [
    "test_similar_users_anime = df_top[df_top['MAL_ID'].isin(test_user_input['MAL_ID'].tolist())]\n",
    "test_similar_users_anime.head()"
   ],
   "metadata": {
    "collapsed": false,
    "pycharm": {
     "name": "#%%\n"
    }
   }
  },
  {
   "cell_type": "code",
   "execution_count": 7,
   "outputs": [
    {
     "data": {
      "text/plain": "         user_id  MAL_ID  rating\n3653388   252916      15       7\n3653389   252916      16       7\n3653391   252916      20      10\n3653392   252916      22      10\n3653398   252916      47       7\n...          ...     ...     ...\n3655086   252916   38680      10\n3655091   252916   38889      10\n3655092   252916   39063       6\n3655093   252916   39198       7\n3655095   252916   39539       7\n\n[576 rows x 3 columns]",
      "text/html": "<div>\n<style scoped>\n    .dataframe tbody tr th:only-of-type {\n        vertical-align: middle;\n    }\n\n    .dataframe tbody tr th {\n        vertical-align: top;\n    }\n\n    .dataframe thead th {\n        text-align: right;\n    }\n</style>\n<table border=\"1\" class=\"dataframe\">\n  <thead>\n    <tr style=\"text-align: right;\">\n      <th></th>\n      <th>user_id</th>\n      <th>MAL_ID</th>\n      <th>rating</th>\n    </tr>\n  </thead>\n  <tbody>\n    <tr>\n      <th>3653388</th>\n      <td>252916</td>\n      <td>15</td>\n      <td>7</td>\n    </tr>\n    <tr>\n      <th>3653389</th>\n      <td>252916</td>\n      <td>16</td>\n      <td>7</td>\n    </tr>\n    <tr>\n      <th>3653391</th>\n      <td>252916</td>\n      <td>20</td>\n      <td>10</td>\n    </tr>\n    <tr>\n      <th>3653392</th>\n      <td>252916</td>\n      <td>22</td>\n      <td>10</td>\n    </tr>\n    <tr>\n      <th>3653398</th>\n      <td>252916</td>\n      <td>47</td>\n      <td>7</td>\n    </tr>\n    <tr>\n      <th>...</th>\n      <td>...</td>\n      <td>...</td>\n      <td>...</td>\n    </tr>\n    <tr>\n      <th>3655086</th>\n      <td>252916</td>\n      <td>38680</td>\n      <td>10</td>\n    </tr>\n    <tr>\n      <th>3655091</th>\n      <td>252916</td>\n      <td>38889</td>\n      <td>10</td>\n    </tr>\n    <tr>\n      <th>3655092</th>\n      <td>252916</td>\n      <td>39063</td>\n      <td>6</td>\n    </tr>\n    <tr>\n      <th>3655093</th>\n      <td>252916</td>\n      <td>39198</td>\n      <td>7</td>\n    </tr>\n    <tr>\n      <th>3655095</th>\n      <td>252916</td>\n      <td>39539</td>\n      <td>7</td>\n    </tr>\n  </tbody>\n</table>\n<p>576 rows × 3 columns</p>\n</div>"
     },
     "execution_count": 7,
     "metadata": {},
     "output_type": "execute_result"
    }
   ],
   "source": [
    "similar_users_group = test_similar_users_anime.groupby('user_id')\n",
    "similar_users_group.get_group(252916)"
   ],
   "metadata": {
    "collapsed": false,
    "pycharm": {
     "name": "#%%\n"
    }
   }
  },
  {
   "cell_type": "markdown",
   "source": [
    "Next we want to compare users to an input user and find the users that are similar to the input user.\n",
    "We will use Pearson Correlation Coefficient to measure how strong the linear association between two variables."
   ],
   "metadata": {
    "collapsed": false,
    "pycharm": {
     "name": "#%% md\n"
    }
   }
  },
  {
   "cell_type": "code",
   "execution_count": 8,
   "outputs": [
    {
     "data": {
      "text/plain": "   pearson_correlation  user_id\n1             0.051128   189037\n2             0.145511    68042\n3             0.290384   283786\n4             0.000000   162615\n5             0.347333   277841",
      "text/html": "<div>\n<style scoped>\n    .dataframe tbody tr th:only-of-type {\n        vertical-align: middle;\n    }\n\n    .dataframe tbody tr th {\n        vertical-align: top;\n    }\n\n    .dataframe thead th {\n        text-align: right;\n    }\n</style>\n<table border=\"1\" class=\"dataframe\">\n  <thead>\n    <tr style=\"text-align: right;\">\n      <th></th>\n      <th>pearson_correlation</th>\n      <th>user_id</th>\n    </tr>\n  </thead>\n  <tbody>\n    <tr>\n      <th>1</th>\n      <td>0.051128</td>\n      <td>189037</td>\n    </tr>\n    <tr>\n      <th>2</th>\n      <td>0.145511</td>\n      <td>68042</td>\n    </tr>\n    <tr>\n      <th>3</th>\n      <td>0.290384</td>\n      <td>283786</td>\n    </tr>\n    <tr>\n      <th>4</th>\n      <td>0.000000</td>\n      <td>162615</td>\n    </tr>\n    <tr>\n      <th>5</th>\n      <td>0.347333</td>\n      <td>277841</td>\n    </tr>\n  </tbody>\n</table>\n</div>"
     },
     "execution_count": 8,
     "metadata": {},
     "output_type": "execute_result"
    }
   ],
   "source": [
    "def get_pearson_df(user_input):\n",
    "    # user_input: dataframe with MAL_ID | rating\n",
    "    similar_users_anime = df_top[df_top['MAL_ID'].isin(user_input['MAL_ID'].tolist())]\n",
    "    similar_users_group = similar_users_anime.groupby('user_id')\n",
    "    similar_users_group_sorted = sorted(similar_users_group, key=lambda x:len(x[1]), reverse=True)\n",
    "    pearson_correlation_dict = {}\n",
    "    # key: user_id, val: pearson coefficient\n",
    "\n",
    "    # as the computation takes a long time, we will limit the users for the most similar 100 users\n",
    "    for uid, group in similar_users_group_sorted:\n",
    "        group = group.sort_values(by='MAL_ID')\n",
    "        user_input = user_input.sort_values(by='MAL_ID')\n",
    "        # N similar movies watched\n",
    "        N_similar = len(group)\n",
    "        # get rating for the anime that are in common\n",
    "        df_in_common = user_input[user_input['MAL_ID'].isin(group['MAL_ID'].tolist())]\n",
    "        # convert rating to list\n",
    "        shared_rating = df_in_common['rating'].tolist()\n",
    "        # get current user group reviews and convert rating to list\n",
    "        rating_list = group['rating'].tolist()\n",
    "\n",
    "        # calculate pearson correlation\n",
    "        xx = sum([i**2 for i in shared_rating]) - pow(sum(shared_rating),2)/float(N_similar)\n",
    "        yy = sum([i**2 for i in rating_list]) - pow(sum(rating_list),2)/float(N_similar)\n",
    "        xy = sum( i*j for i, j in zip(shared_rating, rating_list)) - sum(shared_rating)*sum(rating_list)/float(N_similar)\n",
    "\n",
    "        if xx != 0 and yy != 0:\n",
    "            pearson_correlation_dict[uid] = xy/np.sqrt(xx*yy)\n",
    "        else:\n",
    "            pearson_correlation_dict[uid] = 0\n",
    "\n",
    "    pearson = pd.DataFrame.from_dict(pearson_correlation_dict, orient='index')\n",
    "    pearson.columns = ['pearson_correlation']\n",
    "    pearson['user_id'] = pearson.index\n",
    "    pearson.index = range(len(pearson))\n",
    "    return pearson\n",
    "\n",
    "pearson_df = get_pearson_df(test_user_input)\n",
    "pearson_df=pearson_df.drop(pearson_df.index[0])\n",
    "pearson_df.head()"
   ],
   "metadata": {
    "collapsed": false,
    "pycharm": {
     "name": "#%%\n"
    }
   }
  },
  {
   "cell_type": "code",
   "execution_count": 9,
   "outputs": [
    {
     "data": {
      "text/plain": "      pearson_correlation  user_id\n2998             0.782318   349997\n2997             0.749038    63900\n2992             0.682592   138623\n2956             0.614916    16057\n877              0.590065   314671",
      "text/html": "<div>\n<style scoped>\n    .dataframe tbody tr th:only-of-type {\n        vertical-align: middle;\n    }\n\n    .dataframe tbody tr th {\n        vertical-align: top;\n    }\n\n    .dataframe thead th {\n        text-align: right;\n    }\n</style>\n<table border=\"1\" class=\"dataframe\">\n  <thead>\n    <tr style=\"text-align: right;\">\n      <th></th>\n      <th>pearson_correlation</th>\n      <th>user_id</th>\n    </tr>\n  </thead>\n  <tbody>\n    <tr>\n      <th>2998</th>\n      <td>0.782318</td>\n      <td>349997</td>\n    </tr>\n    <tr>\n      <th>2997</th>\n      <td>0.749038</td>\n      <td>63900</td>\n    </tr>\n    <tr>\n      <th>2992</th>\n      <td>0.682592</td>\n      <td>138623</td>\n    </tr>\n    <tr>\n      <th>2956</th>\n      <td>0.614916</td>\n      <td>16057</td>\n    </tr>\n    <tr>\n      <th>877</th>\n      <td>0.590065</td>\n      <td>314671</td>\n    </tr>\n  </tbody>\n</table>\n</div>"
     },
     "execution_count": 9,
     "metadata": {},
     "output_type": "execute_result"
    }
   ],
   "source": [
    "# sort most similar users\n",
    "\n",
    "top_similar_users=pearson_df.sort_values(by='pearson_correlation', ascending=False)[:50]\n",
    "top_similar_users.head()"
   ],
   "metadata": {
    "collapsed": false,
    "pycharm": {
     "name": "#%%\n"
    }
   }
  },
  {
   "cell_type": "code",
   "execution_count": 10,
   "outputs": [
    {
     "data": {
      "text/plain": "   pearson_correlation  user_id  MAL_ID  rating\n0             0.782318   349997     188       5\n1             0.782318   349997     203       6\n2             0.782318   349997     211       6\n3             0.782318   349997     213       6\n4             0.782318   349997     214       6",
      "text/html": "<div>\n<style scoped>\n    .dataframe tbody tr th:only-of-type {\n        vertical-align: middle;\n    }\n\n    .dataframe tbody tr th {\n        vertical-align: top;\n    }\n\n    .dataframe thead th {\n        text-align: right;\n    }\n</style>\n<table border=\"1\" class=\"dataframe\">\n  <thead>\n    <tr style=\"text-align: right;\">\n      <th></th>\n      <th>pearson_correlation</th>\n      <th>user_id</th>\n      <th>MAL_ID</th>\n      <th>rating</th>\n    </tr>\n  </thead>\n  <tbody>\n    <tr>\n      <th>0</th>\n      <td>0.782318</td>\n      <td>349997</td>\n      <td>188</td>\n      <td>5</td>\n    </tr>\n    <tr>\n      <th>1</th>\n      <td>0.782318</td>\n      <td>349997</td>\n      <td>203</td>\n      <td>6</td>\n    </tr>\n    <tr>\n      <th>2</th>\n      <td>0.782318</td>\n      <td>349997</td>\n      <td>211</td>\n      <td>6</td>\n    </tr>\n    <tr>\n      <th>3</th>\n      <td>0.782318</td>\n      <td>349997</td>\n      <td>213</td>\n      <td>6</td>\n    </tr>\n    <tr>\n      <th>4</th>\n      <td>0.782318</td>\n      <td>349997</td>\n      <td>214</td>\n      <td>6</td>\n    </tr>\n  </tbody>\n</table>\n</div>"
     },
     "execution_count": 10,
     "metadata": {},
     "output_type": "execute_result"
    }
   ],
   "source": [
    "top_similar_users_rating = top_similar_users.merge(df_top, left_on='user_id', right_on='user_id', how='inner')\n",
    "top_similar_users_rating.head()"
   ],
   "metadata": {
    "collapsed": false,
    "pycharm": {
     "name": "#%%\n"
    }
   }
  },
  {
   "cell_type": "code",
   "execution_count": 11,
   "outputs": [
    {
     "data": {
      "text/plain": "   pearson_correlation  user_id  MAL_ID  rating  weighted_rating\n0             0.782318   349997     188       5         3.911591\n1             0.782318   349997     203       6         4.693910\n2             0.782318   349997     211       6         4.693910\n3             0.782318   349997     213       6         4.693910\n4             0.782318   349997     214       6         4.693910",
      "text/html": "<div>\n<style scoped>\n    .dataframe tbody tr th:only-of-type {\n        vertical-align: middle;\n    }\n\n    .dataframe tbody tr th {\n        vertical-align: top;\n    }\n\n    .dataframe thead th {\n        text-align: right;\n    }\n</style>\n<table border=\"1\" class=\"dataframe\">\n  <thead>\n    <tr style=\"text-align: right;\">\n      <th></th>\n      <th>pearson_correlation</th>\n      <th>user_id</th>\n      <th>MAL_ID</th>\n      <th>rating</th>\n      <th>weighted_rating</th>\n    </tr>\n  </thead>\n  <tbody>\n    <tr>\n      <th>0</th>\n      <td>0.782318</td>\n      <td>349997</td>\n      <td>188</td>\n      <td>5</td>\n      <td>3.911591</td>\n    </tr>\n    <tr>\n      <th>1</th>\n      <td>0.782318</td>\n      <td>349997</td>\n      <td>203</td>\n      <td>6</td>\n      <td>4.693910</td>\n    </tr>\n    <tr>\n      <th>2</th>\n      <td>0.782318</td>\n      <td>349997</td>\n      <td>211</td>\n      <td>6</td>\n      <td>4.693910</td>\n    </tr>\n    <tr>\n      <th>3</th>\n      <td>0.782318</td>\n      <td>349997</td>\n      <td>213</td>\n      <td>6</td>\n      <td>4.693910</td>\n    </tr>\n    <tr>\n      <th>4</th>\n      <td>0.782318</td>\n      <td>349997</td>\n      <td>214</td>\n      <td>6</td>\n      <td>4.693910</td>\n    </tr>\n  </tbody>\n</table>\n</div>"
     },
     "execution_count": 11,
     "metadata": {},
     "output_type": "execute_result"
    }
   ],
   "source": [
    "top_similar_users_rating['weighted_rating'] = top_similar_users_rating['pearson_correlation']*top_similar_users_rating['rating']\n",
    "top_similar_users_rating.head()"
   ],
   "metadata": {
    "collapsed": false,
    "pycharm": {
     "name": "#%%\n"
    }
   }
  },
  {
   "cell_type": "code",
   "execution_count": 13,
   "outputs": [
    {
     "data": {
      "text/plain": "        sum_pearson_correlation  sum_weighted_rating\nMAL_ID                                              \n1                     18.165635           161.567958\n5                     15.589602           126.284139\n6                     10.636725            86.064641\n7                      4.076475            28.047766\n8                      1.982132            12.884388",
      "text/html": "<div>\n<style scoped>\n    .dataframe tbody tr th:only-of-type {\n        vertical-align: middle;\n    }\n\n    .dataframe tbody tr th {\n        vertical-align: top;\n    }\n\n    .dataframe thead th {\n        text-align: right;\n    }\n</style>\n<table border=\"1\" class=\"dataframe\">\n  <thead>\n    <tr style=\"text-align: right;\">\n      <th></th>\n      <th>sum_pearson_correlation</th>\n      <th>sum_weighted_rating</th>\n    </tr>\n    <tr>\n      <th>MAL_ID</th>\n      <th></th>\n      <th></th>\n    </tr>\n  </thead>\n  <tbody>\n    <tr>\n      <th>1</th>\n      <td>18.165635</td>\n      <td>161.567958</td>\n    </tr>\n    <tr>\n      <th>5</th>\n      <td>15.589602</td>\n      <td>126.284139</td>\n    </tr>\n    <tr>\n      <th>6</th>\n      <td>10.636725</td>\n      <td>86.064641</td>\n    </tr>\n    <tr>\n      <th>7</th>\n      <td>4.076475</td>\n      <td>28.047766</td>\n    </tr>\n    <tr>\n      <th>8</th>\n      <td>1.982132</td>\n      <td>12.884388</td>\n    </tr>\n  </tbody>\n</table>\n</div>"
     },
     "execution_count": 13,
     "metadata": {},
     "output_type": "execute_result"
    }
   ],
   "source": [
    "top_similar_users_rating_sum = top_similar_users_rating.groupby('MAL_ID').sum()[['pearson_correlation','weighted_rating']]\n",
    "top_similar_users_rating_sum.columns = ['sum_pearson_correlation','sum_weighted_rating']\n",
    "top_similar_users_rating_sum.head()"
   ],
   "metadata": {
    "collapsed": false,
    "pycharm": {
     "name": "#%%\n"
    }
   }
  },
  {
   "cell_type": "code",
   "execution_count": 14,
   "outputs": [
    {
     "name": "stdout",
     "output_type": "stream",
     "text": [
      "13530\n"
     ]
    },
    {
     "data": {
      "text/plain": "        weighted_average_recommendation_score  anime_id\nMAL_ID                                                 \n1                                    8.894154         1\n5                                    8.100537         5\n6                                    8.091273         6\n7                                    6.880396         7\n8                                    6.500267         8",
      "text/html": "<div>\n<style scoped>\n    .dataframe tbody tr th:only-of-type {\n        vertical-align: middle;\n    }\n\n    .dataframe tbody tr th {\n        vertical-align: top;\n    }\n\n    .dataframe thead th {\n        text-align: right;\n    }\n</style>\n<table border=\"1\" class=\"dataframe\">\n  <thead>\n    <tr style=\"text-align: right;\">\n      <th></th>\n      <th>weighted_average_recommendation_score</th>\n      <th>anime_id</th>\n    </tr>\n    <tr>\n      <th>MAL_ID</th>\n      <th></th>\n      <th></th>\n    </tr>\n  </thead>\n  <tbody>\n    <tr>\n      <th>1</th>\n      <td>8.894154</td>\n      <td>1</td>\n    </tr>\n    <tr>\n      <th>5</th>\n      <td>8.100537</td>\n      <td>5</td>\n    </tr>\n    <tr>\n      <th>6</th>\n      <td>8.091273</td>\n      <td>6</td>\n    </tr>\n    <tr>\n      <th>7</th>\n      <td>6.880396</td>\n      <td>7</td>\n    </tr>\n    <tr>\n      <th>8</th>\n      <td>6.500267</td>\n      <td>8</td>\n    </tr>\n  </tbody>\n</table>\n</div>"
     },
     "execution_count": 14,
     "metadata": {},
     "output_type": "execute_result"
    }
   ],
   "source": [
    "recommendation_df = pd.DataFrame()\n",
    "recommendation_df['weighted_average_recommendation_score'] = top_similar_users_rating_sum['sum_weighted_rating']/top_similar_users_rating_sum['sum_pearson_correlation']\n",
    "recommendation_df['anime_id'] = top_similar_users_rating_sum.index\n",
    "print(len(recommendation_df))\n",
    "recommendation_df.head()"
   ],
   "metadata": {
    "collapsed": false,
    "pycharm": {
     "name": "#%%\n"
    }
   }
  },
  {
   "cell_type": "code",
   "execution_count": 15,
   "outputs": [
    {
     "data": {
      "text/plain": "        weighted_average_recommendation_score  anime_id\nMAL_ID                                                 \n42129                               10.000000     42129\n39731                               10.000000     39731\n31004                               10.000000     31004\n8353                                10.000000      8353\n35054                               10.000000     35054\n28023                               10.000000     28023\n28561                               10.000000     28561\n38891                               10.000000     38891\n35058                               10.000000     35058\n35055                               10.000000     35055\n35056                               10.000000     35056\n37962                               10.000000     37962\n35035                               10.000000     35035\n33050                                9.668167     33050\n28977                                9.626443     28977\n820                                  9.488163       820\n11061                                9.341741     11061\n9969                                 9.242072      9969\n34096                                9.152855     34096\n38524                                9.143308     38524",
      "text/html": "<div>\n<style scoped>\n    .dataframe tbody tr th:only-of-type {\n        vertical-align: middle;\n    }\n\n    .dataframe tbody tr th {\n        vertical-align: top;\n    }\n\n    .dataframe thead th {\n        text-align: right;\n    }\n</style>\n<table border=\"1\" class=\"dataframe\">\n  <thead>\n    <tr style=\"text-align: right;\">\n      <th></th>\n      <th>weighted_average_recommendation_score</th>\n      <th>anime_id</th>\n    </tr>\n    <tr>\n      <th>MAL_ID</th>\n      <th></th>\n      <th></th>\n    </tr>\n  </thead>\n  <tbody>\n    <tr>\n      <th>42129</th>\n      <td>10.000000</td>\n      <td>42129</td>\n    </tr>\n    <tr>\n      <th>39731</th>\n      <td>10.000000</td>\n      <td>39731</td>\n    </tr>\n    <tr>\n      <th>31004</th>\n      <td>10.000000</td>\n      <td>31004</td>\n    </tr>\n    <tr>\n      <th>8353</th>\n      <td>10.000000</td>\n      <td>8353</td>\n    </tr>\n    <tr>\n      <th>35054</th>\n      <td>10.000000</td>\n      <td>35054</td>\n    </tr>\n    <tr>\n      <th>28023</th>\n      <td>10.000000</td>\n      <td>28023</td>\n    </tr>\n    <tr>\n      <th>28561</th>\n      <td>10.000000</td>\n      <td>28561</td>\n    </tr>\n    <tr>\n      <th>38891</th>\n      <td>10.000000</td>\n      <td>38891</td>\n    </tr>\n    <tr>\n      <th>35058</th>\n      <td>10.000000</td>\n      <td>35058</td>\n    </tr>\n    <tr>\n      <th>35055</th>\n      <td>10.000000</td>\n      <td>35055</td>\n    </tr>\n    <tr>\n      <th>35056</th>\n      <td>10.000000</td>\n      <td>35056</td>\n    </tr>\n    <tr>\n      <th>37962</th>\n      <td>10.000000</td>\n      <td>37962</td>\n    </tr>\n    <tr>\n      <th>35035</th>\n      <td>10.000000</td>\n      <td>35035</td>\n    </tr>\n    <tr>\n      <th>33050</th>\n      <td>9.668167</td>\n      <td>33050</td>\n    </tr>\n    <tr>\n      <th>28977</th>\n      <td>9.626443</td>\n      <td>28977</td>\n    </tr>\n    <tr>\n      <th>820</th>\n      <td>9.488163</td>\n      <td>820</td>\n    </tr>\n    <tr>\n      <th>11061</th>\n      <td>9.341741</td>\n      <td>11061</td>\n    </tr>\n    <tr>\n      <th>9969</th>\n      <td>9.242072</td>\n      <td>9969</td>\n    </tr>\n    <tr>\n      <th>34096</th>\n      <td>9.152855</td>\n      <td>34096</td>\n    </tr>\n    <tr>\n      <th>38524</th>\n      <td>9.143308</td>\n      <td>38524</td>\n    </tr>\n  </tbody>\n</table>\n</div>"
     },
     "execution_count": 15,
     "metadata": {},
     "output_type": "execute_result"
    }
   ],
   "source": [
    "recommendation_df = recommendation_df.sort_values(by='weighted_average_recommendation_score', ascending=False)\n",
    "recommendation_df = recommendation_df[~recommendation_df['anime_id'].isin(test_user_input['MAL_ID'])]\n",
    "recommendation_df[:20]"
   ],
   "metadata": {
    "collapsed": false,
    "pycharm": {
     "name": "#%%\n"
    }
   }
  },
  {
   "cell_type": "code",
   "execution_count": 16,
   "outputs": [
    {
     "data": {
      "text/plain": "   user_id  MAL_ID  rating                                 Name  \\\n0      478   13601      10                          Psycho-Pass   \n1      478   31043      10              Boku dake ga Inai Machi   \n2      478   27833      10                   Durarara!!x2 Ketsu   \n3      478     135      10                         Hikaru no Go   \n4      478    5114      10     Fullmetal Alchemist: Brotherhood   \n5      478   32983      10                Natsume Yuujinchou Go   \n6      478   11123      10                 Sekaiichi Hatsukoi 2   \n7      478   11375      10  .hack//The Movie: Sekai no Mukou ni   \n8      478   16498      10                   Shingeki no Kyojin   \n9      478   11665      10               Natsume Yuujinchou Shi   \n\n                                              Genres  Completed  \n0              Action, Sci-Fi, Police, Psychological     720340  \n1       Mystery, Psychological, Supernatural, Seinen    1071295  \n2                      Action, Mystery, Supernatural     194936  \n3                Comedy, Game, Shounen, Supernatural      62705  \n4  Action, Military, Adventure, Comedy, Drama, Ma...    1644938  \n5  Slice of Life, Demons, Supernatural, Drama, Sh...      72069  \n6                 Comedy, Drama, Romance, Shounen Ai     107736  \n7  Action, Adventure, Fantasy, Game, Magic, Myste...       9647  \n8  Action, Military, Mystery, Super Power, Drama,...    2182587  \n9  Slice of Life, Demons, Supernatural, Drama, Sh...     114646  ",
      "text/html": "<div>\n<style scoped>\n    .dataframe tbody tr th:only-of-type {\n        vertical-align: middle;\n    }\n\n    .dataframe tbody tr th {\n        vertical-align: top;\n    }\n\n    .dataframe thead th {\n        text-align: right;\n    }\n</style>\n<table border=\"1\" class=\"dataframe\">\n  <thead>\n    <tr style=\"text-align: right;\">\n      <th></th>\n      <th>user_id</th>\n      <th>MAL_ID</th>\n      <th>rating</th>\n      <th>Name</th>\n      <th>Genres</th>\n      <th>Completed</th>\n    </tr>\n  </thead>\n  <tbody>\n    <tr>\n      <th>0</th>\n      <td>478</td>\n      <td>13601</td>\n      <td>10</td>\n      <td>Psycho-Pass</td>\n      <td>Action, Sci-Fi, Police, Psychological</td>\n      <td>720340</td>\n    </tr>\n    <tr>\n      <th>1</th>\n      <td>478</td>\n      <td>31043</td>\n      <td>10</td>\n      <td>Boku dake ga Inai Machi</td>\n      <td>Mystery, Psychological, Supernatural, Seinen</td>\n      <td>1071295</td>\n    </tr>\n    <tr>\n      <th>2</th>\n      <td>478</td>\n      <td>27833</td>\n      <td>10</td>\n      <td>Durarara!!x2 Ketsu</td>\n      <td>Action, Mystery, Supernatural</td>\n      <td>194936</td>\n    </tr>\n    <tr>\n      <th>3</th>\n      <td>478</td>\n      <td>135</td>\n      <td>10</td>\n      <td>Hikaru no Go</td>\n      <td>Comedy, Game, Shounen, Supernatural</td>\n      <td>62705</td>\n    </tr>\n    <tr>\n      <th>4</th>\n      <td>478</td>\n      <td>5114</td>\n      <td>10</td>\n      <td>Fullmetal Alchemist: Brotherhood</td>\n      <td>Action, Military, Adventure, Comedy, Drama, Ma...</td>\n      <td>1644938</td>\n    </tr>\n    <tr>\n      <th>5</th>\n      <td>478</td>\n      <td>32983</td>\n      <td>10</td>\n      <td>Natsume Yuujinchou Go</td>\n      <td>Slice of Life, Demons, Supernatural, Drama, Sh...</td>\n      <td>72069</td>\n    </tr>\n    <tr>\n      <th>6</th>\n      <td>478</td>\n      <td>11123</td>\n      <td>10</td>\n      <td>Sekaiichi Hatsukoi 2</td>\n      <td>Comedy, Drama, Romance, Shounen Ai</td>\n      <td>107736</td>\n    </tr>\n    <tr>\n      <th>7</th>\n      <td>478</td>\n      <td>11375</td>\n      <td>10</td>\n      <td>.hack//The Movie: Sekai no Mukou ni</td>\n      <td>Action, Adventure, Fantasy, Game, Magic, Myste...</td>\n      <td>9647</td>\n    </tr>\n    <tr>\n      <th>8</th>\n      <td>478</td>\n      <td>16498</td>\n      <td>10</td>\n      <td>Shingeki no Kyojin</td>\n      <td>Action, Military, Mystery, Super Power, Drama,...</td>\n      <td>2182587</td>\n    </tr>\n    <tr>\n      <th>9</th>\n      <td>478</td>\n      <td>11665</td>\n      <td>10</td>\n      <td>Natsume Yuujinchou Shi</td>\n      <td>Slice of Life, Demons, Supernatural, Drama, Sh...</td>\n      <td>114646</td>\n    </tr>\n  </tbody>\n</table>\n</div>"
     },
     "execution_count": 16,
     "metadata": {},
     "output_type": "execute_result"
    }
   ],
   "source": [
    "# user original\n",
    "#anime_data.loc[anime_data['MAL_ID'].isin(test_user_input['MAL_id']).tolist()]\n",
    "user_original = pd.merge(test_user_input, anime_data)\n",
    "user_original[:10]"
   ],
   "metadata": {
    "collapsed": false,
    "pycharm": {
     "name": "#%%\n"
    }
   }
  },
  {
   "cell_type": "code",
   "execution_count": 17,
   "outputs": [
    {
     "data": {
      "text/plain": "       MAL_ID                                               Name  \\\n5340     8353                                           Ketsuinu   \n9691    28023                                  Tsuru no Sugomori   \n9807    28561  Saru Tarou Jishin ni wa Makenai zo!: Jishin e ...   \n10780   31004                                  Niji no Kakehashi   \n12788   35054                                    Ni wa no Kotori   \n12789   35055                                  Mametarou Ganbare   \n12792   35058                           Trojan wo Jibun no Te de   \n15204   38891               Sora no Method: Mou Hitotsu no Negai   \n15778   39731                                   Na Bbeun Sang Sa   \n16848   42129                            Bem Movie: Become Human   \n\n                                                  Genres  Completed  \n5340                                              Comedy         84  \n9691                                                Kids         34  \n9807                                         Drama, Kids         31  \n10780                                        Drama, Kids         28  \n12788                                               Kids         18  \n12789                                               Kids         20  \n12792                                   Historical, Kids         17  \n15204             Slice of Life, Comedy, Fantasy, School       1292  \n15778  Slice of Life, Hentai, Drama, Romance, Thrille...        131  \n16848               Action, Horror, Demons, Supernatural       1512  ",
      "text/html": "<div>\n<style scoped>\n    .dataframe tbody tr th:only-of-type {\n        vertical-align: middle;\n    }\n\n    .dataframe tbody tr th {\n        vertical-align: top;\n    }\n\n    .dataframe thead th {\n        text-align: right;\n    }\n</style>\n<table border=\"1\" class=\"dataframe\">\n  <thead>\n    <tr style=\"text-align: right;\">\n      <th></th>\n      <th>MAL_ID</th>\n      <th>Name</th>\n      <th>Genres</th>\n      <th>Completed</th>\n    </tr>\n  </thead>\n  <tbody>\n    <tr>\n      <th>5340</th>\n      <td>8353</td>\n      <td>Ketsuinu</td>\n      <td>Comedy</td>\n      <td>84</td>\n    </tr>\n    <tr>\n      <th>9691</th>\n      <td>28023</td>\n      <td>Tsuru no Sugomori</td>\n      <td>Kids</td>\n      <td>34</td>\n    </tr>\n    <tr>\n      <th>9807</th>\n      <td>28561</td>\n      <td>Saru Tarou Jishin ni wa Makenai zo!: Jishin e ...</td>\n      <td>Drama, Kids</td>\n      <td>31</td>\n    </tr>\n    <tr>\n      <th>10780</th>\n      <td>31004</td>\n      <td>Niji no Kakehashi</td>\n      <td>Drama, Kids</td>\n      <td>28</td>\n    </tr>\n    <tr>\n      <th>12788</th>\n      <td>35054</td>\n      <td>Ni wa no Kotori</td>\n      <td>Kids</td>\n      <td>18</td>\n    </tr>\n    <tr>\n      <th>12789</th>\n      <td>35055</td>\n      <td>Mametarou Ganbare</td>\n      <td>Kids</td>\n      <td>20</td>\n    </tr>\n    <tr>\n      <th>12792</th>\n      <td>35058</td>\n      <td>Trojan wo Jibun no Te de</td>\n      <td>Historical, Kids</td>\n      <td>17</td>\n    </tr>\n    <tr>\n      <th>15204</th>\n      <td>38891</td>\n      <td>Sora no Method: Mou Hitotsu no Negai</td>\n      <td>Slice of Life, Comedy, Fantasy, School</td>\n      <td>1292</td>\n    </tr>\n    <tr>\n      <th>15778</th>\n      <td>39731</td>\n      <td>Na Bbeun Sang Sa</td>\n      <td>Slice of Life, Hentai, Drama, Romance, Thrille...</td>\n      <td>131</td>\n    </tr>\n    <tr>\n      <th>16848</th>\n      <td>42129</td>\n      <td>Bem Movie: Become Human</td>\n      <td>Action, Horror, Demons, Supernatural</td>\n      <td>1512</td>\n    </tr>\n  </tbody>\n</table>\n</div>"
     },
     "execution_count": 17,
     "metadata": {},
     "output_type": "execute_result"
    }
   ],
   "source": [
    "# display the top 10 anime recommendation\n",
    "recommendation_to_user = anime_data.loc[anime_data['MAL_ID'].isin(recommendation_df['anime_id'].head(10))]\n",
    "recommendation_to_user"
   ],
   "metadata": {
    "collapsed": false,
    "pycharm": {
     "name": "#%%\n"
    }
   }
  },
  {
   "cell_type": "code",
   "execution_count": 18,
   "outputs": [],
   "source": [
    "import math\n",
    "\n",
    "def counter_cosine_similarity(c1, c2):\n",
    "    terms = set(c1).union(c2)\n",
    "    dotprod = sum(c1.get(k, 0) * c2.get(k, 0) for k in terms)\n",
    "    magA = math.sqrt(sum(c1.get(k, 0)**2 for k in terms))\n",
    "    magB = math.sqrt(sum(c2.get(k, 0)**2 for k in terms))\n",
    "    return dotprod / (magA * magB)"
   ],
   "metadata": {
    "collapsed": false,
    "pycharm": {
     "name": "#%%\n"
    }
   }
  },
  {
   "cell_type": "code",
   "execution_count": 19,
   "outputs": [],
   "source": [
    "user_original_explode = user_original.assign(Genres=user_original.Genres.str.split(\", \")).explode('Genres')\n",
    "recommendation_to_user_explode = recommendation_to_user.assign(Genres=recommendation_to_user.Genres.str.split(\", \")).explode('Genres')"
   ],
   "metadata": {
    "collapsed": false,
    "pycharm": {
     "name": "#%%\n"
    }
   }
  },
  {
   "cell_type": "code",
   "execution_count": 20,
   "outputs": [
    {
     "name": "stdout",
     "output_type": "stream",
     "text": [
      "Similarity between user tastes and recommendation: 0.12338948875458465\n"
     ]
    }
   ],
   "source": [
    "from collections import Counter\n",
    "\n",
    "print(\"Similarity between user tastes and recommendation:\", counter_cosine_similarity(Counter(user_original_explode.Genres), Counter(recommendation_to_user.Genres)))"
   ],
   "metadata": {
    "collapsed": false,
    "pycharm": {
     "name": "#%%\n"
    }
   }
  }
 ],
 "metadata": {
  "kernelspec": {
   "display_name": "Python 3",
   "language": "python",
   "name": "python3"
  },
  "language_info": {
   "codemirror_mode": {
    "name": "ipython",
    "version": 2
   },
   "file_extension": ".py",
   "mimetype": "text/x-python",
   "name": "python",
   "nbconvert_exporter": "python",
   "pygments_lexer": "ipython2",
   "version": "2.7.6"
  }
 },
 "nbformat": 4,
 "nbformat_minor": 0
}