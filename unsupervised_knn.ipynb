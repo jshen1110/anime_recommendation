{
 "cells": [
  {
   "cell_type": "code",
   "execution_count": 95,
   "metadata": {
    "collapsed": true
   },
   "outputs": [],
   "source": [
    "import pandas as pd\n",
    "import numpy as np"
   ]
  },
  {
   "cell_type": "code",
   "execution_count": 96,
   "outputs": [],
   "source": [
    "# import complete anime dataset\n",
    "anime_data = pd.read_csv('dataset/anime.csv')\n",
    "anime_data = anime_data[['MAL_ID', 'Name','Genres','Completed']]"
   ],
   "metadata": {
    "collapsed": false,
    "pycharm": {
     "name": "#%%\n"
    }
   }
  },
  {
   "cell_type": "code",
   "execution_count": 97,
   "outputs": [
    {
     "data": {
      "text/plain": "   user_id  anime_id  rating\n0        0       430       9\n1        0      1004       5\n2        0      3010       7\n3        0       570       7\n4        0      2762       9",
      "text/html": "<div>\n<style scoped>\n    .dataframe tbody tr th:only-of-type {\n        vertical-align: middle;\n    }\n\n    .dataframe tbody tr th {\n        vertical-align: top;\n    }\n\n    .dataframe thead th {\n        text-align: right;\n    }\n</style>\n<table border=\"1\" class=\"dataframe\">\n  <thead>\n    <tr style=\"text-align: right;\">\n      <th></th>\n      <th>user_id</th>\n      <th>anime_id</th>\n      <th>rating</th>\n    </tr>\n  </thead>\n  <tbody>\n    <tr>\n      <th>0</th>\n      <td>0</td>\n      <td>430</td>\n      <td>9</td>\n    </tr>\n    <tr>\n      <th>1</th>\n      <td>0</td>\n      <td>1004</td>\n      <td>5</td>\n    </tr>\n    <tr>\n      <th>2</th>\n      <td>0</td>\n      <td>3010</td>\n      <td>7</td>\n    </tr>\n    <tr>\n      <th>3</th>\n      <td>0</td>\n      <td>570</td>\n      <td>7</td>\n    </tr>\n    <tr>\n      <th>4</th>\n      <td>0</td>\n      <td>2762</td>\n      <td>9</td>\n    </tr>\n  </tbody>\n</table>\n</div>"
     },
     "execution_count": 97,
     "metadata": {},
     "output_type": "execute_result"
    }
   ],
   "source": [
    "# import rating for anime that users marked complete\n",
    "user_rating = pd.read_csv('dataset/rating_complete.csv')\n",
    "user_rating.head()"
   ],
   "metadata": {
    "collapsed": false,
    "pycharm": {
     "name": "#%%\n"
    }
   }
  },
  {
   "cell_type": "markdown",
   "source": [
    "As the dataset is huge, we will limit the data to top 3000 users who gave ratings and top 1000 anime that are reviewed."
   ],
   "metadata": {
    "collapsed": false,
    "pycharm": {
     "name": "#%% md\n"
    }
   }
  },
  {
   "cell_type": "code",
   "execution_count": 98,
   "outputs": [],
   "source": [
    "top_users = 3000\n",
    "top_animes = 1000"
   ],
   "metadata": {
    "collapsed": false,
    "pycharm": {
     "name": "#%%\n"
    }
   }
  },
  {
   "cell_type": "code",
   "execution_count": 99,
   "outputs": [],
   "source": [
    "user_ranking = user_rating.groupby(['user_id']).count().sort_values('anime_id',ascending=False)\n",
    "ranking = user_ranking[0:top_users]\n",
    "# key: user_id, value:{mal_id:score}\n",
    "user_anime_dict = dict()"
   ],
   "metadata": {
    "collapsed": false,
    "pycharm": {
     "name": "#%%\n"
    }
   }
  },
  {
   "cell_type": "code",
   "execution_count": 100,
   "outputs": [],
   "source": [
    "def populate_user_anime_dict(user_id):\n",
    "    piece = user_rating.loc[user_rating['user_id'] == user_id]\n",
    "    current_user = {}\n",
    "    for index, row in piece.iterrows():\n",
    "        mal_id = row[\"anime_id\"]\n",
    "        score = row[\"rating\"]\n",
    "\n",
    "        current_user[mal_id] = score\n",
    "\n",
    "    user_anime_dict[user_id] = current_user"
   ],
   "metadata": {
    "collapsed": false,
    "pycharm": {
     "name": "#%%\n"
    }
   }
  },
  {
   "cell_type": "code",
   "execution_count": 101,
   "outputs": [],
   "source": [
    "for index, row in ranking.iterrows():\n",
    "    user_id  = index\n",
    "    populate_user_anime_dict(user_id)"
   ],
   "metadata": {
    "collapsed": false,
    "pycharm": {
     "name": "#%%\n"
    }
   }
  },
  {
   "cell_type": "code",
   "execution_count": 102,
   "outputs": [
    {
     "name": "stdout",
     "output_type": "stream",
     "text": [
      "Stored 'user_anime_dict' (dict)\n"
     ]
    }
   ],
   "source": [
    "%store user_anime_dict"
   ],
   "metadata": {
    "collapsed": false,
    "pycharm": {
     "name": "#%%\n"
    }
   }
  },
  {
   "cell_type": "markdown",
   "source": [
    "Generate dataframe to be used from the user_anime_dict"
   ],
   "metadata": {
    "collapsed": false,
    "pycharm": {
     "name": "#%% md\n"
    }
   }
  },
  {
   "cell_type": "code",
   "execution_count": 177,
   "outputs": [
    {
     "data": {
      "text/plain": "   user_id  MAL_ID  rating\n0      478       7       5\n1      478      15       8\n2      478      16       7\n3      478      20       7\n4      478      22       9",
      "text/html": "<div>\n<style scoped>\n    .dataframe tbody tr th:only-of-type {\n        vertical-align: middle;\n    }\n\n    .dataframe tbody tr th {\n        vertical-align: top;\n    }\n\n    .dataframe thead th {\n        text-align: right;\n    }\n</style>\n<table border=\"1\" class=\"dataframe\">\n  <thead>\n    <tr style=\"text-align: right;\">\n      <th></th>\n      <th>user_id</th>\n      <th>MAL_ID</th>\n      <th>rating</th>\n    </tr>\n  </thead>\n  <tbody>\n    <tr>\n      <th>0</th>\n      <td>478</td>\n      <td>7</td>\n      <td>5</td>\n    </tr>\n    <tr>\n      <th>1</th>\n      <td>478</td>\n      <td>15</td>\n      <td>8</td>\n    </tr>\n    <tr>\n      <th>2</th>\n      <td>478</td>\n      <td>16</td>\n      <td>7</td>\n    </tr>\n    <tr>\n      <th>3</th>\n      <td>478</td>\n      <td>20</td>\n      <td>7</td>\n    </tr>\n    <tr>\n      <th>4</th>\n      <td>478</td>\n      <td>22</td>\n      <td>9</td>\n    </tr>\n  </tbody>\n</table>\n</div>"
     },
     "execution_count": 177,
     "metadata": {},
     "output_type": "execute_result"
    }
   ],
   "source": [
    "L = sorted([(k,k1,v1) for k,v in user_anime_dict.items() for k1,v1 in v.items()],\n",
    "            key=lambda x: (x[0], x[1]))\n",
    "df_top = pd.DataFrame(L, columns=['user_id','MAL_ID','rating'])\n",
    "df_top.head()"
   ],
   "metadata": {
    "collapsed": false,
    "pycharm": {
     "name": "#%%\n"
    }
   }
  },
  {
   "cell_type": "markdown",
   "source": [
    "Now let's group up the rows by user_id."
   ],
   "metadata": {
    "collapsed": false,
    "pycharm": {
     "name": "#%% md\n"
    }
   }
  },
  {
   "cell_type": "code",
   "execution_count": 179,
   "outputs": [],
   "source": [
    "user_subset_group_for_test = df_top.groupby(['user_id'])"
   ],
   "metadata": {
    "collapsed": false,
    "pycharm": {
     "name": "#%%\n"
    }
   }
  },
  {
   "cell_type": "markdown",
   "source": [
    "Check out one user and make it our test input, e.g. 478"
   ],
   "metadata": {
    "collapsed": false,
    "pycharm": {
     "name": "#%% md\n"
    }
   }
  },
  {
   "cell_type": "code",
   "execution_count": 180,
   "outputs": [
    {
     "name": "stdout",
     "output_type": "stream",
     "text": [
      "1404\n"
     ]
    },
    {
     "data": {
      "text/plain": "      user_id  MAL_ID  rating\n789       478   13601      10\n1138      478   31043      10\n1079      478   27833      10\n31        478     135      10\n492       478    5114      10",
      "text/html": "<div>\n<style scoped>\n    .dataframe tbody tr th:only-of-type {\n        vertical-align: middle;\n    }\n\n    .dataframe tbody tr th {\n        vertical-align: top;\n    }\n\n    .dataframe thead th {\n        text-align: right;\n    }\n</style>\n<table border=\"1\" class=\"dataframe\">\n  <thead>\n    <tr style=\"text-align: right;\">\n      <th></th>\n      <th>user_id</th>\n      <th>MAL_ID</th>\n      <th>rating</th>\n    </tr>\n  </thead>\n  <tbody>\n    <tr>\n      <th>789</th>\n      <td>478</td>\n      <td>13601</td>\n      <td>10</td>\n    </tr>\n    <tr>\n      <th>1138</th>\n      <td>478</td>\n      <td>31043</td>\n      <td>10</td>\n    </tr>\n    <tr>\n      <th>1079</th>\n      <td>478</td>\n      <td>27833</td>\n      <td>10</td>\n    </tr>\n    <tr>\n      <th>31</th>\n      <td>478</td>\n      <td>135</td>\n      <td>10</td>\n    </tr>\n    <tr>\n      <th>492</th>\n      <td>478</td>\n      <td>5114</td>\n      <td>10</td>\n    </tr>\n  </tbody>\n</table>\n</div>"
     },
     "execution_count": 180,
     "metadata": {},
     "output_type": "execute_result"
    }
   ],
   "source": [
    "test_user_input = user_subset_group_for_test.get_group(478)\n",
    "test_user_input=test_user_input.sort_values(by='rating', ascending=False)\n",
    "print(len(test_user_input))\n",
    "test_user_input.head()"
   ],
   "metadata": {
    "collapsed": false,
    "pycharm": {
     "name": "#%%\n"
    }
   }
  },
  {
   "cell_type": "code",
   "execution_count": null,
   "outputs": [],
   "source": [],
   "metadata": {
    "collapsed": false,
    "pycharm": {
     "name": "#%%\n"
    }
   }
  },
  {
   "cell_type": "code",
   "execution_count": 181,
   "outputs": [
    {
     "data": {
      "text/plain": "   user_id  MAL_ID  rating\n0      478       7       5\n1      478      15       8\n2      478      16       7\n3      478      20       7\n4      478      22       9",
      "text/html": "<div>\n<style scoped>\n    .dataframe tbody tr th:only-of-type {\n        vertical-align: middle;\n    }\n\n    .dataframe tbody tr th {\n        vertical-align: top;\n    }\n\n    .dataframe thead th {\n        text-align: right;\n    }\n</style>\n<table border=\"1\" class=\"dataframe\">\n  <thead>\n    <tr style=\"text-align: right;\">\n      <th></th>\n      <th>user_id</th>\n      <th>MAL_ID</th>\n      <th>rating</th>\n    </tr>\n  </thead>\n  <tbody>\n    <tr>\n      <th>0</th>\n      <td>478</td>\n      <td>7</td>\n      <td>5</td>\n    </tr>\n    <tr>\n      <th>1</th>\n      <td>478</td>\n      <td>15</td>\n      <td>8</td>\n    </tr>\n    <tr>\n      <th>2</th>\n      <td>478</td>\n      <td>16</td>\n      <td>7</td>\n    </tr>\n    <tr>\n      <th>3</th>\n      <td>478</td>\n      <td>20</td>\n      <td>7</td>\n    </tr>\n    <tr>\n      <th>4</th>\n      <td>478</td>\n      <td>22</td>\n      <td>9</td>\n    </tr>\n  </tbody>\n</table>\n</div>"
     },
     "execution_count": 181,
     "metadata": {},
     "output_type": "execute_result"
    }
   ],
   "source": [
    "test_similar_users_anime = df_top[df_top['MAL_ID'].isin(test_user_input['MAL_ID'].tolist())]\n",
    "test_similar_users_anime.head()"
   ],
   "metadata": {
    "collapsed": false,
    "pycharm": {
     "name": "#%%\n"
    }
   }
  },
  {
   "cell_type": "code",
   "execution_count": 182,
   "outputs": [
    {
     "data": {
      "text/plain": "         user_id  MAL_ID  rating\n3653388   252916      15       7\n3653389   252916      16       7\n3653391   252916      20      10\n3653392   252916      22      10\n3653398   252916      47       7\n...          ...     ...     ...\n3655086   252916   38680      10\n3655091   252916   38889      10\n3655092   252916   39063       6\n3655093   252916   39198       7\n3655095   252916   39539       7\n\n[576 rows x 3 columns]",
      "text/html": "<div>\n<style scoped>\n    .dataframe tbody tr th:only-of-type {\n        vertical-align: middle;\n    }\n\n    .dataframe tbody tr th {\n        vertical-align: top;\n    }\n\n    .dataframe thead th {\n        text-align: right;\n    }\n</style>\n<table border=\"1\" class=\"dataframe\">\n  <thead>\n    <tr style=\"text-align: right;\">\n      <th></th>\n      <th>user_id</th>\n      <th>MAL_ID</th>\n      <th>rating</th>\n    </tr>\n  </thead>\n  <tbody>\n    <tr>\n      <th>3653388</th>\n      <td>252916</td>\n      <td>15</td>\n      <td>7</td>\n    </tr>\n    <tr>\n      <th>3653389</th>\n      <td>252916</td>\n      <td>16</td>\n      <td>7</td>\n    </tr>\n    <tr>\n      <th>3653391</th>\n      <td>252916</td>\n      <td>20</td>\n      <td>10</td>\n    </tr>\n    <tr>\n      <th>3653392</th>\n      <td>252916</td>\n      <td>22</td>\n      <td>10</td>\n    </tr>\n    <tr>\n      <th>3653398</th>\n      <td>252916</td>\n      <td>47</td>\n      <td>7</td>\n    </tr>\n    <tr>\n      <th>...</th>\n      <td>...</td>\n      <td>...</td>\n      <td>...</td>\n    </tr>\n    <tr>\n      <th>3655086</th>\n      <td>252916</td>\n      <td>38680</td>\n      <td>10</td>\n    </tr>\n    <tr>\n      <th>3655091</th>\n      <td>252916</td>\n      <td>38889</td>\n      <td>10</td>\n    </tr>\n    <tr>\n      <th>3655092</th>\n      <td>252916</td>\n      <td>39063</td>\n      <td>6</td>\n    </tr>\n    <tr>\n      <th>3655093</th>\n      <td>252916</td>\n      <td>39198</td>\n      <td>7</td>\n    </tr>\n    <tr>\n      <th>3655095</th>\n      <td>252916</td>\n      <td>39539</td>\n      <td>7</td>\n    </tr>\n  </tbody>\n</table>\n<p>576 rows × 3 columns</p>\n</div>"
     },
     "execution_count": 182,
     "metadata": {},
     "output_type": "execute_result"
    }
   ],
   "source": [
    "similar_users_group = test_similar_users_anime.groupby('user_id')\n",
    "similar_users_group.get_group(252916)"
   ],
   "metadata": {
    "collapsed": false,
    "pycharm": {
     "name": "#%%\n"
    }
   }
  },
  {
   "cell_type": "markdown",
   "source": [
    "Next we want to compare users to an input user and find the users that are similar to the input user.\n",
    "We will use Pearson Correlation Coefficient to measure how strong the linear association between two variables."
   ],
   "metadata": {
    "collapsed": false,
    "pycharm": {
     "name": "#%% md\n"
    }
   }
  },
  {
   "cell_type": "code",
   "execution_count": 106,
   "outputs": [],
   "source": [
    "#from scipy.stats import pearsonr"
   ],
   "metadata": {
    "collapsed": false,
    "pycharm": {
     "name": "#%%\n"
    }
   }
  },
  {
   "cell_type": "code",
   "execution_count": 183,
   "outputs": [
    {
     "data": {
      "text/plain": "   pearson_correlation  user_id\n1             0.051128   189037\n2             0.145511    68042\n3             0.290384   283786\n4             0.000000   162615\n5             0.347333   277841",
      "text/html": "<div>\n<style scoped>\n    .dataframe tbody tr th:only-of-type {\n        vertical-align: middle;\n    }\n\n    .dataframe tbody tr th {\n        vertical-align: top;\n    }\n\n    .dataframe thead th {\n        text-align: right;\n    }\n</style>\n<table border=\"1\" class=\"dataframe\">\n  <thead>\n    <tr style=\"text-align: right;\">\n      <th></th>\n      <th>pearson_correlation</th>\n      <th>user_id</th>\n    </tr>\n  </thead>\n  <tbody>\n    <tr>\n      <th>1</th>\n      <td>0.051128</td>\n      <td>189037</td>\n    </tr>\n    <tr>\n      <th>2</th>\n      <td>0.145511</td>\n      <td>68042</td>\n    </tr>\n    <tr>\n      <th>3</th>\n      <td>0.290384</td>\n      <td>283786</td>\n    </tr>\n    <tr>\n      <th>4</th>\n      <td>0.000000</td>\n      <td>162615</td>\n    </tr>\n    <tr>\n      <th>5</th>\n      <td>0.347333</td>\n      <td>277841</td>\n    </tr>\n  </tbody>\n</table>\n</div>"
     },
     "execution_count": 183,
     "metadata": {},
     "output_type": "execute_result"
    }
   ],
   "source": [
    "def get_pearson_df(user_input):\n",
    "    # user_input: dataframe with MAL_ID | rating\n",
    "    similar_users_anime = df_top[df_top['MAL_ID'].isin(user_input['MAL_ID'].tolist())]\n",
    "    similar_users_group = similar_users_anime.groupby('user_id')\n",
    "    similar_users_group_sorted = sorted(similar_users_group, key=lambda x:len(x[1]), reverse=True)\n",
    "    pearson_correlation_dict = {}\n",
    "    # key: user_id, val: pearson coefficient\n",
    "\n",
    "    # as the computation takes a long time, we will limit the users for the most similar 100 users\n",
    "    for uid, group in similar_users_group_sorted:\n",
    "        group = group.sort_values(by='MAL_ID')\n",
    "        user_input = user_input.sort_values(by='MAL_ID')\n",
    "        # N similar movies watched\n",
    "        N_similar = len(group)\n",
    "        # get rating for the anime that are in common\n",
    "        df_in_common = user_input[user_input['MAL_ID'].isin(group['MAL_ID'].tolist())]\n",
    "        # convert rating to list\n",
    "        shared_rating = df_in_common['rating'].tolist()\n",
    "        # get current user group reviews and convert rating to list\n",
    "        rating_list = group['rating'].tolist()\n",
    "\n",
    "        # calculate pearson correlation\n",
    "        xx = sum([i**2 for i in shared_rating]) - pow(sum(shared_rating),2)/float(N_similar)\n",
    "        yy = sum([i**2 for i in rating_list]) - pow(sum(rating_list),2)/float(N_similar)\n",
    "        xy = sum( i*j for i, j in zip(shared_rating, rating_list)) - sum(shared_rating)*sum(rating_list)/float(N_similar)\n",
    "\n",
    "        if xx != 0 and yy != 0:\n",
    "            pearson_correlation_dict[uid] = xy/np.sqrt(xx*yy)\n",
    "        else:\n",
    "            pearson_correlation_dict[uid] = 0\n",
    "\n",
    "    pearson = pd.DataFrame.from_dict(pearson_correlation_dict, orient='index')\n",
    "    pearson.columns = ['pearson_correlation']\n",
    "    pearson['user_id'] = pearson.index\n",
    "    pearson.index = range(len(pearson))\n",
    "    return pearson\n",
    "\n",
    "pearson_df = get_pearson_df(test_user_input)\n",
    "pearson_df=pearson_df.drop(pearson_df.index[0])\n",
    "pearson_df.head()"
   ],
   "metadata": {
    "collapsed": false,
    "pycharm": {
     "name": "#%%\n"
    }
   }
  },
  {
   "cell_type": "code",
   "execution_count": 125,
   "outputs": [
    {
     "data": {
      "text/plain": "      pearson_correlation  user_id\n2998             0.782318   349997\n2997             0.749038    63900\n2992             0.682592   138623\n2956             0.614916    16057\n877              0.590065   314671",
      "text/html": "<div>\n<style scoped>\n    .dataframe tbody tr th:only-of-type {\n        vertical-align: middle;\n    }\n\n    .dataframe tbody tr th {\n        vertical-align: top;\n    }\n\n    .dataframe thead th {\n        text-align: right;\n    }\n</style>\n<table border=\"1\" class=\"dataframe\">\n  <thead>\n    <tr style=\"text-align: right;\">\n      <th></th>\n      <th>pearson_correlation</th>\n      <th>user_id</th>\n    </tr>\n  </thead>\n  <tbody>\n    <tr>\n      <th>2998</th>\n      <td>0.782318</td>\n      <td>349997</td>\n    </tr>\n    <tr>\n      <th>2997</th>\n      <td>0.749038</td>\n      <td>63900</td>\n    </tr>\n    <tr>\n      <th>2992</th>\n      <td>0.682592</td>\n      <td>138623</td>\n    </tr>\n    <tr>\n      <th>2956</th>\n      <td>0.614916</td>\n      <td>16057</td>\n    </tr>\n    <tr>\n      <th>877</th>\n      <td>0.590065</td>\n      <td>314671</td>\n    </tr>\n  </tbody>\n</table>\n</div>"
     },
     "execution_count": 125,
     "metadata": {},
     "output_type": "execute_result"
    }
   ],
   "source": [
    "# sort most similar users\n",
    "\n",
    "top_similar_users=pearson_df.sort_values(by='pearson_correlation', ascending=False)[:50]\n",
    "top_similar_users.head()"
   ],
   "metadata": {
    "collapsed": false,
    "pycharm": {
     "name": "#%%\n"
    }
   }
  },
  {
   "cell_type": "code",
   "execution_count": 126,
   "outputs": [
    {
     "data": {
      "text/plain": "   pearson_correlation  user_id  anime_id  rating\n0             0.782318   349997      3918       5\n1             0.782318   349997      7969       5\n2             0.782318   349997     18525       7\n3             0.782318   349997      5573       3\n4             0.782318   349997      2189       6",
      "text/html": "<div>\n<style scoped>\n    .dataframe tbody tr th:only-of-type {\n        vertical-align: middle;\n    }\n\n    .dataframe tbody tr th {\n        vertical-align: top;\n    }\n\n    .dataframe thead th {\n        text-align: right;\n    }\n</style>\n<table border=\"1\" class=\"dataframe\">\n  <thead>\n    <tr style=\"text-align: right;\">\n      <th></th>\n      <th>pearson_correlation</th>\n      <th>user_id</th>\n      <th>anime_id</th>\n      <th>rating</th>\n    </tr>\n  </thead>\n  <tbody>\n    <tr>\n      <th>0</th>\n      <td>0.782318</td>\n      <td>349997</td>\n      <td>3918</td>\n      <td>5</td>\n    </tr>\n    <tr>\n      <th>1</th>\n      <td>0.782318</td>\n      <td>349997</td>\n      <td>7969</td>\n      <td>5</td>\n    </tr>\n    <tr>\n      <th>2</th>\n      <td>0.782318</td>\n      <td>349997</td>\n      <td>18525</td>\n      <td>7</td>\n    </tr>\n    <tr>\n      <th>3</th>\n      <td>0.782318</td>\n      <td>349997</td>\n      <td>5573</td>\n      <td>3</td>\n    </tr>\n    <tr>\n      <th>4</th>\n      <td>0.782318</td>\n      <td>349997</td>\n      <td>2189</td>\n      <td>6</td>\n    </tr>\n  </tbody>\n</table>\n</div>"
     },
     "execution_count": 126,
     "metadata": {},
     "output_type": "execute_result"
    }
   ],
   "source": [
    "top_similar_users_rating = top_similar_users.merge(user_rating, left_on='user_id', right_on='user_id', how='inner')\n",
    "top_similar_users_rating.head()"
   ],
   "metadata": {
    "collapsed": false,
    "pycharm": {
     "name": "#%%\n"
    }
   }
  },
  {
   "cell_type": "code",
   "execution_count": 127,
   "outputs": [
    {
     "data": {
      "text/plain": "   pearson_correlation  user_id  anime_id  rating  weighted_rating\n0             0.782318   349997      3918       5         3.911591\n1             0.782318   349997      7969       5         3.911591\n2             0.782318   349997     18525       7         5.476228\n3             0.782318   349997      5573       3         2.346955\n4             0.782318   349997      2189       6         4.693910",
      "text/html": "<div>\n<style scoped>\n    .dataframe tbody tr th:only-of-type {\n        vertical-align: middle;\n    }\n\n    .dataframe tbody tr th {\n        vertical-align: top;\n    }\n\n    .dataframe thead th {\n        text-align: right;\n    }\n</style>\n<table border=\"1\" class=\"dataframe\">\n  <thead>\n    <tr style=\"text-align: right;\">\n      <th></th>\n      <th>pearson_correlation</th>\n      <th>user_id</th>\n      <th>anime_id</th>\n      <th>rating</th>\n      <th>weighted_rating</th>\n    </tr>\n  </thead>\n  <tbody>\n    <tr>\n      <th>0</th>\n      <td>0.782318</td>\n      <td>349997</td>\n      <td>3918</td>\n      <td>5</td>\n      <td>3.911591</td>\n    </tr>\n    <tr>\n      <th>1</th>\n      <td>0.782318</td>\n      <td>349997</td>\n      <td>7969</td>\n      <td>5</td>\n      <td>3.911591</td>\n    </tr>\n    <tr>\n      <th>2</th>\n      <td>0.782318</td>\n      <td>349997</td>\n      <td>18525</td>\n      <td>7</td>\n      <td>5.476228</td>\n    </tr>\n    <tr>\n      <th>3</th>\n      <td>0.782318</td>\n      <td>349997</td>\n      <td>5573</td>\n      <td>3</td>\n      <td>2.346955</td>\n    </tr>\n    <tr>\n      <th>4</th>\n      <td>0.782318</td>\n      <td>349997</td>\n      <td>2189</td>\n      <td>6</td>\n      <td>4.693910</td>\n    </tr>\n  </tbody>\n</table>\n</div>"
     },
     "execution_count": 127,
     "metadata": {},
     "output_type": "execute_result"
    }
   ],
   "source": [
    "top_similar_users_rating['weighted_rating'] = top_similar_users_rating['pearson_correlation']*top_similar_users_rating['rating']\n",
    "top_similar_users_rating.head()"
   ],
   "metadata": {
    "collapsed": false,
    "pycharm": {
     "name": "#%%\n"
    }
   }
  },
  {
   "cell_type": "code",
   "execution_count": 128,
   "outputs": [
    {
     "data": {
      "text/plain": "          sum_pearson_correlation  sum_weighted_rating\nanime_id                                              \n1                       18.165635           161.567958\n5                       15.589602           126.284139\n6                       10.636725            86.064641\n7                        4.076475            28.047766\n8                        1.982132            12.884388",
      "text/html": "<div>\n<style scoped>\n    .dataframe tbody tr th:only-of-type {\n        vertical-align: middle;\n    }\n\n    .dataframe tbody tr th {\n        vertical-align: top;\n    }\n\n    .dataframe thead th {\n        text-align: right;\n    }\n</style>\n<table border=\"1\" class=\"dataframe\">\n  <thead>\n    <tr style=\"text-align: right;\">\n      <th></th>\n      <th>sum_pearson_correlation</th>\n      <th>sum_weighted_rating</th>\n    </tr>\n    <tr>\n      <th>anime_id</th>\n      <th></th>\n      <th></th>\n    </tr>\n  </thead>\n  <tbody>\n    <tr>\n      <th>1</th>\n      <td>18.165635</td>\n      <td>161.567958</td>\n    </tr>\n    <tr>\n      <th>5</th>\n      <td>15.589602</td>\n      <td>126.284139</td>\n    </tr>\n    <tr>\n      <th>6</th>\n      <td>10.636725</td>\n      <td>86.064641</td>\n    </tr>\n    <tr>\n      <th>7</th>\n      <td>4.076475</td>\n      <td>28.047766</td>\n    </tr>\n    <tr>\n      <th>8</th>\n      <td>1.982132</td>\n      <td>12.884388</td>\n    </tr>\n  </tbody>\n</table>\n</div>"
     },
     "execution_count": 128,
     "metadata": {},
     "output_type": "execute_result"
    }
   ],
   "source": [
    "top_similar_users_rating_sum = top_similar_users_rating.groupby('anime_id').sum()[['pearson_correlation','weighted_rating']]\n",
    "top_similar_users_rating_sum.columns = ['sum_pearson_correlation','sum_weighted_rating']\n",
    "top_similar_users_rating_sum.head()"
   ],
   "metadata": {
    "collapsed": false,
    "pycharm": {
     "name": "#%%\n"
    }
   }
  },
  {
   "cell_type": "code",
   "execution_count": 132,
   "outputs": [
    {
     "name": "stdout",
     "output_type": "stream",
     "text": [
      "13530\n"
     ]
    },
    {
     "data": {
      "text/plain": "          weighted_average_recommendation_score  anime_id\nanime_id                                                 \n1                                      8.894154         1\n5                                      8.100537         5\n6                                      8.091273         6\n7                                      6.880396         7\n8                                      6.500267         8",
      "text/html": "<div>\n<style scoped>\n    .dataframe tbody tr th:only-of-type {\n        vertical-align: middle;\n    }\n\n    .dataframe tbody tr th {\n        vertical-align: top;\n    }\n\n    .dataframe thead th {\n        text-align: right;\n    }\n</style>\n<table border=\"1\" class=\"dataframe\">\n  <thead>\n    <tr style=\"text-align: right;\">\n      <th></th>\n      <th>weighted_average_recommendation_score</th>\n      <th>anime_id</th>\n    </tr>\n    <tr>\n      <th>anime_id</th>\n      <th></th>\n      <th></th>\n    </tr>\n  </thead>\n  <tbody>\n    <tr>\n      <th>1</th>\n      <td>8.894154</td>\n      <td>1</td>\n    </tr>\n    <tr>\n      <th>5</th>\n      <td>8.100537</td>\n      <td>5</td>\n    </tr>\n    <tr>\n      <th>6</th>\n      <td>8.091273</td>\n      <td>6</td>\n    </tr>\n    <tr>\n      <th>7</th>\n      <td>6.880396</td>\n      <td>7</td>\n    </tr>\n    <tr>\n      <th>8</th>\n      <td>6.500267</td>\n      <td>8</td>\n    </tr>\n  </tbody>\n</table>\n</div>"
     },
     "execution_count": 132,
     "metadata": {},
     "output_type": "execute_result"
    }
   ],
   "source": [
    "recommendation_df = pd.DataFrame()\n",
    "recommendation_df['weighted_average_recommendation_score'] = top_similar_users_rating_sum['sum_weighted_rating']/top_similar_users_rating_sum['sum_pearson_correlation']\n",
    "recommendation_df['anime_id'] = top_similar_users_rating_sum.index\n",
    "print(len(recommendation_df))\n",
    "recommendation_df.head()"
   ],
   "metadata": {
    "collapsed": false,
    "pycharm": {
     "name": "#%%\n"
    }
   }
  },
  {
   "cell_type": "code",
   "execution_count": 184,
   "outputs": [
    {
     "data": {
      "text/plain": "          weighted_average_recommendation_score  anime_id\nanime_id                                                 \n42129                                 10.000000     42129\n8353                                  10.000000      8353\n35035                                 10.000000     35035\n37962                                 10.000000     37962\n35056                                 10.000000     35056\n35055                                 10.000000     35055\n35058                                 10.000000     35058\n39731                                 10.000000     39731\n28561                                 10.000000     28561\n28023                                 10.000000     28023\n35054                                 10.000000     35054\n38891                                 10.000000     38891\n31004                                 10.000000     31004\n33050                                  9.668167     33050\n28977                                  9.626443     28977\n820                                    9.488163       820\n11061                                  9.341741     11061\n9969                                   9.242072      9969\n34096                                  9.152855     34096\n38524                                  9.143308     38524",
      "text/html": "<div>\n<style scoped>\n    .dataframe tbody tr th:only-of-type {\n        vertical-align: middle;\n    }\n\n    .dataframe tbody tr th {\n        vertical-align: top;\n    }\n\n    .dataframe thead th {\n        text-align: right;\n    }\n</style>\n<table border=\"1\" class=\"dataframe\">\n  <thead>\n    <tr style=\"text-align: right;\">\n      <th></th>\n      <th>weighted_average_recommendation_score</th>\n      <th>anime_id</th>\n    </tr>\n    <tr>\n      <th>anime_id</th>\n      <th></th>\n      <th></th>\n    </tr>\n  </thead>\n  <tbody>\n    <tr>\n      <th>42129</th>\n      <td>10.000000</td>\n      <td>42129</td>\n    </tr>\n    <tr>\n      <th>8353</th>\n      <td>10.000000</td>\n      <td>8353</td>\n    </tr>\n    <tr>\n      <th>35035</th>\n      <td>10.000000</td>\n      <td>35035</td>\n    </tr>\n    <tr>\n      <th>37962</th>\n      <td>10.000000</td>\n      <td>37962</td>\n    </tr>\n    <tr>\n      <th>35056</th>\n      <td>10.000000</td>\n      <td>35056</td>\n    </tr>\n    <tr>\n      <th>35055</th>\n      <td>10.000000</td>\n      <td>35055</td>\n    </tr>\n    <tr>\n      <th>35058</th>\n      <td>10.000000</td>\n      <td>35058</td>\n    </tr>\n    <tr>\n      <th>39731</th>\n      <td>10.000000</td>\n      <td>39731</td>\n    </tr>\n    <tr>\n      <th>28561</th>\n      <td>10.000000</td>\n      <td>28561</td>\n    </tr>\n    <tr>\n      <th>28023</th>\n      <td>10.000000</td>\n      <td>28023</td>\n    </tr>\n    <tr>\n      <th>35054</th>\n      <td>10.000000</td>\n      <td>35054</td>\n    </tr>\n    <tr>\n      <th>38891</th>\n      <td>10.000000</td>\n      <td>38891</td>\n    </tr>\n    <tr>\n      <th>31004</th>\n      <td>10.000000</td>\n      <td>31004</td>\n    </tr>\n    <tr>\n      <th>33050</th>\n      <td>9.668167</td>\n      <td>33050</td>\n    </tr>\n    <tr>\n      <th>28977</th>\n      <td>9.626443</td>\n      <td>28977</td>\n    </tr>\n    <tr>\n      <th>820</th>\n      <td>9.488163</td>\n      <td>820</td>\n    </tr>\n    <tr>\n      <th>11061</th>\n      <td>9.341741</td>\n      <td>11061</td>\n    </tr>\n    <tr>\n      <th>9969</th>\n      <td>9.242072</td>\n      <td>9969</td>\n    </tr>\n    <tr>\n      <th>34096</th>\n      <td>9.152855</td>\n      <td>34096</td>\n    </tr>\n    <tr>\n      <th>38524</th>\n      <td>9.143308</td>\n      <td>38524</td>\n    </tr>\n  </tbody>\n</table>\n</div>"
     },
     "execution_count": 184,
     "metadata": {},
     "output_type": "execute_result"
    }
   ],
   "source": [
    "recommendation_df = recommendation_df.sort_values(by='weighted_average_recommendation_score', ascending=False)\n",
    "recommendation_df = recommendation_df[~recommendation_df['anime_id'].isin(test_user_input['MAL_ID'])]\n",
    "recommendation_df[:20]"
   ],
   "metadata": {
    "collapsed": false,
    "pycharm": {
     "name": "#%%\n"
    }
   }
  },
  {
   "cell_type": "code",
   "execution_count": 187,
   "outputs": [
    {
     "data": {
      "text/plain": "    user_id  MAL_ID  rating  \\\n0       478   13601      10   \n1       478   31043      10   \n2       478   27833      10   \n3       478     135      10   \n4       478    5114      10   \n5       478   32983      10   \n6       478   11123      10   \n7       478   11375      10   \n8       478   16498      10   \n9       478   11665      10   \n10      478    5681      10   \n11      478    1365      10   \n12      478   11741      10   \n13      478   32182      10   \n14      478    8676      10   \n15      478    5947      10   \n16      478    6024      10   \n17      478   12431      10   \n18      478    7724      10   \n19      478   30276      10   \n20      478   12883      10   \n21      478    6922      10   \n22      478   32729      10   \n23      478    2251      10   \n24      478    9135      10   \n25      478     645      10   \n26      478    3841      10   \n27      478    2236      10   \n28      478    9989      10   \n29      478    9941      10   \n30      478   32995      10   \n31      478   10408      10   \n32      478   33337      10   \n33      478    3363       9   \n34      478    6421       9   \n35      478    2971       9   \n36      478    6347       9   \n37      478   15225       9   \n38      478    4224       9   \n39      478   32867       9   \n40      478   30413       9   \n41      478    6098       9   \n42      478   18689       9   \n43      478     457       9   \n44      478   15613       9   \n45      478     468       9   \n46      478   30296       9   \n47      478   31163       9   \n48      478    1456       9   \n49      478   21329       9   \n\n                                                 Name  \\\n0                                         Psycho-Pass   \n1                             Boku dake ga Inai Machi   \n2                                  Durarara!!x2 Ketsu   \n3                                        Hikaru no Go   \n4                    Fullmetal Alchemist: Brotherhood   \n5                               Natsume Yuujinchou Go   \n6                                Sekaiichi Hatsukoi 2   \n7                 .hack//The Movie: Sekai no Mukou ni   \n8                                  Shingeki no Kyojin   \n9                              Natsume Yuujinchou Shi   \n10                                        Summer Wars   \n11  Detective Conan Movie 06: The Phantom of Baker...   \n12                               Fate/Zero 2nd Season   \n13                                     Mob Psycho 100   \n14                                         Amagami SS   \n15  Tengen Toppa Gurren Lagann Movie Zenyasai: Vir...   \n16                  Chi's Sweet Home: Atarashii Ouchi   \n17                                      Uchuu Kyoudai   \n18                                              Shiki   \n19                                      One Punch Man   \n20                                          Tsuritama   \n21       Fate/stay night Movie: Unlimited Blade Works   \n22                                             Orange   \n23                                           Baccano!   \n24      Fullmetal Alchemist: The Sacred Star of Milos   \n25                Hikaru no Go: Hokuto Hai e no Michi   \n26                                   Chi's Sweet Home   \n27                              Toki wo Kakeru Shoujo   \n28  Ano Hi Mita Hana no Namae wo Bokutachi wa Mada...   \n29                                      Tiger & Bunny   \n30                                     Yuri!!! on Ice   \n31                                 Hotarubi no Mori e   \n32                            ACCA: 13-ku Kansatsu-ka   \n33                             RD Sennou Chousashitsu   \n34          Fullmetal Alchemist: Brotherhood Specials   \n35                                  Kyou kara Maou! R   \n36                         Baka to Test to Shoukanjuu   \n37                     Hentai Ouji to Warawanai Neko.   \n38                                          Toradora!   \n39                       Bungou Stray Dogs 2nd Season   \n40                              Yowamushi Pedal Movie   \n41                                   Sora no Manimani   \n42                                     Diamond no Ace   \n43                                           Mushishi   \n44                      Hakkenden: Touhou Hakken Ibun   \n45                                          Innocence   \n46                           Rakudai Kishi no Cavalry   \n47                                        Dimension W   \n48                             L/R: Licensed by Royal   \n49                               Mushishi: Hihamukage   \n\n                                               Genres  Completed  \n0               Action, Sci-Fi, Police, Psychological     720340  \n1        Mystery, Psychological, Supernatural, Seinen    1071295  \n2                       Action, Mystery, Supernatural     194936  \n3                 Comedy, Game, Shounen, Supernatural      62705  \n4   Action, Military, Adventure, Comedy, Drama, Ma...    1644938  \n5   Slice of Life, Demons, Supernatural, Drama, Sh...      72069  \n6                  Comedy, Drama, Romance, Shounen Ai     107736  \n7   Action, Adventure, Fantasy, Game, Magic, Myste...       9647  \n8   Action, Military, Mystery, Super Power, Drama,...    2182587  \n9   Slice of Life, Demons, Supernatural, Drama, Sh...     114646  \n10                                     Sci-Fi, Comedy     315050  \n11                Adventure, Mystery, Police, Shounen      51821  \n12               Action, Supernatural, Magic, Fantasy     649100  \n13        Action, Slice of Life, Comedy, Supernatural     942402  \n14             Slice of Life, Comedy, Romance, School     155410  \n15                                             Comedy      17654  \n16                        Comedy, Kids, Slice of Life      11689  \n17       Comedy, Sci-Fi, Seinen, Slice of Life, Space      37234  \n18   Horror, Mystery, Supernatural, Thriller, Vampire     255427  \n19  Action, Sci-Fi, Comedy, Parody, Super Power, S...    1841220  \n20              Comedy, Sci-Fi, Slice of Life, Sports      63453  \n21               Action, Fantasy, Magic, Supernatural     132791  \n22             Sci-Fi, Drama, Romance, School, Shoujo     322463  \n23  Action, Comedy, Historical, Mystery, Supernatural     364241  \n24  Action, Adventure, Comedy, Drama, Fantasy, Mag...     115014  \n25                                      Game, Shounen      15964  \n26                              Comedy, Slice of Life      23184  \n27                  Adventure, Drama, Romance, Sci-Fi     468670  \n28                 Slice of Life, Supernatural, Drama     870583  \n29               Action, Mystery, Comedy, Super Power      87486  \n30                                     Comedy, Sports     430803  \n31               Drama, Romance, Shoujo, Supernatural     406122  \n32            Mystery, Police, Drama, Fantasy, Seinen      62584  \n33                                     Action, Sci-Fi       5489  \n34  Military, Adventure, Drama, Magic, Fantasy, Sh...      90382  \n35         Adventure, Comedy, Demons, Fantasy, Shoujo      13015  \n36               Comedy, Romance, School, Super Power     377592  \n37       Harem, Comedy, Supernatural, Romance, School     257556  \n38             Slice of Life, Comedy, Romance, School    1191775  \n39  Action, Mystery, Seinen, Super Power, Supernat...     356210  \n40                     Comedy, Drama, Shounen, Sports      16386  \n41     Slice of Life, Comedy, Romance, School, Seinen      19181  \n42                    Comedy, School, Shounen, Sports      95612  \n43  Adventure, Slice of Life, Mystery, Historical,...     235371  \n44      Action, Demons, Supernatural, Fantasy, Shoujo      50274  \n45     Military, Sci-Fi, Police, Psychological, Mecha      98216  \n46            Action, Romance, Ecchi, Fantasy, School     497433  \n47                             Action, Sci-Fi, Seinen     148558  \n48                 Action, Adventure, Police, Mystery       1619  \n49  Adventure, Slice of Life, Mystery, Historical,...      69625  ",
      "text/html": "<div>\n<style scoped>\n    .dataframe tbody tr th:only-of-type {\n        vertical-align: middle;\n    }\n\n    .dataframe tbody tr th {\n        vertical-align: top;\n    }\n\n    .dataframe thead th {\n        text-align: right;\n    }\n</style>\n<table border=\"1\" class=\"dataframe\">\n  <thead>\n    <tr style=\"text-align: right;\">\n      <th></th>\n      <th>user_id</th>\n      <th>MAL_ID</th>\n      <th>rating</th>\n      <th>Name</th>\n      <th>Genres</th>\n      <th>Completed</th>\n    </tr>\n  </thead>\n  <tbody>\n    <tr>\n      <th>0</th>\n      <td>478</td>\n      <td>13601</td>\n      <td>10</td>\n      <td>Psycho-Pass</td>\n      <td>Action, Sci-Fi, Police, Psychological</td>\n      <td>720340</td>\n    </tr>\n    <tr>\n      <th>1</th>\n      <td>478</td>\n      <td>31043</td>\n      <td>10</td>\n      <td>Boku dake ga Inai Machi</td>\n      <td>Mystery, Psychological, Supernatural, Seinen</td>\n      <td>1071295</td>\n    </tr>\n    <tr>\n      <th>2</th>\n      <td>478</td>\n      <td>27833</td>\n      <td>10</td>\n      <td>Durarara!!x2 Ketsu</td>\n      <td>Action, Mystery, Supernatural</td>\n      <td>194936</td>\n    </tr>\n    <tr>\n      <th>3</th>\n      <td>478</td>\n      <td>135</td>\n      <td>10</td>\n      <td>Hikaru no Go</td>\n      <td>Comedy, Game, Shounen, Supernatural</td>\n      <td>62705</td>\n    </tr>\n    <tr>\n      <th>4</th>\n      <td>478</td>\n      <td>5114</td>\n      <td>10</td>\n      <td>Fullmetal Alchemist: Brotherhood</td>\n      <td>Action, Military, Adventure, Comedy, Drama, Ma...</td>\n      <td>1644938</td>\n    </tr>\n    <tr>\n      <th>5</th>\n      <td>478</td>\n      <td>32983</td>\n      <td>10</td>\n      <td>Natsume Yuujinchou Go</td>\n      <td>Slice of Life, Demons, Supernatural, Drama, Sh...</td>\n      <td>72069</td>\n    </tr>\n    <tr>\n      <th>6</th>\n      <td>478</td>\n      <td>11123</td>\n      <td>10</td>\n      <td>Sekaiichi Hatsukoi 2</td>\n      <td>Comedy, Drama, Romance, Shounen Ai</td>\n      <td>107736</td>\n    </tr>\n    <tr>\n      <th>7</th>\n      <td>478</td>\n      <td>11375</td>\n      <td>10</td>\n      <td>.hack//The Movie: Sekai no Mukou ni</td>\n      <td>Action, Adventure, Fantasy, Game, Magic, Myste...</td>\n      <td>9647</td>\n    </tr>\n    <tr>\n      <th>8</th>\n      <td>478</td>\n      <td>16498</td>\n      <td>10</td>\n      <td>Shingeki no Kyojin</td>\n      <td>Action, Military, Mystery, Super Power, Drama,...</td>\n      <td>2182587</td>\n    </tr>\n    <tr>\n      <th>9</th>\n      <td>478</td>\n      <td>11665</td>\n      <td>10</td>\n      <td>Natsume Yuujinchou Shi</td>\n      <td>Slice of Life, Demons, Supernatural, Drama, Sh...</td>\n      <td>114646</td>\n    </tr>\n    <tr>\n      <th>10</th>\n      <td>478</td>\n      <td>5681</td>\n      <td>10</td>\n      <td>Summer Wars</td>\n      <td>Sci-Fi, Comedy</td>\n      <td>315050</td>\n    </tr>\n    <tr>\n      <th>11</th>\n      <td>478</td>\n      <td>1365</td>\n      <td>10</td>\n      <td>Detective Conan Movie 06: The Phantom of Baker...</td>\n      <td>Adventure, Mystery, Police, Shounen</td>\n      <td>51821</td>\n    </tr>\n    <tr>\n      <th>12</th>\n      <td>478</td>\n      <td>11741</td>\n      <td>10</td>\n      <td>Fate/Zero 2nd Season</td>\n      <td>Action, Supernatural, Magic, Fantasy</td>\n      <td>649100</td>\n    </tr>\n    <tr>\n      <th>13</th>\n      <td>478</td>\n      <td>32182</td>\n      <td>10</td>\n      <td>Mob Psycho 100</td>\n      <td>Action, Slice of Life, Comedy, Supernatural</td>\n      <td>942402</td>\n    </tr>\n    <tr>\n      <th>14</th>\n      <td>478</td>\n      <td>8676</td>\n      <td>10</td>\n      <td>Amagami SS</td>\n      <td>Slice of Life, Comedy, Romance, School</td>\n      <td>155410</td>\n    </tr>\n    <tr>\n      <th>15</th>\n      <td>478</td>\n      <td>5947</td>\n      <td>10</td>\n      <td>Tengen Toppa Gurren Lagann Movie Zenyasai: Vir...</td>\n      <td>Comedy</td>\n      <td>17654</td>\n    </tr>\n    <tr>\n      <th>16</th>\n      <td>478</td>\n      <td>6024</td>\n      <td>10</td>\n      <td>Chi's Sweet Home: Atarashii Ouchi</td>\n      <td>Comedy, Kids, Slice of Life</td>\n      <td>11689</td>\n    </tr>\n    <tr>\n      <th>17</th>\n      <td>478</td>\n      <td>12431</td>\n      <td>10</td>\n      <td>Uchuu Kyoudai</td>\n      <td>Comedy, Sci-Fi, Seinen, Slice of Life, Space</td>\n      <td>37234</td>\n    </tr>\n    <tr>\n      <th>18</th>\n      <td>478</td>\n      <td>7724</td>\n      <td>10</td>\n      <td>Shiki</td>\n      <td>Horror, Mystery, Supernatural, Thriller, Vampire</td>\n      <td>255427</td>\n    </tr>\n    <tr>\n      <th>19</th>\n      <td>478</td>\n      <td>30276</td>\n      <td>10</td>\n      <td>One Punch Man</td>\n      <td>Action, Sci-Fi, Comedy, Parody, Super Power, S...</td>\n      <td>1841220</td>\n    </tr>\n    <tr>\n      <th>20</th>\n      <td>478</td>\n      <td>12883</td>\n      <td>10</td>\n      <td>Tsuritama</td>\n      <td>Comedy, Sci-Fi, Slice of Life, Sports</td>\n      <td>63453</td>\n    </tr>\n    <tr>\n      <th>21</th>\n      <td>478</td>\n      <td>6922</td>\n      <td>10</td>\n      <td>Fate/stay night Movie: Unlimited Blade Works</td>\n      <td>Action, Fantasy, Magic, Supernatural</td>\n      <td>132791</td>\n    </tr>\n    <tr>\n      <th>22</th>\n      <td>478</td>\n      <td>32729</td>\n      <td>10</td>\n      <td>Orange</td>\n      <td>Sci-Fi, Drama, Romance, School, Shoujo</td>\n      <td>322463</td>\n    </tr>\n    <tr>\n      <th>23</th>\n      <td>478</td>\n      <td>2251</td>\n      <td>10</td>\n      <td>Baccano!</td>\n      <td>Action, Comedy, Historical, Mystery, Supernatural</td>\n      <td>364241</td>\n    </tr>\n    <tr>\n      <th>24</th>\n      <td>478</td>\n      <td>9135</td>\n      <td>10</td>\n      <td>Fullmetal Alchemist: The Sacred Star of Milos</td>\n      <td>Action, Adventure, Comedy, Drama, Fantasy, Mag...</td>\n      <td>115014</td>\n    </tr>\n    <tr>\n      <th>25</th>\n      <td>478</td>\n      <td>645</td>\n      <td>10</td>\n      <td>Hikaru no Go: Hokuto Hai e no Michi</td>\n      <td>Game, Shounen</td>\n      <td>15964</td>\n    </tr>\n    <tr>\n      <th>26</th>\n      <td>478</td>\n      <td>3841</td>\n      <td>10</td>\n      <td>Chi's Sweet Home</td>\n      <td>Comedy, Slice of Life</td>\n      <td>23184</td>\n    </tr>\n    <tr>\n      <th>27</th>\n      <td>478</td>\n      <td>2236</td>\n      <td>10</td>\n      <td>Toki wo Kakeru Shoujo</td>\n      <td>Adventure, Drama, Romance, Sci-Fi</td>\n      <td>468670</td>\n    </tr>\n    <tr>\n      <th>28</th>\n      <td>478</td>\n      <td>9989</td>\n      <td>10</td>\n      <td>Ano Hi Mita Hana no Namae wo Bokutachi wa Mada...</td>\n      <td>Slice of Life, Supernatural, Drama</td>\n      <td>870583</td>\n    </tr>\n    <tr>\n      <th>29</th>\n      <td>478</td>\n      <td>9941</td>\n      <td>10</td>\n      <td>Tiger &amp; Bunny</td>\n      <td>Action, Mystery, Comedy, Super Power</td>\n      <td>87486</td>\n    </tr>\n    <tr>\n      <th>30</th>\n      <td>478</td>\n      <td>32995</td>\n      <td>10</td>\n      <td>Yuri!!! on Ice</td>\n      <td>Comedy, Sports</td>\n      <td>430803</td>\n    </tr>\n    <tr>\n      <th>31</th>\n      <td>478</td>\n      <td>10408</td>\n      <td>10</td>\n      <td>Hotarubi no Mori e</td>\n      <td>Drama, Romance, Shoujo, Supernatural</td>\n      <td>406122</td>\n    </tr>\n    <tr>\n      <th>32</th>\n      <td>478</td>\n      <td>33337</td>\n      <td>10</td>\n      <td>ACCA: 13-ku Kansatsu-ka</td>\n      <td>Mystery, Police, Drama, Fantasy, Seinen</td>\n      <td>62584</td>\n    </tr>\n    <tr>\n      <th>33</th>\n      <td>478</td>\n      <td>3363</td>\n      <td>9</td>\n      <td>RD Sennou Chousashitsu</td>\n      <td>Action, Sci-Fi</td>\n      <td>5489</td>\n    </tr>\n    <tr>\n      <th>34</th>\n      <td>478</td>\n      <td>6421</td>\n      <td>9</td>\n      <td>Fullmetal Alchemist: Brotherhood Specials</td>\n      <td>Military, Adventure, Drama, Magic, Fantasy, Sh...</td>\n      <td>90382</td>\n    </tr>\n    <tr>\n      <th>35</th>\n      <td>478</td>\n      <td>2971</td>\n      <td>9</td>\n      <td>Kyou kara Maou! R</td>\n      <td>Adventure, Comedy, Demons, Fantasy, Shoujo</td>\n      <td>13015</td>\n    </tr>\n    <tr>\n      <th>36</th>\n      <td>478</td>\n      <td>6347</td>\n      <td>9</td>\n      <td>Baka to Test to Shoukanjuu</td>\n      <td>Comedy, Romance, School, Super Power</td>\n      <td>377592</td>\n    </tr>\n    <tr>\n      <th>37</th>\n      <td>478</td>\n      <td>15225</td>\n      <td>9</td>\n      <td>Hentai Ouji to Warawanai Neko.</td>\n      <td>Harem, Comedy, Supernatural, Romance, School</td>\n      <td>257556</td>\n    </tr>\n    <tr>\n      <th>38</th>\n      <td>478</td>\n      <td>4224</td>\n      <td>9</td>\n      <td>Toradora!</td>\n      <td>Slice of Life, Comedy, Romance, School</td>\n      <td>1191775</td>\n    </tr>\n    <tr>\n      <th>39</th>\n      <td>478</td>\n      <td>32867</td>\n      <td>9</td>\n      <td>Bungou Stray Dogs 2nd Season</td>\n      <td>Action, Mystery, Seinen, Super Power, Supernat...</td>\n      <td>356210</td>\n    </tr>\n    <tr>\n      <th>40</th>\n      <td>478</td>\n      <td>30413</td>\n      <td>9</td>\n      <td>Yowamushi Pedal Movie</td>\n      <td>Comedy, Drama, Shounen, Sports</td>\n      <td>16386</td>\n    </tr>\n    <tr>\n      <th>41</th>\n      <td>478</td>\n      <td>6098</td>\n      <td>9</td>\n      <td>Sora no Manimani</td>\n      <td>Slice of Life, Comedy, Romance, School, Seinen</td>\n      <td>19181</td>\n    </tr>\n    <tr>\n      <th>42</th>\n      <td>478</td>\n      <td>18689</td>\n      <td>9</td>\n      <td>Diamond no Ace</td>\n      <td>Comedy, School, Shounen, Sports</td>\n      <td>95612</td>\n    </tr>\n    <tr>\n      <th>43</th>\n      <td>478</td>\n      <td>457</td>\n      <td>9</td>\n      <td>Mushishi</td>\n      <td>Adventure, Slice of Life, Mystery, Historical,...</td>\n      <td>235371</td>\n    </tr>\n    <tr>\n      <th>44</th>\n      <td>478</td>\n      <td>15613</td>\n      <td>9</td>\n      <td>Hakkenden: Touhou Hakken Ibun</td>\n      <td>Action, Demons, Supernatural, Fantasy, Shoujo</td>\n      <td>50274</td>\n    </tr>\n    <tr>\n      <th>45</th>\n      <td>478</td>\n      <td>468</td>\n      <td>9</td>\n      <td>Innocence</td>\n      <td>Military, Sci-Fi, Police, Psychological, Mecha</td>\n      <td>98216</td>\n    </tr>\n    <tr>\n      <th>46</th>\n      <td>478</td>\n      <td>30296</td>\n      <td>9</td>\n      <td>Rakudai Kishi no Cavalry</td>\n      <td>Action, Romance, Ecchi, Fantasy, School</td>\n      <td>497433</td>\n    </tr>\n    <tr>\n      <th>47</th>\n      <td>478</td>\n      <td>31163</td>\n      <td>9</td>\n      <td>Dimension W</td>\n      <td>Action, Sci-Fi, Seinen</td>\n      <td>148558</td>\n    </tr>\n    <tr>\n      <th>48</th>\n      <td>478</td>\n      <td>1456</td>\n      <td>9</td>\n      <td>L/R: Licensed by Royal</td>\n      <td>Action, Adventure, Police, Mystery</td>\n      <td>1619</td>\n    </tr>\n    <tr>\n      <th>49</th>\n      <td>478</td>\n      <td>21329</td>\n      <td>9</td>\n      <td>Mushishi: Hihamukage</td>\n      <td>Adventure, Slice of Life, Mystery, Historical,...</td>\n      <td>69625</td>\n    </tr>\n  </tbody>\n</table>\n</div>"
     },
     "execution_count": 187,
     "metadata": {},
     "output_type": "execute_result"
    }
   ],
   "source": [
    "# user original\n",
    "#anime_data.loc[anime_data['MAL_ID'].isin(test_user_input['MAL_id']).tolist()]\n",
    "user_original = pd.merge(test_user_input, anime_data)\n",
    "user_original[:50]"
   ],
   "metadata": {
    "collapsed": false,
    "pycharm": {
     "name": "#%%\n"
    }
   }
  },
  {
   "cell_type": "code",
   "execution_count": 164,
   "outputs": [
    {
     "data": {
      "text/plain": "       MAL_ID                                               Name  \\\n741       820                               Ginga Eiyuu Densetsu   \n5340     8353                                           Ketsuinu   \n6006     9969                                           Gintama'   \n6474    11061                             Hunter x Hunter (2011)   \n9691    28023                                  Tsuru no Sugomori   \n9807    28561  Saru Tarou Jishin ni wa Makenai zo!: Jishin e ...   \n9913    28977                                           Gintama°   \n10780   31004                                  Niji no Kakehashi   \n11684   33050  Fate/stay night Movie: Heaven's Feel - III. Sp...   \n12242   34096                                           Gintama.   \n12772   35035                 Sam-chan no Obake Nanka Kowaku Nai   \n12788   35054                                    Ni wa no Kotori   \n12789   35055                                  Mametarou Ganbare   \n12790   35056                            Tsuki no Mine no Ookami   \n12792   35058                           Trojan wo Jibun no Te de   \n14597   37962                             IDOLiSH7: Second Beat!   \n14963   38524                 Shingeki no Kyojin Season 3 Part 2   \n15204   38891               Sora no Method: Mou Hitotsu no Negai   \n15778   39731                                   Na Bbeun Sang Sa   \n16848   42129                            Bem Movie: Become Human   \n\n                                                  Genres  Completed  \n741                       Military, Sci-Fi, Space, Drama      52583  \n5340                                              Comedy         84  \n6006   Action, Sci-Fi, Comedy, Historical, Parody, Sa...     190008  \n6474    Action, Adventure, Fantasy, Shounen, Super Power    1094486  \n9691                                                Kids         34  \n9807                                         Drama, Kids         31  \n9913   Action, Comedy, Historical, Parody, Samurai, S...     167130  \n10780                                        Drama, Kids         28  \n11684               Action, Supernatural, Magic, Fantasy      19886  \n12242  Action, Comedy, Historical, Parody, Samurai, S...     115105  \n12772                                 Kids, Supernatural         22  \n12788                                               Kids         18  \n12789                                               Kids         20  \n12790                                               Kids         17  \n12792                                   Historical, Kids         17  \n14597                                              Music       3318  \n14963  Action, Drama, Fantasy, Military, Mystery, Sho...     906824  \n15204             Slice of Life, Comedy, Fantasy, School       1292  \n15778  Slice of Life, Hentai, Drama, Romance, Thrille...        131  \n16848               Action, Horror, Demons, Supernatural       1512  ",
      "text/html": "<div>\n<style scoped>\n    .dataframe tbody tr th:only-of-type {\n        vertical-align: middle;\n    }\n\n    .dataframe tbody tr th {\n        vertical-align: top;\n    }\n\n    .dataframe thead th {\n        text-align: right;\n    }\n</style>\n<table border=\"1\" class=\"dataframe\">\n  <thead>\n    <tr style=\"text-align: right;\">\n      <th></th>\n      <th>MAL_ID</th>\n      <th>Name</th>\n      <th>Genres</th>\n      <th>Completed</th>\n    </tr>\n  </thead>\n  <tbody>\n    <tr>\n      <th>741</th>\n      <td>820</td>\n      <td>Ginga Eiyuu Densetsu</td>\n      <td>Military, Sci-Fi, Space, Drama</td>\n      <td>52583</td>\n    </tr>\n    <tr>\n      <th>5340</th>\n      <td>8353</td>\n      <td>Ketsuinu</td>\n      <td>Comedy</td>\n      <td>84</td>\n    </tr>\n    <tr>\n      <th>6006</th>\n      <td>9969</td>\n      <td>Gintama'</td>\n      <td>Action, Sci-Fi, Comedy, Historical, Parody, Sa...</td>\n      <td>190008</td>\n    </tr>\n    <tr>\n      <th>6474</th>\n      <td>11061</td>\n      <td>Hunter x Hunter (2011)</td>\n      <td>Action, Adventure, Fantasy, Shounen, Super Power</td>\n      <td>1094486</td>\n    </tr>\n    <tr>\n      <th>9691</th>\n      <td>28023</td>\n      <td>Tsuru no Sugomori</td>\n      <td>Kids</td>\n      <td>34</td>\n    </tr>\n    <tr>\n      <th>9807</th>\n      <td>28561</td>\n      <td>Saru Tarou Jishin ni wa Makenai zo!: Jishin e ...</td>\n      <td>Drama, Kids</td>\n      <td>31</td>\n    </tr>\n    <tr>\n      <th>9913</th>\n      <td>28977</td>\n      <td>Gintama°</td>\n      <td>Action, Comedy, Historical, Parody, Samurai, S...</td>\n      <td>167130</td>\n    </tr>\n    <tr>\n      <th>10780</th>\n      <td>31004</td>\n      <td>Niji no Kakehashi</td>\n      <td>Drama, Kids</td>\n      <td>28</td>\n    </tr>\n    <tr>\n      <th>11684</th>\n      <td>33050</td>\n      <td>Fate/stay night Movie: Heaven's Feel - III. Sp...</td>\n      <td>Action, Supernatural, Magic, Fantasy</td>\n      <td>19886</td>\n    </tr>\n    <tr>\n      <th>12242</th>\n      <td>34096</td>\n      <td>Gintama.</td>\n      <td>Action, Comedy, Historical, Parody, Samurai, S...</td>\n      <td>115105</td>\n    </tr>\n    <tr>\n      <th>12772</th>\n      <td>35035</td>\n      <td>Sam-chan no Obake Nanka Kowaku Nai</td>\n      <td>Kids, Supernatural</td>\n      <td>22</td>\n    </tr>\n    <tr>\n      <th>12788</th>\n      <td>35054</td>\n      <td>Ni wa no Kotori</td>\n      <td>Kids</td>\n      <td>18</td>\n    </tr>\n    <tr>\n      <th>12789</th>\n      <td>35055</td>\n      <td>Mametarou Ganbare</td>\n      <td>Kids</td>\n      <td>20</td>\n    </tr>\n    <tr>\n      <th>12790</th>\n      <td>35056</td>\n      <td>Tsuki no Mine no Ookami</td>\n      <td>Kids</td>\n      <td>17</td>\n    </tr>\n    <tr>\n      <th>12792</th>\n      <td>35058</td>\n      <td>Trojan wo Jibun no Te de</td>\n      <td>Historical, Kids</td>\n      <td>17</td>\n    </tr>\n    <tr>\n      <th>14597</th>\n      <td>37962</td>\n      <td>IDOLiSH7: Second Beat!</td>\n      <td>Music</td>\n      <td>3318</td>\n    </tr>\n    <tr>\n      <th>14963</th>\n      <td>38524</td>\n      <td>Shingeki no Kyojin Season 3 Part 2</td>\n      <td>Action, Drama, Fantasy, Military, Mystery, Sho...</td>\n      <td>906824</td>\n    </tr>\n    <tr>\n      <th>15204</th>\n      <td>38891</td>\n      <td>Sora no Method: Mou Hitotsu no Negai</td>\n      <td>Slice of Life, Comedy, Fantasy, School</td>\n      <td>1292</td>\n    </tr>\n    <tr>\n      <th>15778</th>\n      <td>39731</td>\n      <td>Na Bbeun Sang Sa</td>\n      <td>Slice of Life, Hentai, Drama, Romance, Thrille...</td>\n      <td>131</td>\n    </tr>\n    <tr>\n      <th>16848</th>\n      <td>42129</td>\n      <td>Bem Movie: Become Human</td>\n      <td>Action, Horror, Demons, Supernatural</td>\n      <td>1512</td>\n    </tr>\n  </tbody>\n</table>\n</div>"
     },
     "execution_count": 164,
     "metadata": {},
     "output_type": "execute_result"
    }
   ],
   "source": [
    "# display the top 20 anime recommendation\n",
    "anime_data.loc[anime_data['MAL_ID'].isin(recommendation_df['anime_id'].head(20).tolist())]"
   ],
   "metadata": {
    "collapsed": false,
    "pycharm": {
     "name": "#%%\n"
    }
   }
  }
 ],
 "metadata": {
  "kernelspec": {
   "display_name": "Python 3",
   "language": "python",
   "name": "python3"
  },
  "language_info": {
   "codemirror_mode": {
    "name": "ipython",
    "version": 2
   },
   "file_extension": ".py",
   "mimetype": "text/x-python",
   "name": "python",
   "nbconvert_exporter": "python",
   "pygments_lexer": "ipython2",
   "version": "2.7.6"
  }
 },
 "nbformat": 4,
 "nbformat_minor": 0
}