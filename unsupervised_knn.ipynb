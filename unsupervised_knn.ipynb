{
 "cells": [
  {
   "cell_type": "code",
   "execution_count": 2,
   "metadata": {
    "collapsed": true
   },
   "outputs": [],
   "source": [
    "import pandas as pd"
   ]
  },
  {
   "cell_type": "code",
   "execution_count": 100,
   "outputs": [],
   "source": [
    "from sklearn.linear_model import LogisticRegression\n",
    "\n",
    "user_genre_count = pd.read_csv('dataset/users_genres_count.csv')\n",
    "top_animes = pd.read_csv('dataset/top_animes_complete.csv')\n",
    "\n",
    "\n",
    "def generate_sets_genre_count(uid_str, current_user, genre_str):\n",
    "    uid_str_list = uid_str.split(\", \")\n",
    "    genre_str_list = genre_str.split(\", \")\n",
    "\n",
    "    uid_dict = dict()\n",
    "\n",
    "    for pair in uid_str_list:\n",
    "        s_pair = pair.split(\"|\")\n",
    "        uid = int(s_pair[0])\n",
    "        if uid == current_user:\n",
    "            continue\n",
    "\n",
    "        score = int(s_pair[1])\n",
    "        uid_dict[uid] = 1\n",
    "\n",
    "    X_list = []\n",
    "    y_list = []\n",
    "\n",
    "    for index, row in user_genre_count.iterrows():\n",
    "        uid = int(row[0])\n",
    "        if uid == current_user:\n",
    "            continue\n",
    "        genres = []\n",
    "\n",
    "        for genre in genre_str_list:\n",
    "            genres.append(row[genre])\n",
    "\n",
    "        temp = []\n",
    "\n",
    "        for i in range(0, len(genres)):\n",
    "            temp.append(genres[i])\n",
    "\n",
    "        arr = np.array(temp)\n",
    "        X_list.append(arr)\n",
    "\n",
    "        if uid in uid_dict:\n",
    "            y_list.append(1)\n",
    "        else:\n",
    "            y_list.append(0)\n",
    "\n",
    "    X = np.array(X_list)\n",
    "    y = np.array(y_list)\n",
    "\n",
    "    return X, y\n",
    "\n",
    "\n",
    "def get_user_info(user_id, genre_str):\n",
    "    user_info = user_genre_count.loc[user_genre_count['user_id'] == user_id]\n",
    "    user_info = user_info.iloc[0]\n",
    "    genre_str_list = genre_str.split(\", \")\n",
    "    temp = []\n",
    "    for genre in genre_str_list:\n",
    "        temp.append(user_info[genre])\n",
    "    user_line = np.array([np.array(temp)])\n",
    "\n",
    "    return user_line\n",
    "\n",
    "\n",
    "def predict(user_id, mal_id, user_line=None):\n",
    "    anime_info = top_animes.loc[top_animes['MAL_ID'] == mal_id].iloc[0]\n",
    "    if user_line is None:\n",
    "        user_line = get_user_info(user_id, anime_info[\"genres\"])\n",
    "\n",
    "    X, y = generate_sets_genre_count(anime_info[\"completed_user_ids\"], user_id, anime_info[\"genres\"])\n",
    "\n",
    "    clf = LogisticRegression().fit(X, y)\n",
    "\n",
    "    result = clf.predict(user_line)\n",
    "\n",
    "    return result[0]\n",
    "\n",
    "\n",
    "test_users = [272784, 98466, 11716, 45741, 208254]\n",
    "\n",
    "\n",
    "def evaluate_unsupervised(algorithm):\n",
    "    for user in test_users:\n",
    "        r = algorithm(user)\n",
    "        count = 0\n",
    "        user_line = get_user_info(user)\n",
    "        for mal_id in get_mal_id(r):\n",
    "            current_result = predict(user, mal_id, user_line)\n",
    "            if current_result == 1:\n",
    "                count += 1\n",
    "        print(\"Precision for user \" + str(user) + \" is: \" + str(count / len(r)))\n"
   ],
   "metadata": {
    "collapsed": false,
    "pycharm": {
     "name": "#%%\n"
    }
   }
  },
  {
   "cell_type": "code",
   "execution_count": 3,
   "outputs": [],
   "source": [
    "# import complete anime dataset\n",
    "anime_data = pd.read_csv('dataset/anime.csv')\n",
    "anime_data = anime_data[['MAL_ID', 'Name','Genres','Completed']]"
   ],
   "metadata": {
    "collapsed": false,
    "pycharm": {
     "name": "#%%\n"
    }
   }
  },
  {
   "cell_type": "code",
   "execution_count": 4,
   "outputs": [
    {
     "data": {
      "text/plain": "   user_id  anime_id  rating\n0        0       430       9\n1        0      1004       5\n2        0      3010       7\n3        0       570       7\n4        0      2762       9",
      "text/html": "<div>\n<style scoped>\n    .dataframe tbody tr th:only-of-type {\n        vertical-align: middle;\n    }\n\n    .dataframe tbody tr th {\n        vertical-align: top;\n    }\n\n    .dataframe thead th {\n        text-align: right;\n    }\n</style>\n<table border=\"1\" class=\"dataframe\">\n  <thead>\n    <tr style=\"text-align: right;\">\n      <th></th>\n      <th>user_id</th>\n      <th>anime_id</th>\n      <th>rating</th>\n    </tr>\n  </thead>\n  <tbody>\n    <tr>\n      <th>0</th>\n      <td>0</td>\n      <td>430</td>\n      <td>9</td>\n    </tr>\n    <tr>\n      <th>1</th>\n      <td>0</td>\n      <td>1004</td>\n      <td>5</td>\n    </tr>\n    <tr>\n      <th>2</th>\n      <td>0</td>\n      <td>3010</td>\n      <td>7</td>\n    </tr>\n    <tr>\n      <th>3</th>\n      <td>0</td>\n      <td>570</td>\n      <td>7</td>\n    </tr>\n    <tr>\n      <th>4</th>\n      <td>0</td>\n      <td>2762</td>\n      <td>9</td>\n    </tr>\n  </tbody>\n</table>\n</div>"
     },
     "execution_count": 4,
     "metadata": {},
     "output_type": "execute_result"
    }
   ],
   "source": [
    "# import rating for anime that users marked complete\n",
    "user_rating = pd.read_csv('dataset/rating_complete.csv')\n",
    "user_rating.head()"
   ],
   "metadata": {
    "collapsed": false,
    "pycharm": {
     "name": "#%%\n"
    }
   }
  },
  {
   "cell_type": "markdown",
   "source": [
    "As the dataset is huge, we will limit the data to top 3000 users who gave ratings and top 1000 anime that are reviewed."
   ],
   "metadata": {
    "collapsed": false,
    "pycharm": {
     "name": "#%% md\n"
    }
   }
  },
  {
   "cell_type": "code",
   "execution_count": 101,
   "outputs": [],
   "source": [
    "top_users = 3000\n",
    "top_animes = 1000"
   ],
   "metadata": {
    "collapsed": false,
    "pycharm": {
     "name": "#%%\n"
    }
   }
  },
  {
   "cell_type": "code",
   "execution_count": 102,
   "outputs": [],
   "source": [
    "user_ranking = user_rating.groupby(['user_id']).count().sort_values('anime_id',ascending=False)\n",
    "ranking = user_ranking[0:top_users]\n",
    "# key: user_id, value:{mal_id:score}\n",
    "user_anime_dict = dict()"
   ],
   "metadata": {
    "collapsed": false,
    "pycharm": {
     "name": "#%%\n"
    }
   }
  },
  {
   "cell_type": "code",
   "execution_count": 104,
   "outputs": [],
   "source": [
    "def populate_user_anime_dict(user_id):\n",
    "    piece = user_rating.loc[user_rating['user_id'] == user_id]\n",
    "    current_user = {}\n",
    "    for index, row in piece.iterrows():\n",
    "        mal_id = row[\"anime_id\"]\n",
    "        score = row[\"rating\"]\n",
    "\n",
    "        current_user[mal_id] = score\n",
    "\n",
    "    user_anime_dict[user_id] = current_user"
   ],
   "metadata": {
    "collapsed": false,
    "pycharm": {
     "name": "#%%\n"
    }
   }
  },
  {
   "cell_type": "code",
   "execution_count": 105,
   "outputs": [],
   "source": [
    "for index, row in ranking.iterrows():\n",
    "    user_id  = index\n",
    "    populate_user_anime_dict(user_id)"
   ],
   "metadata": {
    "collapsed": false,
    "pycharm": {
     "name": "#%%\n"
    }
   }
  },
  {
   "cell_type": "markdown",
   "source": [
    "Generate dataframe to be used from the user_anime_dict"
   ],
   "metadata": {
    "collapsed": false,
    "pycharm": {
     "name": "#%% md\n"
    }
   }
  },
  {
   "cell_type": "code",
   "execution_count": 106,
   "outputs": [
    {
     "data": {
      "text/plain": "   user_id  MAL_ID  rating\n0      478       7       5\n1      478      15       8\n2      478      16       7\n3      478      20       7\n4      478      22       9",
      "text/html": "<div>\n<style scoped>\n    .dataframe tbody tr th:only-of-type {\n        vertical-align: middle;\n    }\n\n    .dataframe tbody tr th {\n        vertical-align: top;\n    }\n\n    .dataframe thead th {\n        text-align: right;\n    }\n</style>\n<table border=\"1\" class=\"dataframe\">\n  <thead>\n    <tr style=\"text-align: right;\">\n      <th></th>\n      <th>user_id</th>\n      <th>MAL_ID</th>\n      <th>rating</th>\n    </tr>\n  </thead>\n  <tbody>\n    <tr>\n      <th>0</th>\n      <td>478</td>\n      <td>7</td>\n      <td>5</td>\n    </tr>\n    <tr>\n      <th>1</th>\n      <td>478</td>\n      <td>15</td>\n      <td>8</td>\n    </tr>\n    <tr>\n      <th>2</th>\n      <td>478</td>\n      <td>16</td>\n      <td>7</td>\n    </tr>\n    <tr>\n      <th>3</th>\n      <td>478</td>\n      <td>20</td>\n      <td>7</td>\n    </tr>\n    <tr>\n      <th>4</th>\n      <td>478</td>\n      <td>22</td>\n      <td>9</td>\n    </tr>\n  </tbody>\n</table>\n</div>"
     },
     "execution_count": 106,
     "metadata": {},
     "output_type": "execute_result"
    }
   ],
   "source": [
    "L = sorted([(k,k1,v1) for k,v in user_anime_dict.items() for k1,v1 in v.items()],\n",
    "            key=lambda x: (x[0], x[1]))\n",
    "df_top = pd.DataFrame(L, columns=['user_id','MAL_ID','rating'])\n",
    "df_top.head()"
   ],
   "metadata": {
    "collapsed": false,
    "pycharm": {
     "name": "#%%\n"
    }
   }
  },
  {
   "cell_type": "code",
   "execution_count": 11,
   "outputs": [],
   "source": [
    "df_top.to_csv('dataset/top_anime_unsupervised_use.csv', index=False)"
   ],
   "metadata": {
    "collapsed": false,
    "pycharm": {
     "name": "#%%\n"
    }
   }
  },
  {
   "cell_type": "markdown",
   "source": [
    "After sort out the animes associated with each user, now we will perform unsupervised learning with KNN."
   ],
   "metadata": {
    "collapsed": false,
    "pycharm": {
     "name": "#%% md\n"
    }
   }
  },
  {
   "cell_type": "code",
   "execution_count": 77,
   "outputs": [],
   "source": [
    "import pandas as pd\n",
    "import warnings\n",
    "\n",
    "warnings.filterwarnings('ignore')\n",
    "pd.set_option(\"max_colwidth\", None)"
   ],
   "metadata": {
    "collapsed": false,
    "pycharm": {
     "name": "#%%\n"
    }
   }
  },
  {
   "cell_type": "code",
   "execution_count": 107,
   "outputs": [
    {
     "data": {
      "text/plain": "       MAL_ID                             Name    Score  \\\n0           1                     Cowboy Bebop     8.78   \n1           5  Cowboy Bebop: Tengoku no Tobira     8.39   \n2           6                           Trigun     8.24   \n3           7               Witch Hunter Robin     7.27   \n4           8                   Bouken Ou Beet     6.98   \n...       ...                              ...      ...   \n17557   48481  Daomu Biji Zhi Qinling Shen Shu  Unknown   \n17558   48483                     Mieruko-chan  Unknown   \n17559   48488  Higurashi no Naku Koro ni Sotsu  Unknown   \n17560   48491      Yama no Susume: Next Summit  Unknown   \n17561   48492                    Scarlet Nexus  Unknown   \n\n                                                                 Genres  \\\n0                       Action, Adventure, Comedy, Drama, Sci-Fi, Space   \n1                                 Action, Drama, Mystery, Sci-Fi, Space   \n2                     Action, Sci-Fi, Adventure, Comedy, Drama, Shounen   \n3                   Action, Mystery, Police, Supernatural, Drama, Magic   \n4                             Adventure, Fantasy, Shounen, Supernatural   \n...                                                                 ...   \n17557                                  Adventure, Mystery, Supernatural   \n17558                                      Comedy, Horror, Supernatural   \n17559  Mystery, Dementia, Horror, Psychological, Supernatural, Thriller   \n17560                                  Adventure, Slice of Life, Comedy   \n17561                                                   Action, Fantasy   \n\n        Type Episodes    Premiered         Studios        Source  \\\n0         TV       26  Spring 1998         Sunrise      Original   \n1      Movie        1      Unknown           Bones      Original   \n2         TV       26  Spring 1998        Madhouse         Manga   \n3         TV       26  Summer 2002         Sunrise      Original   \n4         TV       52    Fall 2004  Toei Animation         Manga   \n...      ...      ...          ...             ...           ...   \n17557    ONA  Unknown      Unknown         Unknown         Novel   \n17558     TV  Unknown      Unknown        Passione         Manga   \n17559     TV  Unknown  Summer 2021         Unknown  Visual novel   \n17560     TV  Unknown      Unknown            8bit         Manga   \n17561     TV  Unknown  Summer 2021         Sunrise          Game   \n\n                               Rating  Completed  \n0      R - 17+ (violence & profanity)     718161  \n1      R - 17+ (violence & profanity)     208333  \n2           PG-13 - Teens 13 or older     343492  \n3           PG-13 - Teens 13 or older      46165  \n4                       PG - Children       7314  \n...                               ...        ...  \n17557                         Unknown          0  \n17558                         Unknown          0  \n17559  R - 17+ (violence & profanity)          0  \n17560       PG-13 - Teens 13 or older          2  \n17561                         Unknown          0  \n\n[17562 rows x 11 columns]",
      "text/html": "<div>\n<style scoped>\n    .dataframe tbody tr th:only-of-type {\n        vertical-align: middle;\n    }\n\n    .dataframe tbody tr th {\n        vertical-align: top;\n    }\n\n    .dataframe thead th {\n        text-align: right;\n    }\n</style>\n<table border=\"1\" class=\"dataframe\">\n  <thead>\n    <tr style=\"text-align: right;\">\n      <th></th>\n      <th>MAL_ID</th>\n      <th>Name</th>\n      <th>Score</th>\n      <th>Genres</th>\n      <th>Type</th>\n      <th>Episodes</th>\n      <th>Premiered</th>\n      <th>Studios</th>\n      <th>Source</th>\n      <th>Rating</th>\n      <th>Completed</th>\n    </tr>\n  </thead>\n  <tbody>\n    <tr>\n      <th>0</th>\n      <td>1</td>\n      <td>Cowboy Bebop</td>\n      <td>8.78</td>\n      <td>Action, Adventure, Comedy, Drama, Sci-Fi, Space</td>\n      <td>TV</td>\n      <td>26</td>\n      <td>Spring 1998</td>\n      <td>Sunrise</td>\n      <td>Original</td>\n      <td>R - 17+ (violence &amp; profanity)</td>\n      <td>718161</td>\n    </tr>\n    <tr>\n      <th>1</th>\n      <td>5</td>\n      <td>Cowboy Bebop: Tengoku no Tobira</td>\n      <td>8.39</td>\n      <td>Action, Drama, Mystery, Sci-Fi, Space</td>\n      <td>Movie</td>\n      <td>1</td>\n      <td>Unknown</td>\n      <td>Bones</td>\n      <td>Original</td>\n      <td>R - 17+ (violence &amp; profanity)</td>\n      <td>208333</td>\n    </tr>\n    <tr>\n      <th>2</th>\n      <td>6</td>\n      <td>Trigun</td>\n      <td>8.24</td>\n      <td>Action, Sci-Fi, Adventure, Comedy, Drama, Shounen</td>\n      <td>TV</td>\n      <td>26</td>\n      <td>Spring 1998</td>\n      <td>Madhouse</td>\n      <td>Manga</td>\n      <td>PG-13 - Teens 13 or older</td>\n      <td>343492</td>\n    </tr>\n    <tr>\n      <th>3</th>\n      <td>7</td>\n      <td>Witch Hunter Robin</td>\n      <td>7.27</td>\n      <td>Action, Mystery, Police, Supernatural, Drama, Magic</td>\n      <td>TV</td>\n      <td>26</td>\n      <td>Summer 2002</td>\n      <td>Sunrise</td>\n      <td>Original</td>\n      <td>PG-13 - Teens 13 or older</td>\n      <td>46165</td>\n    </tr>\n    <tr>\n      <th>4</th>\n      <td>8</td>\n      <td>Bouken Ou Beet</td>\n      <td>6.98</td>\n      <td>Adventure, Fantasy, Shounen, Supernatural</td>\n      <td>TV</td>\n      <td>52</td>\n      <td>Fall 2004</td>\n      <td>Toei Animation</td>\n      <td>Manga</td>\n      <td>PG - Children</td>\n      <td>7314</td>\n    </tr>\n    <tr>\n      <th>...</th>\n      <td>...</td>\n      <td>...</td>\n      <td>...</td>\n      <td>...</td>\n      <td>...</td>\n      <td>...</td>\n      <td>...</td>\n      <td>...</td>\n      <td>...</td>\n      <td>...</td>\n      <td>...</td>\n    </tr>\n    <tr>\n      <th>17557</th>\n      <td>48481</td>\n      <td>Daomu Biji Zhi Qinling Shen Shu</td>\n      <td>Unknown</td>\n      <td>Adventure, Mystery, Supernatural</td>\n      <td>ONA</td>\n      <td>Unknown</td>\n      <td>Unknown</td>\n      <td>Unknown</td>\n      <td>Novel</td>\n      <td>Unknown</td>\n      <td>0</td>\n    </tr>\n    <tr>\n      <th>17558</th>\n      <td>48483</td>\n      <td>Mieruko-chan</td>\n      <td>Unknown</td>\n      <td>Comedy, Horror, Supernatural</td>\n      <td>TV</td>\n      <td>Unknown</td>\n      <td>Unknown</td>\n      <td>Passione</td>\n      <td>Manga</td>\n      <td>Unknown</td>\n      <td>0</td>\n    </tr>\n    <tr>\n      <th>17559</th>\n      <td>48488</td>\n      <td>Higurashi no Naku Koro ni Sotsu</td>\n      <td>Unknown</td>\n      <td>Mystery, Dementia, Horror, Psychological, Supernatural, Thriller</td>\n      <td>TV</td>\n      <td>Unknown</td>\n      <td>Summer 2021</td>\n      <td>Unknown</td>\n      <td>Visual novel</td>\n      <td>R - 17+ (violence &amp; profanity)</td>\n      <td>0</td>\n    </tr>\n    <tr>\n      <th>17560</th>\n      <td>48491</td>\n      <td>Yama no Susume: Next Summit</td>\n      <td>Unknown</td>\n      <td>Adventure, Slice of Life, Comedy</td>\n      <td>TV</td>\n      <td>Unknown</td>\n      <td>Unknown</td>\n      <td>8bit</td>\n      <td>Manga</td>\n      <td>PG-13 - Teens 13 or older</td>\n      <td>2</td>\n    </tr>\n    <tr>\n      <th>17561</th>\n      <td>48492</td>\n      <td>Scarlet Nexus</td>\n      <td>Unknown</td>\n      <td>Action, Fantasy</td>\n      <td>TV</td>\n      <td>Unknown</td>\n      <td>Summer 2021</td>\n      <td>Sunrise</td>\n      <td>Game</td>\n      <td>Unknown</td>\n      <td>0</td>\n    </tr>\n  </tbody>\n</table>\n<p>17562 rows × 11 columns</p>\n</div>"
     },
     "execution_count": 107,
     "metadata": {},
     "output_type": "execute_result"
    }
   ],
   "source": [
    "# load anime dataset\n",
    "anime_df = pd.read_csv('dataset/anime.csv')\n",
    "usecols = [\"MAL_ID\", \"Name\", \"Score\", \"Genres\", \"Type\", \"Episodes\", \"Premiered\",\n",
    "           \"Studios\", \"Source\", \"Rating\", \"Completed\"]\n",
    "\n",
    "anime_df = pd.read_csv('dataset/anime.csv', usecols=usecols)\n",
    "anime_df"
   ],
   "metadata": {
    "collapsed": false,
    "pycharm": {
     "name": "#%%\n"
    }
   }
  },
  {
   "cell_type": "markdown",
   "source": [
    "For KNN, we will further process data to create a sparse user item matrix to fit into the data. As the calculation will be very costly, we will limit animes count to top 1000."
   ],
   "metadata": {
    "collapsed": false,
    "pycharm": {
     "name": "#%% md\n"
    }
   }
  },
  {
   "cell_type": "code",
   "execution_count": 108,
   "outputs": [
    {
     "data": {
      "text/plain": "   user_id  MAL_ID  rating\n3      478      20       7\n5      478      24       8\n7      478      43       6\n8      478      47       8\n9      478      48       6",
      "text/html": "<div>\n<style scoped>\n    .dataframe tbody tr th:only-of-type {\n        vertical-align: middle;\n    }\n\n    .dataframe tbody tr th {\n        vertical-align: top;\n    }\n\n    .dataframe thead th {\n        text-align: right;\n    }\n</style>\n<table border=\"1\" class=\"dataframe\">\n  <thead>\n    <tr style=\"text-align: right;\">\n      <th></th>\n      <th>user_id</th>\n      <th>MAL_ID</th>\n      <th>rating</th>\n    </tr>\n  </thead>\n  <tbody>\n    <tr>\n      <th>3</th>\n      <td>478</td>\n      <td>20</td>\n      <td>7</td>\n    </tr>\n    <tr>\n      <th>5</th>\n      <td>478</td>\n      <td>24</td>\n      <td>8</td>\n    </tr>\n    <tr>\n      <th>7</th>\n      <td>478</td>\n      <td>43</td>\n      <td>6</td>\n    </tr>\n    <tr>\n      <th>8</th>\n      <td>478</td>\n      <td>47</td>\n      <td>8</td>\n    </tr>\n    <tr>\n      <th>9</th>\n      <td>478</td>\n      <td>48</td>\n      <td>6</td>\n    </tr>\n  </tbody>\n</table>\n</div>"
     },
     "execution_count": 108,
     "metadata": {},
     "output_type": "execute_result"
    }
   ],
   "source": [
    "# load top users with anime rating dataset\n",
    "top_animes_count = 1000\n",
    "rating_popular_anime = pd.read_csv('dataset/top_anime_unsupervised_use.csv')\n",
    "animes_popular = anime_df.sort_values('Completed', ascending=False)[0:top_animes_count]\n",
    "top_animes = animes_popular['MAL_ID'].unique()\n",
    "rating_popular_anime = rating_popular_anime[rating_popular_anime.MAL_ID.isin(top_animes)]\n",
    "rating_popular_anime.head()"
   ],
   "metadata": {
    "collapsed": false,
    "pycharm": {
     "name": "#%%\n"
    }
   }
  },
  {
   "cell_type": "code",
   "execution_count": 109,
   "outputs": [
    {
     "data": {
      "text/plain": "MAL_ID   1      5      6      18     19     20     24     30     31     32     \\\nuser_id                                                                         \n478        0.0    0.0    0.0    0.0    0.0    7.0    8.0    0.0    0.0    0.0   \n781        7.0    0.0   10.0    8.0   10.0    7.0    7.0    0.0    0.0    0.0   \n853        9.0   10.0    8.0    9.0    8.0    9.0    0.0    8.0    0.0    8.0   \n890        9.0    9.0    9.0    8.0   10.0    7.0    2.0    8.0    7.0    9.0   \n912        0.0    0.0    0.0    0.0    0.0    6.0    0.0    0.0    0.0    0.0   \n...        ...    ...    ...    ...    ...    ...    ...    ...    ...    ...   \n352832     0.0    0.0   10.0   10.0   10.0    1.0    0.0   10.0    0.0   10.0   \n352835     0.0    0.0    9.0    0.0    0.0    7.0    0.0    7.0    0.0    7.0   \n352922     0.0    0.0    0.0    0.0    7.0    0.0    0.0    3.0    0.0    7.0   \n352924    10.0    9.0    8.0    8.0    9.0    8.0    8.0   10.0    0.0    8.0   \n352930    10.0    7.0   10.0    8.0    9.0    9.0    9.0    9.0    7.0    9.0   \n\nMAL_ID   ...  40716  40776  40839  40902  40956  41120  41168  41226  41353  \\\nuser_id  ...                                                                  \n478      ...    0.0    7.0    0.0    0.0    0.0    0.0    7.0    0.0    0.0   \n781      ...    8.0    9.0    7.0    4.0    7.0    0.0    6.0    7.0    7.0   \n853      ...    0.0    7.0    0.0    0.0    0.0    0.0    0.0    0.0    5.0   \n890      ...    0.0    0.0    0.0    0.0    0.0    0.0    0.0    0.0    0.0   \n912      ...    8.0    0.0    7.0    0.0    0.0    0.0    0.0    0.0    7.0   \n...      ...    ...    ...    ...    ...    ...    ...    ...    ...    ...   \n352832   ...    0.0    0.0    0.0    0.0    0.0    0.0    0.0    0.0    0.0   \n352835   ...    0.0    0.0    0.0    0.0    0.0    0.0    0.0    0.0    0.0   \n352922   ...    0.0    0.0    0.0    0.0    0.0    0.0    0.0    0.0    0.0   \n352924   ...    0.0    8.0    0.0    0.0    0.0    0.0    0.0    0.0    0.0   \n352930   ...    0.0    0.0    0.0    0.0    0.0    0.0    0.0    0.0    0.0   \n\nMAL_ID   41389  \nuser_id         \n478        0.0  \n781        3.0  \n853        0.0  \n890        0.0  \n912        0.0  \n...        ...  \n352832     0.0  \n352835     0.0  \n352922     0.0  \n352924     0.0  \n352930     0.0  \n\n[2998 rows x 1000 columns]",
      "text/html": "<div>\n<style scoped>\n    .dataframe tbody tr th:only-of-type {\n        vertical-align: middle;\n    }\n\n    .dataframe tbody tr th {\n        vertical-align: top;\n    }\n\n    .dataframe thead th {\n        text-align: right;\n    }\n</style>\n<table border=\"1\" class=\"dataframe\">\n  <thead>\n    <tr style=\"text-align: right;\">\n      <th>MAL_ID</th>\n      <th>1</th>\n      <th>5</th>\n      <th>6</th>\n      <th>18</th>\n      <th>19</th>\n      <th>20</th>\n      <th>24</th>\n      <th>30</th>\n      <th>31</th>\n      <th>32</th>\n      <th>...</th>\n      <th>40716</th>\n      <th>40776</th>\n      <th>40839</th>\n      <th>40902</th>\n      <th>40956</th>\n      <th>41120</th>\n      <th>41168</th>\n      <th>41226</th>\n      <th>41353</th>\n      <th>41389</th>\n    </tr>\n    <tr>\n      <th>user_id</th>\n      <th></th>\n      <th></th>\n      <th></th>\n      <th></th>\n      <th></th>\n      <th></th>\n      <th></th>\n      <th></th>\n      <th></th>\n      <th></th>\n      <th></th>\n      <th></th>\n      <th></th>\n      <th></th>\n      <th></th>\n      <th></th>\n      <th></th>\n      <th></th>\n      <th></th>\n      <th></th>\n      <th></th>\n    </tr>\n  </thead>\n  <tbody>\n    <tr>\n      <th>478</th>\n      <td>0.0</td>\n      <td>0.0</td>\n      <td>0.0</td>\n      <td>0.0</td>\n      <td>0.0</td>\n      <td>7.0</td>\n      <td>8.0</td>\n      <td>0.0</td>\n      <td>0.0</td>\n      <td>0.0</td>\n      <td>...</td>\n      <td>0.0</td>\n      <td>7.0</td>\n      <td>0.0</td>\n      <td>0.0</td>\n      <td>0.0</td>\n      <td>0.0</td>\n      <td>7.0</td>\n      <td>0.0</td>\n      <td>0.0</td>\n      <td>0.0</td>\n    </tr>\n    <tr>\n      <th>781</th>\n      <td>7.0</td>\n      <td>0.0</td>\n      <td>10.0</td>\n      <td>8.0</td>\n      <td>10.0</td>\n      <td>7.0</td>\n      <td>7.0</td>\n      <td>0.0</td>\n      <td>0.0</td>\n      <td>0.0</td>\n      <td>...</td>\n      <td>8.0</td>\n      <td>9.0</td>\n      <td>7.0</td>\n      <td>4.0</td>\n      <td>7.0</td>\n      <td>0.0</td>\n      <td>6.0</td>\n      <td>7.0</td>\n      <td>7.0</td>\n      <td>3.0</td>\n    </tr>\n    <tr>\n      <th>853</th>\n      <td>9.0</td>\n      <td>10.0</td>\n      <td>8.0</td>\n      <td>9.0</td>\n      <td>8.0</td>\n      <td>9.0</td>\n      <td>0.0</td>\n      <td>8.0</td>\n      <td>0.0</td>\n      <td>8.0</td>\n      <td>...</td>\n      <td>0.0</td>\n      <td>7.0</td>\n      <td>0.0</td>\n      <td>0.0</td>\n      <td>0.0</td>\n      <td>0.0</td>\n      <td>0.0</td>\n      <td>0.0</td>\n      <td>5.0</td>\n      <td>0.0</td>\n    </tr>\n    <tr>\n      <th>890</th>\n      <td>9.0</td>\n      <td>9.0</td>\n      <td>9.0</td>\n      <td>8.0</td>\n      <td>10.0</td>\n      <td>7.0</td>\n      <td>2.0</td>\n      <td>8.0</td>\n      <td>7.0</td>\n      <td>9.0</td>\n      <td>...</td>\n      <td>0.0</td>\n      <td>0.0</td>\n      <td>0.0</td>\n      <td>0.0</td>\n      <td>0.0</td>\n      <td>0.0</td>\n      <td>0.0</td>\n      <td>0.0</td>\n      <td>0.0</td>\n      <td>0.0</td>\n    </tr>\n    <tr>\n      <th>912</th>\n      <td>0.0</td>\n      <td>0.0</td>\n      <td>0.0</td>\n      <td>0.0</td>\n      <td>0.0</td>\n      <td>6.0</td>\n      <td>0.0</td>\n      <td>0.0</td>\n      <td>0.0</td>\n      <td>0.0</td>\n      <td>...</td>\n      <td>8.0</td>\n      <td>0.0</td>\n      <td>7.0</td>\n      <td>0.0</td>\n      <td>0.0</td>\n      <td>0.0</td>\n      <td>0.0</td>\n      <td>0.0</td>\n      <td>7.0</td>\n      <td>0.0</td>\n    </tr>\n    <tr>\n      <th>...</th>\n      <td>...</td>\n      <td>...</td>\n      <td>...</td>\n      <td>...</td>\n      <td>...</td>\n      <td>...</td>\n      <td>...</td>\n      <td>...</td>\n      <td>...</td>\n      <td>...</td>\n      <td>...</td>\n      <td>...</td>\n      <td>...</td>\n      <td>...</td>\n      <td>...</td>\n      <td>...</td>\n      <td>...</td>\n      <td>...</td>\n      <td>...</td>\n      <td>...</td>\n      <td>...</td>\n    </tr>\n    <tr>\n      <th>352832</th>\n      <td>0.0</td>\n      <td>0.0</td>\n      <td>10.0</td>\n      <td>10.0</td>\n      <td>10.0</td>\n      <td>1.0</td>\n      <td>0.0</td>\n      <td>10.0</td>\n      <td>0.0</td>\n      <td>10.0</td>\n      <td>...</td>\n      <td>0.0</td>\n      <td>0.0</td>\n      <td>0.0</td>\n      <td>0.0</td>\n      <td>0.0</td>\n      <td>0.0</td>\n      <td>0.0</td>\n      <td>0.0</td>\n      <td>0.0</td>\n      <td>0.0</td>\n    </tr>\n    <tr>\n      <th>352835</th>\n      <td>0.0</td>\n      <td>0.0</td>\n      <td>9.0</td>\n      <td>0.0</td>\n      <td>0.0</td>\n      <td>7.0</td>\n      <td>0.0</td>\n      <td>7.0</td>\n      <td>0.0</td>\n      <td>7.0</td>\n      <td>...</td>\n      <td>0.0</td>\n      <td>0.0</td>\n      <td>0.0</td>\n      <td>0.0</td>\n      <td>0.0</td>\n      <td>0.0</td>\n      <td>0.0</td>\n      <td>0.0</td>\n      <td>0.0</td>\n      <td>0.0</td>\n    </tr>\n    <tr>\n      <th>352922</th>\n      <td>0.0</td>\n      <td>0.0</td>\n      <td>0.0</td>\n      <td>0.0</td>\n      <td>7.0</td>\n      <td>0.0</td>\n      <td>0.0</td>\n      <td>3.0</td>\n      <td>0.0</td>\n      <td>7.0</td>\n      <td>...</td>\n      <td>0.0</td>\n      <td>0.0</td>\n      <td>0.0</td>\n      <td>0.0</td>\n      <td>0.0</td>\n      <td>0.0</td>\n      <td>0.0</td>\n      <td>0.0</td>\n      <td>0.0</td>\n      <td>0.0</td>\n    </tr>\n    <tr>\n      <th>352924</th>\n      <td>10.0</td>\n      <td>9.0</td>\n      <td>8.0</td>\n      <td>8.0</td>\n      <td>9.0</td>\n      <td>8.0</td>\n      <td>8.0</td>\n      <td>10.0</td>\n      <td>0.0</td>\n      <td>8.0</td>\n      <td>...</td>\n      <td>0.0</td>\n      <td>8.0</td>\n      <td>0.0</td>\n      <td>0.0</td>\n      <td>0.0</td>\n      <td>0.0</td>\n      <td>0.0</td>\n      <td>0.0</td>\n      <td>0.0</td>\n      <td>0.0</td>\n    </tr>\n    <tr>\n      <th>352930</th>\n      <td>10.0</td>\n      <td>7.0</td>\n      <td>10.0</td>\n      <td>8.0</td>\n      <td>9.0</td>\n      <td>9.0</td>\n      <td>9.0</td>\n      <td>9.0</td>\n      <td>7.0</td>\n      <td>9.0</td>\n      <td>...</td>\n      <td>0.0</td>\n      <td>0.0</td>\n      <td>0.0</td>\n      <td>0.0</td>\n      <td>0.0</td>\n      <td>0.0</td>\n      <td>0.0</td>\n      <td>0.0</td>\n      <td>0.0</td>\n      <td>0.0</td>\n    </tr>\n  </tbody>\n</table>\n<p>2998 rows × 1000 columns</p>\n</div>"
     },
     "execution_count": 109,
     "metadata": {},
     "output_type": "execute_result"
    }
   ],
   "source": [
    "# user item interaction matrix\n",
    "anime_matrix_UII = rating_popular_anime.pivot_table(index='user_id', columns='MAL_ID', values='rating').fillna(0)\n",
    "anime_matrix_UII"
   ],
   "metadata": {
    "collapsed": false,
    "pycharm": {
     "name": "#%%\n"
    }
   }
  },
  {
   "cell_type": "code",
   "execution_count": 110,
   "outputs": [
    {
     "data": {
      "text/plain": "NearestNeighbors(algorithm='brute', metric='cosine')"
     },
     "execution_count": 110,
     "metadata": {},
     "output_type": "execute_result"
    }
   ],
   "source": [
    "# convert the pivot table into a sparse matrix\n",
    "from scipy.sparse import csr_matrix\n",
    "rating_matrix = csr_matrix(anime_matrix_UII.values)\n",
    "\n",
    "# create a KNN model and fit rating matrix\n",
    "from sklearn.neighbors import NearestNeighbors\n",
    "model = NearestNeighbors(metric=\"cosine\", algorithm=\"brute\")\n",
    "model.fit(rating_matrix)"
   ],
   "metadata": {
    "collapsed": false,
    "pycharm": {
     "name": "#%%\n"
    }
   }
  },
  {
   "cell_type": "code",
   "execution_count": 111,
   "outputs": [],
   "source": [
    "import collections\n",
    "import numpy as np\n",
    "\n",
    "def predict_knn_user_based(user_index, k):\n",
    "    distances, indices = model.kneighbors(anime_matrix_UII.loc[user_index, :].values.reshape(1, -1), n_neighbors=k)\n",
    "    # anime the user has watched\n",
    "    user_watched = set(user_anime_dict[user_index])\n",
    "    # populate anime k neighbours have watched\n",
    "    neighbours_watched = {}\n",
    "    for i in range(0, len(distances.flatten())):\n",
    "        neighbours_watched[anime_matrix_UII.index[indices.flatten()[i]]] = user_anime_dict[\n",
    "            anime_matrix_UII.index[indices.flatten()[i]]].copy()\n",
    "        for k, v in neighbours_watched[anime_matrix_UII.index[indices.flatten()[i]]].items():\n",
    "            neighbours_watched[anime_matrix_UII.index[indices.flatten()[i]]][k] = [1 - distances.flatten()[i], v]\n",
    "    user_unwatched = []\n",
    "    for nw in neighbours_watched:\n",
    "        # traverse animes neighbour watched\n",
    "        an = neighbours_watched[nw].keys() - user_watched.intersection(neighbours_watched[nw].keys())\n",
    "        for un_an in an:\n",
    "            user_unwatched.append(un_an)\n",
    "    common = [item for item, count in collections.Counter(user_unwatched).items() if count > 1]\n",
    "    common_unwatched_rating = []\n",
    "    for f in common:\n",
    "        m, w = [], []\n",
    "        for u in neighbours_watched:\n",
    "            if neighbours_watched[u].get(f):\n",
    "                m.append(neighbours_watched[u].get(f)[0] * neighbours_watched[u].get(f)[1])\n",
    "                w.append(neighbours_watched[u].get(f)[0])\n",
    "        common_unwatched_rating.append([np.sum(m) / np.sum(w), f])\n",
    "    common_unwatched_rating = sorted(common_unwatched_rating, reverse=True)\n",
    "    return common_unwatched_rating"
   ],
   "metadata": {
    "collapsed": false,
    "pycharm": {
     "name": "#%%\n"
    }
   }
  },
  {
   "cell_type": "code",
   "execution_count": 112,
   "outputs": [],
   "source": [
    "def recommend_user_based(user_id_input, k=10):\n",
    "    r_user_based = predict_knn_user_based(user_id_input, k)[:10]\n",
    "    r_mal = {}\n",
    "    for d, m in r_user_based:\n",
    "        r_mal[m] = d\n",
    "    sorted_keys = sorted(r_mal.keys())\n",
    "    sorted_distance = [r_mal[k] for k in sorted_keys]\n",
    "    rec = anime_df[(anime_df['MAL_ID'].isin(sorted_keys))]\n",
    "    rec = rec.sort_values(by='MAL_ID')\n",
    "    rec.insert(2, \"Distance\", sorted_distance, True)\n",
    "    rec = rec.sort_values(by='Distance')\n",
    "    return rec"
   ],
   "metadata": {
    "collapsed": false,
    "pycharm": {
     "name": "#%%\n"
    }
   }
  },
  {
   "cell_type": "code",
   "execution_count": 113,
   "outputs": [
    {
     "data": {
      "text/plain": "       MAL_ID                                                     Name  \\\n4970     7311                            Suzumiya Haruhi no Shoushitsu   \n1863     2043                                                Cat's Eye   \n14293   37491         Gintama.: Shirogane no Tamashii-hen - Kouhan-sen   \n2199     2402                                            Ashita no Joe   \n11684   33050  Fate/stay night Movie: Heaven's Feel - III. Spring Song   \n2668     2921                                          Ashita no Joe 2   \n9913    28977                                                 Gintama°   \n8413    21195                              Soul Eater: Late Night Show   \n6006     9969                                                 Gintama'   \n833       918                                                  Gintama   \n\n       Distance Score  \\\n4970   8.890991  8.65   \n1863   8.993280  7.18   \n14293  8.998149  8.86   \n2199   9.000000  8.28   \n11684  9.000000  8.79   \n2668   9.000844  8.67   \n9913   9.001942   9.1   \n8413   9.002789  6.82   \n6006   9.125955  9.08   \n833    9.251211  8.96   \n\n                                                             Genres     Type  \\\n4970         Comedy, Mystery, Romance, School, Sci-Fi, Supernatural    Movie   \n1863                    Action, Adventure, Comedy, Mystery, Romance       TV   \n14293  Action, Sci-Fi, Comedy, Historical, Parody, Samurai, Shounen       TV   \n2199                  Action, Drama, Shounen, Slice of Life, Sports       TV   \n11684                          Action, Supernatural, Magic, Fantasy    Movie   \n2668                  Action, Drama, Shounen, Slice of Life, Sports       TV   \n9913   Action, Comedy, Historical, Parody, Samurai, Sci-Fi, Shounen       TV   \n8413                                        Action, Fantasy, Comedy  Special   \n6006   Action, Sci-Fi, Comedy, Historical, Parody, Samurai, Shounen       TV   \n833    Action, Comedy, Historical, Parody, Samurai, Sci-Fi, Shounen       TV   \n\n      Episodes    Premiered                Studios        Source  \\\n4970         1      Unknown        Kyoto Animation   Light novel   \n1863        73  Summer 1983    Tokyo Movie Shinsha         Manga   \n14293       14  Summer 2018  Bandai Namco Pictures         Manga   \n2199        79  Spring 1970       Mushi Production         Manga   \n11684        1      Unknown               ufotable  Visual novel   \n2668        47    Fall 1980    Tokyo Movie Shinsha         Manga   \n9913        51  Spring 2015  Bandai Namco Pictures         Manga   \n8413        51      Unknown                  Bones         Manga   \n6006        51  Spring 2011                Sunrise         Manga   \n833        201  Spring 2006                Sunrise         Manga   \n\n                               Rating  Completed  \n4970        PG-13 - Teens 13 or older     322186  \n1863        PG-13 - Teens 13 or older       6701  \n14293       PG-13 - Teens 13 or older      67276  \n2199        PG-13 - Teens 13 or older      15185  \n11684  R - 17+ (violence & profanity)      19886  \n2668        PG-13 - Teens 13 or older      14113  \n9913        PG-13 - Teens 13 or older     167130  \n8413        PG-13 - Teens 13 or older      10360  \n6006        PG-13 - Teens 13 or older     190008  \n833         PG-13 - Teens 13 or older     230260  ",
      "text/html": "<div>\n<style scoped>\n    .dataframe tbody tr th:only-of-type {\n        vertical-align: middle;\n    }\n\n    .dataframe tbody tr th {\n        vertical-align: top;\n    }\n\n    .dataframe thead th {\n        text-align: right;\n    }\n</style>\n<table border=\"1\" class=\"dataframe\">\n  <thead>\n    <tr style=\"text-align: right;\">\n      <th></th>\n      <th>MAL_ID</th>\n      <th>Name</th>\n      <th>Distance</th>\n      <th>Score</th>\n      <th>Genres</th>\n      <th>Type</th>\n      <th>Episodes</th>\n      <th>Premiered</th>\n      <th>Studios</th>\n      <th>Source</th>\n      <th>Rating</th>\n      <th>Completed</th>\n    </tr>\n  </thead>\n  <tbody>\n    <tr>\n      <th>4970</th>\n      <td>7311</td>\n      <td>Suzumiya Haruhi no Shoushitsu</td>\n      <td>8.890991</td>\n      <td>8.65</td>\n      <td>Comedy, Mystery, Romance, School, Sci-Fi, Supernatural</td>\n      <td>Movie</td>\n      <td>1</td>\n      <td>Unknown</td>\n      <td>Kyoto Animation</td>\n      <td>Light novel</td>\n      <td>PG-13 - Teens 13 or older</td>\n      <td>322186</td>\n    </tr>\n    <tr>\n      <th>1863</th>\n      <td>2043</td>\n      <td>Cat's Eye</td>\n      <td>8.993280</td>\n      <td>7.18</td>\n      <td>Action, Adventure, Comedy, Mystery, Romance</td>\n      <td>TV</td>\n      <td>73</td>\n      <td>Summer 1983</td>\n      <td>Tokyo Movie Shinsha</td>\n      <td>Manga</td>\n      <td>PG-13 - Teens 13 or older</td>\n      <td>6701</td>\n    </tr>\n    <tr>\n      <th>14293</th>\n      <td>37491</td>\n      <td>Gintama.: Shirogane no Tamashii-hen - Kouhan-sen</td>\n      <td>8.998149</td>\n      <td>8.86</td>\n      <td>Action, Sci-Fi, Comedy, Historical, Parody, Samurai, Shounen</td>\n      <td>TV</td>\n      <td>14</td>\n      <td>Summer 2018</td>\n      <td>Bandai Namco Pictures</td>\n      <td>Manga</td>\n      <td>PG-13 - Teens 13 or older</td>\n      <td>67276</td>\n    </tr>\n    <tr>\n      <th>2199</th>\n      <td>2402</td>\n      <td>Ashita no Joe</td>\n      <td>9.000000</td>\n      <td>8.28</td>\n      <td>Action, Drama, Shounen, Slice of Life, Sports</td>\n      <td>TV</td>\n      <td>79</td>\n      <td>Spring 1970</td>\n      <td>Mushi Production</td>\n      <td>Manga</td>\n      <td>PG-13 - Teens 13 or older</td>\n      <td>15185</td>\n    </tr>\n    <tr>\n      <th>11684</th>\n      <td>33050</td>\n      <td>Fate/stay night Movie: Heaven's Feel - III. Spring Song</td>\n      <td>9.000000</td>\n      <td>8.79</td>\n      <td>Action, Supernatural, Magic, Fantasy</td>\n      <td>Movie</td>\n      <td>1</td>\n      <td>Unknown</td>\n      <td>ufotable</td>\n      <td>Visual novel</td>\n      <td>R - 17+ (violence &amp; profanity)</td>\n      <td>19886</td>\n    </tr>\n    <tr>\n      <th>2668</th>\n      <td>2921</td>\n      <td>Ashita no Joe 2</td>\n      <td>9.000844</td>\n      <td>8.67</td>\n      <td>Action, Drama, Shounen, Slice of Life, Sports</td>\n      <td>TV</td>\n      <td>47</td>\n      <td>Fall 1980</td>\n      <td>Tokyo Movie Shinsha</td>\n      <td>Manga</td>\n      <td>PG-13 - Teens 13 or older</td>\n      <td>14113</td>\n    </tr>\n    <tr>\n      <th>9913</th>\n      <td>28977</td>\n      <td>Gintama°</td>\n      <td>9.001942</td>\n      <td>9.1</td>\n      <td>Action, Comedy, Historical, Parody, Samurai, Sci-Fi, Shounen</td>\n      <td>TV</td>\n      <td>51</td>\n      <td>Spring 2015</td>\n      <td>Bandai Namco Pictures</td>\n      <td>Manga</td>\n      <td>PG-13 - Teens 13 or older</td>\n      <td>167130</td>\n    </tr>\n    <tr>\n      <th>8413</th>\n      <td>21195</td>\n      <td>Soul Eater: Late Night Show</td>\n      <td>9.002789</td>\n      <td>6.82</td>\n      <td>Action, Fantasy, Comedy</td>\n      <td>Special</td>\n      <td>51</td>\n      <td>Unknown</td>\n      <td>Bones</td>\n      <td>Manga</td>\n      <td>PG-13 - Teens 13 or older</td>\n      <td>10360</td>\n    </tr>\n    <tr>\n      <th>6006</th>\n      <td>9969</td>\n      <td>Gintama'</td>\n      <td>9.125955</td>\n      <td>9.08</td>\n      <td>Action, Sci-Fi, Comedy, Historical, Parody, Samurai, Shounen</td>\n      <td>TV</td>\n      <td>51</td>\n      <td>Spring 2011</td>\n      <td>Sunrise</td>\n      <td>Manga</td>\n      <td>PG-13 - Teens 13 or older</td>\n      <td>190008</td>\n    </tr>\n    <tr>\n      <th>833</th>\n      <td>918</td>\n      <td>Gintama</td>\n      <td>9.251211</td>\n      <td>8.96</td>\n      <td>Action, Comedy, Historical, Parody, Samurai, Sci-Fi, Shounen</td>\n      <td>TV</td>\n      <td>201</td>\n      <td>Spring 2006</td>\n      <td>Sunrise</td>\n      <td>Manga</td>\n      <td>PG-13 - Teens 13 or older</td>\n      <td>230260</td>\n    </tr>\n  </tbody>\n</table>\n</div>"
     },
     "execution_count": 113,
     "metadata": {},
     "output_type": "execute_result"
    }
   ],
   "source": [
    "recommendation_user_based_knn = recommend_user_based(478, 10)\n",
    "recommendation_user_based_knn"
   ],
   "metadata": {
    "collapsed": false,
    "pycharm": {
     "name": "#%%\n"
    }
   }
  },
  {
   "cell_type": "code",
   "execution_count": 114,
   "outputs": [
    {
     "ename": "TypeError",
     "evalue": "get_user_info() missing 1 required positional argument: 'genre_str'",
     "output_type": "error",
     "traceback": [
      "\u001B[0;31m---------------------------------------------------------------------------\u001B[0m",
      "\u001B[0;31mTypeError\u001B[0m                                 Traceback (most recent call last)",
      "\u001B[0;32m/var/folders/g0/k118r9sd19sf8b5hbwpt5wz40000gn/T/ipykernel_7939/1561982430.py\u001B[0m in \u001B[0;36m<module>\u001B[0;34m\u001B[0m\n\u001B[0;32m----> 1\u001B[0;31m \u001B[0mevaluate_unsupervised\u001B[0m\u001B[0;34m(\u001B[0m\u001B[0mrecommend_user_based\u001B[0m\u001B[0;34m)\u001B[0m\u001B[0;34m\u001B[0m\u001B[0;34m\u001B[0m\u001B[0m\n\u001B[0m",
      "\u001B[0;32m/var/folders/g0/k118r9sd19sf8b5hbwpt5wz40000gn/T/ipykernel_7939/3418387371.py\u001B[0m in \u001B[0;36mevaluate_unsupervised\u001B[0;34m(algorithm)\u001B[0m\n\u001B[1;32m     84\u001B[0m         \u001B[0mr\u001B[0m \u001B[0;34m=\u001B[0m \u001B[0malgorithm\u001B[0m\u001B[0;34m(\u001B[0m\u001B[0muser\u001B[0m\u001B[0;34m)\u001B[0m\u001B[0;34m\u001B[0m\u001B[0;34m\u001B[0m\u001B[0m\n\u001B[1;32m     85\u001B[0m         \u001B[0mcount\u001B[0m \u001B[0;34m=\u001B[0m \u001B[0;36m0\u001B[0m\u001B[0;34m\u001B[0m\u001B[0;34m\u001B[0m\u001B[0m\n\u001B[0;32m---> 86\u001B[0;31m         \u001B[0muser_line\u001B[0m \u001B[0;34m=\u001B[0m \u001B[0mget_user_info\u001B[0m\u001B[0;34m(\u001B[0m\u001B[0muser\u001B[0m\u001B[0;34m)\u001B[0m\u001B[0;34m\u001B[0m\u001B[0;34m\u001B[0m\u001B[0m\n\u001B[0m\u001B[1;32m     87\u001B[0m         \u001B[0;32mfor\u001B[0m \u001B[0mmal_id\u001B[0m \u001B[0;32min\u001B[0m \u001B[0mget_mal_id\u001B[0m\u001B[0;34m(\u001B[0m\u001B[0mr\u001B[0m\u001B[0;34m)\u001B[0m\u001B[0;34m:\u001B[0m\u001B[0;34m\u001B[0m\u001B[0;34m\u001B[0m\u001B[0m\n\u001B[1;32m     88\u001B[0m             \u001B[0mcurrent_result\u001B[0m \u001B[0;34m=\u001B[0m \u001B[0mpredict\u001B[0m\u001B[0;34m(\u001B[0m\u001B[0muser\u001B[0m\u001B[0;34m,\u001B[0m \u001B[0mmal_id\u001B[0m\u001B[0;34m,\u001B[0m \u001B[0muser_line\u001B[0m\u001B[0;34m)\u001B[0m\u001B[0;34m\u001B[0m\u001B[0;34m\u001B[0m\u001B[0m\n",
      "\u001B[0;31mTypeError\u001B[0m: get_user_info() missing 1 required positional argument: 'genre_str'"
     ]
    }
   ],
   "source": [
    "evaluate_unsupervised(recommend_user_based)"
   ],
   "metadata": {
    "collapsed": false,
    "pycharm": {
     "name": "#%%\n"
    }
   }
  },
  {
   "cell_type": "markdown",
   "source": [
    "Now let's try KNN item based approach. There are two different ways to calculate the similarities, cosine for distance between items, and pearson for correlation between items."
   ],
   "metadata": {
    "collapsed": false,
    "pycharm": {
     "name": "#%% md\n"
    }
   }
  },
  {
   "cell_type": "code",
   "execution_count": 85,
   "outputs": [],
   "source": [
    "# generalize above exploration to a fit function\n",
    "def predict_knn_item_based_pearson(input_MAL_ID, recommend_count):\n",
    "    '''\n",
    "    :return: dataframe of recommended anime\n",
    "    '''\n",
    "    user_rating_input = anime_matrix_UII[input_MAL_ID]\n",
    "    similar_to_input_anime = anime_matrix_UII.corrwith(user_rating_input)\n",
    "    corr_input = pd.DataFrame(similar_to_input_anime, columns=['correlation'])\n",
    "    corr_input.dropna(inplace=True)\n",
    "    corr_input.reset_index(inplace=True)\n",
    "    corr_input = pd.merge(corr_input, anime_df, on=\"MAL_ID\")\n",
    "    recommendation = corr_input[corr_input['Completed'] > 10000].sort_values(by='correlation', ascending=False).head(recommend_count+1)\n",
    "    recommendation.drop(recommendation.index[recommendation['MAL_ID'] == input_MAL_ID], inplace=True)\n",
    "    return recommendation"
   ],
   "metadata": {
    "collapsed": false,
    "pycharm": {
     "name": "#%%\n"
    }
   }
  },
  {
   "cell_type": "code",
   "execution_count": 86,
   "outputs": [
    {
     "data": {
      "text/plain": "    MAL_ID  correlation                                   Name Score  \\\n1        5     0.653634        Cowboy Bebop: Tengoku no Tobira  8.39   \n2        6     0.468294                                 Trigun  8.24   \n49     205     0.440870                       Samurai Champloo   8.5   \n84     467     0.420354  Koukaku Kidoutai: Stand Alone Complex  8.45   \n11      43     0.397354                       Koukaku Kidoutai  8.29   \n\n                                                     Genres   Type Episodes  \\\n1                     Action, Drama, Mystery, Sci-Fi, Space  Movie        1   \n2         Action, Sci-Fi, Adventure, Comedy, Drama, Shounen     TV       26   \n49  Action, Adventure, Comedy, Historical, Samurai, Shounen     TV       26   \n84          Action, Military, Sci-Fi, Police, Mecha, Seinen     TV       26   \n11     Action, Mecha, Police, Psychological, Sci-Fi, Seinen  Movie        1   \n\n      Premiered         Studios    Source                          Rating  \\\n1       Unknown           Bones  Original  R - 17+ (violence & profanity)   \n2   Spring 1998        Madhouse     Manga       PG-13 - Teens 13 or older   \n49  Spring 2004        Manglobe  Original  R - 17+ (violence & profanity)   \n84    Fall 2002  Production I.G     Manga  R - 17+ (violence & profanity)   \n11      Unknown  Production I.G     Manga                R+ - Mild Nudity   \n\n    Completed  \n1      208333  \n2      343492  \n49     551621  \n84     170891  \n11     325682  ",
      "text/html": "<div>\n<style scoped>\n    .dataframe tbody tr th:only-of-type {\n        vertical-align: middle;\n    }\n\n    .dataframe tbody tr th {\n        vertical-align: top;\n    }\n\n    .dataframe thead th {\n        text-align: right;\n    }\n</style>\n<table border=\"1\" class=\"dataframe\">\n  <thead>\n    <tr style=\"text-align: right;\">\n      <th></th>\n      <th>MAL_ID</th>\n      <th>correlation</th>\n      <th>Name</th>\n      <th>Score</th>\n      <th>Genres</th>\n      <th>Type</th>\n      <th>Episodes</th>\n      <th>Premiered</th>\n      <th>Studios</th>\n      <th>Source</th>\n      <th>Rating</th>\n      <th>Completed</th>\n    </tr>\n  </thead>\n  <tbody>\n    <tr>\n      <th>1</th>\n      <td>5</td>\n      <td>0.653634</td>\n      <td>Cowboy Bebop: Tengoku no Tobira</td>\n      <td>8.39</td>\n      <td>Action, Drama, Mystery, Sci-Fi, Space</td>\n      <td>Movie</td>\n      <td>1</td>\n      <td>Unknown</td>\n      <td>Bones</td>\n      <td>Original</td>\n      <td>R - 17+ (violence &amp; profanity)</td>\n      <td>208333</td>\n    </tr>\n    <tr>\n      <th>2</th>\n      <td>6</td>\n      <td>0.468294</td>\n      <td>Trigun</td>\n      <td>8.24</td>\n      <td>Action, Sci-Fi, Adventure, Comedy, Drama, Shounen</td>\n      <td>TV</td>\n      <td>26</td>\n      <td>Spring 1998</td>\n      <td>Madhouse</td>\n      <td>Manga</td>\n      <td>PG-13 - Teens 13 or older</td>\n      <td>343492</td>\n    </tr>\n    <tr>\n      <th>49</th>\n      <td>205</td>\n      <td>0.440870</td>\n      <td>Samurai Champloo</td>\n      <td>8.5</td>\n      <td>Action, Adventure, Comedy, Historical, Samurai, Shounen</td>\n      <td>TV</td>\n      <td>26</td>\n      <td>Spring 2004</td>\n      <td>Manglobe</td>\n      <td>Original</td>\n      <td>R - 17+ (violence &amp; profanity)</td>\n      <td>551621</td>\n    </tr>\n    <tr>\n      <th>84</th>\n      <td>467</td>\n      <td>0.420354</td>\n      <td>Koukaku Kidoutai: Stand Alone Complex</td>\n      <td>8.45</td>\n      <td>Action, Military, Sci-Fi, Police, Mecha, Seinen</td>\n      <td>TV</td>\n      <td>26</td>\n      <td>Fall 2002</td>\n      <td>Production I.G</td>\n      <td>Manga</td>\n      <td>R - 17+ (violence &amp; profanity)</td>\n      <td>170891</td>\n    </tr>\n    <tr>\n      <th>11</th>\n      <td>43</td>\n      <td>0.397354</td>\n      <td>Koukaku Kidoutai</td>\n      <td>8.29</td>\n      <td>Action, Mecha, Police, Psychological, Sci-Fi, Seinen</td>\n      <td>Movie</td>\n      <td>1</td>\n      <td>Unknown</td>\n      <td>Production I.G</td>\n      <td>Manga</td>\n      <td>R+ - Mild Nudity</td>\n      <td>325682</td>\n    </tr>\n  </tbody>\n</table>\n</div>"
     },
     "execution_count": 86,
     "metadata": {},
     "output_type": "execute_result"
    }
   ],
   "source": [
    "# test input using MAL_ID 1\n",
    "test_user_rating = anime_matrix_UII[1]\n",
    "test_user_rating.head()\n",
    "# test functionality using anime with MAL ID 1, 5 nearest neighbours\n",
    "recommendation_item_based_pearson_test = predict_knn_item_based_pearson(1, 5)\n",
    "recommendation_item_based_pearson_test"
   ],
   "metadata": {
    "collapsed": false,
    "pycharm": {
     "name": "#%%\n"
    }
   }
  },
  {
   "cell_type": "code",
   "execution_count": 87,
   "outputs": [],
   "source": [
    "recommendation_for_all = animes_popular[:100].sort_values(by='Score', ascending=False)[:10]\n",
    "top_users = rating_popular_anime.user_id.unique()"
   ],
   "metadata": {
    "collapsed": false,
    "pycharm": {
     "name": "#%%\n"
    }
   }
  },
  {
   "cell_type": "code",
   "execution_count": 88,
   "outputs": [],
   "source": [
    "def recommend_item_based_pearson(user_id_input):\n",
    "    '''\n",
    "    Take user_id to get top-rated anime by the user, then for each anime make prediction\n",
    "    return the highest 10 correlation anime\n",
    "    :param user_id_input: user id\n",
    "    :return: dataframe of recommended anime\n",
    "    '''\n",
    "    recommendation_df = pd.DataFrame(columns=['MAL_ID', 'correlation'])\n",
    "    users_groups = rating_popular_anime.groupby('user_id')\n",
    "    if user_id_input in top_users:\n",
    "        user_fav_anime = users_groups.get_group(user_id_input).sort_values(by='rating', ascending=False)[:5]['MAL_ID'].tolist()\n",
    "        for user_fav_MAL_ID in user_fav_anime:\n",
    "            r = predict_knn_item_based_pearson(user_fav_MAL_ID, 10)\n",
    "            recommendation_df = recommendation_df.append(r, ignore_index=True)\n",
    "\n",
    "        recommendation_df.sort_values('correlation', ascending=False).drop_duplicates('MAL_ID')\n",
    "        return recommendation_df[:10]\n",
    "    else:\n",
    "        return recommendation_for_all"
   ],
   "metadata": {
    "collapsed": false,
    "pycharm": {
     "name": "#%%\n"
    }
   }
  },
  {
   "cell_type": "code",
   "execution_count": 89,
   "outputs": [
    {
     "data": {
      "text/plain": "  MAL_ID  correlation                          Name Score  \\\n0  23281     0.703873                 Psycho-Pass 2  7.42   \n1  21339     0.523466             Psycho-Pass Movie  7.74   \n2  23283     0.414906             Zankyou no Terror  8.12   \n3  14513     0.362664  Magi: The Labyrinth of Magic  8.07   \n4  28223     0.359191                  Death Parade   8.2   \n5   6746     0.352121                    Durarara!!  8.18   \n6  22535     0.350316    Kiseijuu: Sei no Kakuritsu   8.4   \n7  18115     0.345764    Magi: The Kingdom of Magic  8.28   \n8  20507     0.345692                      Noragami  8.01   \n9  14075     0.344398            Zetsuen no Tempest  7.99   \n\n                                                           Genres   Type  \\\n0                           Action, Sci-Fi, Police, Psychological     TV   \n1                                Action, Military, Police, Sci-Fi  Movie   \n2                                Mystery, Psychological, Thriller     TV   \n3                      Action, Adventure, Fantasy, Magic, Shounen     TV   \n4                   Game, Mystery, Psychological, Drama, Thriller     TV   \n5                                   Action, Mystery, Supernatural     TV   \n6            Action, Sci-Fi, Horror, Psychological, Drama, Seinen     TV   \n7                      Action, Adventure, Magic, Fantasy, Shounen     TV   \n8                Action, Adventure, Comedy, Supernatural, Shounen     TV   \n9  Action, Mystery, Psychological, Drama, Magic, Fantasy, Shounen     TV   \n\n  Episodes    Premiered               Studios       Source  \\\n0       11    Fall 2014  Tatsunoko Production     Original   \n1        1      Unknown        Production I.G     Original   \n2       11  Summer 2014                 MAPPA     Original   \n3       25    Fall 2012          A-1 Pictures        Manga   \n4       12  Winter 2015              Madhouse     Original   \n5       24  Winter 2010          Brain's Base  Light novel   \n6       24    Fall 2014              Madhouse        Manga   \n7       25    Fall 2013          A-1 Pictures        Manga   \n8       12  Winter 2014                 Bones        Manga   \n9       24    Fall 2012                 Bones        Manga   \n\n                           Rating  Completed  \n0  R - 17+ (violence & profanity)   352491.0  \n1  R - 17+ (violence & profanity)   141876.0  \n2  R - 17+ (violence & profanity)   547800.0  \n3       PG-13 - Teens 13 or older   535193.0  \n4  R - 17+ (violence & profanity)   857277.0  \n5  R - 17+ (violence & profanity)   651208.0  \n6  R - 17+ (violence & profanity)   942917.0  \n7       PG-13 - Teens 13 or older   463350.0  \n8       PG-13 - Teens 13 or older  1181215.0  \n9       PG-13 - Teens 13 or older   269385.0  ",
      "text/html": "<div>\n<style scoped>\n    .dataframe tbody tr th:only-of-type {\n        vertical-align: middle;\n    }\n\n    .dataframe tbody tr th {\n        vertical-align: top;\n    }\n\n    .dataframe thead th {\n        text-align: right;\n    }\n</style>\n<table border=\"1\" class=\"dataframe\">\n  <thead>\n    <tr style=\"text-align: right;\">\n      <th></th>\n      <th>MAL_ID</th>\n      <th>correlation</th>\n      <th>Name</th>\n      <th>Score</th>\n      <th>Genres</th>\n      <th>Type</th>\n      <th>Episodes</th>\n      <th>Premiered</th>\n      <th>Studios</th>\n      <th>Source</th>\n      <th>Rating</th>\n      <th>Completed</th>\n    </tr>\n  </thead>\n  <tbody>\n    <tr>\n      <th>0</th>\n      <td>23281</td>\n      <td>0.703873</td>\n      <td>Psycho-Pass 2</td>\n      <td>7.42</td>\n      <td>Action, Sci-Fi, Police, Psychological</td>\n      <td>TV</td>\n      <td>11</td>\n      <td>Fall 2014</td>\n      <td>Tatsunoko Production</td>\n      <td>Original</td>\n      <td>R - 17+ (violence &amp; profanity)</td>\n      <td>352491.0</td>\n    </tr>\n    <tr>\n      <th>1</th>\n      <td>21339</td>\n      <td>0.523466</td>\n      <td>Psycho-Pass Movie</td>\n      <td>7.74</td>\n      <td>Action, Military, Police, Sci-Fi</td>\n      <td>Movie</td>\n      <td>1</td>\n      <td>Unknown</td>\n      <td>Production I.G</td>\n      <td>Original</td>\n      <td>R - 17+ (violence &amp; profanity)</td>\n      <td>141876.0</td>\n    </tr>\n    <tr>\n      <th>2</th>\n      <td>23283</td>\n      <td>0.414906</td>\n      <td>Zankyou no Terror</td>\n      <td>8.12</td>\n      <td>Mystery, Psychological, Thriller</td>\n      <td>TV</td>\n      <td>11</td>\n      <td>Summer 2014</td>\n      <td>MAPPA</td>\n      <td>Original</td>\n      <td>R - 17+ (violence &amp; profanity)</td>\n      <td>547800.0</td>\n    </tr>\n    <tr>\n      <th>3</th>\n      <td>14513</td>\n      <td>0.362664</td>\n      <td>Magi: The Labyrinth of Magic</td>\n      <td>8.07</td>\n      <td>Action, Adventure, Fantasy, Magic, Shounen</td>\n      <td>TV</td>\n      <td>25</td>\n      <td>Fall 2012</td>\n      <td>A-1 Pictures</td>\n      <td>Manga</td>\n      <td>PG-13 - Teens 13 or older</td>\n      <td>535193.0</td>\n    </tr>\n    <tr>\n      <th>4</th>\n      <td>28223</td>\n      <td>0.359191</td>\n      <td>Death Parade</td>\n      <td>8.2</td>\n      <td>Game, Mystery, Psychological, Drama, Thriller</td>\n      <td>TV</td>\n      <td>12</td>\n      <td>Winter 2015</td>\n      <td>Madhouse</td>\n      <td>Original</td>\n      <td>R - 17+ (violence &amp; profanity)</td>\n      <td>857277.0</td>\n    </tr>\n    <tr>\n      <th>5</th>\n      <td>6746</td>\n      <td>0.352121</td>\n      <td>Durarara!!</td>\n      <td>8.18</td>\n      <td>Action, Mystery, Supernatural</td>\n      <td>TV</td>\n      <td>24</td>\n      <td>Winter 2010</td>\n      <td>Brain's Base</td>\n      <td>Light novel</td>\n      <td>R - 17+ (violence &amp; profanity)</td>\n      <td>651208.0</td>\n    </tr>\n    <tr>\n      <th>6</th>\n      <td>22535</td>\n      <td>0.350316</td>\n      <td>Kiseijuu: Sei no Kakuritsu</td>\n      <td>8.4</td>\n      <td>Action, Sci-Fi, Horror, Psychological, Drama, Seinen</td>\n      <td>TV</td>\n      <td>24</td>\n      <td>Fall 2014</td>\n      <td>Madhouse</td>\n      <td>Manga</td>\n      <td>R - 17+ (violence &amp; profanity)</td>\n      <td>942917.0</td>\n    </tr>\n    <tr>\n      <th>7</th>\n      <td>18115</td>\n      <td>0.345764</td>\n      <td>Magi: The Kingdom of Magic</td>\n      <td>8.28</td>\n      <td>Action, Adventure, Magic, Fantasy, Shounen</td>\n      <td>TV</td>\n      <td>25</td>\n      <td>Fall 2013</td>\n      <td>A-1 Pictures</td>\n      <td>Manga</td>\n      <td>PG-13 - Teens 13 or older</td>\n      <td>463350.0</td>\n    </tr>\n    <tr>\n      <th>8</th>\n      <td>20507</td>\n      <td>0.345692</td>\n      <td>Noragami</td>\n      <td>8.01</td>\n      <td>Action, Adventure, Comedy, Supernatural, Shounen</td>\n      <td>TV</td>\n      <td>12</td>\n      <td>Winter 2014</td>\n      <td>Bones</td>\n      <td>Manga</td>\n      <td>PG-13 - Teens 13 or older</td>\n      <td>1181215.0</td>\n    </tr>\n    <tr>\n      <th>9</th>\n      <td>14075</td>\n      <td>0.344398</td>\n      <td>Zetsuen no Tempest</td>\n      <td>7.99</td>\n      <td>Action, Mystery, Psychological, Drama, Magic, Fantasy, Shounen</td>\n      <td>TV</td>\n      <td>24</td>\n      <td>Fall 2012</td>\n      <td>Bones</td>\n      <td>Manga</td>\n      <td>PG-13 - Teens 13 or older</td>\n      <td>269385.0</td>\n    </tr>\n  </tbody>\n</table>\n</div>"
     },
     "execution_count": 89,
     "metadata": {},
     "output_type": "execute_result"
    }
   ],
   "source": [
    "recommendation_item_based_knn_pearson = recommend_item_based_pearson(478)\n",
    "recommendation_item_based_knn_pearson"
   ],
   "metadata": {
    "collapsed": false,
    "pycharm": {
     "name": "#%%\n"
    }
   }
  },
  {
   "cell_type": "markdown",
   "source": [
    "Now let's try cosine based calculation approach"
   ],
   "metadata": {
    "collapsed": false,
    "pycharm": {
     "name": "#%% md\n"
    }
   }
  },
  {
   "cell_type": "code",
   "execution_count": 90,
   "outputs": [
    {
     "data": {
      "text/plain": "   user_id                  Name  MAL_ID  rating\n0      478    Witch Hunter Robin       7     853\n1      478          Eyeshield 21      15     864\n2      478  Hachimitsu to Clover      16    1374\n3      478                Naruto      20    2211\n4      478   Tennis no Ouji-sama      22     821",
      "text/html": "<div>\n<style scoped>\n    .dataframe tbody tr th:only-of-type {\n        vertical-align: middle;\n    }\n\n    .dataframe tbody tr th {\n        vertical-align: top;\n    }\n\n    .dataframe thead th {\n        text-align: right;\n    }\n</style>\n<table border=\"1\" class=\"dataframe\">\n  <thead>\n    <tr style=\"text-align: right;\">\n      <th></th>\n      <th>user_id</th>\n      <th>Name</th>\n      <th>MAL_ID</th>\n      <th>rating</th>\n    </tr>\n  </thead>\n  <tbody>\n    <tr>\n      <th>0</th>\n      <td>478</td>\n      <td>Witch Hunter Robin</td>\n      <td>7</td>\n      <td>853</td>\n    </tr>\n    <tr>\n      <th>1</th>\n      <td>478</td>\n      <td>Eyeshield 21</td>\n      <td>15</td>\n      <td>864</td>\n    </tr>\n    <tr>\n      <th>2</th>\n      <td>478</td>\n      <td>Hachimitsu to Clover</td>\n      <td>16</td>\n      <td>1374</td>\n    </tr>\n    <tr>\n      <th>3</th>\n      <td>478</td>\n      <td>Naruto</td>\n      <td>20</td>\n      <td>2211</td>\n    </tr>\n    <tr>\n      <th>4</th>\n      <td>478</td>\n      <td>Tennis no Ouji-sama</td>\n      <td>22</td>\n      <td>821</td>\n    </tr>\n  </tbody>\n</table>\n</div>"
     },
     "execution_count": 90,
     "metadata": {},
     "output_type": "execute_result"
    }
   ],
   "source": [
    "# load top users with anime rating dataset\n",
    "rating_data = df_top.merge(anime_df, left_on = 'MAL_ID', right_on = 'MAL_ID', how = 'left')\n",
    "rating_data = rating_data[[\"user_id\", \"Name\", \"MAL_ID\",\"rating\"]]\n",
    "combine_anime_rating = rating_data.dropna(axis = 0, subset = ['Name'])\n",
    "anime_ratingCount = (combine_anime_rating.groupby(by = ['Name'])['rating'].count().reset_index()[['Name', 'rating']])\n",
    "rating_data = combine_anime_rating.merge(anime_ratingCount, left_on = 'Name', right_on = 'Name', how = 'left')\n",
    "rating_data = rating_data.drop(columns = \"rating_x\")\n",
    "rating_data = rating_data.rename(columns={\"rating_y\": \"rating\"})\n",
    "rating_data.head()"
   ],
   "metadata": {
    "collapsed": false,
    "pycharm": {
     "name": "#%%\n"
    }
   }
  },
  {
   "cell_type": "code",
   "execution_count": 91,
   "outputs": [
    {
     "data": {
      "text/plain": "user_id                                                 478     781     \\\nName                                                                     \n\"0\"                                                        0.0     0.0   \n\"Aesop\" no Ohanashi yori: Ushi to Kaeru, Yokubatta Inu     0.0     0.0   \n\"Bungaku Shoujo\" Kyou no Oyatsu: Hatsukoi                  0.0     0.0   \n\"Bungaku Shoujo\" Memoire                                   0.0     0.0   \n\"Bungaku Shoujo\" Movie                                     0.0     0.0   \n\nuser_id                                                 853     890     \\\nName                                                                     \n\"0\"                                                        0.0   307.0   \n\"Aesop\" no Ohanashi yori: Ushi to Kaeru, Yokubatta Inu     0.0    12.0   \n\"Bungaku Shoujo\" Kyou no Oyatsu: Hatsukoi                  0.0     0.0   \n\"Bungaku Shoujo\" Memoire                                   0.0     0.0   \n\"Bungaku Shoujo\" Movie                                     0.0     0.0   \n\nuser_id                                                 912     943     \\\nName                                                                     \n\"0\"                                                        0.0     0.0   \n\"Aesop\" no Ohanashi yori: Ushi to Kaeru, Yokubatta Inu     0.0     0.0   \n\"Bungaku Shoujo\" Kyou no Oyatsu: Hatsukoi                  0.0     0.0   \n\"Bungaku Shoujo\" Memoire                                   0.0     0.0   \n\"Bungaku Shoujo\" Movie                                     0.0     0.0   \n\nuser_id                                                 1177    1231    \\\nName                                                                     \n\"0\"                                                        0.0     0.0   \n\"Aesop\" no Ohanashi yori: Ushi to Kaeru, Yokubatta Inu     0.0     0.0   \n\"Bungaku Shoujo\" Kyou no Oyatsu: Hatsukoi                  0.0   922.0   \n\"Bungaku Shoujo\" Memoire                                   0.0   982.0   \n\"Bungaku Shoujo\" Movie                                     0.0  1196.0   \n\nuser_id                                                 1393    1397    ...  \\\nName                                                                    ...   \n\"0\"                                                        0.0     0.0  ...   \n\"Aesop\" no Ohanashi yori: Ushi to Kaeru, Yokubatta Inu     0.0     0.0  ...   \n\"Bungaku Shoujo\" Kyou no Oyatsu: Hatsukoi                  0.0   922.0  ...   \n\"Bungaku Shoujo\" Memoire                                   0.0   982.0  ...   \n\"Bungaku Shoujo\" Movie                                     0.0  1196.0  ...   \n\nuser_id                                                 352366  352478  \\\nName                                                                     \n\"0\"                                                        0.0     0.0   \n\"Aesop\" no Ohanashi yori: Ushi to Kaeru, Yokubatta Inu     0.0     0.0   \n\"Bungaku Shoujo\" Kyou no Oyatsu: Hatsukoi                  0.0   922.0   \n\"Bungaku Shoujo\" Memoire                                   0.0     0.0   \n\"Bungaku Shoujo\" Movie                                     0.0  1196.0   \n\nuser_id                                                 352660  352669  \\\nName                                                                     \n\"0\"                                                        0.0     0.0   \n\"Aesop\" no Ohanashi yori: Ushi to Kaeru, Yokubatta Inu     0.0     0.0   \n\"Bungaku Shoujo\" Kyou no Oyatsu: Hatsukoi                  0.0     0.0   \n\"Bungaku Shoujo\" Memoire                                 982.0   982.0   \n\"Bungaku Shoujo\" Movie                                  1196.0  1196.0   \n\nuser_id                                                 352761  352832  \\\nName                                                                     \n\"0\"                                                        0.0     0.0   \n\"Aesop\" no Ohanashi yori: Ushi to Kaeru, Yokubatta Inu     0.0     0.0   \n\"Bungaku Shoujo\" Kyou no Oyatsu: Hatsukoi                922.0     0.0   \n\"Bungaku Shoujo\" Memoire                                 982.0     0.0   \n\"Bungaku Shoujo\" Movie                                  1196.0     0.0   \n\nuser_id                                                 352835  352922  \\\nName                                                                     \n\"0\"                                                        0.0   307.0   \n\"Aesop\" no Ohanashi yori: Ushi to Kaeru, Yokubatta Inu     0.0     0.0   \n\"Bungaku Shoujo\" Kyou no Oyatsu: Hatsukoi                  0.0     0.0   \n\"Bungaku Shoujo\" Memoire                                   0.0   982.0   \n\"Bungaku Shoujo\" Movie                                     0.0     0.0   \n\nuser_id                                                 352924  352930  \nName                                                                    \n\"0\"                                                        0.0     0.0  \n\"Aesop\" no Ohanashi yori: Ushi to Kaeru, Yokubatta Inu     0.0     0.0  \n\"Bungaku Shoujo\" Kyou no Oyatsu: Hatsukoi                  0.0   922.0  \n\"Bungaku Shoujo\" Memoire                                   0.0   982.0  \n\"Bungaku Shoujo\" Movie                                  1196.0  1196.0  \n\n[5 rows x 3000 columns]",
      "text/html": "<div>\n<style scoped>\n    .dataframe tbody tr th:only-of-type {\n        vertical-align: middle;\n    }\n\n    .dataframe tbody tr th {\n        vertical-align: top;\n    }\n\n    .dataframe thead th {\n        text-align: right;\n    }\n</style>\n<table border=\"1\" class=\"dataframe\">\n  <thead>\n    <tr style=\"text-align: right;\">\n      <th>user_id</th>\n      <th>478</th>\n      <th>781</th>\n      <th>853</th>\n      <th>890</th>\n      <th>912</th>\n      <th>943</th>\n      <th>1177</th>\n      <th>1231</th>\n      <th>1393</th>\n      <th>1397</th>\n      <th>...</th>\n      <th>352366</th>\n      <th>352478</th>\n      <th>352660</th>\n      <th>352669</th>\n      <th>352761</th>\n      <th>352832</th>\n      <th>352835</th>\n      <th>352922</th>\n      <th>352924</th>\n      <th>352930</th>\n    </tr>\n    <tr>\n      <th>Name</th>\n      <th></th>\n      <th></th>\n      <th></th>\n      <th></th>\n      <th></th>\n      <th></th>\n      <th></th>\n      <th></th>\n      <th></th>\n      <th></th>\n      <th></th>\n      <th></th>\n      <th></th>\n      <th></th>\n      <th></th>\n      <th></th>\n      <th></th>\n      <th></th>\n      <th></th>\n      <th></th>\n      <th></th>\n    </tr>\n  </thead>\n  <tbody>\n    <tr>\n      <th>\"0\"</th>\n      <td>0.0</td>\n      <td>0.0</td>\n      <td>0.0</td>\n      <td>307.0</td>\n      <td>0.0</td>\n      <td>0.0</td>\n      <td>0.0</td>\n      <td>0.0</td>\n      <td>0.0</td>\n      <td>0.0</td>\n      <td>...</td>\n      <td>0.0</td>\n      <td>0.0</td>\n      <td>0.0</td>\n      <td>0.0</td>\n      <td>0.0</td>\n      <td>0.0</td>\n      <td>0.0</td>\n      <td>307.0</td>\n      <td>0.0</td>\n      <td>0.0</td>\n    </tr>\n    <tr>\n      <th>\"Aesop\" no Ohanashi yori: Ushi to Kaeru, Yokubatta Inu</th>\n      <td>0.0</td>\n      <td>0.0</td>\n      <td>0.0</td>\n      <td>12.0</td>\n      <td>0.0</td>\n      <td>0.0</td>\n      <td>0.0</td>\n      <td>0.0</td>\n      <td>0.0</td>\n      <td>0.0</td>\n      <td>...</td>\n      <td>0.0</td>\n      <td>0.0</td>\n      <td>0.0</td>\n      <td>0.0</td>\n      <td>0.0</td>\n      <td>0.0</td>\n      <td>0.0</td>\n      <td>0.0</td>\n      <td>0.0</td>\n      <td>0.0</td>\n    </tr>\n    <tr>\n      <th>\"Bungaku Shoujo\" Kyou no Oyatsu: Hatsukoi</th>\n      <td>0.0</td>\n      <td>0.0</td>\n      <td>0.0</td>\n      <td>0.0</td>\n      <td>0.0</td>\n      <td>0.0</td>\n      <td>0.0</td>\n      <td>922.0</td>\n      <td>0.0</td>\n      <td>922.0</td>\n      <td>...</td>\n      <td>0.0</td>\n      <td>922.0</td>\n      <td>0.0</td>\n      <td>0.0</td>\n      <td>922.0</td>\n      <td>0.0</td>\n      <td>0.0</td>\n      <td>0.0</td>\n      <td>0.0</td>\n      <td>922.0</td>\n    </tr>\n    <tr>\n      <th>\"Bungaku Shoujo\" Memoire</th>\n      <td>0.0</td>\n      <td>0.0</td>\n      <td>0.0</td>\n      <td>0.0</td>\n      <td>0.0</td>\n      <td>0.0</td>\n      <td>0.0</td>\n      <td>982.0</td>\n      <td>0.0</td>\n      <td>982.0</td>\n      <td>...</td>\n      <td>0.0</td>\n      <td>0.0</td>\n      <td>982.0</td>\n      <td>982.0</td>\n      <td>982.0</td>\n      <td>0.0</td>\n      <td>0.0</td>\n      <td>982.0</td>\n      <td>0.0</td>\n      <td>982.0</td>\n    </tr>\n    <tr>\n      <th>\"Bungaku Shoujo\" Movie</th>\n      <td>0.0</td>\n      <td>0.0</td>\n      <td>0.0</td>\n      <td>0.0</td>\n      <td>0.0</td>\n      <td>0.0</td>\n      <td>0.0</td>\n      <td>1196.0</td>\n      <td>0.0</td>\n      <td>1196.0</td>\n      <td>...</td>\n      <td>0.0</td>\n      <td>1196.0</td>\n      <td>1196.0</td>\n      <td>1196.0</td>\n      <td>1196.0</td>\n      <td>0.0</td>\n      <td>0.0</td>\n      <td>0.0</td>\n      <td>1196.0</td>\n      <td>1196.0</td>\n    </tr>\n  </tbody>\n</table>\n<p>5 rows × 3000 columns</p>\n</div>"
     },
     "execution_count": 91,
     "metadata": {},
     "output_type": "execute_result"
    }
   ],
   "source": [
    "count_group = rating_data.groupby('user_id')['rating'].count()\n",
    "top_users_count = 3000\n",
    "top_users_process = count_group.dropna().sort_values(ascending=False)[:top_users_count]\n",
    "top_r = rating_data.join(top_users_process, rsuffix='_r', how='inner', on='user_id')\n",
    "count_group = rating_data.groupby('MAL_ID')['rating'].count()\n",
    "top_animes = count_group.dropna().sort_values(ascending=False)[:top_animes_count]\n",
    "top_r = top_r.join(top_animes, rsuffix='_r', how='inner', on='MAL_ID')\n",
    "pivot = pd.crosstab(top_r.user_id, top_r.MAL_ID, top_r.rating, aggfunc=np.sum)\n",
    "pivot.fillna(0, inplace=True)\n",
    "piviot_table = rating_data.pivot_table(index=\"Name\",columns=\"user_id\", values=\"rating\").fillna(0)\n",
    "piviot_table.head()"
   ],
   "metadata": {
    "collapsed": false,
    "pycharm": {
     "name": "#%%\n"
    }
   }
  },
  {
   "cell_type": "code",
   "execution_count": 92,
   "outputs": [
    {
     "data": {
      "text/plain": "NearestNeighbors(algorithm='brute', metric='cosine')"
     },
     "execution_count": 92,
     "metadata": {},
     "output_type": "execute_result"
    }
   ],
   "source": [
    "from scipy.sparse import csr_matrix\n",
    "piviot_table_matrix = csr_matrix(piviot_table.values)\n",
    "# create knn model and fit matrix\n",
    "from sklearn.neighbors import NearestNeighbors\n",
    "model = NearestNeighbors(metric=\"cosine\", algorithm=\"brute\")\n",
    "model.fit(piviot_table_matrix)"
   ],
   "metadata": {
    "collapsed": false,
    "pycharm": {
     "name": "#%%\n"
    }
   }
  },
  {
   "cell_type": "code",
   "execution_count": 93,
   "outputs": [],
   "source": [
    "def predict_knn_item_based_cosine(anime_name_input, n_neighbors):\n",
    "    query = piviot_table.loc[anime_name_input, :].values.reshape(1, -1)\n",
    "\n",
    "    distance, suggestions = model.kneighbors(query, n_neighbors)\n",
    "    recommendation = {}\n",
    "    for i in range(0, len(distance.flatten())):\n",
    "        if i != 0:\n",
    "            recommendation[piviot_table.index[suggestions.flatten()[i]]] = distance.flatten()[i]\n",
    "\n",
    "    return recommendation"
   ],
   "metadata": {
    "collapsed": false,
    "pycharm": {
     "name": "#%%\n"
    }
   }
  },
  {
   "cell_type": "code",
   "execution_count": 94,
   "outputs": [
    {
     "data": {
      "text/plain": "{'To Heart': 0.2732727223710337,\n 'To Heart: Remember My Memories Specials': 0.29498835462217965,\n 'To Heart 2': 0.30237780857340457,\n 'To Heart 2 OVA': 0.35235157990445853,\n 'To Heart 2 AD': 0.3677287767366777,\n 'To Heart 2 AD Plus': 0.38812794166617737,\n 'To Heart 2 Special': 0.40202581826607475,\n 'To Heart Omake': 0.4271426754758034,\n 'To Heart 2 Adnext': 0.4333862988611539}"
     },
     "execution_count": 94,
     "metadata": {},
     "output_type": "execute_result"
    }
   ],
   "source": [
    "predict_knn_item_based_cosine('To Heart: Remember My Memories', 10)"
   ],
   "metadata": {
    "collapsed": false,
    "pycharm": {
     "name": "#%%\n"
    }
   }
  },
  {
   "cell_type": "code",
   "execution_count": 95,
   "outputs": [],
   "source": [
    "def recommend_item_based_cosine(user_id_input):\n",
    "    '''\n",
    "    Take user_id to get top-rated anime by the user, then for each anime make prediction\n",
    "    return the highest 10 correlation anime\n",
    "    :param user_id_input: user id\n",
    "    :return: dataframe of recommended anime\n",
    "    '''\n",
    "    recommendation_df = pd.DataFrame(columns=['MAL_ID'])\n",
    "    users_groups = rating_popular_anime.groupby('user_id')\n",
    "    if user_id_input in top_users:\n",
    "        user_fav_anime = users_groups.get_group(user_id_input).sort_values(by='rating', ascending=False)[:5]['MAL_ID'].tolist()\n",
    "        for user_fav_MAL_ID in user_fav_anime:\n",
    "            anime_name=anime_df[anime_df['MAL_ID']==user_fav_MAL_ID]['Name'].values[0]\n",
    "            r = predict_knn_item_based_cosine(anime_name, 10)\n",
    "            r_df = anime_df[(anime_df['Name'].isin(r.keys()))]\n",
    "            distances = []\n",
    "            for index, row in r_df.iterrows():\n",
    "                distances.append(r[row['Name']])\n",
    "            r_df.insert(2, \"Distance\", distances, True)\n",
    "            recommendation_df = recommendation_df.append(r_df, ignore_index=True)\n",
    "\n",
    "        recommendation_df = recommendation_df.sort_values(by='Distance', ascending=True).drop_duplicates('MAL_ID')\n",
    "        return recommendation_df[:10]\n",
    "    else:\n",
    "        return recommendation_for_all"
   ],
   "metadata": {
    "collapsed": false,
    "pycharm": {
     "name": "#%%\n"
    }
   }
  },
  {
   "cell_type": "code",
   "execution_count": 96,
   "outputs": [
    {
     "data": {
      "text/plain": "   MAL_ID                                               Name  Distance Score  \\\n22  10087                                          Fate/Zero  0.022017  8.34   \n7   23281                                      Psycho-Pass 2  0.076945  7.42   \n25  22297             Fate/stay night: Unlimited Blade Works  0.080051  8.22   \n39   6547                                       Angel Beats!  0.080328  8.15   \n26  28701  Fate/stay night: Unlimited Blade Works 2nd Season  0.089437  8.33   \n4   16498                                 Shingeki no Kyojin  0.094947  8.48   \n42  11757                                   Sword Art Online  0.095000  7.25   \n40   9253                                        Steins;Gate  0.095953  9.11   \n37   4224                                          Toradora!  0.096454  8.24   \n18    356                                    Fate/stay night  0.099712  7.34   \n\n                                                             Genres Type  \\\n22                             Action, Supernatural, Magic, Fantasy   TV   \n7                             Action, Sci-Fi, Police, Psychological   TV   \n25                             Action, Fantasy, Magic, Supernatural   TV   \n39                      Action, Comedy, Drama, School, Supernatural   TV   \n26                             Action, Fantasy, Magic, Supernatural   TV   \n4   Action, Military, Mystery, Super Power, Drama, Fantasy, Shounen   TV   \n42                        Action, Game, Adventure, Romance, Fantasy   TV   \n40                                                 Thriller, Sci-Fi   TV   \n37                           Slice of Life, Comedy, Romance, School   TV   \n18                    Action, Supernatural, Magic, Romance, Fantasy   TV   \n\n   Episodes    Premiered               Studios        Source  \\\n22       13    Fall 2011              ufotable   Light novel   \n7        11    Fall 2014  Tatsunoko Production      Original   \n25       12    Fall 2014              ufotable  Visual novel   \n39       13  Spring 2010            P.A. Works      Original   \n26       13  Spring 2015              ufotable  Visual novel   \n4        25  Spring 2013            Wit Studio         Manga   \n42       25  Summer 2012          A-1 Pictures   Light novel   \n40       24  Spring 2011             White Fox  Visual novel   \n37       25    Fall 2008             J.C.Staff   Light novel   \n18       24  Winter 2006           Studio Deen  Visual novel   \n\n                            Rating  Completed  \n22  R - 17+ (violence & profanity)   773576.0  \n7   R - 17+ (violence & profanity)   352491.0  \n25  R - 17+ (violence & profanity)   592974.0  \n39       PG-13 - Teens 13 or older  1229098.0  \n26  R - 17+ (violence & profanity)   506098.0  \n4   R - 17+ (violence & profanity)  2182587.0  \n42       PG-13 - Teens 13 or older  1907261.0  \n40       PG-13 - Teens 13 or older  1134756.0  \n37       PG-13 - Teens 13 or older  1191775.0  \n18  R - 17+ (violence & profanity)   510563.0  ",
      "text/html": "<div>\n<style scoped>\n    .dataframe tbody tr th:only-of-type {\n        vertical-align: middle;\n    }\n\n    .dataframe tbody tr th {\n        vertical-align: top;\n    }\n\n    .dataframe thead th {\n        text-align: right;\n    }\n</style>\n<table border=\"1\" class=\"dataframe\">\n  <thead>\n    <tr style=\"text-align: right;\">\n      <th></th>\n      <th>MAL_ID</th>\n      <th>Name</th>\n      <th>Distance</th>\n      <th>Score</th>\n      <th>Genres</th>\n      <th>Type</th>\n      <th>Episodes</th>\n      <th>Premiered</th>\n      <th>Studios</th>\n      <th>Source</th>\n      <th>Rating</th>\n      <th>Completed</th>\n    </tr>\n  </thead>\n  <tbody>\n    <tr>\n      <th>22</th>\n      <td>10087</td>\n      <td>Fate/Zero</td>\n      <td>0.022017</td>\n      <td>8.34</td>\n      <td>Action, Supernatural, Magic, Fantasy</td>\n      <td>TV</td>\n      <td>13</td>\n      <td>Fall 2011</td>\n      <td>ufotable</td>\n      <td>Light novel</td>\n      <td>R - 17+ (violence &amp; profanity)</td>\n      <td>773576.0</td>\n    </tr>\n    <tr>\n      <th>7</th>\n      <td>23281</td>\n      <td>Psycho-Pass 2</td>\n      <td>0.076945</td>\n      <td>7.42</td>\n      <td>Action, Sci-Fi, Police, Psychological</td>\n      <td>TV</td>\n      <td>11</td>\n      <td>Fall 2014</td>\n      <td>Tatsunoko Production</td>\n      <td>Original</td>\n      <td>R - 17+ (violence &amp; profanity)</td>\n      <td>352491.0</td>\n    </tr>\n    <tr>\n      <th>25</th>\n      <td>22297</td>\n      <td>Fate/stay night: Unlimited Blade Works</td>\n      <td>0.080051</td>\n      <td>8.22</td>\n      <td>Action, Fantasy, Magic, Supernatural</td>\n      <td>TV</td>\n      <td>12</td>\n      <td>Fall 2014</td>\n      <td>ufotable</td>\n      <td>Visual novel</td>\n      <td>R - 17+ (violence &amp; profanity)</td>\n      <td>592974.0</td>\n    </tr>\n    <tr>\n      <th>39</th>\n      <td>6547</td>\n      <td>Angel Beats!</td>\n      <td>0.080328</td>\n      <td>8.15</td>\n      <td>Action, Comedy, Drama, School, Supernatural</td>\n      <td>TV</td>\n      <td>13</td>\n      <td>Spring 2010</td>\n      <td>P.A. Works</td>\n      <td>Original</td>\n      <td>PG-13 - Teens 13 or older</td>\n      <td>1229098.0</td>\n    </tr>\n    <tr>\n      <th>26</th>\n      <td>28701</td>\n      <td>Fate/stay night: Unlimited Blade Works 2nd Season</td>\n      <td>0.089437</td>\n      <td>8.33</td>\n      <td>Action, Fantasy, Magic, Supernatural</td>\n      <td>TV</td>\n      <td>13</td>\n      <td>Spring 2015</td>\n      <td>ufotable</td>\n      <td>Visual novel</td>\n      <td>R - 17+ (violence &amp; profanity)</td>\n      <td>506098.0</td>\n    </tr>\n    <tr>\n      <th>4</th>\n      <td>16498</td>\n      <td>Shingeki no Kyojin</td>\n      <td>0.094947</td>\n      <td>8.48</td>\n      <td>Action, Military, Mystery, Super Power, Drama, Fantasy, Shounen</td>\n      <td>TV</td>\n      <td>25</td>\n      <td>Spring 2013</td>\n      <td>Wit Studio</td>\n      <td>Manga</td>\n      <td>R - 17+ (violence &amp; profanity)</td>\n      <td>2182587.0</td>\n    </tr>\n    <tr>\n      <th>42</th>\n      <td>11757</td>\n      <td>Sword Art Online</td>\n      <td>0.095000</td>\n      <td>7.25</td>\n      <td>Action, Game, Adventure, Romance, Fantasy</td>\n      <td>TV</td>\n      <td>25</td>\n      <td>Summer 2012</td>\n      <td>A-1 Pictures</td>\n      <td>Light novel</td>\n      <td>PG-13 - Teens 13 or older</td>\n      <td>1907261.0</td>\n    </tr>\n    <tr>\n      <th>40</th>\n      <td>9253</td>\n      <td>Steins;Gate</td>\n      <td>0.095953</td>\n      <td>9.11</td>\n      <td>Thriller, Sci-Fi</td>\n      <td>TV</td>\n      <td>24</td>\n      <td>Spring 2011</td>\n      <td>White Fox</td>\n      <td>Visual novel</td>\n      <td>PG-13 - Teens 13 or older</td>\n      <td>1134756.0</td>\n    </tr>\n    <tr>\n      <th>37</th>\n      <td>4224</td>\n      <td>Toradora!</td>\n      <td>0.096454</td>\n      <td>8.24</td>\n      <td>Slice of Life, Comedy, Romance, School</td>\n      <td>TV</td>\n      <td>25</td>\n      <td>Fall 2008</td>\n      <td>J.C.Staff</td>\n      <td>Light novel</td>\n      <td>PG-13 - Teens 13 or older</td>\n      <td>1191775.0</td>\n    </tr>\n    <tr>\n      <th>18</th>\n      <td>356</td>\n      <td>Fate/stay night</td>\n      <td>0.099712</td>\n      <td>7.34</td>\n      <td>Action, Supernatural, Magic, Romance, Fantasy</td>\n      <td>TV</td>\n      <td>24</td>\n      <td>Winter 2006</td>\n      <td>Studio Deen</td>\n      <td>Visual novel</td>\n      <td>R - 17+ (violence &amp; profanity)</td>\n      <td>510563.0</td>\n    </tr>\n  </tbody>\n</table>\n</div>"
     },
     "execution_count": 96,
     "metadata": {},
     "output_type": "execute_result"
    }
   ],
   "source": [
    "recommendation_item_based_knn_pearson = recommend_item_based_cosine(478)\n",
    "recommendation_item_based_knn_pearson"
   ],
   "metadata": {
    "collapsed": false,
    "pycharm": {
     "name": "#%%\n"
    }
   }
  },
  {
   "cell_type": "markdown",
   "source": [
    "Now let's combine our recommendation result from unsupervised knn with supervised training model to see the accuracy result."
   ],
   "metadata": {
    "collapsed": false,
    "pycharm": {
     "name": "#%% md\n"
    }
   }
  },
  {
   "cell_type": "code",
   "execution_count": 97,
   "outputs": [],
   "source": [
    "def get_mal_id(recommendation_df):\n",
    "    return list(recommendation_df['MAL_ID'])"
   ],
   "metadata": {
    "collapsed": false,
    "pycharm": {
     "name": "#%%\n"
    }
   }
  },
  {
   "cell_type": "code",
   "execution_count": 99,
   "outputs": [
    {
     "name": "stdout",
     "output_type": "stream",
     "text": [
      "User based KNN: \n"
     ]
    },
    {
     "ename": "ValueError",
     "evalue": "Incompatible dimension for X and Y matrices: X.shape[1] == 1000 while Y.shape[1] == 3000",
     "output_type": "error",
     "traceback": [
      "\u001B[0;31m---------------------------------------------------------------------------\u001B[0m",
      "\u001B[0;31mValueError\u001B[0m                                Traceback (most recent call last)",
      "\u001B[0;32m/var/folders/g0/k118r9sd19sf8b5hbwpt5wz40000gn/T/ipykernel_7939/2181492929.py\u001B[0m in \u001B[0;36m<module>\u001B[0;34m\u001B[0m\n\u001B[1;32m      1\u001B[0m \u001B[0mprint\u001B[0m\u001B[0;34m(\u001B[0m\u001B[0;34m\"User based KNN: \"\u001B[0m\u001B[0;34m)\u001B[0m\u001B[0;34m\u001B[0m\u001B[0;34m\u001B[0m\u001B[0m\n\u001B[0;32m----> 2\u001B[0;31m \u001B[0mevaluate_unsupervised\u001B[0m\u001B[0;34m(\u001B[0m\u001B[0mrecommend_user_based\u001B[0m\u001B[0;34m)\u001B[0m\u001B[0;34m\u001B[0m\u001B[0;34m\u001B[0m\u001B[0m\n\u001B[0m",
      "\u001B[0;32m/var/folders/g0/k118r9sd19sf8b5hbwpt5wz40000gn/T/ipykernel_7939/2337988624.py\u001B[0m in \u001B[0;36mevaluate_unsupervised\u001B[0;34m(algorithm)\u001B[0m\n\u001B[1;32m     78\u001B[0m \u001B[0;32mdef\u001B[0m \u001B[0mevaluate_unsupervised\u001B[0m\u001B[0;34m(\u001B[0m\u001B[0malgorithm\u001B[0m\u001B[0;34m)\u001B[0m\u001B[0;34m:\u001B[0m\u001B[0;34m\u001B[0m\u001B[0;34m\u001B[0m\u001B[0m\n\u001B[1;32m     79\u001B[0m     \u001B[0;32mfor\u001B[0m \u001B[0muser\u001B[0m \u001B[0;32min\u001B[0m \u001B[0mtest_users\u001B[0m\u001B[0;34m:\u001B[0m\u001B[0;34m\u001B[0m\u001B[0;34m\u001B[0m\u001B[0m\n\u001B[0;32m---> 80\u001B[0;31m         \u001B[0mr\u001B[0m \u001B[0;34m=\u001B[0m \u001B[0malgorithm\u001B[0m\u001B[0;34m(\u001B[0m\u001B[0muser\u001B[0m\u001B[0;34m)\u001B[0m\u001B[0;34m\u001B[0m\u001B[0;34m\u001B[0m\u001B[0m\n\u001B[0m\u001B[1;32m     81\u001B[0m         \u001B[0mcount\u001B[0m \u001B[0;34m=\u001B[0m \u001B[0;36m0\u001B[0m\u001B[0;34m\u001B[0m\u001B[0;34m\u001B[0m\u001B[0m\n\u001B[1;32m     82\u001B[0m         \u001B[0muser_line\u001B[0m \u001B[0;34m=\u001B[0m \u001B[0mget_user_info\u001B[0m\u001B[0;34m(\u001B[0m\u001B[0muser\u001B[0m\u001B[0;34m)\u001B[0m\u001B[0;34m\u001B[0m\u001B[0;34m\u001B[0m\u001B[0m\n",
      "\u001B[0;32m/var/folders/g0/k118r9sd19sf8b5hbwpt5wz40000gn/T/ipykernel_7939/2698996563.py\u001B[0m in \u001B[0;36mrecommend_user_based\u001B[0;34m(user_id_input, k)\u001B[0m\n\u001B[1;32m      1\u001B[0m \u001B[0;32mdef\u001B[0m \u001B[0mrecommend_user_based\u001B[0m\u001B[0;34m(\u001B[0m\u001B[0muser_id_input\u001B[0m\u001B[0;34m,\u001B[0m \u001B[0mk\u001B[0m\u001B[0;34m=\u001B[0m\u001B[0;36m10\u001B[0m\u001B[0;34m)\u001B[0m\u001B[0;34m:\u001B[0m\u001B[0;34m\u001B[0m\u001B[0;34m\u001B[0m\u001B[0m\n\u001B[0;32m----> 2\u001B[0;31m     \u001B[0mr_user_based\u001B[0m \u001B[0;34m=\u001B[0m \u001B[0mpredict_knn_user_based\u001B[0m\u001B[0;34m(\u001B[0m\u001B[0muser_id_input\u001B[0m\u001B[0;34m,\u001B[0m \u001B[0mk\u001B[0m\u001B[0;34m)\u001B[0m\u001B[0;34m[\u001B[0m\u001B[0;34m:\u001B[0m\u001B[0;36m10\u001B[0m\u001B[0;34m]\u001B[0m\u001B[0;34m\u001B[0m\u001B[0;34m\u001B[0m\u001B[0m\n\u001B[0m\u001B[1;32m      3\u001B[0m     \u001B[0mr_mal\u001B[0m \u001B[0;34m=\u001B[0m \u001B[0;34m{\u001B[0m\u001B[0;34m}\u001B[0m\u001B[0;34m\u001B[0m\u001B[0;34m\u001B[0m\u001B[0m\n\u001B[1;32m      4\u001B[0m     \u001B[0;32mfor\u001B[0m \u001B[0md\u001B[0m\u001B[0;34m,\u001B[0m \u001B[0mm\u001B[0m \u001B[0;32min\u001B[0m \u001B[0mr_user_based\u001B[0m\u001B[0;34m:\u001B[0m\u001B[0;34m\u001B[0m\u001B[0;34m\u001B[0m\u001B[0m\n\u001B[1;32m      5\u001B[0m         \u001B[0mr_mal\u001B[0m\u001B[0;34m[\u001B[0m\u001B[0mm\u001B[0m\u001B[0;34m]\u001B[0m \u001B[0;34m=\u001B[0m \u001B[0md\u001B[0m\u001B[0;34m\u001B[0m\u001B[0;34m\u001B[0m\u001B[0m\n",
      "\u001B[0;32m/var/folders/g0/k118r9sd19sf8b5hbwpt5wz40000gn/T/ipykernel_7939/2178626951.py\u001B[0m in \u001B[0;36mpredict_knn_user_based\u001B[0;34m(user_index, k)\u001B[0m\n\u001B[1;32m      3\u001B[0m \u001B[0;34m\u001B[0m\u001B[0m\n\u001B[1;32m      4\u001B[0m \u001B[0;32mdef\u001B[0m \u001B[0mpredict_knn_user_based\u001B[0m\u001B[0;34m(\u001B[0m\u001B[0muser_index\u001B[0m\u001B[0;34m,\u001B[0m \u001B[0mk\u001B[0m\u001B[0;34m)\u001B[0m\u001B[0;34m:\u001B[0m\u001B[0;34m\u001B[0m\u001B[0;34m\u001B[0m\u001B[0m\n\u001B[0;32m----> 5\u001B[0;31m     \u001B[0mdistances\u001B[0m\u001B[0;34m,\u001B[0m \u001B[0mindices\u001B[0m \u001B[0;34m=\u001B[0m \u001B[0mmodel\u001B[0m\u001B[0;34m.\u001B[0m\u001B[0mkneighbors\u001B[0m\u001B[0;34m(\u001B[0m\u001B[0manime_matrix_UII\u001B[0m\u001B[0;34m.\u001B[0m\u001B[0mloc\u001B[0m\u001B[0;34m[\u001B[0m\u001B[0muser_index\u001B[0m\u001B[0;34m,\u001B[0m \u001B[0;34m:\u001B[0m\u001B[0;34m]\u001B[0m\u001B[0;34m.\u001B[0m\u001B[0mvalues\u001B[0m\u001B[0;34m.\u001B[0m\u001B[0mreshape\u001B[0m\u001B[0;34m(\u001B[0m\u001B[0;36m1\u001B[0m\u001B[0;34m,\u001B[0m \u001B[0;34m-\u001B[0m\u001B[0;36m1\u001B[0m\u001B[0;34m)\u001B[0m\u001B[0;34m,\u001B[0m \u001B[0mn_neighbors\u001B[0m\u001B[0;34m=\u001B[0m\u001B[0mk\u001B[0m\u001B[0;34m)\u001B[0m\u001B[0;34m\u001B[0m\u001B[0;34m\u001B[0m\u001B[0m\n\u001B[0m\u001B[1;32m      6\u001B[0m     \u001B[0;31m# anime the user has watched\u001B[0m\u001B[0;34m\u001B[0m\u001B[0;34m\u001B[0m\u001B[0m\n\u001B[1;32m      7\u001B[0m     \u001B[0muser_watched\u001B[0m \u001B[0;34m=\u001B[0m \u001B[0mset\u001B[0m\u001B[0;34m(\u001B[0m\u001B[0muser_anime_dict\u001B[0m\u001B[0;34m[\u001B[0m\u001B[0muser_index\u001B[0m\u001B[0;34m]\u001B[0m\u001B[0;34m)\u001B[0m\u001B[0;34m\u001B[0m\u001B[0;34m\u001B[0m\u001B[0m\n",
      "\u001B[0;32m~/opt/anaconda3/lib/python3.9/site-packages/sklearn/neighbors/_base.py\u001B[0m in \u001B[0;36mkneighbors\u001B[0;34m(self, X, n_neighbors, return_distance)\u001B[0m\n\u001B[1;32m    703\u001B[0m                 \u001B[0mkwds\u001B[0m \u001B[0;34m=\u001B[0m \u001B[0mself\u001B[0m\u001B[0;34m.\u001B[0m\u001B[0meffective_metric_params_\u001B[0m\u001B[0;34m\u001B[0m\u001B[0;34m\u001B[0m\u001B[0m\n\u001B[1;32m    704\u001B[0m \u001B[0;34m\u001B[0m\u001B[0m\n\u001B[0;32m--> 705\u001B[0;31m             chunked_results = list(pairwise_distances_chunked(\n\u001B[0m\u001B[1;32m    706\u001B[0m                 \u001B[0mX\u001B[0m\u001B[0;34m,\u001B[0m \u001B[0mself\u001B[0m\u001B[0;34m.\u001B[0m\u001B[0m_fit_X\u001B[0m\u001B[0;34m,\u001B[0m \u001B[0mreduce_func\u001B[0m\u001B[0;34m=\u001B[0m\u001B[0mreduce_func\u001B[0m\u001B[0;34m,\u001B[0m\u001B[0;34m\u001B[0m\u001B[0;34m\u001B[0m\u001B[0m\n\u001B[1;32m    707\u001B[0m                 \u001B[0mmetric\u001B[0m\u001B[0;34m=\u001B[0m\u001B[0mself\u001B[0m\u001B[0;34m.\u001B[0m\u001B[0meffective_metric_\u001B[0m\u001B[0;34m,\u001B[0m \u001B[0mn_jobs\u001B[0m\u001B[0;34m=\u001B[0m\u001B[0mn_jobs\u001B[0m\u001B[0;34m,\u001B[0m\u001B[0;34m\u001B[0m\u001B[0;34m\u001B[0m\u001B[0m\n",
      "\u001B[0;32m~/opt/anaconda3/lib/python3.9/site-packages/sklearn/metrics/pairwise.py\u001B[0m in \u001B[0;36mpairwise_distances_chunked\u001B[0;34m(X, Y, reduce_func, metric, n_jobs, working_memory, **kwds)\u001B[0m\n\u001B[1;32m   1621\u001B[0m         \u001B[0;32melse\u001B[0m\u001B[0;34m:\u001B[0m\u001B[0;34m\u001B[0m\u001B[0;34m\u001B[0m\u001B[0m\n\u001B[1;32m   1622\u001B[0m             \u001B[0mX_chunk\u001B[0m \u001B[0;34m=\u001B[0m \u001B[0mX\u001B[0m\u001B[0;34m[\u001B[0m\u001B[0msl\u001B[0m\u001B[0;34m]\u001B[0m\u001B[0;34m\u001B[0m\u001B[0;34m\u001B[0m\u001B[0m\n\u001B[0;32m-> 1623\u001B[0;31m         D_chunk = pairwise_distances(X_chunk, Y, metric=metric,\n\u001B[0m\u001B[1;32m   1624\u001B[0m                                      n_jobs=n_jobs, **kwds)\n\u001B[1;32m   1625\u001B[0m         if ((X is Y or Y is None)\n",
      "\u001B[0;32m~/opt/anaconda3/lib/python3.9/site-packages/sklearn/utils/validation.py\u001B[0m in \u001B[0;36minner_f\u001B[0;34m(*args, **kwargs)\u001B[0m\n\u001B[1;32m     61\u001B[0m             \u001B[0mextra_args\u001B[0m \u001B[0;34m=\u001B[0m \u001B[0mlen\u001B[0m\u001B[0;34m(\u001B[0m\u001B[0margs\u001B[0m\u001B[0;34m)\u001B[0m \u001B[0;34m-\u001B[0m \u001B[0mlen\u001B[0m\u001B[0;34m(\u001B[0m\u001B[0mall_args\u001B[0m\u001B[0;34m)\u001B[0m\u001B[0;34m\u001B[0m\u001B[0;34m\u001B[0m\u001B[0m\n\u001B[1;32m     62\u001B[0m             \u001B[0;32mif\u001B[0m \u001B[0mextra_args\u001B[0m \u001B[0;34m<=\u001B[0m \u001B[0;36m0\u001B[0m\u001B[0;34m:\u001B[0m\u001B[0;34m\u001B[0m\u001B[0;34m\u001B[0m\u001B[0m\n\u001B[0;32m---> 63\u001B[0;31m                 \u001B[0;32mreturn\u001B[0m \u001B[0mf\u001B[0m\u001B[0;34m(\u001B[0m\u001B[0;34m*\u001B[0m\u001B[0margs\u001B[0m\u001B[0;34m,\u001B[0m \u001B[0;34m**\u001B[0m\u001B[0mkwargs\u001B[0m\u001B[0;34m)\u001B[0m\u001B[0;34m\u001B[0m\u001B[0;34m\u001B[0m\u001B[0m\n\u001B[0m\u001B[1;32m     64\u001B[0m \u001B[0;34m\u001B[0m\u001B[0m\n\u001B[1;32m     65\u001B[0m             \u001B[0;31m# extra_args > 0\u001B[0m\u001B[0;34m\u001B[0m\u001B[0;34m\u001B[0m\u001B[0m\n",
      "\u001B[0;32m~/opt/anaconda3/lib/python3.9/site-packages/sklearn/metrics/pairwise.py\u001B[0m in \u001B[0;36mpairwise_distances\u001B[0;34m(X, Y, metric, n_jobs, force_all_finite, **kwds)\u001B[0m\n\u001B[1;32m   1788\u001B[0m         \u001B[0mfunc\u001B[0m \u001B[0;34m=\u001B[0m \u001B[0mpartial\u001B[0m\u001B[0;34m(\u001B[0m\u001B[0mdistance\u001B[0m\u001B[0;34m.\u001B[0m\u001B[0mcdist\u001B[0m\u001B[0;34m,\u001B[0m \u001B[0mmetric\u001B[0m\u001B[0;34m=\u001B[0m\u001B[0mmetric\u001B[0m\u001B[0;34m,\u001B[0m \u001B[0;34m**\u001B[0m\u001B[0mkwds\u001B[0m\u001B[0;34m)\u001B[0m\u001B[0;34m\u001B[0m\u001B[0;34m\u001B[0m\u001B[0m\n\u001B[1;32m   1789\u001B[0m \u001B[0;34m\u001B[0m\u001B[0m\n\u001B[0;32m-> 1790\u001B[0;31m     \u001B[0;32mreturn\u001B[0m \u001B[0m_parallel_pairwise\u001B[0m\u001B[0;34m(\u001B[0m\u001B[0mX\u001B[0m\u001B[0;34m,\u001B[0m \u001B[0mY\u001B[0m\u001B[0;34m,\u001B[0m \u001B[0mfunc\u001B[0m\u001B[0;34m,\u001B[0m \u001B[0mn_jobs\u001B[0m\u001B[0;34m,\u001B[0m \u001B[0;34m**\u001B[0m\u001B[0mkwds\u001B[0m\u001B[0;34m)\u001B[0m\u001B[0;34m\u001B[0m\u001B[0;34m\u001B[0m\u001B[0m\n\u001B[0m\u001B[1;32m   1791\u001B[0m \u001B[0;34m\u001B[0m\u001B[0m\n\u001B[1;32m   1792\u001B[0m \u001B[0;34m\u001B[0m\u001B[0m\n",
      "\u001B[0;32m~/opt/anaconda3/lib/python3.9/site-packages/sklearn/metrics/pairwise.py\u001B[0m in \u001B[0;36m_parallel_pairwise\u001B[0;34m(X, Y, func, n_jobs, **kwds)\u001B[0m\n\u001B[1;32m   1357\u001B[0m \u001B[0;34m\u001B[0m\u001B[0m\n\u001B[1;32m   1358\u001B[0m     \u001B[0;32mif\u001B[0m \u001B[0meffective_n_jobs\u001B[0m\u001B[0;34m(\u001B[0m\u001B[0mn_jobs\u001B[0m\u001B[0;34m)\u001B[0m \u001B[0;34m==\u001B[0m \u001B[0;36m1\u001B[0m\u001B[0;34m:\u001B[0m\u001B[0;34m\u001B[0m\u001B[0;34m\u001B[0m\u001B[0m\n\u001B[0;32m-> 1359\u001B[0;31m         \u001B[0;32mreturn\u001B[0m \u001B[0mfunc\u001B[0m\u001B[0;34m(\u001B[0m\u001B[0mX\u001B[0m\u001B[0;34m,\u001B[0m \u001B[0mY\u001B[0m\u001B[0;34m,\u001B[0m \u001B[0;34m**\u001B[0m\u001B[0mkwds\u001B[0m\u001B[0;34m)\u001B[0m\u001B[0;34m\u001B[0m\u001B[0;34m\u001B[0m\u001B[0m\n\u001B[0m\u001B[1;32m   1360\u001B[0m \u001B[0;34m\u001B[0m\u001B[0m\n\u001B[1;32m   1361\u001B[0m     \u001B[0;31m# enforce a threading backend to prevent data communication overhead\u001B[0m\u001B[0;34m\u001B[0m\u001B[0;34m\u001B[0m\u001B[0m\n",
      "\u001B[0;32m~/opt/anaconda3/lib/python3.9/site-packages/sklearn/metrics/pairwise.py\u001B[0m in \u001B[0;36mcosine_distances\u001B[0;34m(X, Y)\u001B[0m\n\u001B[1;32m    831\u001B[0m     \"\"\"\n\u001B[1;32m    832\u001B[0m     \u001B[0;31m# 1.0 - cosine_similarity(X, Y) without copy\u001B[0m\u001B[0;34m\u001B[0m\u001B[0;34m\u001B[0m\u001B[0m\n\u001B[0;32m--> 833\u001B[0;31m     \u001B[0mS\u001B[0m \u001B[0;34m=\u001B[0m \u001B[0mcosine_similarity\u001B[0m\u001B[0;34m(\u001B[0m\u001B[0mX\u001B[0m\u001B[0;34m,\u001B[0m \u001B[0mY\u001B[0m\u001B[0;34m)\u001B[0m\u001B[0;34m\u001B[0m\u001B[0;34m\u001B[0m\u001B[0m\n\u001B[0m\u001B[1;32m    834\u001B[0m     \u001B[0mS\u001B[0m \u001B[0;34m*=\u001B[0m \u001B[0;34m-\u001B[0m\u001B[0;36m1\u001B[0m\u001B[0;34m\u001B[0m\u001B[0;34m\u001B[0m\u001B[0m\n\u001B[1;32m    835\u001B[0m     \u001B[0mS\u001B[0m \u001B[0;34m+=\u001B[0m \u001B[0;36m1\u001B[0m\u001B[0;34m\u001B[0m\u001B[0;34m\u001B[0m\u001B[0m\n",
      "\u001B[0;32m~/opt/anaconda3/lib/python3.9/site-packages/sklearn/metrics/pairwise.py\u001B[0m in \u001B[0;36mcosine_similarity\u001B[0;34m(X, Y, dense_output)\u001B[0m\n\u001B[1;32m   1178\u001B[0m     \u001B[0;31m# to avoid recursive import\u001B[0m\u001B[0;34m\u001B[0m\u001B[0;34m\u001B[0m\u001B[0m\n\u001B[1;32m   1179\u001B[0m \u001B[0;34m\u001B[0m\u001B[0m\n\u001B[0;32m-> 1180\u001B[0;31m     \u001B[0mX\u001B[0m\u001B[0;34m,\u001B[0m \u001B[0mY\u001B[0m \u001B[0;34m=\u001B[0m \u001B[0mcheck_pairwise_arrays\u001B[0m\u001B[0;34m(\u001B[0m\u001B[0mX\u001B[0m\u001B[0;34m,\u001B[0m \u001B[0mY\u001B[0m\u001B[0;34m)\u001B[0m\u001B[0;34m\u001B[0m\u001B[0;34m\u001B[0m\u001B[0m\n\u001B[0m\u001B[1;32m   1181\u001B[0m \u001B[0;34m\u001B[0m\u001B[0m\n\u001B[1;32m   1182\u001B[0m     \u001B[0mX_normalized\u001B[0m \u001B[0;34m=\u001B[0m \u001B[0mnormalize\u001B[0m\u001B[0;34m(\u001B[0m\u001B[0mX\u001B[0m\u001B[0;34m,\u001B[0m \u001B[0mcopy\u001B[0m\u001B[0;34m=\u001B[0m\u001B[0;32mTrue\u001B[0m\u001B[0;34m)\u001B[0m\u001B[0;34m\u001B[0m\u001B[0;34m\u001B[0m\u001B[0m\n",
      "\u001B[0;32m~/opt/anaconda3/lib/python3.9/site-packages/sklearn/utils/validation.py\u001B[0m in \u001B[0;36minner_f\u001B[0;34m(*args, **kwargs)\u001B[0m\n\u001B[1;32m     61\u001B[0m             \u001B[0mextra_args\u001B[0m \u001B[0;34m=\u001B[0m \u001B[0mlen\u001B[0m\u001B[0;34m(\u001B[0m\u001B[0margs\u001B[0m\u001B[0;34m)\u001B[0m \u001B[0;34m-\u001B[0m \u001B[0mlen\u001B[0m\u001B[0;34m(\u001B[0m\u001B[0mall_args\u001B[0m\u001B[0;34m)\u001B[0m\u001B[0;34m\u001B[0m\u001B[0;34m\u001B[0m\u001B[0m\n\u001B[1;32m     62\u001B[0m             \u001B[0;32mif\u001B[0m \u001B[0mextra_args\u001B[0m \u001B[0;34m<=\u001B[0m \u001B[0;36m0\u001B[0m\u001B[0;34m:\u001B[0m\u001B[0;34m\u001B[0m\u001B[0;34m\u001B[0m\u001B[0m\n\u001B[0;32m---> 63\u001B[0;31m                 \u001B[0;32mreturn\u001B[0m \u001B[0mf\u001B[0m\u001B[0;34m(\u001B[0m\u001B[0;34m*\u001B[0m\u001B[0margs\u001B[0m\u001B[0;34m,\u001B[0m \u001B[0;34m**\u001B[0m\u001B[0mkwargs\u001B[0m\u001B[0;34m)\u001B[0m\u001B[0;34m\u001B[0m\u001B[0;34m\u001B[0m\u001B[0m\n\u001B[0m\u001B[1;32m     64\u001B[0m \u001B[0;34m\u001B[0m\u001B[0m\n\u001B[1;32m     65\u001B[0m             \u001B[0;31m# extra_args > 0\u001B[0m\u001B[0;34m\u001B[0m\u001B[0;34m\u001B[0m\u001B[0m\n",
      "\u001B[0;32m~/opt/anaconda3/lib/python3.9/site-packages/sklearn/metrics/pairwise.py\u001B[0m in \u001B[0;36mcheck_pairwise_arrays\u001B[0;34m(X, Y, precomputed, dtype, accept_sparse, force_all_finite, copy)\u001B[0m\n\u001B[1;32m    158\u001B[0m                              (X.shape[0], X.shape[1], Y.shape[0]))\n\u001B[1;32m    159\u001B[0m     \u001B[0;32melif\u001B[0m \u001B[0mX\u001B[0m\u001B[0;34m.\u001B[0m\u001B[0mshape\u001B[0m\u001B[0;34m[\u001B[0m\u001B[0;36m1\u001B[0m\u001B[0;34m]\u001B[0m \u001B[0;34m!=\u001B[0m \u001B[0mY\u001B[0m\u001B[0;34m.\u001B[0m\u001B[0mshape\u001B[0m\u001B[0;34m[\u001B[0m\u001B[0;36m1\u001B[0m\u001B[0;34m]\u001B[0m\u001B[0;34m:\u001B[0m\u001B[0;34m\u001B[0m\u001B[0;34m\u001B[0m\u001B[0m\n\u001B[0;32m--> 160\u001B[0;31m         raise ValueError(\"Incompatible dimension for X and Y matrices: \"\n\u001B[0m\u001B[1;32m    161\u001B[0m                          \"X.shape[1] == %d while Y.shape[1] == %d\" % (\n\u001B[1;32m    162\u001B[0m                              X.shape[1], Y.shape[1]))\n",
      "\u001B[0;31mValueError\u001B[0m: Incompatible dimension for X and Y matrices: X.shape[1] == 1000 while Y.shape[1] == 3000"
     ]
    }
   ],
   "source": [
    "print(\"User based KNN: \")\n",
    "evaluate_unsupervised(recommend_user_based)"
   ],
   "metadata": {
    "collapsed": false,
    "pycharm": {
     "name": "#%%\n"
    }
   }
  },
  {
   "cell_type": "markdown",
   "source": [],
   "metadata": {
    "collapsed": false,
    "pycharm": {
     "name": "#%% md\n"
    }
   }
  },
  {
   "cell_type": "markdown",
   "source": [],
   "metadata": {
    "collapsed": false,
    "pycharm": {
     "name": "#%% md\n"
    }
   }
  }
 ],
 "metadata": {
  "kernelspec": {
   "display_name": "Python 3",
   "language": "python",
   "name": "python3"
  },
  "language_info": {
   "codemirror_mode": {
    "name": "ipython",
    "version": 2
   },
   "file_extension": ".py",
   "mimetype": "text/x-python",
   "name": "python",
   "nbconvert_exporter": "python",
   "pygments_lexer": "ipython2",
   "version": "2.7.6"
  }
 },
 "nbformat": 4,
 "nbformat_minor": 0
}