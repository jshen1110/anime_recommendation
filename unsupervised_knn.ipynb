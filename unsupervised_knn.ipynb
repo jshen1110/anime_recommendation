{
 "cells": [
  {
   "cell_type": "markdown",
   "source": [
    "## Data Import Part"
   ],
   "metadata": {
    "collapsed": false,
    "pycharm": {
     "name": "#%% md\n"
    }
   }
  },
  {
   "cell_type": "code",
   "execution_count": 4,
   "outputs": [],
   "source": [
    "import pandas as pd\n",
    "import warnings\n",
    "warnings.filterwarnings('ignore')\n",
    "pd.set_option(\"max_colwidth\", None)"
   ],
   "metadata": {
    "collapsed": false,
    "pycharm": {
     "name": "#%%\n"
    }
   }
  },
  {
   "cell_type": "code",
   "execution_count": 5,
   "outputs": [],
   "source": [
    "# load anime dataset\n",
    "usecols = [\"MAL_ID\", \"Name\", \"Score\", \"Genres\", \"Type\", \"Episodes\", \"Premiered\",\n",
    "           \"Studios\", \"Source\", \"Rating\", \"Completed\"]\n",
    "anime_df = pd.read_csv('dataset/anime.csv', usecols=usecols)\n",
    "\n",
    "# import rating for anime that users marked complete\n",
    "user_rating_data = pd.read_csv('dataset/rating_complete.csv')"
   ],
   "metadata": {
    "collapsed": false,
    "pycharm": {
     "name": "#%%\n"
    }
   }
  },
  {
   "cell_type": "markdown",
   "source": [
    "<font size=\"5\">As the dataset is huge, we will limit the data to top 3000 users who gave ratings and top 1000 anime that are reviewed.</font>\n"
   ],
   "metadata": {
    "collapsed": false,
    "pycharm": {
     "name": "#%% md\n"
    }
   }
  },
  {
   "cell_type": "code",
   "execution_count": 6,
   "outputs": [],
   "source": [
    "top_users_count = 3000\n",
    "top_animes_count = 1000"
   ],
   "metadata": {
    "collapsed": false,
    "pycharm": {
     "name": "#%%\n"
    }
   }
  },
  {
   "cell_type": "code",
   "execution_count": 22,
   "outputs": [],
   "source": [
    "user_ranking = user_rating_data.groupby(['user_id']).count().sort_values('anime_id',ascending=False)\n",
    "top_users = user_ranking[0:top_users_count]\n",
    "# key: user_id, value:{mal_id:score}\n",
    "user_anime_dict = dict()\n",
    "def populate_user_anime_dict(user_id):\n",
    "    piece = user_rating_data.loc[user_rating_data['user_id'] == user_id]\n",
    "    current_user = {}\n",
    "    for index, row in piece.iterrows():\n",
    "        mal_id = row[\"anime_id\"]\n",
    "        score = row[\"rating\"]\n",
    "\n",
    "        current_user[mal_id] = score\n",
    "\n",
    "    user_anime_dict[user_id] = current_user\n",
    "for index, row in top_users.iterrows():\n",
    "    user_id  = index\n",
    "    populate_user_anime_dict(user_id)"
   ],
   "metadata": {
    "collapsed": false,
    "pycharm": {
     "name": "#%%\n"
    }
   }
  },
  {
   "cell_type": "markdown",
   "source": [
    "<font size=\"5\">The code above generated dataframe to be used from the user_anime_dict.\n",
    "</font>"
   ],
   "metadata": {
    "collapsed": false,
    "pycharm": {
     "name": "#%% md\n"
    }
   }
  },
  {
   "cell_type": "code",
   "execution_count": 75,
   "outputs": [
    {
     "data": {
      "text/plain": "   user_id  MAL_ID  rating\n3      478      20       7\n5      478      24       8\n7      478      43       6\n8      478      47       8\n9      478      48       6",
      "text/html": "<div>\n<style scoped>\n    .dataframe tbody tr th:only-of-type {\n        vertical-align: middle;\n    }\n\n    .dataframe tbody tr th {\n        vertical-align: top;\n    }\n\n    .dataframe thead th {\n        text-align: right;\n    }\n</style>\n<table border=\"1\" class=\"dataframe\">\n  <thead>\n    <tr style=\"text-align: right;\">\n      <th></th>\n      <th>user_id</th>\n      <th>MAL_ID</th>\n      <th>rating</th>\n    </tr>\n  </thead>\n  <tbody>\n    <tr>\n      <th>3</th>\n      <td>478</td>\n      <td>20</td>\n      <td>7</td>\n    </tr>\n    <tr>\n      <th>5</th>\n      <td>478</td>\n      <td>24</td>\n      <td>8</td>\n    </tr>\n    <tr>\n      <th>7</th>\n      <td>478</td>\n      <td>43</td>\n      <td>6</td>\n    </tr>\n    <tr>\n      <th>8</th>\n      <td>478</td>\n      <td>47</td>\n      <td>8</td>\n    </tr>\n    <tr>\n      <th>9</th>\n      <td>478</td>\n      <td>48</td>\n      <td>6</td>\n    </tr>\n  </tbody>\n</table>\n</div>"
     },
     "execution_count": 75,
     "metadata": {},
     "output_type": "execute_result"
    }
   ],
   "source": [
    "expand = sorted([(k,k1,v1) for k,v in user_anime_dict.items() for k1,v1 in v.items()],\n",
    "            key=lambda x: (x[0], x[1]))\n",
    "df_top = pd.DataFrame(expand, columns=['user_id','MAL_ID','rating'])\n",
    "animes_popular = anime_df.sort_values('Completed', ascending=False)[0:top_animes_count]\n",
    "top_animes = animes_popular['MAL_ID'].unique()\n",
    "rating_popular_anime = df_top[df_top.MAL_ID.isin(top_animes)]\n",
    "#top_users = rating_popular_anime.user_id.unique()\n",
    "rating_popular_anime.head()"
   ],
   "metadata": {
    "collapsed": false,
    "pycharm": {
     "name": "#%%\n"
    }
   }
  },
  {
   "cell_type": "markdown",
   "source": [
    "<font size=\"5\">df_top expanded the mal_id with each user_id, this could be used by other unsupervised training model, so we store the dataframe into a csv file.\n",
    "</font>"
   ],
   "metadata": {
    "collapsed": false,
    "pycharm": {
     "name": "#%% md\n"
    }
   }
  },
  {
   "cell_type": "code",
   "execution_count": 11,
   "outputs": [],
   "source": [
    "# df_top.to_csv('dataset/top_anime_unsupervised_use.csv', index=False)"
   ],
   "metadata": {
    "collapsed": false,
    "pycharm": {
     "name": "#%%\n"
    }
   }
  },
  {
   "cell_type": "markdown",
   "source": [
    "## Evaluation Part\n",
    "<font size=\"5\">Before going to the model part, we first borrow the model from supervised training to evaluate the unsupervised model training result.</font>"
   ],
   "metadata": {
    "collapsed": false,
    "pycharm": {
     "name": "#%% md\n"
    }
   }
  },
  {
   "cell_type": "code",
   "execution_count": 157,
   "outputs": [],
   "source": [
    "import random\n",
    "import numpy as np\n",
    "from sklearn.linear_model import LogisticRegression\n",
    "\n",
    "user_genre_count = pd.read_csv('dataset/users_genres_count.csv')\n",
    "top_animes_complete = pd.read_csv('dataset/top_animes_complete.csv')\n",
    "\n",
    "def generate_sets_genre_count(uid_str, current_user, genre_str):\n",
    "    uid_str_list = uid_str.split(\", \")\n",
    "    genre_str_list = genre_str.split(\", \")\n",
    "    uid_dict = dict()\n",
    "    for pair in uid_str_list:\n",
    "        s_pair = pair.split(\"|\")\n",
    "        uid = int(s_pair[0])\n",
    "        if uid == current_user:\n",
    "            continue\n",
    "        score = int(s_pair[1])\n",
    "        uid_dict[uid] = 1\n",
    "    X_list = []\n",
    "    y_list = []\n",
    "    for index, row in user_genre_count.iterrows():\n",
    "        uid = int(row[0])\n",
    "        if uid == current_user:\n",
    "            continue\n",
    "        genres = []\n",
    "        for genre in genre_str_list:\n",
    "            genres.append(row[genre])\n",
    "        temp = []\n",
    "        for i in range(0, len(genres)):\n",
    "            temp.append(genres[i])\n",
    "        arr = np.array(temp)\n",
    "        X_list.append(arr)\n",
    "        if uid in uid_dict:\n",
    "            y_list.append(1)\n",
    "        else:\n",
    "            y_list.append(0)\n",
    "    X = np.array(X_list)\n",
    "    y = np.array(y_list)\n",
    "    return X, y\n",
    "\n",
    "def get_user_info(user_id, genre_str):\n",
    "    user_info = user_genre_count.loc[user_genre_count['user_id'] == user_id]\n",
    "    user_info = user_info.iloc[0]\n",
    "    genre_str_list = genre_str.split(\", \")\n",
    "    temp = []\n",
    "    for genre in genre_str_list:\n",
    "        temp.append(user_info[genre])\n",
    "    user_line = np.array([np.array(temp)])\n",
    "    return user_line\n",
    "\n",
    "def predict(user_id, mal_id, user_line=None):\n",
    "    anime_info = top_animes_complete.loc[top_animes_complete['MAL_ID'] == mal_id].iloc[0]\n",
    "    if user_line is None:\n",
    "        user_line = get_user_info(user_id, anime_info[\"genres\"])\n",
    "    X, y = generate_sets_genre_count(anime_info[\"completed_user_ids\"], user_id, anime_info[\"genres\"])\n",
    "    clf = LogisticRegression().fit(X, y)\n",
    "    result = clf.predict(user_line)\n",
    "    return result[0]\n",
    "\n",
    "def generate_random_test_users(test_users_count):\n",
    "    return random.sample(list(top_users.index), test_users_count)\n",
    "\n",
    "#test_users = [272784, 98466, 11716, 45741, 208254]\n",
    "\n",
    "def evaluate_unsupervised(algorithm):\n",
    "    test_users = generate_random_test_users(5)\n",
    "    for user in test_users:\n",
    "        r = algorithm(user)\n",
    "        count = 0\n",
    "        r_mal_id = get_mal_id(r)\n",
    "        #print(r_mal_id)\n",
    "        for mal_id in r_mal_id:\n",
    "            current_result = predict(user, mal_id)\n",
    "            if current_result == 1:\n",
    "                count += 1\n",
    "        print(\"Precision for user \" + str(user) + \" is: \" + str(count / len(r)))\n",
    "\n",
    "def get_mal_id(recommendation_df):\n",
    "    return list(recommendation_df['MAL_ID'])"
   ],
   "metadata": {
    "collapsed": false,
    "pycharm": {
     "name": "#%%\n"
    }
   }
  },
  {
   "cell_type": "markdown",
   "source": [
    "## Model Part\n",
    "## User-based KNN"
   ],
   "metadata": {
    "collapsed": false
   }
  },
  {
   "cell_type": "markdown",
   "source": [
    "<font size=\"5\">After sort out the animes associated with each user, now we will perform unsupervised learning with KNN. To fit the model, we will further process data to create a sparse user item matrix to fit into the data. As the calculation will be very costly, we also use the limited data with 1000 animes and 3000 users.\n",
    "</font>\n"
   ],
   "metadata": {
    "collapsed": false
   }
  },
  {
   "cell_type": "code",
   "execution_count": 158,
   "outputs": [
    {
     "data": {
      "text/plain": "user_id  478     781     853     890     912     943     1177    1231    \\\nMAL_ID                                                                    \n1           0.0     7.0     9.0     9.0     0.0     9.0     8.0     9.0   \n5           0.0     0.0    10.0     9.0     0.0     0.0     8.0     0.0   \n6           0.0    10.0     8.0     9.0     0.0     0.0     7.0     0.0   \n18          0.0     8.0     9.0     8.0     0.0     0.0     8.0     0.0   \n19          0.0    10.0     8.0    10.0     0.0     0.0    10.0     9.0   \n\nuser_id  1393    1397    ...  352366  352478  352660  352669  352761  352832  \\\nMAL_ID                   ...                                                   \n1           0.0     8.0  ...     7.0    10.0     9.0     9.0     9.0     0.0   \n5           0.0     8.0  ...     7.0     9.0     8.0     8.0     7.0     0.0   \n6           0.0     8.0  ...     8.0     8.0     0.0     7.0    10.0    10.0   \n18          0.0     7.0  ...     0.0     0.0     0.0     0.0     0.0    10.0   \n19          0.0     0.0  ...     0.0    10.0     0.0     9.0     0.0    10.0   \n\nuser_id  352835  352922  352924  352930  \nMAL_ID                                   \n1           0.0     0.0    10.0    10.0  \n5           0.0     0.0     9.0     7.0  \n6           9.0     0.0     8.0    10.0  \n18          0.0     0.0     8.0     8.0  \n19          0.0     7.0     9.0     9.0  \n\n[5 rows x 2998 columns]",
      "text/html": "<div>\n<style scoped>\n    .dataframe tbody tr th:only-of-type {\n        vertical-align: middle;\n    }\n\n    .dataframe tbody tr th {\n        vertical-align: top;\n    }\n\n    .dataframe thead th {\n        text-align: right;\n    }\n</style>\n<table border=\"1\" class=\"dataframe\">\n  <thead>\n    <tr style=\"text-align: right;\">\n      <th>user_id</th>\n      <th>478</th>\n      <th>781</th>\n      <th>853</th>\n      <th>890</th>\n      <th>912</th>\n      <th>943</th>\n      <th>1177</th>\n      <th>1231</th>\n      <th>1393</th>\n      <th>1397</th>\n      <th>...</th>\n      <th>352366</th>\n      <th>352478</th>\n      <th>352660</th>\n      <th>352669</th>\n      <th>352761</th>\n      <th>352832</th>\n      <th>352835</th>\n      <th>352922</th>\n      <th>352924</th>\n      <th>352930</th>\n    </tr>\n    <tr>\n      <th>MAL_ID</th>\n      <th></th>\n      <th></th>\n      <th></th>\n      <th></th>\n      <th></th>\n      <th></th>\n      <th></th>\n      <th></th>\n      <th></th>\n      <th></th>\n      <th></th>\n      <th></th>\n      <th></th>\n      <th></th>\n      <th></th>\n      <th></th>\n      <th></th>\n      <th></th>\n      <th></th>\n      <th></th>\n      <th></th>\n    </tr>\n  </thead>\n  <tbody>\n    <tr>\n      <th>1</th>\n      <td>0.0</td>\n      <td>7.0</td>\n      <td>9.0</td>\n      <td>9.0</td>\n      <td>0.0</td>\n      <td>9.0</td>\n      <td>8.0</td>\n      <td>9.0</td>\n      <td>0.0</td>\n      <td>8.0</td>\n      <td>...</td>\n      <td>7.0</td>\n      <td>10.0</td>\n      <td>9.0</td>\n      <td>9.0</td>\n      <td>9.0</td>\n      <td>0.0</td>\n      <td>0.0</td>\n      <td>0.0</td>\n      <td>10.0</td>\n      <td>10.0</td>\n    </tr>\n    <tr>\n      <th>5</th>\n      <td>0.0</td>\n      <td>0.0</td>\n      <td>10.0</td>\n      <td>9.0</td>\n      <td>0.0</td>\n      <td>0.0</td>\n      <td>8.0</td>\n      <td>0.0</td>\n      <td>0.0</td>\n      <td>8.0</td>\n      <td>...</td>\n      <td>7.0</td>\n      <td>9.0</td>\n      <td>8.0</td>\n      <td>8.0</td>\n      <td>7.0</td>\n      <td>0.0</td>\n      <td>0.0</td>\n      <td>0.0</td>\n      <td>9.0</td>\n      <td>7.0</td>\n    </tr>\n    <tr>\n      <th>6</th>\n      <td>0.0</td>\n      <td>10.0</td>\n      <td>8.0</td>\n      <td>9.0</td>\n      <td>0.0</td>\n      <td>0.0</td>\n      <td>7.0</td>\n      <td>0.0</td>\n      <td>0.0</td>\n      <td>8.0</td>\n      <td>...</td>\n      <td>8.0</td>\n      <td>8.0</td>\n      <td>0.0</td>\n      <td>7.0</td>\n      <td>10.0</td>\n      <td>10.0</td>\n      <td>9.0</td>\n      <td>0.0</td>\n      <td>8.0</td>\n      <td>10.0</td>\n    </tr>\n    <tr>\n      <th>18</th>\n      <td>0.0</td>\n      <td>8.0</td>\n      <td>9.0</td>\n      <td>8.0</td>\n      <td>0.0</td>\n      <td>0.0</td>\n      <td>8.0</td>\n      <td>0.0</td>\n      <td>0.0</td>\n      <td>7.0</td>\n      <td>...</td>\n      <td>0.0</td>\n      <td>0.0</td>\n      <td>0.0</td>\n      <td>0.0</td>\n      <td>0.0</td>\n      <td>10.0</td>\n      <td>0.0</td>\n      <td>0.0</td>\n      <td>8.0</td>\n      <td>8.0</td>\n    </tr>\n    <tr>\n      <th>19</th>\n      <td>0.0</td>\n      <td>10.0</td>\n      <td>8.0</td>\n      <td>10.0</td>\n      <td>0.0</td>\n      <td>0.0</td>\n      <td>10.0</td>\n      <td>9.0</td>\n      <td>0.0</td>\n      <td>0.0</td>\n      <td>...</td>\n      <td>0.0</td>\n      <td>10.0</td>\n      <td>0.0</td>\n      <td>9.0</td>\n      <td>0.0</td>\n      <td>10.0</td>\n      <td>0.0</td>\n      <td>7.0</td>\n      <td>9.0</td>\n      <td>9.0</td>\n    </tr>\n  </tbody>\n</table>\n<p>5 rows × 2998 columns</p>\n</div>"
     },
     "execution_count": 158,
     "metadata": {},
     "output_type": "execute_result"
    }
   ],
   "source": [
    "anime_matrix_UII_user_based = rating_popular_anime.pivot_table(index='MAL_ID', columns='user_id', values='rating').fillna(0)\n",
    "anime_matrix_UII_user_based.head()"
   ],
   "metadata": {
    "collapsed": false,
    "pycharm": {
     "name": "#%%\n"
    }
   }
  },
  {
   "cell_type": "code",
   "execution_count": 159,
   "outputs": [],
   "source": [
    "def predict_user_based(input_u_ID, recommend_count):\n",
    "    user_rating_input = anime_matrix_UII_user_based[input_u_ID]\n",
    "    similar_to_input_anime = anime_matrix_UII_user_based.corrwith(user_rating_input)\n",
    "    corr_input = pd.DataFrame(similar_to_input_anime, columns=['correlation'])\n",
    "    corr_input.dropna(inplace=True)\n",
    "    corr_input.reset_index(inplace=True)\n",
    "    corr_input = corr_input[(corr_input['user_id'].isin(top_users.index))]\n",
    "    corr_input.drop(corr_input.index[corr_input['user_id'] == input_u_ID], inplace=True)\n",
    "    corr_input = corr_input.sort_values(by='correlation', ascending=False).head(recommend_count+1)\n",
    "    return corr_input"
   ],
   "metadata": {
    "collapsed": false,
    "pycharm": {
     "name": "#%%\n"
    }
   }
  },
  {
   "cell_type": "code",
   "execution_count": 160,
   "outputs": [
    {
     "data": {
      "text/plain": "       MAL_ID                              Name Score  \\\n1393     1535                        Death Note  8.63   \n6614    11757                  Sword Art Online  7.25   \n11185   31964             Boku no Hero Academia  8.11   \n11308   32281                    Kimi no Na wa.  8.96   \n11914   33486  Boku no Hero Academia 2nd Season  8.33   \n9383    25777       Shingeki no Kyojin Season 2  8.45   \n8551    21881               Sword Art Online II  6.79   \n9011    23755                 Nanatsu no Taizai  7.89   \n6474    11061            Hunter x Hunter (2011)   9.1   \n8625    22199                    Akame ga Kill!  7.53   \n\n                                                                Genres   Type  \\\n1393   Mystery, Police, Psychological, Supernatural, Thriller, Shounen     TV   \n6614                         Action, Game, Adventure, Romance, Fantasy     TV   \n11185                     Action, Comedy, School, Shounen, Super Power     TV   \n11308                             Romance, Supernatural, School, Drama  Movie   \n11914                     Action, Comedy, Super Power, School, Shounen     TV   \n9383   Action, Military, Mystery, Super Power, Drama, Fantasy, Shounen     TV   \n8551                         Action, Game, Adventure, Romance, Fantasy     TV   \n9011   Action, Adventure, Ecchi, Fantasy, Magic, Shounen, Supernatural     TV   \n6474                  Action, Adventure, Fantasy, Shounen, Super Power     TV   \n8625                        Action, Adventure, Drama, Fantasy, Shounen     TV   \n\n      Episodes    Premiered           Studios       Source  \\\n1393        37    Fall 2006          Madhouse        Manga   \n6614        25  Summer 2012      A-1 Pictures  Light novel   \n11185       13  Spring 2016             Bones        Manga   \n11308        1      Unknown  CoMix Wave Films     Original   \n11914       25  Spring 2017             Bones        Manga   \n9383        12  Spring 2017        Wit Studio        Manga   \n8551        24  Summer 2014      A-1 Pictures  Light novel   \n9011        24    Fall 2014      A-1 Pictures        Manga   \n6474       148    Fall 2011          Madhouse        Manga   \n8625        24  Summer 2014         White Fox        Manga   \n\n                               Rating  Completed  \n1393   R - 17+ (violence & profanity)    2146116  \n6614        PG-13 - Teens 13 or older    1907261  \n11185       PG-13 - Teens 13 or older    1655900  \n11308       PG-13 - Teens 13 or older    1462143  \n11914       PG-13 - Teens 13 or older    1389299  \n9383   R - 17+ (violence & profanity)    1337762  \n8551        PG-13 - Teens 13 or older    1199824  \n9011        PG-13 - Teens 13 or older    1151443  \n6474        PG-13 - Teens 13 or older    1094486  \n8625   R - 17+ (violence & profanity)    1088784  ",
      "text/html": "<div>\n<style scoped>\n    .dataframe tbody tr th:only-of-type {\n        vertical-align: middle;\n    }\n\n    .dataframe tbody tr th {\n        vertical-align: top;\n    }\n\n    .dataframe thead th {\n        text-align: right;\n    }\n</style>\n<table border=\"1\" class=\"dataframe\">\n  <thead>\n    <tr style=\"text-align: right;\">\n      <th></th>\n      <th>MAL_ID</th>\n      <th>Name</th>\n      <th>Score</th>\n      <th>Genres</th>\n      <th>Type</th>\n      <th>Episodes</th>\n      <th>Premiered</th>\n      <th>Studios</th>\n      <th>Source</th>\n      <th>Rating</th>\n      <th>Completed</th>\n    </tr>\n  </thead>\n  <tbody>\n    <tr>\n      <th>1393</th>\n      <td>1535</td>\n      <td>Death Note</td>\n      <td>8.63</td>\n      <td>Mystery, Police, Psychological, Supernatural, Thriller, Shounen</td>\n      <td>TV</td>\n      <td>37</td>\n      <td>Fall 2006</td>\n      <td>Madhouse</td>\n      <td>Manga</td>\n      <td>R - 17+ (violence &amp; profanity)</td>\n      <td>2146116</td>\n    </tr>\n    <tr>\n      <th>6614</th>\n      <td>11757</td>\n      <td>Sword Art Online</td>\n      <td>7.25</td>\n      <td>Action, Game, Adventure, Romance, Fantasy</td>\n      <td>TV</td>\n      <td>25</td>\n      <td>Summer 2012</td>\n      <td>A-1 Pictures</td>\n      <td>Light novel</td>\n      <td>PG-13 - Teens 13 or older</td>\n      <td>1907261</td>\n    </tr>\n    <tr>\n      <th>11185</th>\n      <td>31964</td>\n      <td>Boku no Hero Academia</td>\n      <td>8.11</td>\n      <td>Action, Comedy, School, Shounen, Super Power</td>\n      <td>TV</td>\n      <td>13</td>\n      <td>Spring 2016</td>\n      <td>Bones</td>\n      <td>Manga</td>\n      <td>PG-13 - Teens 13 or older</td>\n      <td>1655900</td>\n    </tr>\n    <tr>\n      <th>11308</th>\n      <td>32281</td>\n      <td>Kimi no Na wa.</td>\n      <td>8.96</td>\n      <td>Romance, Supernatural, School, Drama</td>\n      <td>Movie</td>\n      <td>1</td>\n      <td>Unknown</td>\n      <td>CoMix Wave Films</td>\n      <td>Original</td>\n      <td>PG-13 - Teens 13 or older</td>\n      <td>1462143</td>\n    </tr>\n    <tr>\n      <th>11914</th>\n      <td>33486</td>\n      <td>Boku no Hero Academia 2nd Season</td>\n      <td>8.33</td>\n      <td>Action, Comedy, Super Power, School, Shounen</td>\n      <td>TV</td>\n      <td>25</td>\n      <td>Spring 2017</td>\n      <td>Bones</td>\n      <td>Manga</td>\n      <td>PG-13 - Teens 13 or older</td>\n      <td>1389299</td>\n    </tr>\n    <tr>\n      <th>9383</th>\n      <td>25777</td>\n      <td>Shingeki no Kyojin Season 2</td>\n      <td>8.45</td>\n      <td>Action, Military, Mystery, Super Power, Drama, Fantasy, Shounen</td>\n      <td>TV</td>\n      <td>12</td>\n      <td>Spring 2017</td>\n      <td>Wit Studio</td>\n      <td>Manga</td>\n      <td>R - 17+ (violence &amp; profanity)</td>\n      <td>1337762</td>\n    </tr>\n    <tr>\n      <th>8551</th>\n      <td>21881</td>\n      <td>Sword Art Online II</td>\n      <td>6.79</td>\n      <td>Action, Game, Adventure, Romance, Fantasy</td>\n      <td>TV</td>\n      <td>24</td>\n      <td>Summer 2014</td>\n      <td>A-1 Pictures</td>\n      <td>Light novel</td>\n      <td>PG-13 - Teens 13 or older</td>\n      <td>1199824</td>\n    </tr>\n    <tr>\n      <th>9011</th>\n      <td>23755</td>\n      <td>Nanatsu no Taizai</td>\n      <td>7.89</td>\n      <td>Action, Adventure, Ecchi, Fantasy, Magic, Shounen, Supernatural</td>\n      <td>TV</td>\n      <td>24</td>\n      <td>Fall 2014</td>\n      <td>A-1 Pictures</td>\n      <td>Manga</td>\n      <td>PG-13 - Teens 13 or older</td>\n      <td>1151443</td>\n    </tr>\n    <tr>\n      <th>6474</th>\n      <td>11061</td>\n      <td>Hunter x Hunter (2011)</td>\n      <td>9.1</td>\n      <td>Action, Adventure, Fantasy, Shounen, Super Power</td>\n      <td>TV</td>\n      <td>148</td>\n      <td>Fall 2011</td>\n      <td>Madhouse</td>\n      <td>Manga</td>\n      <td>PG-13 - Teens 13 or older</td>\n      <td>1094486</td>\n    </tr>\n    <tr>\n      <th>8625</th>\n      <td>22199</td>\n      <td>Akame ga Kill!</td>\n      <td>7.53</td>\n      <td>Action, Adventure, Drama, Fantasy, Shounen</td>\n      <td>TV</td>\n      <td>24</td>\n      <td>Summer 2014</td>\n      <td>White Fox</td>\n      <td>Manga</td>\n      <td>R - 17+ (violence &amp; profanity)</td>\n      <td>1088784</td>\n    </tr>\n  </tbody>\n</table>\n</div>"
     },
     "execution_count": 160,
     "metadata": {},
     "output_type": "execute_result"
    }
   ],
   "source": [
    "def recommend_user_based(user_id_input):\n",
    "    rec = []\n",
    "    # we will find the closest 10 users\n",
    "    similar_users = predict_user_based(user_id_input, 10)\n",
    "    u_groups=rating_popular_anime.groupby('user_id')\n",
    "    user_current_history = u_groups.get_group(user_id_input)['MAL_ID'].tolist()\n",
    "    for index, s_user in similar_users.iterrows():\n",
    "        # based on similar users watching rating history, make recommendation\n",
    "        similar_user_rec = u_groups.get_group(s_user[0]).sort_values(by='rating')\n",
    "        similar_user_rec_mal_id = similar_user_rec['MAL_ID'].tolist()\n",
    "        rec.extend([x for x in similar_user_rec_mal_id if x not in user_current_history])\n",
    "\n",
    "    return animes_popular[animes_popular['MAL_ID'].isin(rec)][:10]\n",
    "\n",
    "recommend_user_based(478)"
   ],
   "metadata": {
    "collapsed": false,
    "pycharm": {
     "name": "#%%\n"
    }
   }
  },
  {
   "cell_type": "code",
   "execution_count": 162,
   "outputs": [
    {
     "name": "stdout",
     "output_type": "stream",
     "text": [
      "Precision for user 213257 is: 1.0\n",
      "Precision for user 318221 is: 0.7\n",
      "Precision for user 44567 is: 0.8\n",
      "Precision for user 34095 is: 0.8\n",
      "Precision for user 326935 is: 1.0\n"
     ]
    }
   ],
   "source": [
    "evaluate_unsupervised(recommend_user_based)"
   ],
   "metadata": {
    "collapsed": false,
    "pycharm": {
     "name": "#%%\n"
    }
   }
  },
  {
   "cell_type": "markdown",
   "source": [
    "## KNN item based model\n",
    "<font size=\"5\">Now let's try KNN item based approach. There are two different ways to calculate the similarities, cosine for distance between items, and pearson for correlation between items.\n",
    "</font>"
   ],
   "metadata": {
    "collapsed": false,
    "pycharm": {
     "name": "#%% md\n"
    }
   }
  },
  {
   "cell_type": "code",
   "execution_count": 163,
   "outputs": [
    {
     "data": {
      "text/plain": "MAL_ID   1      5      6      18     19     20     24     30     31     32     \\\nuser_id                                                                         \n478        0.0    0.0    0.0    0.0    0.0    7.0    8.0    0.0    0.0    0.0   \n781        7.0    0.0   10.0    8.0   10.0    7.0    7.0    0.0    0.0    0.0   \n853        9.0   10.0    8.0    9.0    8.0    9.0    0.0    8.0    0.0    8.0   \n890        9.0    9.0    9.0    8.0   10.0    7.0    2.0    8.0    7.0    9.0   \n912        0.0    0.0    0.0    0.0    0.0    6.0    0.0    0.0    0.0    0.0   \n\nMAL_ID   ...  40716  40776  40839  40902  40956  41120  41168  41226  41353  \\\nuser_id  ...                                                                  \n478      ...    0.0    7.0    0.0    0.0    0.0    0.0    7.0    0.0    0.0   \n781      ...    8.0    9.0    7.0    4.0    7.0    0.0    6.0    7.0    7.0   \n853      ...    0.0    7.0    0.0    0.0    0.0    0.0    0.0    0.0    5.0   \n890      ...    0.0    0.0    0.0    0.0    0.0    0.0    0.0    0.0    0.0   \n912      ...    8.0    0.0    7.0    0.0    0.0    0.0    0.0    0.0    7.0   \n\nMAL_ID   41389  \nuser_id         \n478        0.0  \n781        3.0  \n853        0.0  \n890        0.0  \n912        0.0  \n\n[5 rows x 1000 columns]",
      "text/html": "<div>\n<style scoped>\n    .dataframe tbody tr th:only-of-type {\n        vertical-align: middle;\n    }\n\n    .dataframe tbody tr th {\n        vertical-align: top;\n    }\n\n    .dataframe thead th {\n        text-align: right;\n    }\n</style>\n<table border=\"1\" class=\"dataframe\">\n  <thead>\n    <tr style=\"text-align: right;\">\n      <th>MAL_ID</th>\n      <th>1</th>\n      <th>5</th>\n      <th>6</th>\n      <th>18</th>\n      <th>19</th>\n      <th>20</th>\n      <th>24</th>\n      <th>30</th>\n      <th>31</th>\n      <th>32</th>\n      <th>...</th>\n      <th>40716</th>\n      <th>40776</th>\n      <th>40839</th>\n      <th>40902</th>\n      <th>40956</th>\n      <th>41120</th>\n      <th>41168</th>\n      <th>41226</th>\n      <th>41353</th>\n      <th>41389</th>\n    </tr>\n    <tr>\n      <th>user_id</th>\n      <th></th>\n      <th></th>\n      <th></th>\n      <th></th>\n      <th></th>\n      <th></th>\n      <th></th>\n      <th></th>\n      <th></th>\n      <th></th>\n      <th></th>\n      <th></th>\n      <th></th>\n      <th></th>\n      <th></th>\n      <th></th>\n      <th></th>\n      <th></th>\n      <th></th>\n      <th></th>\n      <th></th>\n    </tr>\n  </thead>\n  <tbody>\n    <tr>\n      <th>478</th>\n      <td>0.0</td>\n      <td>0.0</td>\n      <td>0.0</td>\n      <td>0.0</td>\n      <td>0.0</td>\n      <td>7.0</td>\n      <td>8.0</td>\n      <td>0.0</td>\n      <td>0.0</td>\n      <td>0.0</td>\n      <td>...</td>\n      <td>0.0</td>\n      <td>7.0</td>\n      <td>0.0</td>\n      <td>0.0</td>\n      <td>0.0</td>\n      <td>0.0</td>\n      <td>7.0</td>\n      <td>0.0</td>\n      <td>0.0</td>\n      <td>0.0</td>\n    </tr>\n    <tr>\n      <th>781</th>\n      <td>7.0</td>\n      <td>0.0</td>\n      <td>10.0</td>\n      <td>8.0</td>\n      <td>10.0</td>\n      <td>7.0</td>\n      <td>7.0</td>\n      <td>0.0</td>\n      <td>0.0</td>\n      <td>0.0</td>\n      <td>...</td>\n      <td>8.0</td>\n      <td>9.0</td>\n      <td>7.0</td>\n      <td>4.0</td>\n      <td>7.0</td>\n      <td>0.0</td>\n      <td>6.0</td>\n      <td>7.0</td>\n      <td>7.0</td>\n      <td>3.0</td>\n    </tr>\n    <tr>\n      <th>853</th>\n      <td>9.0</td>\n      <td>10.0</td>\n      <td>8.0</td>\n      <td>9.0</td>\n      <td>8.0</td>\n      <td>9.0</td>\n      <td>0.0</td>\n      <td>8.0</td>\n      <td>0.0</td>\n      <td>8.0</td>\n      <td>...</td>\n      <td>0.0</td>\n      <td>7.0</td>\n      <td>0.0</td>\n      <td>0.0</td>\n      <td>0.0</td>\n      <td>0.0</td>\n      <td>0.0</td>\n      <td>0.0</td>\n      <td>5.0</td>\n      <td>0.0</td>\n    </tr>\n    <tr>\n      <th>890</th>\n      <td>9.0</td>\n      <td>9.0</td>\n      <td>9.0</td>\n      <td>8.0</td>\n      <td>10.0</td>\n      <td>7.0</td>\n      <td>2.0</td>\n      <td>8.0</td>\n      <td>7.0</td>\n      <td>9.0</td>\n      <td>...</td>\n      <td>0.0</td>\n      <td>0.0</td>\n      <td>0.0</td>\n      <td>0.0</td>\n      <td>0.0</td>\n      <td>0.0</td>\n      <td>0.0</td>\n      <td>0.0</td>\n      <td>0.0</td>\n      <td>0.0</td>\n    </tr>\n    <tr>\n      <th>912</th>\n      <td>0.0</td>\n      <td>0.0</td>\n      <td>0.0</td>\n      <td>0.0</td>\n      <td>0.0</td>\n      <td>6.0</td>\n      <td>0.0</td>\n      <td>0.0</td>\n      <td>0.0</td>\n      <td>0.0</td>\n      <td>...</td>\n      <td>8.0</td>\n      <td>0.0</td>\n      <td>7.0</td>\n      <td>0.0</td>\n      <td>0.0</td>\n      <td>0.0</td>\n      <td>0.0</td>\n      <td>0.0</td>\n      <td>7.0</td>\n      <td>0.0</td>\n    </tr>\n  </tbody>\n</table>\n<p>5 rows × 1000 columns</p>\n</div>"
     },
     "execution_count": 163,
     "metadata": {},
     "output_type": "execute_result"
    }
   ],
   "source": [
    "# user item interaction matrix\n",
    "anime_matrix_UII = rating_popular_anime.pivot_table(index='user_id', columns='MAL_ID', values='rating').fillna(0)\n",
    "anime_matrix_UII.head()"
   ],
   "metadata": {
    "collapsed": false,
    "pycharm": {
     "name": "#%%\n"
    }
   }
  },
  {
   "cell_type": "code",
   "execution_count": 164,
   "outputs": [],
   "source": [
    "def predict_knn_item_based_pearson(input_MAL_ID, recommend_count):\n",
    "    '''\n",
    "    :return: dataframe of recommended anime\n",
    "    '''\n",
    "    user_rating_input = anime_matrix_UII[input_MAL_ID]\n",
    "    similar_to_input_anime = anime_matrix_UII.corrwith(user_rating_input)\n",
    "    corr_input = pd.DataFrame(similar_to_input_anime, columns=['correlation'])\n",
    "    corr_input.dropna(inplace=True)\n",
    "    corr_input.reset_index(inplace=True)\n",
    "    corr_input = pd.merge(corr_input, anime_df, on=\"MAL_ID\")\n",
    "    recommendation = corr_input[corr_input['Completed'] > 10000].sort_values(by='correlation', ascending=False).head(recommend_count+1)\n",
    "    recommendation.drop(recommendation.index[recommendation['MAL_ID'] == input_MAL_ID], inplace=True)\n",
    "    return recommendation"
   ],
   "metadata": {
    "collapsed": false,
    "pycharm": {
     "name": "#%%\n"
    }
   }
  },
  {
   "cell_type": "code",
   "execution_count": 165,
   "outputs": [
    {
     "data": {
      "text/plain": "    MAL_ID  correlation                                   Name Score  \\\n1        5     0.653634        Cowboy Bebop: Tengoku no Tobira  8.39   \n2        6     0.468294                                 Trigun  8.24   \n49     205     0.440870                       Samurai Champloo   8.5   \n84     467     0.420354  Koukaku Kidoutai: Stand Alone Complex  8.45   \n11      43     0.397354                       Koukaku Kidoutai  8.29   \n\n                                                     Genres   Type Episodes  \\\n1                     Action, Drama, Mystery, Sci-Fi, Space  Movie        1   \n2         Action, Sci-Fi, Adventure, Comedy, Drama, Shounen     TV       26   \n49  Action, Adventure, Comedy, Historical, Samurai, Shounen     TV       26   \n84          Action, Military, Sci-Fi, Police, Mecha, Seinen     TV       26   \n11     Action, Mecha, Police, Psychological, Sci-Fi, Seinen  Movie        1   \n\n      Premiered         Studios    Source                          Rating  \\\n1       Unknown           Bones  Original  R - 17+ (violence & profanity)   \n2   Spring 1998        Madhouse     Manga       PG-13 - Teens 13 or older   \n49  Spring 2004        Manglobe  Original  R - 17+ (violence & profanity)   \n84    Fall 2002  Production I.G     Manga  R - 17+ (violence & profanity)   \n11      Unknown  Production I.G     Manga                R+ - Mild Nudity   \n\n    Completed  \n1      208333  \n2      343492  \n49     551621  \n84     170891  \n11     325682  ",
      "text/html": "<div>\n<style scoped>\n    .dataframe tbody tr th:only-of-type {\n        vertical-align: middle;\n    }\n\n    .dataframe tbody tr th {\n        vertical-align: top;\n    }\n\n    .dataframe thead th {\n        text-align: right;\n    }\n</style>\n<table border=\"1\" class=\"dataframe\">\n  <thead>\n    <tr style=\"text-align: right;\">\n      <th></th>\n      <th>MAL_ID</th>\n      <th>correlation</th>\n      <th>Name</th>\n      <th>Score</th>\n      <th>Genres</th>\n      <th>Type</th>\n      <th>Episodes</th>\n      <th>Premiered</th>\n      <th>Studios</th>\n      <th>Source</th>\n      <th>Rating</th>\n      <th>Completed</th>\n    </tr>\n  </thead>\n  <tbody>\n    <tr>\n      <th>1</th>\n      <td>5</td>\n      <td>0.653634</td>\n      <td>Cowboy Bebop: Tengoku no Tobira</td>\n      <td>8.39</td>\n      <td>Action, Drama, Mystery, Sci-Fi, Space</td>\n      <td>Movie</td>\n      <td>1</td>\n      <td>Unknown</td>\n      <td>Bones</td>\n      <td>Original</td>\n      <td>R - 17+ (violence &amp; profanity)</td>\n      <td>208333</td>\n    </tr>\n    <tr>\n      <th>2</th>\n      <td>6</td>\n      <td>0.468294</td>\n      <td>Trigun</td>\n      <td>8.24</td>\n      <td>Action, Sci-Fi, Adventure, Comedy, Drama, Shounen</td>\n      <td>TV</td>\n      <td>26</td>\n      <td>Spring 1998</td>\n      <td>Madhouse</td>\n      <td>Manga</td>\n      <td>PG-13 - Teens 13 or older</td>\n      <td>343492</td>\n    </tr>\n    <tr>\n      <th>49</th>\n      <td>205</td>\n      <td>0.440870</td>\n      <td>Samurai Champloo</td>\n      <td>8.5</td>\n      <td>Action, Adventure, Comedy, Historical, Samurai, Shounen</td>\n      <td>TV</td>\n      <td>26</td>\n      <td>Spring 2004</td>\n      <td>Manglobe</td>\n      <td>Original</td>\n      <td>R - 17+ (violence &amp; profanity)</td>\n      <td>551621</td>\n    </tr>\n    <tr>\n      <th>84</th>\n      <td>467</td>\n      <td>0.420354</td>\n      <td>Koukaku Kidoutai: Stand Alone Complex</td>\n      <td>8.45</td>\n      <td>Action, Military, Sci-Fi, Police, Mecha, Seinen</td>\n      <td>TV</td>\n      <td>26</td>\n      <td>Fall 2002</td>\n      <td>Production I.G</td>\n      <td>Manga</td>\n      <td>R - 17+ (violence &amp; profanity)</td>\n      <td>170891</td>\n    </tr>\n    <tr>\n      <th>11</th>\n      <td>43</td>\n      <td>0.397354</td>\n      <td>Koukaku Kidoutai</td>\n      <td>8.29</td>\n      <td>Action, Mecha, Police, Psychological, Sci-Fi, Seinen</td>\n      <td>Movie</td>\n      <td>1</td>\n      <td>Unknown</td>\n      <td>Production I.G</td>\n      <td>Manga</td>\n      <td>R+ - Mild Nudity</td>\n      <td>325682</td>\n    </tr>\n  </tbody>\n</table>\n</div>"
     },
     "execution_count": 165,
     "metadata": {},
     "output_type": "execute_result"
    }
   ],
   "source": [
    "# test input using MAL_ID 1\n",
    "test_user_rating = anime_matrix_UII[1]\n",
    "test_user_rating.head()\n",
    "# test functionality using anime with MAL ID 1, 5 nearest neighbours\n",
    "recommendation_item_based_pearson_test = predict_knn_item_based_pearson(1, 5)\n",
    "recommendation_item_based_pearson_test"
   ],
   "metadata": {
    "collapsed": false,
    "pycharm": {
     "name": "#%%\n"
    }
   }
  },
  {
   "cell_type": "code",
   "execution_count": 166,
   "outputs": [],
   "source": [
    "recommendation_for_all = animes_popular[:100].sort_values(by='Score', ascending=False)[:10]"
   ],
   "metadata": {
    "collapsed": false,
    "pycharm": {
     "name": "#%%\n"
    }
   }
  },
  {
   "cell_type": "code",
   "execution_count": 167,
   "outputs": [],
   "source": [
    "def recommend_item_based_pearson(user_id_input):\n",
    "    '''\n",
    "    Take user_id to get top-rated anime by the user, then for each anime make prediction\n",
    "    return the highest 10 correlation anime\n",
    "    :param user_id_input: user id\n",
    "    :return: dataframe of recommended anime\n",
    "    '''\n",
    "    recommendation_df = pd.DataFrame(columns=['MAL_ID', 'correlation'])\n",
    "    users_groups = rating_popular_anime.groupby('user_id')\n",
    "    if user_id_input in top_users:\n",
    "        user_fav_anime = users_groups.get_group(user_id_input).sort_values(by='rating', ascending=False)[:5]['MAL_ID'].tolist()\n",
    "        for user_fav_MAL_ID in user_fav_anime:\n",
    "            r = predict_knn_item_based_pearson(user_fav_MAL_ID, 10)\n",
    "            recommendation_df = recommendation_df.append(r, ignore_index=True)\n",
    "\n",
    "        recommendation_df.sort_values('correlation', ascending=False).drop_duplicates('MAL_ID')\n",
    "        return recommendation_df[:10]\n",
    "    else:\n",
    "        return recommendation_for_all"
   ],
   "metadata": {
    "collapsed": false,
    "pycharm": {
     "name": "#%%\n"
    }
   }
  },
  {
   "cell_type": "code",
   "execution_count": 168,
   "outputs": [
    {
     "data": {
      "text/plain": "       MAL_ID                                                        Name  \\\n3971     5114                            Fullmetal Alchemist: Brotherhood   \n5683     9253                                                 Steins;Gate   \n14963   38524                          Shingeki no Kyojin Season 3 Part 2   \n6474    11061                                      Hunter x Hunter (2011)   \n9886    28851                                              Koe no Katachi   \n11308   32281                                              Kimi no Na wa.   \n3537     4181                                        Clannad: After Story   \n2656     2904                          Code Geass: Hangyaku no Lelouch R2   \n11624   32935  Haikyuu!!: Karasuno Koukou vs. Shiratorizawa Gakuen Koukou   \n14306   37510                                           Mob Psycho 100 II   \n\n      Score  \\\n3971   9.19   \n5683   9.11   \n14963   9.1   \n6474    9.1   \n9886    9.0   \n11308  8.96   \n3537   8.96   \n2656   8.91   \n11624  8.87   \n14306  8.84   \n\n                                                                    Genres  \\\n3971   Action, Military, Adventure, Comedy, Drama, Magic, Fantasy, Shounen   \n5683                                                      Thriller, Sci-Fi   \n14963      Action, Drama, Fantasy, Military, Mystery, Shounen, Super Power   \n6474                      Action, Adventure, Fantasy, Shounen, Super Power   \n9886                                                Drama, School, Shounen   \n11308                                 Romance, Supernatural, School, Drama   \n3537                   Slice of Life, Comedy, Supernatural, Drama, Romance   \n2656                   Action, Military, Sci-Fi, Super Power, Drama, Mecha   \n11624                               Comedy, Sports, Drama, School, Shounen   \n14306                          Action, Slice of Life, Comedy, Supernatural   \n\n        Type Episodes    Premiered           Studios        Source  \\\n3971      TV       64  Spring 2009             Bones         Manga   \n5683      TV       24  Spring 2011         White Fox  Visual novel   \n14963     TV       10  Spring 2019        Wit Studio         Manga   \n6474      TV      148    Fall 2011          Madhouse         Manga   \n9886   Movie        1      Unknown   Kyoto Animation         Manga   \n11308  Movie        1      Unknown  CoMix Wave Films      Original   \n3537      TV       24    Fall 2008   Kyoto Animation  Visual novel   \n2656      TV       25  Spring 2008           Sunrise      Original   \n11624     TV       10    Fall 2016    Production I.G         Manga   \n14306     TV       13  Winter 2019             Bones     Web manga   \n\n                               Rating  Completed  \n3971   R - 17+ (violence & profanity)    1644938  \n5683        PG-13 - Teens 13 or older    1134756  \n14963  R - 17+ (violence & profanity)     906824  \n6474        PG-13 - Teens 13 or older    1094486  \n9886        PG-13 - Teens 13 or older    1151644  \n11308       PG-13 - Teens 13 or older    1462143  \n3537        PG-13 - Teens 13 or older     641323  \n2656   R - 17+ (violence & profanity)    1060730  \n11624       PG-13 - Teens 13 or older     619835  \n14306       PG-13 - Teens 13 or older     623709  ",
      "text/html": "<div>\n<style scoped>\n    .dataframe tbody tr th:only-of-type {\n        vertical-align: middle;\n    }\n\n    .dataframe tbody tr th {\n        vertical-align: top;\n    }\n\n    .dataframe thead th {\n        text-align: right;\n    }\n</style>\n<table border=\"1\" class=\"dataframe\">\n  <thead>\n    <tr style=\"text-align: right;\">\n      <th></th>\n      <th>MAL_ID</th>\n      <th>Name</th>\n      <th>Score</th>\n      <th>Genres</th>\n      <th>Type</th>\n      <th>Episodes</th>\n      <th>Premiered</th>\n      <th>Studios</th>\n      <th>Source</th>\n      <th>Rating</th>\n      <th>Completed</th>\n    </tr>\n  </thead>\n  <tbody>\n    <tr>\n      <th>3971</th>\n      <td>5114</td>\n      <td>Fullmetal Alchemist: Brotherhood</td>\n      <td>9.19</td>\n      <td>Action, Military, Adventure, Comedy, Drama, Magic, Fantasy, Shounen</td>\n      <td>TV</td>\n      <td>64</td>\n      <td>Spring 2009</td>\n      <td>Bones</td>\n      <td>Manga</td>\n      <td>R - 17+ (violence &amp; profanity)</td>\n      <td>1644938</td>\n    </tr>\n    <tr>\n      <th>5683</th>\n      <td>9253</td>\n      <td>Steins;Gate</td>\n      <td>9.11</td>\n      <td>Thriller, Sci-Fi</td>\n      <td>TV</td>\n      <td>24</td>\n      <td>Spring 2011</td>\n      <td>White Fox</td>\n      <td>Visual novel</td>\n      <td>PG-13 - Teens 13 or older</td>\n      <td>1134756</td>\n    </tr>\n    <tr>\n      <th>14963</th>\n      <td>38524</td>\n      <td>Shingeki no Kyojin Season 3 Part 2</td>\n      <td>9.1</td>\n      <td>Action, Drama, Fantasy, Military, Mystery, Shounen, Super Power</td>\n      <td>TV</td>\n      <td>10</td>\n      <td>Spring 2019</td>\n      <td>Wit Studio</td>\n      <td>Manga</td>\n      <td>R - 17+ (violence &amp; profanity)</td>\n      <td>906824</td>\n    </tr>\n    <tr>\n      <th>6474</th>\n      <td>11061</td>\n      <td>Hunter x Hunter (2011)</td>\n      <td>9.1</td>\n      <td>Action, Adventure, Fantasy, Shounen, Super Power</td>\n      <td>TV</td>\n      <td>148</td>\n      <td>Fall 2011</td>\n      <td>Madhouse</td>\n      <td>Manga</td>\n      <td>PG-13 - Teens 13 or older</td>\n      <td>1094486</td>\n    </tr>\n    <tr>\n      <th>9886</th>\n      <td>28851</td>\n      <td>Koe no Katachi</td>\n      <td>9.0</td>\n      <td>Drama, School, Shounen</td>\n      <td>Movie</td>\n      <td>1</td>\n      <td>Unknown</td>\n      <td>Kyoto Animation</td>\n      <td>Manga</td>\n      <td>PG-13 - Teens 13 or older</td>\n      <td>1151644</td>\n    </tr>\n    <tr>\n      <th>11308</th>\n      <td>32281</td>\n      <td>Kimi no Na wa.</td>\n      <td>8.96</td>\n      <td>Romance, Supernatural, School, Drama</td>\n      <td>Movie</td>\n      <td>1</td>\n      <td>Unknown</td>\n      <td>CoMix Wave Films</td>\n      <td>Original</td>\n      <td>PG-13 - Teens 13 or older</td>\n      <td>1462143</td>\n    </tr>\n    <tr>\n      <th>3537</th>\n      <td>4181</td>\n      <td>Clannad: After Story</td>\n      <td>8.96</td>\n      <td>Slice of Life, Comedy, Supernatural, Drama, Romance</td>\n      <td>TV</td>\n      <td>24</td>\n      <td>Fall 2008</td>\n      <td>Kyoto Animation</td>\n      <td>Visual novel</td>\n      <td>PG-13 - Teens 13 or older</td>\n      <td>641323</td>\n    </tr>\n    <tr>\n      <th>2656</th>\n      <td>2904</td>\n      <td>Code Geass: Hangyaku no Lelouch R2</td>\n      <td>8.91</td>\n      <td>Action, Military, Sci-Fi, Super Power, Drama, Mecha</td>\n      <td>TV</td>\n      <td>25</td>\n      <td>Spring 2008</td>\n      <td>Sunrise</td>\n      <td>Original</td>\n      <td>R - 17+ (violence &amp; profanity)</td>\n      <td>1060730</td>\n    </tr>\n    <tr>\n      <th>11624</th>\n      <td>32935</td>\n      <td>Haikyuu!!: Karasuno Koukou vs. Shiratorizawa Gakuen Koukou</td>\n      <td>8.87</td>\n      <td>Comedy, Sports, Drama, School, Shounen</td>\n      <td>TV</td>\n      <td>10</td>\n      <td>Fall 2016</td>\n      <td>Production I.G</td>\n      <td>Manga</td>\n      <td>PG-13 - Teens 13 or older</td>\n      <td>619835</td>\n    </tr>\n    <tr>\n      <th>14306</th>\n      <td>37510</td>\n      <td>Mob Psycho 100 II</td>\n      <td>8.84</td>\n      <td>Action, Slice of Life, Comedy, Supernatural</td>\n      <td>TV</td>\n      <td>13</td>\n      <td>Winter 2019</td>\n      <td>Bones</td>\n      <td>Web manga</td>\n      <td>PG-13 - Teens 13 or older</td>\n      <td>623709</td>\n    </tr>\n  </tbody>\n</table>\n</div>"
     },
     "execution_count": 168,
     "metadata": {},
     "output_type": "execute_result"
    }
   ],
   "source": [
    "recommendation_item_based_knn_pearson = recommend_item_based_pearson(478)\n",
    "recommendation_item_based_knn_pearson"
   ],
   "metadata": {
    "collapsed": false,
    "pycharm": {
     "name": "#%%\n"
    }
   }
  },
  {
   "cell_type": "code",
   "execution_count": 169,
   "outputs": [
    {
     "name": "stdout",
     "output_type": "stream",
     "text": [
      "Precision for user 210238 is: 1.0\n",
      "Precision for user 35785 is: 1.0\n",
      "Precision for user 330827 is: 0.8\n",
      "Precision for user 15083 is: 1.0\n",
      "Precision for user 165485 is: 0.9\n"
     ]
    }
   ],
   "source": [
    "evaluate_unsupervised(recommend_item_based_pearson)"
   ],
   "metadata": {
    "collapsed": false,
    "pycharm": {
     "name": "#%%\n"
    }
   }
  },
  {
   "cell_type": "markdown",
   "source": [
    "## KNN Item-based - Cosine\n",
    "<font size=\"5\">Now let's try cosine based calculation approach\n",
    "</font>\n"
   ],
   "metadata": {
    "collapsed": false,
    "pycharm": {
     "name": "#%% md\n"
    }
   }
  },
  {
   "cell_type": "code",
   "execution_count": 170,
   "outputs": [
    {
     "data": {
      "text/plain": "user_id                                                 478     781     \\\nName                                                                     \n\"0\"                                                        0.0     0.0   \n\"Aesop\" no Ohanashi yori: Ushi to Kaeru, Yokubatta Inu     0.0     0.0   \n\"Bungaku Shoujo\" Kyou no Oyatsu: Hatsukoi                  0.0     0.0   \n\"Bungaku Shoujo\" Memoire                                   0.0     0.0   \n\"Bungaku Shoujo\" Movie                                     0.0     0.0   \n\nuser_id                                                 853     890     \\\nName                                                                     \n\"0\"                                                        0.0   307.0   \n\"Aesop\" no Ohanashi yori: Ushi to Kaeru, Yokubatta Inu     0.0    12.0   \n\"Bungaku Shoujo\" Kyou no Oyatsu: Hatsukoi                  0.0     0.0   \n\"Bungaku Shoujo\" Memoire                                   0.0     0.0   \n\"Bungaku Shoujo\" Movie                                     0.0     0.0   \n\nuser_id                                                 912     943     \\\nName                                                                     \n\"0\"                                                        0.0     0.0   \n\"Aesop\" no Ohanashi yori: Ushi to Kaeru, Yokubatta Inu     0.0     0.0   \n\"Bungaku Shoujo\" Kyou no Oyatsu: Hatsukoi                  0.0     0.0   \n\"Bungaku Shoujo\" Memoire                                   0.0     0.0   \n\"Bungaku Shoujo\" Movie                                     0.0     0.0   \n\nuser_id                                                 1177    1231    \\\nName                                                                     \n\"0\"                                                        0.0     0.0   \n\"Aesop\" no Ohanashi yori: Ushi to Kaeru, Yokubatta Inu     0.0     0.0   \n\"Bungaku Shoujo\" Kyou no Oyatsu: Hatsukoi                  0.0   922.0   \n\"Bungaku Shoujo\" Memoire                                   0.0   982.0   \n\"Bungaku Shoujo\" Movie                                     0.0  1196.0   \n\nuser_id                                                 1393    1397    ...  \\\nName                                                                    ...   \n\"0\"                                                        0.0     0.0  ...   \n\"Aesop\" no Ohanashi yori: Ushi to Kaeru, Yokubatta Inu     0.0     0.0  ...   \n\"Bungaku Shoujo\" Kyou no Oyatsu: Hatsukoi                  0.0   922.0  ...   \n\"Bungaku Shoujo\" Memoire                                   0.0   982.0  ...   \n\"Bungaku Shoujo\" Movie                                     0.0  1196.0  ...   \n\nuser_id                                                 352366  352478  \\\nName                                                                     \n\"0\"                                                        0.0     0.0   \n\"Aesop\" no Ohanashi yori: Ushi to Kaeru, Yokubatta Inu     0.0     0.0   \n\"Bungaku Shoujo\" Kyou no Oyatsu: Hatsukoi                  0.0   922.0   \n\"Bungaku Shoujo\" Memoire                                   0.0     0.0   \n\"Bungaku Shoujo\" Movie                                     0.0  1196.0   \n\nuser_id                                                 352660  352669  \\\nName                                                                     \n\"0\"                                                        0.0     0.0   \n\"Aesop\" no Ohanashi yori: Ushi to Kaeru, Yokubatta Inu     0.0     0.0   \n\"Bungaku Shoujo\" Kyou no Oyatsu: Hatsukoi                  0.0     0.0   \n\"Bungaku Shoujo\" Memoire                                 982.0   982.0   \n\"Bungaku Shoujo\" Movie                                  1196.0  1196.0   \n\nuser_id                                                 352761  352832  \\\nName                                                                     \n\"0\"                                                        0.0     0.0   \n\"Aesop\" no Ohanashi yori: Ushi to Kaeru, Yokubatta Inu     0.0     0.0   \n\"Bungaku Shoujo\" Kyou no Oyatsu: Hatsukoi                922.0     0.0   \n\"Bungaku Shoujo\" Memoire                                 982.0     0.0   \n\"Bungaku Shoujo\" Movie                                  1196.0     0.0   \n\nuser_id                                                 352835  352922  \\\nName                                                                     \n\"0\"                                                        0.0   307.0   \n\"Aesop\" no Ohanashi yori: Ushi to Kaeru, Yokubatta Inu     0.0     0.0   \n\"Bungaku Shoujo\" Kyou no Oyatsu: Hatsukoi                  0.0     0.0   \n\"Bungaku Shoujo\" Memoire                                   0.0   982.0   \n\"Bungaku Shoujo\" Movie                                     0.0     0.0   \n\nuser_id                                                 352924  352930  \nName                                                                    \n\"0\"                                                        0.0     0.0  \n\"Aesop\" no Ohanashi yori: Ushi to Kaeru, Yokubatta Inu     0.0     0.0  \n\"Bungaku Shoujo\" Kyou no Oyatsu: Hatsukoi                  0.0   922.0  \n\"Bungaku Shoujo\" Memoire                                   0.0   982.0  \n\"Bungaku Shoujo\" Movie                                  1196.0  1196.0  \n\n[5 rows x 3000 columns]",
      "text/html": "<div>\n<style scoped>\n    .dataframe tbody tr th:only-of-type {\n        vertical-align: middle;\n    }\n\n    .dataframe tbody tr th {\n        vertical-align: top;\n    }\n\n    .dataframe thead th {\n        text-align: right;\n    }\n</style>\n<table border=\"1\" class=\"dataframe\">\n  <thead>\n    <tr style=\"text-align: right;\">\n      <th>user_id</th>\n      <th>478</th>\n      <th>781</th>\n      <th>853</th>\n      <th>890</th>\n      <th>912</th>\n      <th>943</th>\n      <th>1177</th>\n      <th>1231</th>\n      <th>1393</th>\n      <th>1397</th>\n      <th>...</th>\n      <th>352366</th>\n      <th>352478</th>\n      <th>352660</th>\n      <th>352669</th>\n      <th>352761</th>\n      <th>352832</th>\n      <th>352835</th>\n      <th>352922</th>\n      <th>352924</th>\n      <th>352930</th>\n    </tr>\n    <tr>\n      <th>Name</th>\n      <th></th>\n      <th></th>\n      <th></th>\n      <th></th>\n      <th></th>\n      <th></th>\n      <th></th>\n      <th></th>\n      <th></th>\n      <th></th>\n      <th></th>\n      <th></th>\n      <th></th>\n      <th></th>\n      <th></th>\n      <th></th>\n      <th></th>\n      <th></th>\n      <th></th>\n      <th></th>\n      <th></th>\n    </tr>\n  </thead>\n  <tbody>\n    <tr>\n      <th>\"0\"</th>\n      <td>0.0</td>\n      <td>0.0</td>\n      <td>0.0</td>\n      <td>307.0</td>\n      <td>0.0</td>\n      <td>0.0</td>\n      <td>0.0</td>\n      <td>0.0</td>\n      <td>0.0</td>\n      <td>0.0</td>\n      <td>...</td>\n      <td>0.0</td>\n      <td>0.0</td>\n      <td>0.0</td>\n      <td>0.0</td>\n      <td>0.0</td>\n      <td>0.0</td>\n      <td>0.0</td>\n      <td>307.0</td>\n      <td>0.0</td>\n      <td>0.0</td>\n    </tr>\n    <tr>\n      <th>\"Aesop\" no Ohanashi yori: Ushi to Kaeru, Yokubatta Inu</th>\n      <td>0.0</td>\n      <td>0.0</td>\n      <td>0.0</td>\n      <td>12.0</td>\n      <td>0.0</td>\n      <td>0.0</td>\n      <td>0.0</td>\n      <td>0.0</td>\n      <td>0.0</td>\n      <td>0.0</td>\n      <td>...</td>\n      <td>0.0</td>\n      <td>0.0</td>\n      <td>0.0</td>\n      <td>0.0</td>\n      <td>0.0</td>\n      <td>0.0</td>\n      <td>0.0</td>\n      <td>0.0</td>\n      <td>0.0</td>\n      <td>0.0</td>\n    </tr>\n    <tr>\n      <th>\"Bungaku Shoujo\" Kyou no Oyatsu: Hatsukoi</th>\n      <td>0.0</td>\n      <td>0.0</td>\n      <td>0.0</td>\n      <td>0.0</td>\n      <td>0.0</td>\n      <td>0.0</td>\n      <td>0.0</td>\n      <td>922.0</td>\n      <td>0.0</td>\n      <td>922.0</td>\n      <td>...</td>\n      <td>0.0</td>\n      <td>922.0</td>\n      <td>0.0</td>\n      <td>0.0</td>\n      <td>922.0</td>\n      <td>0.0</td>\n      <td>0.0</td>\n      <td>0.0</td>\n      <td>0.0</td>\n      <td>922.0</td>\n    </tr>\n    <tr>\n      <th>\"Bungaku Shoujo\" Memoire</th>\n      <td>0.0</td>\n      <td>0.0</td>\n      <td>0.0</td>\n      <td>0.0</td>\n      <td>0.0</td>\n      <td>0.0</td>\n      <td>0.0</td>\n      <td>982.0</td>\n      <td>0.0</td>\n      <td>982.0</td>\n      <td>...</td>\n      <td>0.0</td>\n      <td>0.0</td>\n      <td>982.0</td>\n      <td>982.0</td>\n      <td>982.0</td>\n      <td>0.0</td>\n      <td>0.0</td>\n      <td>982.0</td>\n      <td>0.0</td>\n      <td>982.0</td>\n    </tr>\n    <tr>\n      <th>\"Bungaku Shoujo\" Movie</th>\n      <td>0.0</td>\n      <td>0.0</td>\n      <td>0.0</td>\n      <td>0.0</td>\n      <td>0.0</td>\n      <td>0.0</td>\n      <td>0.0</td>\n      <td>1196.0</td>\n      <td>0.0</td>\n      <td>1196.0</td>\n      <td>...</td>\n      <td>0.0</td>\n      <td>1196.0</td>\n      <td>1196.0</td>\n      <td>1196.0</td>\n      <td>1196.0</td>\n      <td>0.0</td>\n      <td>0.0</td>\n      <td>0.0</td>\n      <td>1196.0</td>\n      <td>1196.0</td>\n    </tr>\n  </tbody>\n</table>\n<p>5 rows × 3000 columns</p>\n</div>"
     },
     "execution_count": 170,
     "metadata": {},
     "output_type": "execute_result"
    }
   ],
   "source": [
    "# load top users with anime rating dataset\n",
    "#rating_data = rating_popular_anime.merge(anime_df, left_on = 'MAL_ID', right_on = 'MAL_ID', how = 'left')\n",
    "rating_data = df_top.merge(anime_df, left_on = 'MAL_ID', right_on = 'MAL_ID', how = 'left')\n",
    "rating_data = rating_data[[\"user_id\", \"Name\", \"MAL_ID\",\"rating\"]]\n",
    "combine_anime_rating = rating_data.dropna(axis = 0, subset = ['Name'])\n",
    "anime_ratingCount = (combine_anime_rating.groupby(by = ['Name'])['rating'].count().reset_index()[['Name', 'rating']])\n",
    "rating_data = combine_anime_rating.merge(anime_ratingCount, left_on = 'Name', right_on = 'Name', how = 'left')\n",
    "rating_data = rating_data.drop(columns = \"rating_x\")\n",
    "rating_data = rating_data.rename(columns={\"rating_y\": \"rating\"})\n",
    "piviot_table = rating_data.pivot_table(index=\"Name\",columns=\"user_id\", values=\"rating\").fillna(0)\n",
    "piviot_table.head()"
   ],
   "metadata": {
    "collapsed": false,
    "pycharm": {
     "name": "#%%\n"
    }
   }
  },
  {
   "cell_type": "code",
   "execution_count": 171,
   "outputs": [
    {
     "data": {
      "text/plain": "NearestNeighbors(algorithm='brute', metric='cosine')"
     },
     "execution_count": 171,
     "metadata": {},
     "output_type": "execute_result"
    }
   ],
   "source": [
    "from scipy.sparse import csr_matrix\n",
    "piviot_table_matrix = csr_matrix(piviot_table.values)\n",
    "# create knn model and fit matrix\n",
    "from sklearn.neighbors import NearestNeighbors\n",
    "item_based_cosine_model = NearestNeighbors(metric=\"cosine\", algorithm=\"brute\")\n",
    "item_based_cosine_model.fit(piviot_table_matrix)"
   ],
   "metadata": {
    "collapsed": false,
    "pycharm": {
     "name": "#%%\n"
    }
   }
  },
  {
   "cell_type": "code",
   "execution_count": 172,
   "outputs": [],
   "source": [
    "def predict_knn_item_based_cosine(anime_name_input, n_neighbors):\n",
    "    query = piviot_table.loc[anime_name_input, :].values.reshape(1, -1)\n",
    "    distance, suggestions = item_based_cosine_model.kneighbors(query, n_neighbors)\n",
    "    recommendation = {}\n",
    "    for i in range(0, len(distance.flatten())):\n",
    "        if i != 0:\n",
    "            recommendation[piviot_table.index[suggestions.flatten()[i]]] = distance.flatten()[i]\n",
    "    return recommendation"
   ],
   "metadata": {
    "collapsed": false,
    "pycharm": {
     "name": "#%%\n"
    }
   }
  },
  {
   "cell_type": "markdown",
   "source": [
    "<font size=\"5\">To see the result better, we use name as input this time.\n",
    "</font>"
   ],
   "metadata": {
    "collapsed": false,
    "pycharm": {
     "name": "#%% md\n"
    }
   }
  },
  {
   "cell_type": "code",
   "execution_count": 173,
   "outputs": [
    {
     "data": {
      "text/plain": "{'To Heart': 0.2732727223710337,\n 'To Heart: Remember My Memories Specials': 0.29498835462217965,\n 'To Heart 2': 0.30237780857340457,\n 'To Heart 2 OVA': 0.35235157990445853,\n 'To Heart 2 AD': 0.3677287767366777,\n 'To Heart 2 AD Plus': 0.38812794166617737,\n 'To Heart 2 Special': 0.40202581826607475,\n 'To Heart Omake': 0.4271426754758034,\n 'To Heart 2 Adnext': 0.4333862988611539}"
     },
     "execution_count": 173,
     "metadata": {},
     "output_type": "execute_result"
    }
   ],
   "source": [
    "predict_knn_item_based_cosine('To Heart: Remember My Memories', 10)"
   ],
   "metadata": {
    "collapsed": false,
    "pycharm": {
     "name": "#%%\n"
    }
   }
  },
  {
   "cell_type": "code",
   "execution_count": 174,
   "outputs": [],
   "source": [
    "def recommend_item_based_cosine(user_id_input):\n",
    "    '''\n",
    "    Take user_id to get top-rated anime by the user, then for each anime make prediction\n",
    "    return the highest 10 correlation anime\n",
    "    :param user_id_input: user id\n",
    "    :return: dataframe of recommended anime\n",
    "    '''\n",
    "    recommendation_df = pd.DataFrame(columns=['MAL_ID'])\n",
    "    users_groups = rating_popular_anime.groupby('user_id')\n",
    "    if user_id_input in top_users:\n",
    "        user_fav_anime = users_groups.get_group(user_id_input).sort_values(by='rating', ascending=False)[:5]['MAL_ID'].tolist()\n",
    "        for user_fav_MAL_ID in user_fav_anime:\n",
    "            anime_name=anime_df[anime_df['MAL_ID']==user_fav_MAL_ID]['Name'].values[0]\n",
    "            r = predict_knn_item_based_cosine(anime_name, 10)\n",
    "            r_df = anime_df[(anime_df['Name'].isin(r.keys()))]\n",
    "            distances = []\n",
    "            for index, row in r_df.iterrows():\n",
    "                distances.append(r[row['Name']])\n",
    "            r_df.insert(2, \"Distance\", distances, True)\n",
    "            recommendation_df = recommendation_df.append(r_df, ignore_index=True)\n",
    "\n",
    "        recommendation_df = recommendation_df.sort_values(by='Distance', ascending=True).drop_duplicates('MAL_ID')\n",
    "        recommendation_df = recommendation_df[recommendation_df['MAL_ID'].isin(list(rating_popular_anime['MAL_ID']))]\n",
    "\n",
    "        return recommendation_df[:10]\n",
    "    else:\n",
    "        return recommendation_for_all"
   ],
   "metadata": {
    "collapsed": false,
    "pycharm": {
     "name": "#%%\n"
    }
   }
  },
  {
   "cell_type": "code",
   "execution_count": 175,
   "outputs": [
    {
     "data": {
      "text/plain": "       MAL_ID                                                        Name  \\\n3971     5114                            Fullmetal Alchemist: Brotherhood   \n5683     9253                                                 Steins;Gate   \n14963   38524                          Shingeki no Kyojin Season 3 Part 2   \n6474    11061                                      Hunter x Hunter (2011)   \n9886    28851                                              Koe no Katachi   \n11308   32281                                              Kimi no Na wa.   \n3537     4181                                        Clannad: After Story   \n2656     2904                          Code Geass: Hangyaku no Lelouch R2   \n11624   32935  Haikyuu!!: Karasuno Koukou vs. Shiratorizawa Gakuen Koukou   \n14306   37510                                           Mob Psycho 100 II   \n\n      Score  \\\n3971   9.19   \n5683   9.11   \n14963   9.1   \n6474    9.1   \n9886    9.0   \n11308  8.96   \n3537   8.96   \n2656   8.91   \n11624  8.87   \n14306  8.84   \n\n                                                                    Genres  \\\n3971   Action, Military, Adventure, Comedy, Drama, Magic, Fantasy, Shounen   \n5683                                                      Thriller, Sci-Fi   \n14963      Action, Drama, Fantasy, Military, Mystery, Shounen, Super Power   \n6474                      Action, Adventure, Fantasy, Shounen, Super Power   \n9886                                                Drama, School, Shounen   \n11308                                 Romance, Supernatural, School, Drama   \n3537                   Slice of Life, Comedy, Supernatural, Drama, Romance   \n2656                   Action, Military, Sci-Fi, Super Power, Drama, Mecha   \n11624                               Comedy, Sports, Drama, School, Shounen   \n14306                          Action, Slice of Life, Comedy, Supernatural   \n\n        Type Episodes    Premiered           Studios        Source  \\\n3971      TV       64  Spring 2009             Bones         Manga   \n5683      TV       24  Spring 2011         White Fox  Visual novel   \n14963     TV       10  Spring 2019        Wit Studio         Manga   \n6474      TV      148    Fall 2011          Madhouse         Manga   \n9886   Movie        1      Unknown   Kyoto Animation         Manga   \n11308  Movie        1      Unknown  CoMix Wave Films      Original   \n3537      TV       24    Fall 2008   Kyoto Animation  Visual novel   \n2656      TV       25  Spring 2008           Sunrise      Original   \n11624     TV       10    Fall 2016    Production I.G         Manga   \n14306     TV       13  Winter 2019             Bones     Web manga   \n\n                               Rating  Completed  \n3971   R - 17+ (violence & profanity)    1644938  \n5683        PG-13 - Teens 13 or older    1134756  \n14963  R - 17+ (violence & profanity)     906824  \n6474        PG-13 - Teens 13 or older    1094486  \n9886        PG-13 - Teens 13 or older    1151644  \n11308       PG-13 - Teens 13 or older    1462143  \n3537        PG-13 - Teens 13 or older     641323  \n2656   R - 17+ (violence & profanity)    1060730  \n11624       PG-13 - Teens 13 or older     619835  \n14306       PG-13 - Teens 13 or older     623709  ",
      "text/html": "<div>\n<style scoped>\n    .dataframe tbody tr th:only-of-type {\n        vertical-align: middle;\n    }\n\n    .dataframe tbody tr th {\n        vertical-align: top;\n    }\n\n    .dataframe thead th {\n        text-align: right;\n    }\n</style>\n<table border=\"1\" class=\"dataframe\">\n  <thead>\n    <tr style=\"text-align: right;\">\n      <th></th>\n      <th>MAL_ID</th>\n      <th>Name</th>\n      <th>Score</th>\n      <th>Genres</th>\n      <th>Type</th>\n      <th>Episodes</th>\n      <th>Premiered</th>\n      <th>Studios</th>\n      <th>Source</th>\n      <th>Rating</th>\n      <th>Completed</th>\n    </tr>\n  </thead>\n  <tbody>\n    <tr>\n      <th>3971</th>\n      <td>5114</td>\n      <td>Fullmetal Alchemist: Brotherhood</td>\n      <td>9.19</td>\n      <td>Action, Military, Adventure, Comedy, Drama, Magic, Fantasy, Shounen</td>\n      <td>TV</td>\n      <td>64</td>\n      <td>Spring 2009</td>\n      <td>Bones</td>\n      <td>Manga</td>\n      <td>R - 17+ (violence &amp; profanity)</td>\n      <td>1644938</td>\n    </tr>\n    <tr>\n      <th>5683</th>\n      <td>9253</td>\n      <td>Steins;Gate</td>\n      <td>9.11</td>\n      <td>Thriller, Sci-Fi</td>\n      <td>TV</td>\n      <td>24</td>\n      <td>Spring 2011</td>\n      <td>White Fox</td>\n      <td>Visual novel</td>\n      <td>PG-13 - Teens 13 or older</td>\n      <td>1134756</td>\n    </tr>\n    <tr>\n      <th>14963</th>\n      <td>38524</td>\n      <td>Shingeki no Kyojin Season 3 Part 2</td>\n      <td>9.1</td>\n      <td>Action, Drama, Fantasy, Military, Mystery, Shounen, Super Power</td>\n      <td>TV</td>\n      <td>10</td>\n      <td>Spring 2019</td>\n      <td>Wit Studio</td>\n      <td>Manga</td>\n      <td>R - 17+ (violence &amp; profanity)</td>\n      <td>906824</td>\n    </tr>\n    <tr>\n      <th>6474</th>\n      <td>11061</td>\n      <td>Hunter x Hunter (2011)</td>\n      <td>9.1</td>\n      <td>Action, Adventure, Fantasy, Shounen, Super Power</td>\n      <td>TV</td>\n      <td>148</td>\n      <td>Fall 2011</td>\n      <td>Madhouse</td>\n      <td>Manga</td>\n      <td>PG-13 - Teens 13 or older</td>\n      <td>1094486</td>\n    </tr>\n    <tr>\n      <th>9886</th>\n      <td>28851</td>\n      <td>Koe no Katachi</td>\n      <td>9.0</td>\n      <td>Drama, School, Shounen</td>\n      <td>Movie</td>\n      <td>1</td>\n      <td>Unknown</td>\n      <td>Kyoto Animation</td>\n      <td>Manga</td>\n      <td>PG-13 - Teens 13 or older</td>\n      <td>1151644</td>\n    </tr>\n    <tr>\n      <th>11308</th>\n      <td>32281</td>\n      <td>Kimi no Na wa.</td>\n      <td>8.96</td>\n      <td>Romance, Supernatural, School, Drama</td>\n      <td>Movie</td>\n      <td>1</td>\n      <td>Unknown</td>\n      <td>CoMix Wave Films</td>\n      <td>Original</td>\n      <td>PG-13 - Teens 13 or older</td>\n      <td>1462143</td>\n    </tr>\n    <tr>\n      <th>3537</th>\n      <td>4181</td>\n      <td>Clannad: After Story</td>\n      <td>8.96</td>\n      <td>Slice of Life, Comedy, Supernatural, Drama, Romance</td>\n      <td>TV</td>\n      <td>24</td>\n      <td>Fall 2008</td>\n      <td>Kyoto Animation</td>\n      <td>Visual novel</td>\n      <td>PG-13 - Teens 13 or older</td>\n      <td>641323</td>\n    </tr>\n    <tr>\n      <th>2656</th>\n      <td>2904</td>\n      <td>Code Geass: Hangyaku no Lelouch R2</td>\n      <td>8.91</td>\n      <td>Action, Military, Sci-Fi, Super Power, Drama, Mecha</td>\n      <td>TV</td>\n      <td>25</td>\n      <td>Spring 2008</td>\n      <td>Sunrise</td>\n      <td>Original</td>\n      <td>R - 17+ (violence &amp; profanity)</td>\n      <td>1060730</td>\n    </tr>\n    <tr>\n      <th>11624</th>\n      <td>32935</td>\n      <td>Haikyuu!!: Karasuno Koukou vs. Shiratorizawa Gakuen Koukou</td>\n      <td>8.87</td>\n      <td>Comedy, Sports, Drama, School, Shounen</td>\n      <td>TV</td>\n      <td>10</td>\n      <td>Fall 2016</td>\n      <td>Production I.G</td>\n      <td>Manga</td>\n      <td>PG-13 - Teens 13 or older</td>\n      <td>619835</td>\n    </tr>\n    <tr>\n      <th>14306</th>\n      <td>37510</td>\n      <td>Mob Psycho 100 II</td>\n      <td>8.84</td>\n      <td>Action, Slice of Life, Comedy, Supernatural</td>\n      <td>TV</td>\n      <td>13</td>\n      <td>Winter 2019</td>\n      <td>Bones</td>\n      <td>Web manga</td>\n      <td>PG-13 - Teens 13 or older</td>\n      <td>623709</td>\n    </tr>\n  </tbody>\n</table>\n</div>"
     },
     "execution_count": 175,
     "metadata": {},
     "output_type": "execute_result"
    }
   ],
   "source": [
    "recommendation_item_based_knn_pearson = recommend_item_based_cosine(478)\n",
    "recommendation_item_based_knn_pearson"
   ],
   "metadata": {
    "collapsed": false,
    "pycharm": {
     "name": "#%%\n"
    }
   }
  },
  {
   "cell_type": "markdown",
   "source": [
    "Now let's combine our recommendation result from unsupervised knn with supervised training model to see the accuracy result."
   ],
   "metadata": {
    "collapsed": false,
    "pycharm": {
     "name": "#%% md\n"
    }
   }
  },
  {
   "cell_type": "code",
   "execution_count": 177,
   "outputs": [
    {
     "name": "stdout",
     "output_type": "stream",
     "text": [
      "Precision for user 343191 is: 1.0\n",
      "Precision for user 259584 is: 0.9\n",
      "Precision for user 222635 is: 1.0\n",
      "Precision for user 337507 is: 0.9\n",
      "Precision for user 214123 is: 1.0\n"
     ]
    }
   ],
   "source": [
    "evaluate_unsupervised(recommend_item_based_cosine)"
   ],
   "metadata": {
    "collapsed": false,
    "pycharm": {
     "name": "#%%\n"
    }
   }
  },
  {
   "cell_type": "markdown",
   "source": [],
   "metadata": {
    "collapsed": false,
    "pycharm": {
     "name": "#%% md\n"
    }
   }
  },
  {
   "cell_type": "markdown",
   "source": [],
   "metadata": {
    "collapsed": false,
    "pycharm": {
     "name": "#%% md\n"
    }
   }
  }
 ],
 "metadata": {
  "kernelspec": {
   "display_name": "Python 3",
   "language": "python",
   "name": "python3"
  },
  "language_info": {
   "codemirror_mode": {
    "name": "ipython",
    "version": 2
   },
   "file_extension": ".py",
   "mimetype": "text/x-python",
   "name": "python",
   "nbconvert_exporter": "python",
   "pygments_lexer": "ipython2",
   "version": "2.7.6"
  }
 },
 "nbformat": 4,
 "nbformat_minor": 0
}