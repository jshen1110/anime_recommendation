{
 "cells": [
  {
   "cell_type": "code",
   "execution_count": 1,
   "outputs": [],
   "source": [
    "import pandas as pd\n",
    "import warnings\n",
    "\n",
    "warnings.filterwarnings('ignore')\n",
    "pd.set_option(\"max_colwidth\", None)"
   ],
   "metadata": {
    "collapsed": false,
    "pycharm": {
     "name": "#%%\n"
    }
   }
  },
  {
   "cell_type": "code",
   "execution_count": 66,
   "outputs": [
    {
     "data": {
      "text/plain": "       MAL_ID                             Name    Score  \\\n0           1                     Cowboy Bebop     8.78   \n1           5  Cowboy Bebop: Tengoku no Tobira     8.39   \n2           6                           Trigun     8.24   \n3           7               Witch Hunter Robin     7.27   \n4           8                   Bouken Ou Beet     6.98   \n...       ...                              ...      ...   \n17557   48481  Daomu Biji Zhi Qinling Shen Shu  Unknown   \n17558   48483                     Mieruko-chan  Unknown   \n17559   48488  Higurashi no Naku Koro ni Sotsu  Unknown   \n17560   48491      Yama no Susume: Next Summit  Unknown   \n17561   48492                    Scarlet Nexus  Unknown   \n\n                                                                 Genres  \\\n0                       Action, Adventure, Comedy, Drama, Sci-Fi, Space   \n1                                 Action, Drama, Mystery, Sci-Fi, Space   \n2                     Action, Sci-Fi, Adventure, Comedy, Drama, Shounen   \n3                   Action, Mystery, Police, Supernatural, Drama, Magic   \n4                             Adventure, Fantasy, Shounen, Supernatural   \n...                                                                 ...   \n17557                                  Adventure, Mystery, Supernatural   \n17558                                      Comedy, Horror, Supernatural   \n17559  Mystery, Dementia, Horror, Psychological, Supernatural, Thriller   \n17560                                  Adventure, Slice of Life, Comedy   \n17561                                                   Action, Fantasy   \n\n        Type Episodes    Premiered         Studios        Source  \\\n0         TV       26  Spring 1998         Sunrise      Original   \n1      Movie        1      Unknown           Bones      Original   \n2         TV       26  Spring 1998        Madhouse         Manga   \n3         TV       26  Summer 2002         Sunrise      Original   \n4         TV       52    Fall 2004  Toei Animation         Manga   \n...      ...      ...          ...             ...           ...   \n17557    ONA  Unknown      Unknown         Unknown         Novel   \n17558     TV  Unknown      Unknown        Passione         Manga   \n17559     TV  Unknown  Summer 2021         Unknown  Visual novel   \n17560     TV  Unknown      Unknown            8bit         Manga   \n17561     TV  Unknown  Summer 2021         Sunrise          Game   \n\n                               Rating  Completed  \n0      R - 17+ (violence & profanity)     718161  \n1      R - 17+ (violence & profanity)     208333  \n2           PG-13 - Teens 13 or older     343492  \n3           PG-13 - Teens 13 or older      46165  \n4                       PG - Children       7314  \n...                               ...        ...  \n17557                         Unknown          0  \n17558                         Unknown          0  \n17559  R - 17+ (violence & profanity)          0  \n17560       PG-13 - Teens 13 or older          2  \n17561                         Unknown          0  \n\n[17562 rows x 11 columns]",
      "text/html": "<div>\n<style scoped>\n    .dataframe tbody tr th:only-of-type {\n        vertical-align: middle;\n    }\n\n    .dataframe tbody tr th {\n        vertical-align: top;\n    }\n\n    .dataframe thead th {\n        text-align: right;\n    }\n</style>\n<table border=\"1\" class=\"dataframe\">\n  <thead>\n    <tr style=\"text-align: right;\">\n      <th></th>\n      <th>MAL_ID</th>\n      <th>Name</th>\n      <th>Score</th>\n      <th>Genres</th>\n      <th>Type</th>\n      <th>Episodes</th>\n      <th>Premiered</th>\n      <th>Studios</th>\n      <th>Source</th>\n      <th>Rating</th>\n      <th>Completed</th>\n    </tr>\n  </thead>\n  <tbody>\n    <tr>\n      <th>0</th>\n      <td>1</td>\n      <td>Cowboy Bebop</td>\n      <td>8.78</td>\n      <td>Action, Adventure, Comedy, Drama, Sci-Fi, Space</td>\n      <td>TV</td>\n      <td>26</td>\n      <td>Spring 1998</td>\n      <td>Sunrise</td>\n      <td>Original</td>\n      <td>R - 17+ (violence &amp; profanity)</td>\n      <td>718161</td>\n    </tr>\n    <tr>\n      <th>1</th>\n      <td>5</td>\n      <td>Cowboy Bebop: Tengoku no Tobira</td>\n      <td>8.39</td>\n      <td>Action, Drama, Mystery, Sci-Fi, Space</td>\n      <td>Movie</td>\n      <td>1</td>\n      <td>Unknown</td>\n      <td>Bones</td>\n      <td>Original</td>\n      <td>R - 17+ (violence &amp; profanity)</td>\n      <td>208333</td>\n    </tr>\n    <tr>\n      <th>2</th>\n      <td>6</td>\n      <td>Trigun</td>\n      <td>8.24</td>\n      <td>Action, Sci-Fi, Adventure, Comedy, Drama, Shounen</td>\n      <td>TV</td>\n      <td>26</td>\n      <td>Spring 1998</td>\n      <td>Madhouse</td>\n      <td>Manga</td>\n      <td>PG-13 - Teens 13 or older</td>\n      <td>343492</td>\n    </tr>\n    <tr>\n      <th>3</th>\n      <td>7</td>\n      <td>Witch Hunter Robin</td>\n      <td>7.27</td>\n      <td>Action, Mystery, Police, Supernatural, Drama, Magic</td>\n      <td>TV</td>\n      <td>26</td>\n      <td>Summer 2002</td>\n      <td>Sunrise</td>\n      <td>Original</td>\n      <td>PG-13 - Teens 13 or older</td>\n      <td>46165</td>\n    </tr>\n    <tr>\n      <th>4</th>\n      <td>8</td>\n      <td>Bouken Ou Beet</td>\n      <td>6.98</td>\n      <td>Adventure, Fantasy, Shounen, Supernatural</td>\n      <td>TV</td>\n      <td>52</td>\n      <td>Fall 2004</td>\n      <td>Toei Animation</td>\n      <td>Manga</td>\n      <td>PG - Children</td>\n      <td>7314</td>\n    </tr>\n    <tr>\n      <th>...</th>\n      <td>...</td>\n      <td>...</td>\n      <td>...</td>\n      <td>...</td>\n      <td>...</td>\n      <td>...</td>\n      <td>...</td>\n      <td>...</td>\n      <td>...</td>\n      <td>...</td>\n      <td>...</td>\n    </tr>\n    <tr>\n      <th>17557</th>\n      <td>48481</td>\n      <td>Daomu Biji Zhi Qinling Shen Shu</td>\n      <td>Unknown</td>\n      <td>Adventure, Mystery, Supernatural</td>\n      <td>ONA</td>\n      <td>Unknown</td>\n      <td>Unknown</td>\n      <td>Unknown</td>\n      <td>Novel</td>\n      <td>Unknown</td>\n      <td>0</td>\n    </tr>\n    <tr>\n      <th>17558</th>\n      <td>48483</td>\n      <td>Mieruko-chan</td>\n      <td>Unknown</td>\n      <td>Comedy, Horror, Supernatural</td>\n      <td>TV</td>\n      <td>Unknown</td>\n      <td>Unknown</td>\n      <td>Passione</td>\n      <td>Manga</td>\n      <td>Unknown</td>\n      <td>0</td>\n    </tr>\n    <tr>\n      <th>17559</th>\n      <td>48488</td>\n      <td>Higurashi no Naku Koro ni Sotsu</td>\n      <td>Unknown</td>\n      <td>Mystery, Dementia, Horror, Psychological, Supernatural, Thriller</td>\n      <td>TV</td>\n      <td>Unknown</td>\n      <td>Summer 2021</td>\n      <td>Unknown</td>\n      <td>Visual novel</td>\n      <td>R - 17+ (violence &amp; profanity)</td>\n      <td>0</td>\n    </tr>\n    <tr>\n      <th>17560</th>\n      <td>48491</td>\n      <td>Yama no Susume: Next Summit</td>\n      <td>Unknown</td>\n      <td>Adventure, Slice of Life, Comedy</td>\n      <td>TV</td>\n      <td>Unknown</td>\n      <td>Unknown</td>\n      <td>8bit</td>\n      <td>Manga</td>\n      <td>PG-13 - Teens 13 or older</td>\n      <td>2</td>\n    </tr>\n    <tr>\n      <th>17561</th>\n      <td>48492</td>\n      <td>Scarlet Nexus</td>\n      <td>Unknown</td>\n      <td>Action, Fantasy</td>\n      <td>TV</td>\n      <td>Unknown</td>\n      <td>Summer 2021</td>\n      <td>Sunrise</td>\n      <td>Game</td>\n      <td>Unknown</td>\n      <td>0</td>\n    </tr>\n  </tbody>\n</table>\n<p>17562 rows × 11 columns</p>\n</div>"
     },
     "execution_count": 66,
     "metadata": {},
     "output_type": "execute_result"
    }
   ],
   "source": [
    "# load anime dataset\n",
    "anime_df = pd.read_csv('dataset/anime.csv')\n",
    "usecols = [\"MAL_ID\", \"Name\", \"Score\", \"Genres\", \"Type\", \"Episodes\", \"Premiered\",\n",
    "           \"Studios\", \"Source\", \"Rating\", \"Completed\"]\n",
    "\n",
    "anime_df = pd.read_csv('dataset/anime.csv', usecols=usecols)\n",
    "anime_df"
   ],
   "metadata": {
    "collapsed": false,
    "pycharm": {
     "name": "#%%\n"
    }
   }
  },
  {
   "cell_type": "code",
   "execution_count": 3,
   "outputs": [
    {
     "data": {
      "text/plain": "   user_id  MAL_ID  rating\n3      478      20       7\n5      478      24       8\n7      478      43       6\n8      478      47       8\n9      478      48       6",
      "text/html": "<div>\n<style scoped>\n    .dataframe tbody tr th:only-of-type {\n        vertical-align: middle;\n    }\n\n    .dataframe tbody tr th {\n        vertical-align: top;\n    }\n\n    .dataframe thead th {\n        text-align: right;\n    }\n</style>\n<table border=\"1\" class=\"dataframe\">\n  <thead>\n    <tr style=\"text-align: right;\">\n      <th></th>\n      <th>user_id</th>\n      <th>MAL_ID</th>\n      <th>rating</th>\n    </tr>\n  </thead>\n  <tbody>\n    <tr>\n      <th>3</th>\n      <td>478</td>\n      <td>20</td>\n      <td>7</td>\n    </tr>\n    <tr>\n      <th>5</th>\n      <td>478</td>\n      <td>24</td>\n      <td>8</td>\n    </tr>\n    <tr>\n      <th>7</th>\n      <td>478</td>\n      <td>43</td>\n      <td>6</td>\n    </tr>\n    <tr>\n      <th>8</th>\n      <td>478</td>\n      <td>47</td>\n      <td>8</td>\n    </tr>\n    <tr>\n      <th>9</th>\n      <td>478</td>\n      <td>48</td>\n      <td>6</td>\n    </tr>\n  </tbody>\n</table>\n</div>"
     },
     "execution_count": 3,
     "metadata": {},
     "output_type": "execute_result"
    }
   ],
   "source": [
    "# load top users with anime rating dataset\n",
    "top_animes_count = 1000\n",
    "rating_popular_anime = pd.read_csv('dataset/top_anime_unsupervised_use.csv')\n",
    "animes_popular = anime_df.sort_values('Completed', ascending=False)[0:top_animes_count]\n",
    "top_animes = animes_popular['MAL_ID'].unique()\n",
    "rating_popular_anime = rating_popular_anime[rating_popular_anime.MAL_ID.isin(top_animes)]\n",
    "rating_popular_anime.head()"
   ],
   "metadata": {
    "collapsed": false,
    "pycharm": {
     "name": "#%%\n"
    }
   }
  },
  {
   "cell_type": "code",
   "execution_count": 57,
   "outputs": [
    {
     "data": {
      "text/plain": "MAL_ID   1      5      6      18     19     20     24     30     31     32     \\\nuser_id                                                                         \n478        0.0    0.0    0.0    0.0    0.0    7.0    8.0    0.0    0.0    0.0   \n781        7.0    0.0   10.0    8.0   10.0    7.0    7.0    0.0    0.0    0.0   \n853        9.0   10.0    8.0    9.0    8.0    9.0    0.0    8.0    0.0    8.0   \n890        9.0    9.0    9.0    8.0   10.0    7.0    2.0    8.0    7.0    9.0   \n912        0.0    0.0    0.0    0.0    0.0    6.0    0.0    0.0    0.0    0.0   \n...        ...    ...    ...    ...    ...    ...    ...    ...    ...    ...   \n352832     0.0    0.0   10.0   10.0   10.0    1.0    0.0   10.0    0.0   10.0   \n352835     0.0    0.0    9.0    0.0    0.0    7.0    0.0    7.0    0.0    7.0   \n352922     0.0    0.0    0.0    0.0    7.0    0.0    0.0    3.0    0.0    7.0   \n352924    10.0    9.0    8.0    8.0    9.0    8.0    8.0   10.0    0.0    8.0   \n352930    10.0    7.0   10.0    8.0    9.0    9.0    9.0    9.0    7.0    9.0   \n\nMAL_ID   ...  40716  40776  40839  40902  40956  41120  41168  41226  41353  \\\nuser_id  ...                                                                  \n478      ...    0.0    7.0    0.0    0.0    0.0    0.0    7.0    0.0    0.0   \n781      ...    8.0    9.0    7.0    4.0    7.0    0.0    6.0    7.0    7.0   \n853      ...    0.0    7.0    0.0    0.0    0.0    0.0    0.0    0.0    5.0   \n890      ...    0.0    0.0    0.0    0.0    0.0    0.0    0.0    0.0    0.0   \n912      ...    8.0    0.0    7.0    0.0    0.0    0.0    0.0    0.0    7.0   \n...      ...    ...    ...    ...    ...    ...    ...    ...    ...    ...   \n352832   ...    0.0    0.0    0.0    0.0    0.0    0.0    0.0    0.0    0.0   \n352835   ...    0.0    0.0    0.0    0.0    0.0    0.0    0.0    0.0    0.0   \n352922   ...    0.0    0.0    0.0    0.0    0.0    0.0    0.0    0.0    0.0   \n352924   ...    0.0    8.0    0.0    0.0    0.0    0.0    0.0    0.0    0.0   \n352930   ...    0.0    0.0    0.0    0.0    0.0    0.0    0.0    0.0    0.0   \n\nMAL_ID   41389  \nuser_id         \n478        0.0  \n781        3.0  \n853        0.0  \n890        0.0  \n912        0.0  \n...        ...  \n352832     0.0  \n352835     0.0  \n352922     0.0  \n352924     0.0  \n352930     0.0  \n\n[2998 rows x 1000 columns]",
      "text/html": "<div>\n<style scoped>\n    .dataframe tbody tr th:only-of-type {\n        vertical-align: middle;\n    }\n\n    .dataframe tbody tr th {\n        vertical-align: top;\n    }\n\n    .dataframe thead th {\n        text-align: right;\n    }\n</style>\n<table border=\"1\" class=\"dataframe\">\n  <thead>\n    <tr style=\"text-align: right;\">\n      <th>MAL_ID</th>\n      <th>1</th>\n      <th>5</th>\n      <th>6</th>\n      <th>18</th>\n      <th>19</th>\n      <th>20</th>\n      <th>24</th>\n      <th>30</th>\n      <th>31</th>\n      <th>32</th>\n      <th>...</th>\n      <th>40716</th>\n      <th>40776</th>\n      <th>40839</th>\n      <th>40902</th>\n      <th>40956</th>\n      <th>41120</th>\n      <th>41168</th>\n      <th>41226</th>\n      <th>41353</th>\n      <th>41389</th>\n    </tr>\n    <tr>\n      <th>user_id</th>\n      <th></th>\n      <th></th>\n      <th></th>\n      <th></th>\n      <th></th>\n      <th></th>\n      <th></th>\n      <th></th>\n      <th></th>\n      <th></th>\n      <th></th>\n      <th></th>\n      <th></th>\n      <th></th>\n      <th></th>\n      <th></th>\n      <th></th>\n      <th></th>\n      <th></th>\n      <th></th>\n      <th></th>\n    </tr>\n  </thead>\n  <tbody>\n    <tr>\n      <th>478</th>\n      <td>0.0</td>\n      <td>0.0</td>\n      <td>0.0</td>\n      <td>0.0</td>\n      <td>0.0</td>\n      <td>7.0</td>\n      <td>8.0</td>\n      <td>0.0</td>\n      <td>0.0</td>\n      <td>0.0</td>\n      <td>...</td>\n      <td>0.0</td>\n      <td>7.0</td>\n      <td>0.0</td>\n      <td>0.0</td>\n      <td>0.0</td>\n      <td>0.0</td>\n      <td>7.0</td>\n      <td>0.0</td>\n      <td>0.0</td>\n      <td>0.0</td>\n    </tr>\n    <tr>\n      <th>781</th>\n      <td>7.0</td>\n      <td>0.0</td>\n      <td>10.0</td>\n      <td>8.0</td>\n      <td>10.0</td>\n      <td>7.0</td>\n      <td>7.0</td>\n      <td>0.0</td>\n      <td>0.0</td>\n      <td>0.0</td>\n      <td>...</td>\n      <td>8.0</td>\n      <td>9.0</td>\n      <td>7.0</td>\n      <td>4.0</td>\n      <td>7.0</td>\n      <td>0.0</td>\n      <td>6.0</td>\n      <td>7.0</td>\n      <td>7.0</td>\n      <td>3.0</td>\n    </tr>\n    <tr>\n      <th>853</th>\n      <td>9.0</td>\n      <td>10.0</td>\n      <td>8.0</td>\n      <td>9.0</td>\n      <td>8.0</td>\n      <td>9.0</td>\n      <td>0.0</td>\n      <td>8.0</td>\n      <td>0.0</td>\n      <td>8.0</td>\n      <td>...</td>\n      <td>0.0</td>\n      <td>7.0</td>\n      <td>0.0</td>\n      <td>0.0</td>\n      <td>0.0</td>\n      <td>0.0</td>\n      <td>0.0</td>\n      <td>0.0</td>\n      <td>5.0</td>\n      <td>0.0</td>\n    </tr>\n    <tr>\n      <th>890</th>\n      <td>9.0</td>\n      <td>9.0</td>\n      <td>9.0</td>\n      <td>8.0</td>\n      <td>10.0</td>\n      <td>7.0</td>\n      <td>2.0</td>\n      <td>8.0</td>\n      <td>7.0</td>\n      <td>9.0</td>\n      <td>...</td>\n      <td>0.0</td>\n      <td>0.0</td>\n      <td>0.0</td>\n      <td>0.0</td>\n      <td>0.0</td>\n      <td>0.0</td>\n      <td>0.0</td>\n      <td>0.0</td>\n      <td>0.0</td>\n      <td>0.0</td>\n    </tr>\n    <tr>\n      <th>912</th>\n      <td>0.0</td>\n      <td>0.0</td>\n      <td>0.0</td>\n      <td>0.0</td>\n      <td>0.0</td>\n      <td>6.0</td>\n      <td>0.0</td>\n      <td>0.0</td>\n      <td>0.0</td>\n      <td>0.0</td>\n      <td>...</td>\n      <td>8.0</td>\n      <td>0.0</td>\n      <td>7.0</td>\n      <td>0.0</td>\n      <td>0.0</td>\n      <td>0.0</td>\n      <td>0.0</td>\n      <td>0.0</td>\n      <td>7.0</td>\n      <td>0.0</td>\n    </tr>\n    <tr>\n      <th>...</th>\n      <td>...</td>\n      <td>...</td>\n      <td>...</td>\n      <td>...</td>\n      <td>...</td>\n      <td>...</td>\n      <td>...</td>\n      <td>...</td>\n      <td>...</td>\n      <td>...</td>\n      <td>...</td>\n      <td>...</td>\n      <td>...</td>\n      <td>...</td>\n      <td>...</td>\n      <td>...</td>\n      <td>...</td>\n      <td>...</td>\n      <td>...</td>\n      <td>...</td>\n      <td>...</td>\n    </tr>\n    <tr>\n      <th>352832</th>\n      <td>0.0</td>\n      <td>0.0</td>\n      <td>10.0</td>\n      <td>10.0</td>\n      <td>10.0</td>\n      <td>1.0</td>\n      <td>0.0</td>\n      <td>10.0</td>\n      <td>0.0</td>\n      <td>10.0</td>\n      <td>...</td>\n      <td>0.0</td>\n      <td>0.0</td>\n      <td>0.0</td>\n      <td>0.0</td>\n      <td>0.0</td>\n      <td>0.0</td>\n      <td>0.0</td>\n      <td>0.0</td>\n      <td>0.0</td>\n      <td>0.0</td>\n    </tr>\n    <tr>\n      <th>352835</th>\n      <td>0.0</td>\n      <td>0.0</td>\n      <td>9.0</td>\n      <td>0.0</td>\n      <td>0.0</td>\n      <td>7.0</td>\n      <td>0.0</td>\n      <td>7.0</td>\n      <td>0.0</td>\n      <td>7.0</td>\n      <td>...</td>\n      <td>0.0</td>\n      <td>0.0</td>\n      <td>0.0</td>\n      <td>0.0</td>\n      <td>0.0</td>\n      <td>0.0</td>\n      <td>0.0</td>\n      <td>0.0</td>\n      <td>0.0</td>\n      <td>0.0</td>\n    </tr>\n    <tr>\n      <th>352922</th>\n      <td>0.0</td>\n      <td>0.0</td>\n      <td>0.0</td>\n      <td>0.0</td>\n      <td>7.0</td>\n      <td>0.0</td>\n      <td>0.0</td>\n      <td>3.0</td>\n      <td>0.0</td>\n      <td>7.0</td>\n      <td>...</td>\n      <td>0.0</td>\n      <td>0.0</td>\n      <td>0.0</td>\n      <td>0.0</td>\n      <td>0.0</td>\n      <td>0.0</td>\n      <td>0.0</td>\n      <td>0.0</td>\n      <td>0.0</td>\n      <td>0.0</td>\n    </tr>\n    <tr>\n      <th>352924</th>\n      <td>10.0</td>\n      <td>9.0</td>\n      <td>8.0</td>\n      <td>8.0</td>\n      <td>9.0</td>\n      <td>8.0</td>\n      <td>8.0</td>\n      <td>10.0</td>\n      <td>0.0</td>\n      <td>8.0</td>\n      <td>...</td>\n      <td>0.0</td>\n      <td>8.0</td>\n      <td>0.0</td>\n      <td>0.0</td>\n      <td>0.0</td>\n      <td>0.0</td>\n      <td>0.0</td>\n      <td>0.0</td>\n      <td>0.0</td>\n      <td>0.0</td>\n    </tr>\n    <tr>\n      <th>352930</th>\n      <td>10.0</td>\n      <td>7.0</td>\n      <td>10.0</td>\n      <td>8.0</td>\n      <td>9.0</td>\n      <td>9.0</td>\n      <td>9.0</td>\n      <td>9.0</td>\n      <td>7.0</td>\n      <td>9.0</td>\n      <td>...</td>\n      <td>0.0</td>\n      <td>0.0</td>\n      <td>0.0</td>\n      <td>0.0</td>\n      <td>0.0</td>\n      <td>0.0</td>\n      <td>0.0</td>\n      <td>0.0</td>\n      <td>0.0</td>\n      <td>0.0</td>\n    </tr>\n  </tbody>\n</table>\n<p>2998 rows × 1000 columns</p>\n</div>"
     },
     "execution_count": 57,
     "metadata": {},
     "output_type": "execute_result"
    }
   ],
   "source": [
    "# user item interaction matrix\n",
    "anime_matrix_UII = rating_popular_anime.pivot_table(index='user_id', columns='MAL_ID', values='rating').fillna(0)\n",
    "anime_matrix_UII"
   ],
   "metadata": {
    "collapsed": false,
    "pycharm": {
     "name": "#%%\n"
    }
   }
  },
  {
   "cell_type": "code",
   "execution_count": 6,
   "outputs": [],
   "source": [
    "# convert the pivot table into a sparse matrix\n",
    "from scipy.sparse import csr_matrix\n",
    "\n",
    "rating_matrix = csr_matrix(anime_matrix_UII.values)"
   ],
   "metadata": {
    "collapsed": false,
    "pycharm": {
     "name": "#%%\n"
    }
   }
  },
  {
   "cell_type": "code",
   "execution_count": 74,
   "outputs": [
    {
     "data": {
      "text/plain": "NearestNeighbors(algorithm='brute', metric='cosine')"
     },
     "execution_count": 74,
     "metadata": {},
     "output_type": "execute_result"
    }
   ],
   "source": [
    "# create a KNN model and fit rating matrix\n",
    "from sklearn.neighbors import NearestNeighbors\n",
    "\n",
    "model = NearestNeighbors(metric=\"cosine\", algorithm=\"brute\")\n",
    "model.fit(rating_matrix)"
   ],
   "metadata": {
    "collapsed": false,
    "pycharm": {
     "name": "#%%\n"
    }
   }
  },
  {
   "cell_type": "code",
   "execution_count": null,
   "outputs": [],
   "source": [
    "% store -r user_anime_dict"
   ],
   "metadata": {
    "collapsed": false,
    "pycharm": {
     "name": "#%%\n"
    }
   }
  },
  {
   "cell_type": "code",
   "execution_count": 82,
   "outputs": [],
   "source": [
    "import collections\n",
    "import numpy as np\n",
    "\n",
    "def predict(user_index, k):\n",
    "    distances, indices = model.kneighbors(anime_matrix_UII.loc[user_index, :].values.reshape(1, -1), n_neighbors=k)\n",
    "    # anime the user has watched\n",
    "    user_watched = set(user_anime_dict[user_index])\n",
    "    # populate anime k neighbours have watched\n",
    "    neighbours_watched = {}\n",
    "    for i in range(0, len(distances.flatten())):\n",
    "        neighbours_watched[anime_matrix_UII.index[indices.flatten()[i]]] = user_anime_dict[\n",
    "            anime_matrix_UII.index[indices.flatten()[i]]].copy()\n",
    "        for key, v in neighbours_watched[anime_matrix_UII.index[indices.flatten()[i]]].items():\n",
    "            neighbours_watched[anime_matrix_UII.index[indices.flatten()[i]]][key] = [1 - distances.flatten()[i], v]\n",
    "    user_unwatched = []\n",
    "    for nw in neighbours_watched:\n",
    "        an = neighbours_watched[nw].keys() - user_watched.intersection(neighbours_watched[nw].keys())\n",
    "        for un_an in an:\n",
    "            user_unwatched.append(un_an)\n",
    "\n",
    "    common = [item for item, count in collections.Counter(user_unwatched).items() if count > 1]\n",
    "    common_unwatched_rating = []\n",
    "    for f in common:\n",
    "        m = []\n",
    "        w = []\n",
    "        for u in neighbours_watched:\n",
    "            if neighbours_watched[u].get(f) is not None:\n",
    "                m.append(neighbours_watched[u].get(f)[0] * neighbours_watched[u].get(f)[1])\n",
    "                w.append(neighbours_watched[u].get(f)[0])\n",
    "        common_unwatched_rating.append([np.sum(m) / np.sum(w), f])\n",
    "    common_unwatched_rating = sorted(common_unwatched_rating, reverse=True)\n",
    "    return common_unwatched_rating"
   ],
   "metadata": {
    "collapsed": false,
    "pycharm": {
     "name": "#%%\n"
    }
   }
  },
  {
   "cell_type": "code",
   "execution_count": 83,
   "outputs": [],
   "source": [
    "def recommend_user_based(user_id_input, k):\n",
    "    r_user_based = predict(user_id_input, k)[:10]\n",
    "    r_mal = {}\n",
    "    for d, m in r_user_based:\n",
    "        r_mal[m] = d\n",
    "    sorted_keys = sorted(r_mal.keys())\n",
    "    sorted_distance = [r_mal[k] for k in sorted_keys]\n",
    "    rec = anime_df[(anime_df['MAL_ID'].isin(sorted_keys))]\n",
    "    rec = rec.sort_values(by='MAL_ID')\n",
    "    rec.insert(2, \"Distance\", sorted_distance, True)\n",
    "    rec = rec.sort_values(by='Distance')\n",
    "    return rec"
   ],
   "metadata": {
    "collapsed": false,
    "pycharm": {
     "name": "#%%\n"
    }
   }
  },
  {
   "cell_type": "code",
   "execution_count": 84,
   "outputs": [
    {
     "data": {
      "text/plain": "      MAL_ID                                            Name  Distance Score  \\\n4470    6127            Toradora!: SOS! Kuishinbou Banbanzai      10.0  6.37   \n4823    6927              Higashi no Eden: Air Communication      10.0  7.62   \n5194    7953                                     Defend Love      10.0  5.87   \n5312    8278                           Biohazard 4: Incubate      10.0  6.19   \n5837    9591  Code Geass: Hangyaku no Lelouch R2 Omake Flash      10.0  5.92   \n5866    9706         Canaan: Minorikawa Report 201X Shanghai      10.0  6.56   \n5988    9941                                   Tiger & Bunny      10.0  7.94   \n6034   10030                             Bakuman. 2nd Season      10.0   8.4   \n6607   11741                            Fate/Zero 2nd Season      10.0  8.59   \n5022    7472        Gintama Movie 1: Shinyaku Benizakura-hen      10.0  8.52   \n\n                                                                                   Genres  \\\n4470                                                                               Comedy   \n4823                                                             Mystery, Comedy, Romance   \n5194  Adventure, Fantasy, Magic, Mecha, Romance, Super Power, Supernatural, Music, Sci-Fi   \n5312            Action, Demons, Horror, Military, Mystery, Police, Supernatural, Thriller   \n5837                                                                               Parody   \n5866                                                                       Action, Seinen   \n5988                                                 Action, Mystery, Comedy, Super Power   \n6034                                                      Comedy, Drama, Romance, Shounen   \n6607                                                 Action, Supernatural, Magic, Fantasy   \n5022                         Action, Sci-Fi, Comedy, Historical, Parody, Samurai, Shounen   \n\n         Type Episodes    Premiered                          Studios  \\\n4470  Special        4      Unknown                        J.C.Staff   \n4823    Movie        1      Unknown                   Production I.G   \n5194    Music        1      Unknown  Sunrise, Telecom Animation Film   \n5312      OVA        1      Unknown                          Unknown   \n5837  Special        9      Unknown           Sunrise, Bandai Visual   \n5866  Special        1      Unknown                       P.A. Works   \n5988       TV       25  Spring 2011                          Sunrise   \n6034       TV       25    Fall 2011                        J.C.Staff   \n6607       TV       12  Spring 2012                         ufotable   \n5022    Movie        1      Unknown                          Sunrise   \n\n            Source                          Rating  Completed  \n4470   Light novel       PG-13 - Teens 13 or older      65091  \n4823      Original       PG-13 - Teens 13 or older      17865  \n5194       Unknown                    G - All Ages       1356  \n5312          Game  R - 17+ (violence & profanity)       3832  \n5837      Original       PG-13 - Teens 13 or older       7618  \n5866  Visual novel  R - 17+ (violence & profanity)       3232  \n5988      Original       PG-13 - Teens 13 or older      87486  \n6034         Manga       PG-13 - Teens 13 or older     220954  \n6607   Light novel  R - 17+ (violence & profanity)     649100  \n5022         Manga  R - 17+ (violence & profanity)      89025  ",
      "text/html": "<div>\n<style scoped>\n    .dataframe tbody tr th:only-of-type {\n        vertical-align: middle;\n    }\n\n    .dataframe tbody tr th {\n        vertical-align: top;\n    }\n\n    .dataframe thead th {\n        text-align: right;\n    }\n</style>\n<table border=\"1\" class=\"dataframe\">\n  <thead>\n    <tr style=\"text-align: right;\">\n      <th></th>\n      <th>MAL_ID</th>\n      <th>Name</th>\n      <th>Distance</th>\n      <th>Score</th>\n      <th>Genres</th>\n      <th>Type</th>\n      <th>Episodes</th>\n      <th>Premiered</th>\n      <th>Studios</th>\n      <th>Source</th>\n      <th>Rating</th>\n      <th>Completed</th>\n    </tr>\n  </thead>\n  <tbody>\n    <tr>\n      <th>4470</th>\n      <td>6127</td>\n      <td>Toradora!: SOS! Kuishinbou Banbanzai</td>\n      <td>10.0</td>\n      <td>6.37</td>\n      <td>Comedy</td>\n      <td>Special</td>\n      <td>4</td>\n      <td>Unknown</td>\n      <td>J.C.Staff</td>\n      <td>Light novel</td>\n      <td>PG-13 - Teens 13 or older</td>\n      <td>65091</td>\n    </tr>\n    <tr>\n      <th>4823</th>\n      <td>6927</td>\n      <td>Higashi no Eden: Air Communication</td>\n      <td>10.0</td>\n      <td>7.62</td>\n      <td>Mystery, Comedy, Romance</td>\n      <td>Movie</td>\n      <td>1</td>\n      <td>Unknown</td>\n      <td>Production I.G</td>\n      <td>Original</td>\n      <td>PG-13 - Teens 13 or older</td>\n      <td>17865</td>\n    </tr>\n    <tr>\n      <th>5194</th>\n      <td>7953</td>\n      <td>Defend Love</td>\n      <td>10.0</td>\n      <td>5.87</td>\n      <td>Adventure, Fantasy, Magic, Mecha, Romance, Super Power, Supernatural, Music, Sci-Fi</td>\n      <td>Music</td>\n      <td>1</td>\n      <td>Unknown</td>\n      <td>Sunrise, Telecom Animation Film</td>\n      <td>Unknown</td>\n      <td>G - All Ages</td>\n      <td>1356</td>\n    </tr>\n    <tr>\n      <th>5312</th>\n      <td>8278</td>\n      <td>Biohazard 4: Incubate</td>\n      <td>10.0</td>\n      <td>6.19</td>\n      <td>Action, Demons, Horror, Military, Mystery, Police, Supernatural, Thriller</td>\n      <td>OVA</td>\n      <td>1</td>\n      <td>Unknown</td>\n      <td>Unknown</td>\n      <td>Game</td>\n      <td>R - 17+ (violence &amp; profanity)</td>\n      <td>3832</td>\n    </tr>\n    <tr>\n      <th>5837</th>\n      <td>9591</td>\n      <td>Code Geass: Hangyaku no Lelouch R2 Omake Flash</td>\n      <td>10.0</td>\n      <td>5.92</td>\n      <td>Parody</td>\n      <td>Special</td>\n      <td>9</td>\n      <td>Unknown</td>\n      <td>Sunrise, Bandai Visual</td>\n      <td>Original</td>\n      <td>PG-13 - Teens 13 or older</td>\n      <td>7618</td>\n    </tr>\n    <tr>\n      <th>5866</th>\n      <td>9706</td>\n      <td>Canaan: Minorikawa Report 201X Shanghai</td>\n      <td>10.0</td>\n      <td>6.56</td>\n      <td>Action, Seinen</td>\n      <td>Special</td>\n      <td>1</td>\n      <td>Unknown</td>\n      <td>P.A. Works</td>\n      <td>Visual novel</td>\n      <td>R - 17+ (violence &amp; profanity)</td>\n      <td>3232</td>\n    </tr>\n    <tr>\n      <th>5988</th>\n      <td>9941</td>\n      <td>Tiger &amp; Bunny</td>\n      <td>10.0</td>\n      <td>7.94</td>\n      <td>Action, Mystery, Comedy, Super Power</td>\n      <td>TV</td>\n      <td>25</td>\n      <td>Spring 2011</td>\n      <td>Sunrise</td>\n      <td>Original</td>\n      <td>PG-13 - Teens 13 or older</td>\n      <td>87486</td>\n    </tr>\n    <tr>\n      <th>6034</th>\n      <td>10030</td>\n      <td>Bakuman. 2nd Season</td>\n      <td>10.0</td>\n      <td>8.4</td>\n      <td>Comedy, Drama, Romance, Shounen</td>\n      <td>TV</td>\n      <td>25</td>\n      <td>Fall 2011</td>\n      <td>J.C.Staff</td>\n      <td>Manga</td>\n      <td>PG-13 - Teens 13 or older</td>\n      <td>220954</td>\n    </tr>\n    <tr>\n      <th>6607</th>\n      <td>11741</td>\n      <td>Fate/Zero 2nd Season</td>\n      <td>10.0</td>\n      <td>8.59</td>\n      <td>Action, Supernatural, Magic, Fantasy</td>\n      <td>TV</td>\n      <td>12</td>\n      <td>Spring 2012</td>\n      <td>ufotable</td>\n      <td>Light novel</td>\n      <td>R - 17+ (violence &amp; profanity)</td>\n      <td>649100</td>\n    </tr>\n    <tr>\n      <th>5022</th>\n      <td>7472</td>\n      <td>Gintama Movie 1: Shinyaku Benizakura-hen</td>\n      <td>10.0</td>\n      <td>8.52</td>\n      <td>Action, Sci-Fi, Comedy, Historical, Parody, Samurai, Shounen</td>\n      <td>Movie</td>\n      <td>1</td>\n      <td>Unknown</td>\n      <td>Sunrise</td>\n      <td>Manga</td>\n      <td>R - 17+ (violence &amp; profanity)</td>\n      <td>89025</td>\n    </tr>\n  </tbody>\n</table>\n</div>"
     },
     "execution_count": 84,
     "metadata": {},
     "output_type": "execute_result"
    }
   ],
   "source": [
    "recommend_user_based(2162, 10)"
   ],
   "metadata": {
    "collapsed": false,
    "pycharm": {
     "name": "#%%\n"
    }
   }
  }
 ],
 "metadata": {
  "kernelspec": {
   "display_name": "Python 3",
   "language": "python",
   "name": "python3"
  },
  "language_info": {
   "codemirror_mode": {
    "name": "ipython",
    "version": 2
   },
   "file_extension": ".py",
   "mimetype": "text/x-python",
   "name": "python",
   "nbconvert_exporter": "python",
   "pygments_lexer": "ipython2",
   "version": "2.7.6"
  }
 },
 "nbformat": 4,
 "nbformat_minor": 0
}